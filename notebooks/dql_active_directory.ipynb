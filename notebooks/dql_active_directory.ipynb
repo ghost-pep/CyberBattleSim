{
 "cells": [
  {
   "cell_type": "code",
   "execution_count": 1,
   "metadata": {},
   "outputs": [],
   "source": [
    "from cyberbattle.simulation.model import *\n",
    "import logging, sys, gym\n",
    "import cyberbattle.agents.baseline.learner as learner\n",
    "import cyberbattle.agents.baseline.agent_wrapper as w\n",
    "import cyberbattle.agents.baseline.agent_dql as dqla\n",
    "from cyberbattle.agents.baseline.agent_wrapper import ActionTrackingStateAugmentation, AgentWrapper, Verbosity\n",
    "logging.basicConfig(stream=sys.stdout, level=logging.ERROR, format=\"%(levelname)s: %(message)s\")\n"
   ]
  },
  {
   "cell_type": "code",
   "execution_count": 2,
   "metadata": {},
   "outputs": [],
   "source": [
    "gymids = [f\"ActiveDirectory-v{i}\" for i in range(0, 3)]\n",
    "iteration_count = 50\n",
    "training_episode_count = 20"
   ]
  },
  {
   "cell_type": "code",
   "execution_count": 3,
   "metadata": {},
   "outputs": [],
   "source": [
    "envs = [gym.make(gymid) for gymid in gymids]\n",
    "ep = w.EnvironmentBounds.of_identifiers(\n",
    "    maximum_node_count=30,\n",
    "    maximum_total_credentials=50000,\n",
    "    identifiers=envs[0].identifiers\n",
    ")\n"
   ]
  },
  {
   "cell_type": "code",
   "execution_count": 4,
   "metadata": {},
   "outputs": [
    {
     "name": "stdout",
     "output_type": "stream",
     "text": [
      "###### DQL\n",
      "Learning with: episode_count=20,iteration_count=50,ϵ=0.9,ϵ_min=0.1, ϵ_expdecay=50000,γ=0.015, lr=0.01, replaymemory=10000,\n",
      "batch=512, target_update=5\n",
      "  ## Episode: 1/20 'DQL' ϵ=0.9000, γ=0.015, lr=0.01, replaymemory=10000,\n",
      "batch=512, target_update=5\n"
     ]
    },
    {
     "name": "stderr",
     "output_type": "stream",
     "text": [
      "Episode 1|Iteration 0|reward: ------|last_reward_at: ----|Elapsed Time: 0:00:00||\n",
      "Episode 1|Iteration 1|reward:    6.0|last_reward_at: ----|Elapsed Time: 0:00:00||\n",
      "Episode 1|Iteration 1|reward:    6.0|last_reward_at:    1|Elapsed Time: 0:00:00||\n",
      "Episode 1|Iteration 7|reward:   12.0|last_reward_at:    1|Elapsed Time: 0:00:00||\n",
      "Episode 1|Iteration 7|reward:   12.0|last_reward_at:    7|Elapsed Time: 0:00:00||\n",
      "Episode 1|Iteration 21|reward:   18.0|last_reward_at:    7|Elapsed Time: 0:00:00||\n",
      "Episode 1|Iteration 21|reward:   18.0|last_reward_at:   21|Elapsed Time: 0:00:00||\n",
      "Episode 1|Iteration 49|reward:   18.0|last_reward_at:   21|Elapsed Time: 0:00:00||\n",
      "Episode 1|Iteration 50|reward:   18.0|last_reward_at:   21|Elapsed Time: 0:00:00||\n"
     ]
    },
    {
     "name": "stdout",
     "output_type": "stream",
     "text": [
      "  Episode 1 stopped at t=50 \n",
      "  Breakdown [Reward/NoReward (Success rate)]\n",
      "    explore-local: 3/14 (0.18)\n",
      "    explore-remote: 0/33 (0.00)\n",
      "    explore-connect: 0/0 (NaN)\n",
      "    exploit-local: 0/0 (NaN)\n",
      "    exploit-remote: 0/0 (NaN)\n",
      "    exploit-connect: 0/0 (NaN)\n",
      "  exploit deflected to exploration: 3\n",
      "  ## Episode: 2/20 'DQL' ϵ=0.8992, γ=0.015, lr=0.01, replaymemory=10000,\n",
      "batch=512, target_update=5\n"
     ]
    },
    {
     "name": "stderr",
     "output_type": "stream",
     "text": [
      "Episode 2|Iteration 0|reward: ------|last_reward_at: ----|Elapsed Time: 0:00:00||\n",
      "Episode 2|Iteration 1|reward:    6.0|last_reward_at: ----|Elapsed Time: 0:00:00||\n",
      "Episode 2|Iteration 1|reward:    6.0|last_reward_at:    1|Elapsed Time: 0:00:00||\n",
      "Episode 2|Iteration 2|reward:   21.0|last_reward_at:    1|Elapsed Time: 0:00:00||\n",
      "Episode 2|Iteration 2|reward:   21.0|last_reward_at:    2|Elapsed Time: 0:00:00||\n",
      "Episode 2|Iteration 8|reward:   27.0|last_reward_at:    2|Elapsed Time: 0:00:00||\n",
      "Episode 2|Iteration 8|reward:   27.0|last_reward_at:    8|Elapsed Time: 0:00:00||\n",
      "Episode 2|Iteration 10|reward:   32.0|last_reward_at:    8|Elapsed Time: 0:00:00||\n",
      "Episode 2|Iteration 10|reward:   32.0|last_reward_at:   10|Elapsed Time: 0:00:00||\n",
      "Episode 2|Iteration 15|reward:   33.0|last_reward_at:   10|Elapsed Time: 0:00:00||\n",
      "Episode 2|Iteration 15|reward:   33.0|last_reward_at:   15|Elapsed Time: 0:00:00||\n",
      "Episode 2|Iteration 19|reward:   39.0|last_reward_at:   15|Elapsed Time: 0:00:00||\n",
      "Episode 2|Iteration 19|reward:   39.0|last_reward_at:   19|Elapsed Time: 0:00:00||\n",
      "Episode 2|Iteration 20|reward:   45.0|last_reward_at:   19|Elapsed Time: 0:00:00||\n",
      "Episode 2|Iteration 20|reward:   45.0|last_reward_at:   20|Elapsed Time: 0:00:00||\n",
      "Episode 2|Iteration 22|reward:   51.0|last_reward_at:   20|Elapsed Time: 0:00:00||\n",
      "Episode 2|Iteration 22|reward:   51.0|last_reward_at:   22|Elapsed Time: 0:00:00||\n",
      "Episode 2|Iteration 29|reward:   57.0|last_reward_at:   22|Elapsed Time: 0:00:00||\n",
      "Episode 2|Iteration 29|reward:   57.0|last_reward_at:   29|Elapsed Time: 0:00:00||\n",
      "Episode 2|Iteration 31|reward:   63.0|last_reward_at:   29|Elapsed Time: 0:00:00||\n",
      "Episode 2|Iteration 31|reward:   63.0|last_reward_at:   31|Elapsed Time: 0:00:00||\n",
      "Episode 2|Iteration 42|reward:   63.0|last_reward_at:   31|Elapsed Time: 0:00:00||\n",
      "Episode 2|Iteration 50|reward:   63.0|last_reward_at:   31|Elapsed Time: 0:00:00||\n"
     ]
    },
    {
     "name": "stdout",
     "output_type": "stream",
     "text": [
      "  Episode 2 stopped at t=50 \n",
      "  Breakdown [Reward/NoReward (Success rate)]\n",
      "    explore-local: 8/5 (0.62)\n",
      "    explore-remote: 0/19 (0.00)\n",
      "    explore-connect: 1/16 (0.06)\n",
      "    exploit-local: 0/0 (NaN)\n",
      "    exploit-remote: 0/0 (NaN)\n",
      "    exploit-connect: 1/0 (1.00)\n",
      "  exploit deflected to exploration: 0\n",
      "  ## Episode: 3/20 'DQL' ϵ=0.8984, γ=0.015, lr=0.01, replaymemory=10000,\n",
      "batch=512, target_update=5\n"
     ]
    },
    {
     "name": "stderr",
     "output_type": "stream",
     "text": [
      "Episode 3|Iteration 0|reward: ------|last_reward_at: ----|Elapsed Time: 0:00:00||\n",
      "Episode 3|Iteration 1|reward:    0.0|last_reward_at: ----|Elapsed Time: 0:00:00||\n",
      "Episode 3|Iteration 2|reward:    6.0|last_reward_at: ----|Elapsed Time: 0:00:00||\n",
      "Episode 3|Iteration 2|reward:    6.0|last_reward_at:    2|Elapsed Time: 0:00:00||\n",
      "Episode 3|Iteration 7|reward:   12.0|last_reward_at:    2|Elapsed Time: 0:00:00||\n",
      "Episode 3|Iteration 7|reward:   12.0|last_reward_at:    7|Elapsed Time: 0:00:00||\n",
      "Episode 3|Iteration 16|reward:   18.0|last_reward_at:    7|Elapsed Time: 0:00:00||\n",
      "Episode 3|Iteration 16|reward:   18.0|last_reward_at:   16|Elapsed Time: 0:00:00||\n",
      "Episode 3|Iteration 18|reward:   33.0|last_reward_at:   16|Elapsed Time: 0:00:00||\n",
      "Episode 3|Iteration 18|reward:   33.0|last_reward_at:   18|Elapsed Time: 0:00:00||\n",
      "Episode 3|Iteration 19|reward:   38.0|last_reward_at:   18|Elapsed Time: 0:00:00||\n",
      "Episode 3|Iteration 19|reward:   38.0|last_reward_at:   19|Elapsed Time: 0:00:00||\n",
      "Episode 3|Iteration 21|reward:   39.0|last_reward_at:   19|Elapsed Time: 0:00:00||\n",
      "Episode 3|Iteration 21|reward:   39.0|last_reward_at:   21|Elapsed Time: 0:00:00||\n",
      "Episode 3|Iteration 29|reward:   45.0|last_reward_at:   21|Elapsed Time: 0:00:00||\n",
      "Episode 3|Iteration 29|reward:   45.0|last_reward_at:   29|Elapsed Time: 0:00:00||\n",
      "Episode 3|Iteration 32|reward:   46.0|last_reward_at:   29|Elapsed Time: 0:00:00||\n",
      "Episode 3|Iteration 32|reward:   46.0|last_reward_at:   32|Elapsed Time: 0:00:00||\n",
      "Episode 3|Iteration 33|reward:   52.0|last_reward_at:   32|Elapsed Time: 0:00:00||\n",
      "Episode 3|Iteration 33|reward:   52.0|last_reward_at:   33|Elapsed Time: 0:00:00||\n",
      "Episode 3|Iteration 34|reward:   58.0|last_reward_at:   33|Elapsed Time: 0:00:00||\n",
      "Episode 3|Iteration 34|reward:   58.0|last_reward_at:   34|Elapsed Time: 0:00:00||\n",
      "Episode 3|Iteration 35|reward:   59.0|last_reward_at:   34|Elapsed Time: 0:00:00||\n",
      "Episode 3|Iteration 35|reward:   59.0|last_reward_at:   35|Elapsed Time: 0:00:00||\n",
      "Episode 3|Iteration 42|reward:   59.0|last_reward_at:   35|Elapsed Time: 0:00:00||\n",
      "Episode 3|Iteration 48|reward:   59.0|last_reward_at:   35|Elapsed Time: 0:00:00||\n",
      "Episode 3|Iteration 50|reward:   59.0|last_reward_at:   35|Elapsed Time: 0:00:00||\n"
     ]
    },
    {
     "name": "stdout",
     "output_type": "stream",
     "text": [
      "  Episode 3 stopped at t=50 \n",
      "  Breakdown [Reward/NoReward (Success rate)]\n",
      "    explore-local: 7/4 (0.64)\n",
      "    explore-remote: 0/22 (0.00)\n",
      "    explore-connect: 1/13 (0.07)\n",
      "    exploit-local: 0/0 (NaN)\n",
      "    exploit-remote: 0/0 (NaN)\n",
      "    exploit-connect: 3/0 (1.00)\n",
      "  exploit deflected to exploration: 3\n",
      "  ## Episode: 4/20 'DQL' ϵ=0.8976, γ=0.015, lr=0.01, replaymemory=10000,\n",
      "batch=512, target_update=5\n"
     ]
    },
    {
     "name": "stderr",
     "output_type": "stream",
     "text": [
      "Episode 4|Iteration 0|reward: ------|last_reward_at: ----|Elapsed Time: 0:00:00||\n",
      "Episode 4|Iteration 1|reward:    0.0|last_reward_at: ----|Elapsed Time: 0:00:00||\n",
      "Episode 4|Iteration 2|reward:    6.0|last_reward_at: ----|Elapsed Time: 0:00:00||\n",
      "Episode 4|Iteration 2|reward:    6.0|last_reward_at:    2|Elapsed Time: 0:00:00||\n",
      "Episode 4|Iteration 7|reward:   12.0|last_reward_at:    2|Elapsed Time: 0:00:00||\n",
      "Episode 4|Iteration 7|reward:   12.0|last_reward_at:    7|Elapsed Time: 0:00:00||\n",
      "Episode 4|Iteration 35|reward:   12.0|last_reward_at:    7|Elapsed Time: 0:00:00||\n",
      "Episode 4|Iteration 39|reward:   27.0|last_reward_at:    7|Elapsed Time: 0:00:00||\n",
      "Episode 4|Iteration 39|reward:   27.0|last_reward_at:   39|Elapsed Time: 0:00:00||\n",
      "Episode 4|Iteration 44|reward:   32.0|last_reward_at:   39|Elapsed Time: 0:00:00||\n",
      "Episode 4|Iteration 44|reward:   32.0|last_reward_at:   44|Elapsed Time: 0:00:00||\n",
      "Episode 4|Iteration 47|reward:   33.0|last_reward_at:   44|Elapsed Time: 0:00:00||\n",
      "Episode 4|Iteration 47|reward:   33.0|last_reward_at:   47|Elapsed Time: 0:00:00||\n",
      "Episode 4|Iteration 48|reward:   42.0|last_reward_at:   47|Elapsed Time: 0:00:00||\n",
      "Episode 4|Iteration 48|reward:   42.0|last_reward_at:   48|Elapsed Time: 0:00:00||\n",
      "Episode 4|Iteration 50|reward:   42.0|last_reward_at:   48|Elapsed Time: 0:00:00||\n"
     ]
    },
    {
     "name": "stdout",
     "output_type": "stream",
     "text": [
      "  Episode 4 stopped at t=50 \n",
      "  Breakdown [Reward/NoReward (Success rate)]\n",
      "    explore-local: 4/15 (0.21)\n",
      "    explore-remote: 0/25 (0.00)\n",
      "    explore-connect: 0/4 (0.00)\n",
      "    exploit-local: 0/0 (NaN)\n",
      "    exploit-remote: 0/0 (NaN)\n",
      "    exploit-connect: 2/0 (1.00)\n",
      "  exploit deflected to exploration: 2\n",
      "  ## Episode: 5/20 'DQL' ϵ=0.8968, γ=0.015, lr=0.01, replaymemory=10000,\n",
      "batch=512, target_update=5\n"
     ]
    },
    {
     "name": "stderr",
     "output_type": "stream",
     "text": [
      "Episode 5|Iteration 0|reward: ------|last_reward_at: ----|Elapsed Time: 0:00:00||\n",
      "Episode 5|Iteration 1|reward:    0.0|last_reward_at: ----|Elapsed Time: 0:00:00||\n",
      "Episode 5|Iteration 2|reward:    6.0|last_reward_at: ----|Elapsed Time: 0:00:00||\n",
      "Episode 5|Iteration 2|reward:    6.0|last_reward_at:    2|Elapsed Time: 0:00:00||\n",
      "Episode 5|Iteration 4|reward:   12.0|last_reward_at:    2|Elapsed Time: 0:00:00||\n",
      "Episode 5|Iteration 4|reward:   12.0|last_reward_at:    4|Elapsed Time: 0:00:00||\n",
      "Episode 5|Iteration 24|reward:   12.0|last_reward_at:    4|Elapsed Time: 0:00:00||\n",
      "Episode 5|Iteration 40|reward:   18.0|last_reward_at:    4|Elapsed Time: 0:00:00||\n",
      "Episode 5|Iteration 40|reward:   18.0|last_reward_at:   40|Elapsed Time: 0:00:00||\n",
      "Episode 5|Iteration 43|reward:   33.0|last_reward_at:   40|Elapsed Time: 0:00:00||\n",
      "Episode 5|Iteration 43|reward:   33.0|last_reward_at:   43|Elapsed Time: 0:00:00||\n",
      "Episode 5|Iteration 47|reward:   38.0|last_reward_at:   43|Elapsed Time: 0:00:00||\n",
      "Episode 5|Iteration 47|reward:   38.0|last_reward_at:   47|Elapsed Time: 0:00:00||\n",
      "Episode 5|Iteration 50|reward:   38.0|last_reward_at:   47|Elapsed Time: 0:00:00||\n"
     ]
    },
    {
     "name": "stdout",
     "output_type": "stream",
     "text": [
      "  Episode 5 stopped at t=50 \n",
      "  Breakdown [Reward/NoReward (Success rate)]\n",
      "    explore-local: 4/15 (0.21)\n",
      "    explore-remote: 0/26 (0.00)\n",
      "    explore-connect: 1/4 (0.20)\n",
      "    exploit-local: 0/0 (NaN)\n",
      "    exploit-remote: 0/0 (NaN)\n",
      "    exploit-connect: 0/0 (NaN)\n",
      "  exploit deflected to exploration: 2\n",
      "  ## Episode: 6/20 'DQL' ϵ=0.8960, γ=0.015, lr=0.01, replaymemory=10000,\n",
      "batch=512, target_update=5\n"
     ]
    },
    {
     "name": "stderr",
     "output_type": "stream",
     "text": [
      "Episode 6|Iteration 0|reward: ------|last_reward_at: ----|Elapsed Time: 0:00:00||\n",
      "Episode 6|Iteration 1|reward:   15.0|last_reward_at: ----|Elapsed Time: 0:00:00||\n",
      "Episode 6|Iteration 1|reward:   15.0|last_reward_at:    1|Elapsed Time: 0:00:00||\n",
      "Episode 6|Iteration 4|reward:   21.0|last_reward_at:    1|Elapsed Time: 0:00:00||\n",
      "Episode 6|Iteration 4|reward:   21.0|last_reward_at:    4|Elapsed Time: 0:00:00||\n",
      "Episode 6|Iteration 6|reward:   26.0|last_reward_at:    4|Elapsed Time: 0:00:00||\n",
      "Episode 6|Iteration 6|reward:   26.0|last_reward_at:    6|Elapsed Time: 0:00:00||\n",
      "Episode 6|Iteration 7|reward:   32.0|last_reward_at:    6|Elapsed Time: 0:00:00||\n",
      "Episode 6|Iteration 7|reward:   32.0|last_reward_at:    7|Elapsed Time: 0:00:00||\n",
      "Episode 6|Iteration 11|reward:   38.0|last_reward_at:    7|Elapsed Time: 0:00:00||\n",
      "Episode 6|Iteration 11|reward:   38.0|last_reward_at:   11|Elapsed Time: 0:00:00||\n",
      "Episode 6|Iteration 17|reward:   39.0|last_reward_at:   11|Elapsed Time: 0:00:00||\n",
      "Episode 6|Iteration 17|reward:   39.0|last_reward_at:   17|Elapsed Time: 0:00:00||\n",
      "Episode 6|Iteration 20|reward:   45.0|last_reward_at:   17|Elapsed Time: 0:00:00||\n",
      "Episode 6|Iteration 20|reward:   45.0|last_reward_at:   20|Elapsed Time: 0:00:00||\n",
      "Episode 6|Iteration 33|reward:   45.0|last_reward_at:   20|Elapsed Time: 0:00:00||\n",
      "Episode 6|Iteration 34|reward:   46.0|last_reward_at:   20|Elapsed Time: 0:00:00||\n",
      "Episode 6|Iteration 34|reward:   46.0|last_reward_at:   34|Elapsed Time: 0:00:00||\n",
      "Episode 6|Iteration 35|reward:   52.0|last_reward_at:   34|Elapsed Time: 0:00:00||\n",
      "Episode 6|Iteration 35|reward:   52.0|last_reward_at:   35|Elapsed Time: 0:00:00||\n",
      "Episode 6|Iteration 36|reward:   61.0|last_reward_at:   35|Elapsed Time: 0:00:00||\n",
      "Episode 6|Iteration 36|reward:   61.0|last_reward_at:   36|Elapsed Time: 0:00:00||\n",
      "Episode 6|Iteration 44|reward:   61.0|last_reward_at:   36|Elapsed Time: 0:00:00||\n",
      "Episode 6|Iteration 45|reward:   67.0|last_reward_at:   36|Elapsed Time: 0:00:00||\n",
      "Episode 6|Iteration 45|reward:   67.0|last_reward_at:   45|Elapsed Time: 0:00:00||\n",
      "Episode 6|Iteration 49|reward:   73.0|last_reward_at:   45|Elapsed Time: 0:00:00||\n",
      "Episode 6|Iteration 49|reward:   73.0|last_reward_at:   49|Elapsed Time: 0:00:00||\n",
      "Episode 6|Iteration 50|reward:   73.0|last_reward_at:   49|Elapsed Time: 0:00:00||\n"
     ]
    },
    {
     "name": "stdout",
     "output_type": "stream",
     "text": [
      "  Episode 6 stopped at t=50 \n",
      "  Breakdown [Reward/NoReward (Success rate)]\n",
      "    explore-local: 9/3 (0.75)\n",
      "    explore-remote: 0/21 (0.00)\n",
      "    explore-connect: 0/14 (0.00)\n",
      "    exploit-local: 0/0 (NaN)\n",
      "    exploit-remote: 0/0 (NaN)\n",
      "    exploit-connect: 3/0 (1.00)\n",
      "  exploit deflected to exploration: 0\n",
      "  ## Episode: 7/20 'DQL' ϵ=0.8952, γ=0.015, lr=0.01, replaymemory=10000,\n",
      "batch=512, target_update=5\n"
     ]
    },
    {
     "name": "stderr",
     "output_type": "stream",
     "text": [
      "Episode 7|Iteration 0|reward: ------|last_reward_at: ----|Elapsed Time: 0:00:00||\n",
      "Episode 7|Iteration 1|reward:    6.0|last_reward_at: ----|Elapsed Time: 0:00:00||\n",
      "Episode 7|Iteration 1|reward:    6.0|last_reward_at:    1|Elapsed Time: 0:00:00||\n",
      "Episode 7|Iteration 4|reward:   21.0|last_reward_at:    1|Elapsed Time: 0:00:00||\n",
      "Episode 7|Iteration 4|reward:   21.0|last_reward_at:    4|Elapsed Time: 0:00:00||\n",
      "Episode 7|Iteration 8|reward:   26.0|last_reward_at:    4|Elapsed Time: 0:00:00||\n",
      "Episode 7|Iteration 8|reward:   26.0|last_reward_at:    8|Elapsed Time: 0:00:00||\n",
      "Episode 7|Iteration 9|reward:   27.0|last_reward_at:    8|Elapsed Time: 0:00:00||\n",
      "Episode 7|Iteration 9|reward:   27.0|last_reward_at:    9|Elapsed Time: 0:00:00||\n",
      "Episode 7|Iteration 11|reward:   33.0|last_reward_at:    9|Elapsed Time: 0:00:00||\n",
      "Episode 7|Iteration 11|reward:   33.0|last_reward_at:   11|Elapsed Time: 0:00:00||\n",
      "Episode 7|Iteration 20|reward:   39.0|last_reward_at:   11|Elapsed Time: 0:00:00||\n",
      "Episode 7|Iteration 20|reward:   39.0|last_reward_at:   20|Elapsed Time: 0:00:00||\n",
      "Episode 7|Iteration 23|reward:   48.0|last_reward_at:   20|Elapsed Time: 0:00:00||\n",
      "Episode 7|Iteration 23|reward:   48.0|last_reward_at:   23|Elapsed Time: 0:00:00||\n",
      "Episode 7|Iteration 24|reward:   54.0|last_reward_at:   23|Elapsed Time: 0:00:00||\n",
      "Episode 7|Iteration 24|reward:   54.0|last_reward_at:   24|Elapsed Time: 0:00:00||\n",
      "Episode 7|Iteration 29|reward:   55.0|last_reward_at:   24|Elapsed Time: 0:00:00||\n",
      "Episode 7|Iteration 29|reward:   55.0|last_reward_at:   29|Elapsed Time: 0:00:00||\n",
      "Episode 7|Iteration 33|reward:   61.0|last_reward_at:   29|Elapsed Time: 0:00:00||\n",
      "Episode 7|Iteration 33|reward:   61.0|last_reward_at:   33|Elapsed Time: 0:00:00||\n",
      "Episode 7|Iteration 36|reward:  161.0|last_reward_at:   33|Elapsed Time: 0:00:00||\n",
      "Episode 7|Iteration 36|reward:  161.0|last_reward_at:   36|Elapsed Time: 0:00:00||\n",
      "Episode 7|Iteration 37|reward:  167.0|last_reward_at:   36|Elapsed Time: 0:00:00||\n",
      "Episode 7|Iteration 37|reward:  167.0|last_reward_at:   37|Elapsed Time: 0:00:00||\n",
      "Episode 7|Iteration 42|reward:  173.0|last_reward_at:   37|Elapsed Time: 0:00:00||\n",
      "Episode 7|Iteration 42|reward:  173.0|last_reward_at:   42|Elapsed Time: 0:00:00||\n",
      "Episode 7|Iteration 50|reward:  173.0|last_reward_at:   42|Elapsed Time: 0:00:00||\n",
      "Episode 7|Iteration 50|reward:  173.0|last_reward_at:   42|Elapsed Time: 0:00:00||\n"
     ]
    },
    {
     "name": "stdout",
     "output_type": "stream",
     "text": [
      "  Episode 7 stopped at t=50 \n",
      "  Breakdown [Reward/NoReward (Success rate)]\n",
      "    explore-local: 9/9 (0.50)\n",
      "    explore-remote: 0/14 (0.00)\n",
      "    explore-connect: 0/14 (0.00)\n",
      "    exploit-local: 0/0 (NaN)\n",
      "    exploit-remote: 0/0 (NaN)\n",
      "    exploit-connect: 4/0 (1.00)\n",
      "  exploit deflected to exploration: 1\n",
      "  ## Episode: 8/20 'DQL' ϵ=0.8944, γ=0.015, lr=0.01, replaymemory=10000,\n",
      "batch=512, target_update=5\n"
     ]
    },
    {
     "name": "stderr",
     "output_type": "stream",
     "text": [
      "Episode 8|Iteration 0|reward: ------|last_reward_at: ----|Elapsed Time: 0:00:00||\n",
      "Episode 8|Iteration 1|reward:    0.0|last_reward_at: ----|Elapsed Time: 0:00:00||\n",
      "Episode 8|Iteration 4|reward:    6.0|last_reward_at: ----|Elapsed Time: 0:00:00||\n",
      "Episode 8|Iteration 4|reward:    6.0|last_reward_at:    4|Elapsed Time: 0:00:00||\n",
      "Episode 8|Iteration 5|reward:   12.0|last_reward_at:    4|Elapsed Time: 0:00:00||\n",
      "Episode 8|Iteration 5|reward:   12.0|last_reward_at:    5|Elapsed Time: 0:00:00||\n",
      "Episode 8|Iteration 17|reward:   18.0|last_reward_at:    5|Elapsed Time: 0:00:00||\n",
      "Episode 8|Iteration 17|reward:   18.0|last_reward_at:   17|Elapsed Time: 0:00:00||\n",
      "Episode 8|Iteration 26|reward:   33.0|last_reward_at:   17|Elapsed Time: 0:00:00||\n",
      "Episode 8|Iteration 26|reward:   33.0|last_reward_at:   26|Elapsed Time: 0:00:00||\n",
      "Episode 8|Iteration 38|reward:   38.0|last_reward_at:   26|Elapsed Time: 0:00:00||\n",
      "Episode 8|Iteration 38|reward:   38.0|last_reward_at:   38|Elapsed Time: 0:00:00||\n",
      "Episode 8|Iteration 48|reward:   39.0|last_reward_at:   38|Elapsed Time: 0:00:00||\n",
      "Episode 8|Iteration 48|reward:   39.0|last_reward_at:   48|Elapsed Time: 0:00:00||\n",
      "Episode 8|Iteration 49|reward:   45.0|last_reward_at:   48|Elapsed Time: 0:00:00||\n",
      "Episode 8|Iteration 49|reward:   45.0|last_reward_at:   49|Elapsed Time: 0:00:00||\n",
      "Episode 8|Iteration 50|reward:   45.0|last_reward_at:   49|Elapsed Time: 0:00:00||\n"
     ]
    },
    {
     "name": "stdout",
     "output_type": "stream",
     "text": [
      "  Episode 8 stopped at t=50 \n",
      "  Breakdown [Reward/NoReward (Success rate)]\n",
      "    explore-local: 5/12 (0.29)\n",
      "    explore-remote: 0/25 (0.00)\n",
      "    explore-connect: 0/6 (0.00)\n",
      "    exploit-local: 0/0 (NaN)\n",
      "    exploit-remote: 0/0 (NaN)\n",
      "    exploit-connect: 2/0 (1.00)\n",
      "  exploit deflected to exploration: 3\n",
      "  ## Episode: 9/20 'DQL' ϵ=0.8936, γ=0.015, lr=0.01, replaymemory=10000,\n",
      "batch=512, target_update=5\n"
     ]
    },
    {
     "name": "stderr",
     "output_type": "stream",
     "text": [
      "Episode 9|Iteration 0|reward: ------|last_reward_at: ----|Elapsed Time: 0:00:00||\n",
      "Episode 9|Iteration 1|reward:    0.0|last_reward_at: ----|Elapsed Time: 0:00:00||\n",
      "Episode 9|Iteration 3|reward:    6.0|last_reward_at: ----|Elapsed Time: 0:00:00||\n",
      "Episode 9|Iteration 3|reward:    6.0|last_reward_at:    3|Elapsed Time: 0:00:00||\n",
      "Episode 9|Iteration 4|reward:   21.0|last_reward_at:    3|Elapsed Time: 0:00:00||\n",
      "Episode 9|Iteration 4|reward:   21.0|last_reward_at:    4|Elapsed Time: 0:00:00||\n",
      "Episode 9|Iteration 7|reward:   26.0|last_reward_at:    4|Elapsed Time: 0:00:00||\n",
      "Episode 9|Iteration 7|reward:   26.0|last_reward_at:    7|Elapsed Time: 0:00:00||\n",
      "Episode 9|Iteration 8|reward:   27.0|last_reward_at:    7|Elapsed Time: 0:00:00||\n",
      "Episode 9|Iteration 8|reward:   27.0|last_reward_at:    8|Elapsed Time: 0:00:00||\n",
      "Episode 9|Iteration 12|reward:   28.0|last_reward_at:    8|Elapsed Time: 0:00:00||\n",
      "Episode 9|Iteration 12|reward:   28.0|last_reward_at:   12|Elapsed Time: 0:00:00||\n",
      "Episode 9|Iteration 14|reward:   29.0|last_reward_at:   12|Elapsed Time: 0:00:00||\n",
      "Episode 9|Iteration 14|reward:   29.0|last_reward_at:   14|Elapsed Time: 0:00:00||\n",
      "Episode 9|Iteration 20|reward:   29.0|last_reward_at:   14|Elapsed Time: 0:00:00||\n",
      "Episode 9|Iteration 27|reward:   29.0|last_reward_at:   14|Elapsed Time: 0:00:00||\n",
      "Episode 9|Iteration 30|reward:   35.0|last_reward_at:   14|Elapsed Time: 0:00:00||\n",
      "Episode 9|Iteration 30|reward:   35.0|last_reward_at:   30|Elapsed Time: 0:00:00||\n",
      "Episode 9|Iteration 31|reward:   41.0|last_reward_at:   30|Elapsed Time: 0:00:00||\n",
      "Episode 9|Iteration 31|reward:   41.0|last_reward_at:   31|Elapsed Time: 0:00:00||\n",
      "Episode 9|Iteration 34|reward:   47.0|last_reward_at:   31|Elapsed Time: 0:00:00||\n",
      "Episode 9|Iteration 34|reward:   47.0|last_reward_at:   34|Elapsed Time: 0:00:00||\n",
      "Episode 9|Iteration 38|reward:   56.0|last_reward_at:   34|Elapsed Time: 0:00:00||\n",
      "Episode 9|Iteration 38|reward:   56.0|last_reward_at:   38|Elapsed Time: 0:00:00||\n",
      "Episode 9|Iteration 44|reward:  156.0|last_reward_at:   38|Elapsed Time: 0:00:00||\n",
      "Episode 9|Iteration 44|reward:  156.0|last_reward_at:   44|Elapsed Time: 0:00:00||\n",
      "Episode 9|Iteration 50|reward:  162.0|last_reward_at:   44|Elapsed Time: 0:00:00||\n",
      "Episode 9|Iteration 50|reward:  162.0|last_reward_at:   50|Elapsed Time: 0:00:00||\n",
      "Episode 9|Iteration 50|reward:  162.0|last_reward_at:   50|Elapsed Time: 0:00:00||\n"
     ]
    },
    {
     "name": "stdout",
     "output_type": "stream",
     "text": [
      "  Episode 9 stopped at t=50 \n",
      "  Breakdown [Reward/NoReward (Success rate)]\n",
      "    explore-local: 7/8 (0.47)\n",
      "    explore-remote: 0/16 (0.00)\n",
      "    explore-connect: 0/14 (0.00)\n",
      "    exploit-local: 0/0 (NaN)\n",
      "    exploit-remote: 0/0 (NaN)\n",
      "    exploit-connect: 5/0 (1.00)\n",
      "  exploit deflected to exploration: 3\n",
      "  ## Episode: 10/20 'DQL' ϵ=0.8928, γ=0.015, lr=0.01, replaymemory=10000,\n",
      "batch=512, target_update=5\n"
     ]
    },
    {
     "name": "stderr",
     "output_type": "stream",
     "text": [
      "Episode 10|Iteration 0|reward: ------|last_reward_at: ----|Elapsed Time: 0:00:00||\n",
      "Episode 10|Iteration 1|reward:    6.0|last_reward_at: ----|Elapsed Time: 0:00:00||\n",
      "Episode 10|Iteration 1|reward:    6.0|last_reward_at:    1|Elapsed Time: 0:00:00||\n",
      "Episode 10|Iteration 2|reward:   12.0|last_reward_at:    1|Elapsed Time: 0:00:00||\n",
      "Episode 10|Iteration 2|reward:   12.0|last_reward_at:    2|Elapsed Time: 0:00:00||\n",
      "Episode 10|Iteration 9|reward:   27.0|last_reward_at:    2|Elapsed Time: 0:00:00||\n",
      "Episode 10|Iteration 9|reward:   27.0|last_reward_at:    9|Elapsed Time: 0:00:00||\n",
      "Episode 10|Iteration 10|reward:   28.0|last_reward_at:    9|Elapsed Time: 0:00:00||\n",
      "Episode 10|Iteration 10|reward:   28.0|last_reward_at:   10|Elapsed Time: 0:00:00||\n",
      "Episode 10|Iteration 15|reward:   33.0|last_reward_at:   10|Elapsed Time: 0:00:00||\n",
      "Episode 10|Iteration 15|reward:   33.0|last_reward_at:   15|Elapsed Time: 0:00:00||\n",
      "Episode 10|Iteration 17|reward:   39.0|last_reward_at:   15|Elapsed Time: 0:00:00||\n",
      "Episode 10|Iteration 17|reward:   39.0|last_reward_at:   17|Elapsed Time: 0:00:00||\n",
      "Episode 10|Iteration 21|reward:   45.0|last_reward_at:   17|Elapsed Time: 0:00:00||\n",
      "Episode 10|Iteration 21|reward:   45.0|last_reward_at:   21|Elapsed Time: 0:00:00||\n",
      "Episode 10|Iteration 22|reward:   46.0|last_reward_at:   21|Elapsed Time: 0:00:00||\n",
      "Episode 10|Iteration 22|reward:   46.0|last_reward_at:   22|Elapsed Time: 0:00:00||\n",
      "Episode 10|Iteration 24|reward:   55.0|last_reward_at:   22|Elapsed Time: 0:00:00||\n",
      "Episode 10|Iteration 24|reward:   55.0|last_reward_at:   24|Elapsed Time: 0:00:00||\n",
      "Episode 10|Iteration 28|reward:   55.0|last_reward_at:   24|Elapsed Time: 0:00:00||\n",
      "Episode 10|Iteration 30|reward:   55.0|last_reward_at:   24|Elapsed Time: 0:00:00||\n",
      "Episode 10|Iteration 30|reward:   61.0|last_reward_at:   24|Elapsed Time: 0:00:00||\n",
      "Episode 10|Iteration 30|reward:   61.0|last_reward_at:   30|Elapsed Time: 0:00:00||\n",
      "Episode 10|Iteration 32|reward:   67.0|last_reward_at:   30|Elapsed Time: 0:00:00||\n",
      "Episode 10|Iteration 32|reward:   67.0|last_reward_at:   32|Elapsed Time: 0:00:00||\n",
      "Episode 10|Iteration 35|reward:   67.0|last_reward_at:   32|Elapsed Time: 0:00:00||\n",
      "Episode 10|Iteration 37|reward:   67.0|last_reward_at:   32|Elapsed Time: 0:00:00||\n",
      "Episode 10|Iteration 39|reward:   67.0|last_reward_at:   32|Elapsed Time: 0:00:00||\n",
      "Episode 10|Iteration 41|reward:   67.0|last_reward_at:   32|Elapsed Time: 0:00:00||\n",
      "Episode 10|Iteration 41|reward:  167.0|last_reward_at:   32|Elapsed Time: 0:00:00||\n",
      "Episode 10|Iteration 41|reward:  167.0|last_reward_at:   41|Elapsed Time: 0:00:00||\n",
      "Episode 10|Iteration 43|reward:  168.0|last_reward_at:   41|Elapsed Time: 0:00:00||\n",
      "Episode 10|Iteration 43|reward:  168.0|last_reward_at:   43|Elapsed Time: 0:00:00||\n",
      "Episode 10|Iteration 46|reward:  168.0|last_reward_at:   43|Elapsed Time: 0:00:00||\n",
      "Episode 10|Iteration 48|reward:  168.0|last_reward_at:   43|Elapsed Time: 0:00:00||\n",
      "Episode 10|Iteration 50|reward:  168.0|last_reward_at:   43|Elapsed Time: 0:00:00||\n",
      "Episode 10|Iteration 50|reward:  168.0|last_reward_at:   43|Elapsed Time: 0:00:00||\n"
     ]
    },
    {
     "name": "stdout",
     "output_type": "stream",
     "text": [
      "  Episode 10 stopped at t=50 \n",
      "  Breakdown [Reward/NoReward (Success rate)]\n",
      "    explore-local: 8/7 (0.53)\n",
      "    explore-remote: 0/11 (0.00)\n",
      "    explore-connect: 0/19 (0.00)\n",
      "    exploit-local: 0/0 (NaN)\n",
      "    exploit-remote: 0/0 (NaN)\n",
      "    exploit-connect: 5/0 (1.00)\n",
      "  exploit deflected to exploration: 2\n",
      "  ## Episode: 11/20 'DQL' ϵ=0.8921, γ=0.015, lr=0.01, replaymemory=10000,\n",
      "batch=512, target_update=5\n"
     ]
    },
    {
     "name": "stderr",
     "output_type": "stream",
     "text": [
      "Episode 11|Iteration 0|reward: ------|last_reward_at: ----|Elapsed Time: 0:00:00||\n",
      "Episode 11|Iteration 1|reward:    0.0|last_reward_at: ----|Elapsed Time: 0:00:00||\n",
      "Episode 11|Iteration 4|reward:    0.0|last_reward_at: ----|Elapsed Time: 0:00:00||\n",
      "Episode 11|Iteration 6|reward:    0.0|last_reward_at: ----|Elapsed Time: 0:00:00||\n",
      "Episode 11|Iteration 6|reward:   15.0|last_reward_at: ----|Elapsed Time: 0:00:00||\n",
      "Episode 11|Iteration 6|reward:   15.0|last_reward_at:    6|Elapsed Time: 0:00:00||\n",
      "Episode 11|Iteration 9|reward:   15.0|last_reward_at:    6|Elapsed Time: 0:00:00||\n",
      "Episode 11|Iteration 11|reward:   15.0|last_reward_at:    6|Elapsed Time: 0:00:00||\n",
      "Episode 11|Iteration 13|reward:   15.0|last_reward_at:    6|Elapsed Time: 0:00:00||\n",
      "Episode 11|Iteration 13|reward:   21.0|last_reward_at:    6|Elapsed Time: 0:00:00||\n",
      "Episode 11|Iteration 13|reward:   21.0|last_reward_at:   13|Elapsed Time: 0:00:00||\n",
      "Episode 11|Iteration 16|reward:   21.0|last_reward_at:   13|Elapsed Time: 0:00:00||\n",
      "Episode 11|Iteration 18|reward:   21.0|last_reward_at:   13|Elapsed Time: 0:00:00||\n",
      "Episode 11|Iteration 20|reward:   21.0|last_reward_at:   13|Elapsed Time: 0:00:00||\n",
      "Episode 11|Iteration 22|reward:   21.0|last_reward_at:   13|Elapsed Time: 0:00:00||\n",
      "Episode 11|Iteration 24|reward:   21.0|last_reward_at:   13|Elapsed Time: 0:00:00||\n",
      "Episode 11|Iteration 26|reward:   21.0|last_reward_at:   13|Elapsed Time: 0:00:00||\n",
      "Episode 11|Iteration 28|reward:   21.0|last_reward_at:   13|Elapsed Time: 0:00:00||\n",
      "Episode 11|Iteration 28|reward:   22.0|last_reward_at:   13|Elapsed Time: 0:00:00||\n",
      "Episode 11|Iteration 28|reward:   22.0|last_reward_at:   28|Elapsed Time: 0:00:00||\n",
      "Episode 11|Iteration 29|reward:   28.0|last_reward_at:   28|Elapsed Time: 0:00:00||\n",
      "Episode 11|Iteration 29|reward:   28.0|last_reward_at:   29|Elapsed Time: 0:00:00||\n",
      "Episode 11|Iteration 32|reward:   28.0|last_reward_at:   29|Elapsed Time: 0:00:00||\n",
      "Episode 11|Iteration 34|reward:   28.0|last_reward_at:   29|Elapsed Time: 0:00:01||\n",
      "Episode 11|Iteration 36|reward:   28.0|last_reward_at:   29|Elapsed Time: 0:00:01||\n",
      "Episode 11|Iteration 38|reward:   28.0|last_reward_at:   29|Elapsed Time: 0:00:01||\n",
      "Episode 11|Iteration 40|reward:   28.0|last_reward_at:   29|Elapsed Time: 0:00:01||\n",
      "Episode 11|Iteration 41|reward:   34.0|last_reward_at:   29|Elapsed Time: 0:00:01||\n",
      "Episode 11|Iteration 41|reward:   34.0|last_reward_at:   41|Elapsed Time: 0:00:01||\n",
      "Episode 11|Iteration 43|reward:   34.0|last_reward_at:   41|Elapsed Time: 0:00:01||\n",
      "Episode 11|Iteration 43|reward:   39.0|last_reward_at:   41|Elapsed Time: 0:00:01||\n",
      "Episode 11|Iteration 43|reward:   39.0|last_reward_at:   43|Elapsed Time: 0:00:01||\n",
      "Episode 11|Iteration 44|reward:   45.0|last_reward_at:   43|Elapsed Time: 0:00:01||\n",
      "Episode 11|Iteration 44|reward:   45.0|last_reward_at:   44|Elapsed Time: 0:00:01||\n",
      "Episode 11|Iteration 46|reward:   46.0|last_reward_at:   44|Elapsed Time: 0:00:01||\n",
      "Episode 11|Iteration 46|reward:   46.0|last_reward_at:   46|Elapsed Time: 0:00:01||\n",
      "Episode 11|Iteration 47|reward:   52.0|last_reward_at:   46|Elapsed Time: 0:00:01||\n",
      "Episode 11|Iteration 47|reward:   52.0|last_reward_at:   47|Elapsed Time: 0:00:01||\n",
      "Episode 11|Iteration 50|reward:   52.0|last_reward_at:   47|Elapsed Time: 0:00:01||\n",
      "Episode 11|Iteration 50|reward:   52.0|last_reward_at:   47|Elapsed Time: 0:00:01||\n"
     ]
    },
    {
     "name": "stdout",
     "output_type": "stream",
     "text": [
      "  Episode 11 stopped at t=50 \n",
      "  Breakdown [Reward/NoReward (Success rate)]\n",
      "    explore-local: 5/4 (0.56)\n",
      "    explore-remote: 0/22 (0.00)\n",
      "    explore-connect: 0/15 (0.00)\n",
      "    exploit-local: 1/0 (1.00)\n",
      "    exploit-remote: 0/0 (NaN)\n",
      "    exploit-connect: 3/0 (1.00)\n",
      "  exploit deflected to exploration: 0\n",
      "  ## Episode: 12/20 'DQL' ϵ=0.8913, γ=0.015, lr=0.01, replaymemory=10000,\n",
      "batch=512, target_update=5\n"
     ]
    },
    {
     "name": "stderr",
     "output_type": "stream",
     "text": [
      "Episode 12|Iteration 0|reward: ------|last_reward_at: ----|Elapsed Time: 0:00:00||\n",
      "Episode 12|Iteration 1|reward:    0.0|last_reward_at: ----|Elapsed Time: 0:00:00||\n",
      "Episode 12|Iteration 3|reward:    6.0|last_reward_at: ----|Elapsed Time: 0:00:00||\n",
      "Episode 12|Iteration 3|reward:    6.0|last_reward_at:    3|Elapsed Time: 0:00:00||\n",
      "Episode 12|Iteration 4|reward:   12.0|last_reward_at:    3|Elapsed Time: 0:00:00||\n",
      "Episode 12|Iteration 4|reward:   12.0|last_reward_at:    4|Elapsed Time: 0:00:00||\n",
      "Episode 12|Iteration 7|reward:   12.0|last_reward_at:    4|Elapsed Time: 0:00:00||\n",
      "Episode 12|Iteration 9|reward:   12.0|last_reward_at:    4|Elapsed Time: 0:00:00||\n",
      "Episode 12|Iteration 11|reward:   12.0|last_reward_at:    4|Elapsed Time: 0:00:00||\n",
      "Episode 12|Iteration 13|reward:   12.0|last_reward_at:    4|Elapsed Time: 0:00:00||\n",
      "Episode 12|Iteration 14|reward:   27.0|last_reward_at:    4|Elapsed Time: 0:00:00||\n",
      "Episode 12|Iteration 14|reward:   27.0|last_reward_at:   14|Elapsed Time: 0:00:00||\n",
      "Episode 12|Iteration 16|reward:   33.0|last_reward_at:   14|Elapsed Time: 0:00:00||\n",
      "Episode 12|Iteration 16|reward:   33.0|last_reward_at:   16|Elapsed Time: 0:00:00||\n",
      "Episode 12|Iteration 18|reward:   34.0|last_reward_at:   16|Elapsed Time: 0:00:00||\n",
      "Episode 12|Iteration 18|reward:   34.0|last_reward_at:   18|Elapsed Time: 0:00:00||\n",
      "Episode 12|Iteration 21|reward:   34.0|last_reward_at:   18|Elapsed Time: 0:00:00||\n",
      "Episode 12|Iteration 21|reward:   40.0|last_reward_at:   18|Elapsed Time: 0:00:00||\n",
      "Episode 12|Iteration 21|reward:   40.0|last_reward_at:   21|Elapsed Time: 0:00:00||\n",
      "Episode 12|Iteration 24|reward:   40.0|last_reward_at:   21|Elapsed Time: 0:00:00||\n",
      "Episode 12|Iteration 24|reward:   45.0|last_reward_at:   21|Elapsed Time: 0:00:00||\n",
      "Episode 12|Iteration 24|reward:   45.0|last_reward_at:   24|Elapsed Time: 0:00:00||\n",
      "Episode 12|Iteration 25|reward:   46.0|last_reward_at:   24|Elapsed Time: 0:00:00||\n",
      "Episode 12|Iteration 25|reward:   46.0|last_reward_at:   25|Elapsed Time: 0:00:00||\n",
      "Episode 12|Iteration 27|reward:   52.0|last_reward_at:   25|Elapsed Time: 0:00:00||\n",
      "Episode 12|Iteration 27|reward:   52.0|last_reward_at:   27|Elapsed Time: 0:00:00||\n",
      "Episode 12|Iteration 28|reward:   58.0|last_reward_at:   27|Elapsed Time: 0:00:00||\n",
      "Episode 12|Iteration 28|reward:   58.0|last_reward_at:   28|Elapsed Time: 0:00:00||\n",
      "Episode 12|Iteration 31|reward:   58.0|last_reward_at:   28|Elapsed Time: 0:00:00||\n",
      "Episode 12|Iteration 31|reward:   64.0|last_reward_at:   28|Elapsed Time: 0:00:00||\n",
      "Episode 12|Iteration 31|reward:   64.0|last_reward_at:   31|Elapsed Time: 0:00:00||\n",
      "Episode 12|Iteration 34|reward:   64.0|last_reward_at:   31|Elapsed Time: 0:00:01||\n",
      "Episode 12|Iteration 36|reward:   64.0|last_reward_at:   31|Elapsed Time: 0:00:01||\n",
      "Episode 12|Iteration 38|reward:   64.0|last_reward_at:   31|Elapsed Time: 0:00:01||\n",
      "Episode 12|Iteration 38|reward:   65.0|last_reward_at:   31|Elapsed Time: 0:00:01||\n",
      "Episode 12|Iteration 38|reward:   65.0|last_reward_at:   38|Elapsed Time: 0:00:01||\n",
      "Episode 12|Iteration 39|reward:   71.0|last_reward_at:   38|Elapsed Time: 0:00:01||\n",
      "Episode 12|Iteration 39|reward:   71.0|last_reward_at:   39|Elapsed Time: 0:00:01||\n",
      "Episode 12|Iteration 42|reward:   71.0|last_reward_at:   39|Elapsed Time: 0:00:01||\n",
      "Episode 12|Iteration 43|reward:   77.0|last_reward_at:   39|Elapsed Time: 0:00:01||\n",
      "Episode 12|Iteration 43|reward:   77.0|last_reward_at:   43|Elapsed Time: 0:00:01||\n",
      "Episode 12|Iteration 44|reward:   86.0|last_reward_at:   43|Elapsed Time: 0:00:01||\n",
      "Episode 12|Iteration 44|reward:   86.0|last_reward_at:   44|Elapsed Time: 0:00:01||\n",
      "Episode 12|Iteration 47|reward:   86.0|last_reward_at:   44|Elapsed Time: 0:00:01||\n",
      "Episode 12|Iteration 47|reward:  186.0|last_reward_at:   44|Elapsed Time: 0:00:01||\n",
      "Episode 12|Iteration 47|reward:  186.0|last_reward_at:   47|Elapsed Time: 0:00:01||\n",
      "Episode 12|Iteration 50|reward:  186.0|last_reward_at:   47|Elapsed Time: 0:00:01||\n",
      "Episode 12|Iteration 50|reward:  186.0|last_reward_at:   47|Elapsed Time: 0:00:01||\n"
     ]
    },
    {
     "name": "stdout",
     "output_type": "stream",
     "text": [
      "  Episode 12 stopped at t=50 \n",
      "  Breakdown [Reward/NoReward (Success rate)]\n",
      "    explore-local: 10/10 (0.50)\n",
      "    explore-remote: 0/11 (0.00)\n",
      "    explore-connect: 0/13 (0.00)\n",
      "    exploit-local: 1/0 (1.00)\n",
      "    exploit-remote: 0/0 (NaN)\n",
      "    exploit-connect: 5/0 (1.00)\n",
      "  exploit deflected to exploration: 0\n",
      "  ## Episode: 13/20 'DQL' ϵ=0.8905, γ=0.015, lr=0.01, replaymemory=10000,\n",
      "batch=512, target_update=5\n"
     ]
    },
    {
     "name": "stderr",
     "output_type": "stream",
     "text": [
      "Episode 13|Iteration 0|reward: ------|last_reward_at: ----|Elapsed Time: 0:00:00||\n",
      "Episode 13|Iteration 1|reward:    0.0|last_reward_at: ----|Elapsed Time: 0:00:00||\n",
      "Episode 13|Iteration 4|reward:    0.0|last_reward_at: ----|Elapsed Time: 0:00:00||\n",
      "Episode 13|Iteration 5|reward:   15.0|last_reward_at: ----|Elapsed Time: 0:00:00||\n",
      "Episode 13|Iteration 5|reward:   15.0|last_reward_at:    5|Elapsed Time: 0:00:00||\n",
      "Episode 13|Iteration 7|reward:   21.0|last_reward_at:    5|Elapsed Time: 0:00:00||\n",
      "Episode 13|Iteration 7|reward:   21.0|last_reward_at:    7|Elapsed Time: 0:00:00||\n",
      "Episode 13|Iteration 10|reward:   21.0|last_reward_at:    7|Elapsed Time: 0:00:00||\n",
      "Episode 13|Iteration 10|reward:   22.0|last_reward_at:    7|Elapsed Time: 0:00:00||\n",
      "Episode 13|Iteration 10|reward:   22.0|last_reward_at:   10|Elapsed Time: 0:00:00||\n",
      "Episode 13|Iteration 11|reward:   31.0|last_reward_at:   10|Elapsed Time: 0:00:00||\n",
      "Episode 13|Iteration 11|reward:   31.0|last_reward_at:   11|Elapsed Time: 0:00:00||\n",
      "Episode 13|Iteration 14|reward:   31.0|last_reward_at:   11|Elapsed Time: 0:00:00||\n",
      "Episode 13|Iteration 16|reward:   31.0|last_reward_at:   11|Elapsed Time: 0:00:00||\n",
      "Episode 13|Iteration 18|reward:   31.0|last_reward_at:   11|Elapsed Time: 0:00:00||\n",
      "Episode 13|Iteration 18|reward:  131.0|last_reward_at:   11|Elapsed Time: 0:00:00||\n",
      "Episode 13|Iteration 18|reward:  131.0|last_reward_at:   18|Elapsed Time: 0:00:00||\n",
      "Episode 13|Iteration 19|reward:  136.0|last_reward_at:   18|Elapsed Time: 0:00:00||\n",
      "Episode 13|Iteration 19|reward:  136.0|last_reward_at:   19|Elapsed Time: 0:00:00||\n",
      "Episode 13|Iteration 22|reward:  136.0|last_reward_at:   19|Elapsed Time: 0:00:00||\n",
      "Episode 13|Iteration 22|reward:  142.0|last_reward_at:   19|Elapsed Time: 0:00:00||\n",
      "Episode 13|Iteration 22|reward:  142.0|last_reward_at:   22|Elapsed Time: 0:00:00||\n",
      "Episode 13|Iteration 24|reward:  143.0|last_reward_at:   22|Elapsed Time: 0:00:00||\n",
      "Episode 13|Iteration 24|reward:  143.0|last_reward_at:   24|Elapsed Time: 0:00:00||\n",
      "Episode 13|Iteration 27|reward:  143.0|last_reward_at:   24|Elapsed Time: 0:00:00||\n",
      "Episode 13|Iteration 29|reward:  143.0|last_reward_at:   24|Elapsed Time: 0:00:00||\n",
      "Episode 13|Iteration 31|reward:  143.0|last_reward_at:   24|Elapsed Time: 0:00:01||\n",
      "Episode 13|Iteration 31|reward:  149.0|last_reward_at:   24|Elapsed Time: 0:00:01||\n",
      "Episode 13|Iteration 31|reward:  149.0|last_reward_at:   31|Elapsed Time: 0:00:01||\n",
      "Episode 13|Iteration 34|reward:  149.0|last_reward_at:   31|Elapsed Time: 0:00:01||\n",
      "Episode 13|Iteration 36|reward:  149.0|last_reward_at:   31|Elapsed Time: 0:00:01||\n",
      "Episode 13|Iteration 38|reward:  149.0|last_reward_at:   31|Elapsed Time: 0:00:01||\n",
      "Episode 13|Iteration 38|reward:  150.0|last_reward_at:   31|Elapsed Time: 0:00:01||\n",
      "Episode 13|Iteration 38|reward:  150.0|last_reward_at:   38|Elapsed Time: 0:00:01||\n",
      "Episode 13|Iteration 41|reward:  150.0|last_reward_at:   38|Elapsed Time: 0:00:01||\n",
      "Episode 13|Iteration 41|reward:  156.0|last_reward_at:   38|Elapsed Time: 0:00:01||\n",
      "Episode 13|Iteration 41|reward:  156.0|last_reward_at:   41|Elapsed Time: 0:00:01||\n",
      "Episode 13|Iteration 42|reward:  162.0|last_reward_at:   41|Elapsed Time: 0:00:01||\n",
      "Episode 13|Iteration 42|reward:  162.0|last_reward_at:   42|Elapsed Time: 0:00:01||\n",
      "Episode 13|Iteration 43|reward:  162.0|last_reward_at:   42|Elapsed Time: 0:00:01||\n",
      "Episode 13|Iteration 44|reward:  168.0|last_reward_at:   42|Elapsed Time: 0:00:01||\n",
      "Episode 13|Iteration 44|reward:  168.0|last_reward_at:   44|Elapsed Time: 0:00:01||\n",
      "Episode 13|Iteration 45|reward:  174.0|last_reward_at:   44|Elapsed Time: 0:00:01||\n",
      "Episode 13|Iteration 45|reward:  174.0|last_reward_at:   45|Elapsed Time: 0:00:01||\n",
      "Episode 13|Iteration 46|reward:  180.0|last_reward_at:   45|Elapsed Time: 0:00:01||\n",
      "Episode 13|Iteration 46|reward:  180.0|last_reward_at:   46|Elapsed Time: 0:00:01||\n",
      "Episode 13|Iteration 49|reward:  180.0|last_reward_at:   46|Elapsed Time: 0:00:01||\n",
      "Episode 13|Iteration 50|reward:  180.0|last_reward_at:   46|Elapsed Time: 0:00:02||\n"
     ]
    },
    {
     "name": "stdout",
     "output_type": "stream",
     "text": [
      "  Episode 13 stopped at t=50 \n",
      "  Breakdown [Reward/NoReward (Success rate)]\n",
      "    explore-local: 6/5 (0.55)\n",
      "    explore-remote: 0/14 (0.00)\n",
      "    explore-connect: 2/15 (0.12)\n",
      "    exploit-local: 4/1 (0.80)\n",
      "    exploit-remote: 0/0 (NaN)\n",
      "    exploit-connect: 3/0 (1.00)\n",
      "  exploit deflected to exploration: 0\n",
      "  ## Episode: 14/20 'DQL' ϵ=0.8897, γ=0.015, lr=0.01, replaymemory=10000,\n",
      "batch=512, target_update=5\n"
     ]
    },
    {
     "name": "stderr",
     "output_type": "stream",
     "text": [
      "Episode 14|Iteration 0|reward: ------|last_reward_at: ----|Elapsed Time: 0:00:00||\n",
      "Episode 14|Iteration 1|reward:    0.0|last_reward_at: ----|Elapsed Time: 0:00:00||\n",
      "Episode 14|Iteration 4|reward:    0.0|last_reward_at: ----|Elapsed Time: 0:00:00||\n",
      "Episode 14|Iteration 6|reward:    0.0|last_reward_at: ----|Elapsed Time: 0:00:00||\n",
      "Episode 14|Iteration 6|reward:    6.0|last_reward_at: ----|Elapsed Time: 0:00:00||\n",
      "Episode 14|Iteration 6|reward:    6.0|last_reward_at:    6|Elapsed Time: 0:00:00||\n",
      "Episode 14|Iteration 9|reward:    6.0|last_reward_at:    6|Elapsed Time: 0:00:00||\n",
      "Episode 14|Iteration 9|reward:   12.0|last_reward_at:    6|Elapsed Time: 0:00:00||\n",
      "Episode 14|Iteration 9|reward:   12.0|last_reward_at:    9|Elapsed Time: 0:00:00||\n",
      "Episode 14|Iteration 12|reward:   12.0|last_reward_at:    9|Elapsed Time: 0:00:00||\n",
      "Episode 14|Iteration 14|reward:   12.0|last_reward_at:    9|Elapsed Time: 0:00:00||\n",
      "Episode 14|Iteration 15|reward:   18.0|last_reward_at:    9|Elapsed Time: 0:00:00||\n",
      "Episode 14|Iteration 15|reward:   18.0|last_reward_at:   15|Elapsed Time: 0:00:00||\n",
      "Episode 14|Iteration 18|reward:   18.0|last_reward_at:   15|Elapsed Time: 0:00:00||\n",
      "Episode 14|Iteration 18|reward:   33.0|last_reward_at:   15|Elapsed Time: 0:00:00||\n",
      "Episode 14|Iteration 18|reward:   33.0|last_reward_at:   18|Elapsed Time: 0:00:00||\n",
      "Episode 14|Iteration 20|reward:   33.0|last_reward_at:   18|Elapsed Time: 0:00:00||\n",
      "Episode 14|Iteration 22|reward:   33.0|last_reward_at:   18|Elapsed Time: 0:00:00||\n",
      "Episode 14|Iteration 24|reward:   33.0|last_reward_at:   18|Elapsed Time: 0:00:00||\n",
      "Episode 14|Iteration 26|reward:   33.0|last_reward_at:   18|Elapsed Time: 0:00:00||\n",
      "Episode 14|Iteration 28|reward:   33.0|last_reward_at:   18|Elapsed Time: 0:00:01||\n",
      "Episode 14|Iteration 30|reward:   33.0|last_reward_at:   18|Elapsed Time: 0:00:01||\n",
      "Episode 14|Iteration 30|reward:   34.0|last_reward_at:   18|Elapsed Time: 0:00:01||\n",
      "Episode 14|Iteration 30|reward:   34.0|last_reward_at:   30|Elapsed Time: 0:00:01||\n",
      "Episode 14|Iteration 33|reward:   34.0|last_reward_at:   30|Elapsed Time: 0:00:01||\n",
      "Episode 14|Iteration 34|reward:   39.0|last_reward_at:   30|Elapsed Time: 0:00:01||\n",
      "Episode 14|Iteration 34|reward:   39.0|last_reward_at:   34|Elapsed Time: 0:00:01||\n",
      "Episode 14|Iteration 35|reward:   45.0|last_reward_at:   34|Elapsed Time: 0:00:01||\n",
      "Episode 14|Iteration 35|reward:   45.0|last_reward_at:   35|Elapsed Time: 0:00:01||\n",
      "Episode 14|Iteration 38|reward:   45.0|last_reward_at:   35|Elapsed Time: 0:00:01||\n",
      "Episode 14|Iteration 40|reward:   45.0|last_reward_at:   35|Elapsed Time: 0:00:01||\n",
      "Episode 14|Iteration 42|reward:   45.0|last_reward_at:   35|Elapsed Time: 0:00:01||\n",
      "Episode 14|Iteration 44|reward:   45.0|last_reward_at:   35|Elapsed Time: 0:00:01||\n",
      "Episode 14|Iteration 46|reward:   45.0|last_reward_at:   35|Elapsed Time: 0:00:01||\n",
      "Episode 14|Iteration 47|reward:   46.0|last_reward_at:   35|Elapsed Time: 0:00:01||\n",
      "Episode 14|Iteration 47|reward:   46.0|last_reward_at:   47|Elapsed Time: 0:00:01||\n",
      "Episode 14|Iteration 50|reward:   46.0|last_reward_at:   47|Elapsed Time: 0:00:01||\n",
      "Episode 14|Iteration 50|reward:   46.0|last_reward_at:   47|Elapsed Time: 0:00:01||\n"
     ]
    },
    {
     "name": "stdout",
     "output_type": "stream",
     "text": [
      "  Episode 14 stopped at t=50 \n",
      "  Breakdown [Reward/NoReward (Success rate)]\n",
      "    explore-local: 4/11 (0.27)\n",
      "    explore-remote: 0/20 (0.00)\n",
      "    explore-connect: 0/11 (0.00)\n",
      "    exploit-local: 1/0 (1.00)\n",
      "    exploit-remote: 0/0 (NaN)\n",
      "    exploit-connect: 3/0 (1.00)\n",
      "  exploit deflected to exploration: 0\n",
      "  ## Episode: 15/20 'DQL' ϵ=0.8889, γ=0.015, lr=0.01, replaymemory=10000,\n",
      "batch=512, target_update=5\n"
     ]
    },
    {
     "name": "stderr",
     "output_type": "stream",
     "text": [
      "Episode 15|Iteration 0|reward: ------|last_reward_at: ----|Elapsed Time: 0:00:00||\n",
      "Episode 15|Iteration 1|reward:    0.0|last_reward_at: ----|Elapsed Time: 0:00:00||\n",
      "Episode 15|Iteration 2|reward:   15.0|last_reward_at: ----|Elapsed Time: 0:00:00||\n",
      "Episode 15|Iteration 2|reward:   15.0|last_reward_at:    2|Elapsed Time: 0:00:00||\n",
      "Episode 15|Iteration 5|reward:   15.0|last_reward_at:    2|Elapsed Time: 0:00:00||\n",
      "Episode 15|Iteration 7|reward:   15.0|last_reward_at:    2|Elapsed Time: 0:00:00||\n",
      "Episode 15|Iteration 7|reward:   20.0|last_reward_at:    2|Elapsed Time: 0:00:00||\n",
      "Episode 15|Iteration 7|reward:   20.0|last_reward_at:    7|Elapsed Time: 0:00:00||\n",
      "Episode 15|Iteration 10|reward:   20.0|last_reward_at:    7|Elapsed Time: 0:00:00||\n",
      "Episode 15|Iteration 12|reward:   20.0|last_reward_at:    7|Elapsed Time: 0:00:00||\n",
      "Episode 15|Iteration 12|reward:   21.0|last_reward_at:    7|Elapsed Time: 0:00:00||\n",
      "Episode 15|Iteration 12|reward:   21.0|last_reward_at:   12|Elapsed Time: 0:00:00||\n",
      "Episode 15|Iteration 15|reward:   21.0|last_reward_at:   12|Elapsed Time: 0:00:00||\n",
      "Episode 15|Iteration 16|reward:   27.0|last_reward_at:   12|Elapsed Time: 0:00:00||\n",
      "Episode 15|Iteration 16|reward:   27.0|last_reward_at:   16|Elapsed Time: 0:00:00||\n",
      "Episode 15|Iteration 19|reward:   27.0|last_reward_at:   16|Elapsed Time: 0:00:00||\n",
      "Episode 15|Iteration 20|reward:   27.0|last_reward_at:   16|Elapsed Time: 0:00:00||\n",
      "Episode 15|Iteration 20|reward:   33.0|last_reward_at:   16|Elapsed Time: 0:00:00||\n",
      "Episode 15|Iteration 20|reward:   33.0|last_reward_at:   20|Elapsed Time: 0:00:00||\n",
      "Episode 15|Iteration 23|reward:   33.0|last_reward_at:   20|Elapsed Time: 0:00:00||\n",
      "Episode 15|Iteration 25|reward:   33.0|last_reward_at:   20|Elapsed Time: 0:00:00||\n",
      "Episode 15|Iteration 25|reward:   39.0|last_reward_at:   20|Elapsed Time: 0:00:01||\n",
      "Episode 15|Iteration 25|reward:   39.0|last_reward_at:   25|Elapsed Time: 0:00:01||\n",
      "Episode 15|Iteration 26|reward:   45.0|last_reward_at:   25|Elapsed Time: 0:00:01||\n",
      "Episode 15|Iteration 26|reward:   45.0|last_reward_at:   26|Elapsed Time: 0:00:01||\n",
      "Episode 15|Iteration 28|reward:   45.0|last_reward_at:   26|Elapsed Time: 0:00:01||\n",
      "Episode 15|Iteration 29|reward:   45.0|last_reward_at:   26|Elapsed Time: 0:00:01||\n",
      "Episode 15|Iteration 31|reward:   45.0|last_reward_at:   26|Elapsed Time: 0:00:01||\n",
      "Episode 15|Iteration 32|reward:   46.0|last_reward_at:   26|Elapsed Time: 0:00:01||\n",
      "Episode 15|Iteration 32|reward:   46.0|last_reward_at:   32|Elapsed Time: 0:00:01||\n",
      "Episode 15|Iteration 35|reward:   46.0|last_reward_at:   32|Elapsed Time: 0:00:01||\n",
      "Episode 15|Iteration 37|reward:   46.0|last_reward_at:   32|Elapsed Time: 0:00:01||\n",
      "Episode 15|Iteration 38|reward:   47.0|last_reward_at:   32|Elapsed Time: 0:00:01||\n",
      "Episode 15|Iteration 38|reward:   47.0|last_reward_at:   38|Elapsed Time: 0:00:01||\n",
      "Episode 15|Iteration 41|reward:   47.0|last_reward_at:   38|Elapsed Time: 0:00:01||\n",
      "Episode 15|Iteration 43|reward:   47.0|last_reward_at:   38|Elapsed Time: 0:00:01||\n",
      "Episode 15|Iteration 45|reward:   47.0|last_reward_at:   38|Elapsed Time: 0:00:01||\n",
      "Episode 15|Iteration 46|reward:   47.0|last_reward_at:   38|Elapsed Time: 0:00:01||\n",
      "Episode 15|Iteration 47|reward:   47.0|last_reward_at:   38|Elapsed Time: 0:00:01||\n",
      "Episode 15|Iteration 47|reward:   53.0|last_reward_at:   38|Elapsed Time: 0:00:01||\n",
      "Episode 15|Iteration 47|reward:   53.0|last_reward_at:   47|Elapsed Time: 0:00:01||\n",
      "Episode 15|Iteration 48|reward:   59.0|last_reward_at:   47|Elapsed Time: 0:00:02||\n",
      "Episode 15|Iteration 48|reward:   59.0|last_reward_at:   48|Elapsed Time: 0:00:02||\n",
      "Episode 15|Iteration 50|reward:   59.0|last_reward_at:   48|Elapsed Time: 0:00:02||\n",
      "Episode 15|Iteration 50|reward:   59.0|last_reward_at:   48|Elapsed Time: 0:00:02||\n"
     ]
    },
    {
     "name": "stdout",
     "output_type": "stream",
     "text": [
      "  Episode 15 stopped at t=50 \n",
      "  Breakdown [Reward/NoReward (Success rate)]\n",
      "    explore-local: 6/1 (0.86)\n",
      "    explore-remote: 0/23 (0.00)\n",
      "    explore-connect: 0/15 (0.00)\n",
      "    exploit-local: 1/0 (1.00)\n",
      "    exploit-remote: 0/0 (NaN)\n",
      "    exploit-connect: 4/0 (1.00)\n",
      "  exploit deflected to exploration: 0\n",
      "  ## Episode: 16/20 'DQL' ϵ=0.8881, γ=0.015, lr=0.01, replaymemory=10000,\n",
      "batch=512, target_update=5\n"
     ]
    },
    {
     "name": "stderr",
     "output_type": "stream",
     "text": [
      "Episode 16|Iteration 0|reward: ------|last_reward_at: ----|Elapsed Time: 0:00:00||\n",
      "Episode 16|Iteration 1|reward:    6.0|last_reward_at: ----|Elapsed Time: 0:00:00||\n",
      "Episode 16|Iteration 1|reward:    6.0|last_reward_at:    1|Elapsed Time: 0:00:00||\n",
      "Episode 16|Iteration 3|reward:    6.0|last_reward_at:    1|Elapsed Time: 0:00:00||\n",
      "Episode 16|Iteration 3|reward:   12.0|last_reward_at:    1|Elapsed Time: 0:00:00||\n",
      "Episode 16|Iteration 3|reward:   12.0|last_reward_at:    3|Elapsed Time: 0:00:00||\n",
      "Episode 16|Iteration 4|reward:   18.0|last_reward_at:    3|Elapsed Time: 0:00:00||\n",
      "Episode 16|Iteration 4|reward:   18.0|last_reward_at:    4|Elapsed Time: 0:00:00||\n",
      "Episode 16|Iteration 5|reward:   33.0|last_reward_at:    4|Elapsed Time: 0:00:00||\n",
      "Episode 16|Iteration 5|reward:   33.0|last_reward_at:    5|Elapsed Time: 0:00:00||\n",
      "Episode 16|Iteration 8|reward:   33.0|last_reward_at:    5|Elapsed Time: 0:00:00||\n",
      "Episode 16|Iteration 10|reward:   33.0|last_reward_at:    5|Elapsed Time: 0:00:00||\n",
      "Episode 16|Iteration 10|reward:   34.0|last_reward_at:    5|Elapsed Time: 0:00:00||\n",
      "Episode 16|Iteration 10|reward:   34.0|last_reward_at:   10|Elapsed Time: 0:00:00||\n",
      "Episode 16|Iteration 13|reward:   34.0|last_reward_at:   10|Elapsed Time: 0:00:00||\n",
      "Episode 16|Iteration 15|reward:   34.0|last_reward_at:   10|Elapsed Time: 0:00:00||\n",
      "Episode 16|Iteration 17|reward:   34.0|last_reward_at:   10|Elapsed Time: 0:00:00||\n",
      "Episode 16|Iteration 17|reward:   40.0|last_reward_at:   10|Elapsed Time: 0:00:00||\n",
      "Episode 16|Iteration 17|reward:   40.0|last_reward_at:   17|Elapsed Time: 0:00:00||\n",
      "Episode 16|Iteration 20|reward:   40.0|last_reward_at:   17|Elapsed Time: 0:00:00||\n",
      "Episode 16|Iteration 22|reward:   40.0|last_reward_at:   17|Elapsed Time: 0:00:00||\n",
      "Episode 16|Iteration 24|reward:   40.0|last_reward_at:   17|Elapsed Time: 0:00:00||\n",
      "Episode 16|Iteration 25|reward:   46.0|last_reward_at:   17|Elapsed Time: 0:00:00||\n",
      "Episode 16|Iteration 25|reward:   46.0|last_reward_at:   25|Elapsed Time: 0:00:00||\n",
      "Episode 16|Iteration 28|reward:   46.0|last_reward_at:   25|Elapsed Time: 0:00:00||\n",
      "Episode 16|Iteration 28|reward:   55.0|last_reward_at:   25|Elapsed Time: 0:00:01||\n",
      "Episode 16|Iteration 28|reward:   55.0|last_reward_at:   28|Elapsed Time: 0:00:01||\n",
      "Episode 16|Iteration 30|reward:   55.0|last_reward_at:   28|Elapsed Time: 0:00:01||\n",
      "Episode 16|Iteration 32|reward:   55.0|last_reward_at:   28|Elapsed Time: 0:00:01||\n",
      "Episode 16|Iteration 34|reward:   55.0|last_reward_at:   28|Elapsed Time: 0:00:01||\n",
      "Episode 16|Iteration 35|reward:   60.0|last_reward_at:   28|Elapsed Time: 0:00:01||\n",
      "Episode 16|Iteration 35|reward:   60.0|last_reward_at:   35|Elapsed Time: 0:00:01||\n",
      "Episode 16|Iteration 38|reward:   60.0|last_reward_at:   35|Elapsed Time: 0:00:01||\n",
      "Episode 16|Iteration 40|reward:   60.0|last_reward_at:   35|Elapsed Time: 0:00:01||\n",
      "Episode 16|Iteration 40|reward:   61.0|last_reward_at:   35|Elapsed Time: 0:00:01||\n",
      "Episode 16|Iteration 40|reward:   61.0|last_reward_at:   40|Elapsed Time: 0:00:01||\n",
      "Episode 16|Iteration 41|reward:   67.0|last_reward_at:   40|Elapsed Time: 0:00:01||\n",
      "Episode 16|Iteration 41|reward:   67.0|last_reward_at:   41|Elapsed Time: 0:00:01||\n",
      "Episode 16|Iteration 43|reward:   68.0|last_reward_at:   41|Elapsed Time: 0:00:01||\n",
      "Episode 16|Iteration 43|reward:   68.0|last_reward_at:   43|Elapsed Time: 0:00:01||\n",
      "Episode 16|Iteration 46|reward:   68.0|last_reward_at:   43|Elapsed Time: 0:00:01||\n",
      "Episode 16|Iteration 48|reward:   68.0|last_reward_at:   43|Elapsed Time: 0:00:01||\n",
      "Episode 16|Iteration 50|reward:   68.0|last_reward_at:   43|Elapsed Time: 0:00:01||\n",
      "Episode 16|Iteration 50|reward:   68.0|last_reward_at:   43|Elapsed Time: 0:00:01||\n"
     ]
    },
    {
     "name": "stdout",
     "output_type": "stream",
     "text": [
      "  Episode 16 stopped at t=50 \n",
      "  Breakdown [Reward/NoReward (Success rate)]\n",
      "    explore-local: 8/15 (0.35)\n",
      "    explore-remote: 0/12 (0.00)\n",
      "    explore-connect: 2/11 (0.15)\n",
      "    exploit-local: 0/0 (NaN)\n",
      "    exploit-remote: 0/0 (NaN)\n",
      "    exploit-connect: 2/0 (1.00)\n",
      "  exploit deflected to exploration: 0\n",
      "  ## Episode: 17/20 'DQL' ϵ=0.8873, γ=0.015, lr=0.01, replaymemory=10000,\n",
      "batch=512, target_update=5\n"
     ]
    },
    {
     "name": "stderr",
     "output_type": "stream",
     "text": [
      "Episode 17|Iteration 0|reward: ------|last_reward_at: ----|Elapsed Time: 0:00:00||\n",
      "Episode 17|Iteration 1|reward:    0.0|last_reward_at: ----|Elapsed Time: 0:00:00||\n",
      "Episode 17|Iteration 2|reward:   15.0|last_reward_at: ----|Elapsed Time: 0:00:00||\n",
      "Episode 17|Iteration 2|reward:   15.0|last_reward_at:    2|Elapsed Time: 0:00:00||\n",
      "Episode 17|Iteration 3|reward:   16.0|last_reward_at:    2|Elapsed Time: 0:00:00||\n",
      "Episode 17|Iteration 3|reward:   16.0|last_reward_at:    3|Elapsed Time: 0:00:00||\n",
      "Episode 17|Iteration 6|reward:   16.0|last_reward_at:    3|Elapsed Time: 0:00:00||\n",
      "Episode 17|Iteration 7|reward:   17.0|last_reward_at:    3|Elapsed Time: 0:00:00||\n",
      "Episode 17|Iteration 7|reward:   17.0|last_reward_at:    7|Elapsed Time: 0:00:00||\n",
      "Episode 17|Iteration 10|reward:   17.0|last_reward_at:    7|Elapsed Time: 0:00:00||\n",
      "Episode 17|Iteration 10|reward:   18.0|last_reward_at:    7|Elapsed Time: 0:00:00||\n",
      "Episode 17|Iteration 10|reward:   18.0|last_reward_at:   10|Elapsed Time: 0:00:00||\n",
      "Episode 17|Iteration 13|reward:   18.0|last_reward_at:   10|Elapsed Time: 0:00:00||\n",
      "Episode 17|Iteration 15|reward:   18.0|last_reward_at:   10|Elapsed Time: 0:00:00||\n",
      "Episode 17|Iteration 16|reward:   24.0|last_reward_at:   10|Elapsed Time: 0:00:00||\n",
      "Episode 17|Iteration 16|reward:   24.0|last_reward_at:   16|Elapsed Time: 0:00:00||\n",
      "Episode 17|Iteration 17|reward:   29.0|last_reward_at:   16|Elapsed Time: 0:00:00||\n",
      "Episode 17|Iteration 17|reward:   29.0|last_reward_at:   17|Elapsed Time: 0:00:00||\n",
      "Episode 17|Iteration 20|reward:   29.0|last_reward_at:   17|Elapsed Time: 0:00:00||\n",
      "Episode 17|Iteration 20|reward:   35.0|last_reward_at:   17|Elapsed Time: 0:00:00||\n",
      "Episode 17|Iteration 20|reward:   35.0|last_reward_at:   20|Elapsed Time: 0:00:00||\n",
      "Episode 17|Iteration 21|reward:   41.0|last_reward_at:   20|Elapsed Time: 0:00:00||\n",
      "Episode 17|Iteration 21|reward:   41.0|last_reward_at:   21|Elapsed Time: 0:00:00||\n",
      "Episode 17|Iteration 23|reward:   47.0|last_reward_at:   21|Elapsed Time: 0:00:00||\n",
      "Episode 17|Iteration 23|reward:   47.0|last_reward_at:   23|Elapsed Time: 0:00:00||\n",
      "Episode 17|Iteration 24|reward:   53.0|last_reward_at:   23|Elapsed Time: 0:00:00||\n",
      "Episode 17|Iteration 24|reward:   53.0|last_reward_at:   24|Elapsed Time: 0:00:00||\n",
      "Episode 17|Iteration 25|reward:   59.0|last_reward_at:   24|Elapsed Time: 0:00:00||\n",
      "Episode 17|Iteration 25|reward:   59.0|last_reward_at:   25|Elapsed Time: 0:00:00||\n",
      "Episode 17|Iteration 28|reward:   59.0|last_reward_at:   25|Elapsed Time: 0:00:01||\n",
      "Episode 17|Iteration 30|reward:   59.0|last_reward_at:   25|Elapsed Time: 0:00:01||\n",
      "Episode 17|Iteration 31|reward:   65.0|last_reward_at:   25|Elapsed Time: 0:00:01||\n",
      "Episode 17|Iteration 31|reward:   65.0|last_reward_at:   31|Elapsed Time: 0:00:01||\n",
      "Episode 17|Iteration 32|reward:   74.0|last_reward_at:   31|Elapsed Time: 0:00:01||\n",
      "Episode 17|Iteration 32|reward:   74.0|last_reward_at:   32|Elapsed Time: 0:00:01||\n",
      "Episode 17|Iteration 34|reward:  174.0|last_reward_at:   32|Elapsed Time: 0:00:01||\n",
      "Episode 17|Iteration 34|reward:  174.0|last_reward_at:   34|Elapsed Time: 0:00:01||\n",
      "Episode 17|Iteration 37|reward:  174.0|last_reward_at:   34|Elapsed Time: 0:00:01||\n",
      "Episode 17|Iteration 39|reward:  174.0|last_reward_at:   34|Elapsed Time: 0:00:01||\n",
      "Episode 17|Iteration 41|reward:  174.0|last_reward_at:   34|Elapsed Time: 0:00:01||\n",
      "Episode 17|Iteration 43|reward:  174.0|last_reward_at:   34|Elapsed Time: 0:00:01||\n",
      "Episode 17|Iteration 43|reward:  180.0|last_reward_at:   34|Elapsed Time: 0:00:01||\n",
      "Episode 17|Iteration 43|reward:  180.0|last_reward_at:   43|Elapsed Time: 0:00:01||\n",
      "Episode 17|Iteration 44|reward:  186.0|last_reward_at:   43|Elapsed Time: 0:00:01||\n",
      "Episode 17|Iteration 44|reward:  186.0|last_reward_at:   44|Elapsed Time: 0:00:01||\n",
      "Episode 17|Iteration 45|reward:  192.0|last_reward_at:   44|Elapsed Time: 0:00:01||\n",
      "Episode 17|Iteration 45|reward:  192.0|last_reward_at:   45|Elapsed Time: 0:00:01||\n",
      "Episode 17|Iteration 46|reward:  198.0|last_reward_at:   45|Elapsed Time: 0:00:01||\n",
      "Episode 17|Iteration 46|reward:  198.0|last_reward_at:   46|Elapsed Time: 0:00:01||\n",
      "Episode 17|Iteration 49|reward:  198.0|last_reward_at:   46|Elapsed Time: 0:00:01||\n",
      "Episode 17|Iteration 50|reward:  198.0|last_reward_at:   46|Elapsed Time: 0:00:01||\n"
     ]
    },
    {
     "name": "stdout",
     "output_type": "stream",
     "text": [
      "  Episode 17 stopped at t=50 \n",
      "  Breakdown [Reward/NoReward (Success rate)]\n",
      "    explore-local: 8/5 (0.62)\n",
      "    explore-remote: 0/14 (0.00)\n",
      "    explore-connect: 0/12 (0.00)\n",
      "    exploit-local: 5/1 (0.83)\n",
      "    exploit-remote: 0/0 (NaN)\n",
      "    exploit-connect: 5/0 (1.00)\n",
      "  exploit deflected to exploration: 0\n",
      "  ## Episode: 18/20 'DQL' ϵ=0.8865, γ=0.015, lr=0.01, replaymemory=10000,\n",
      "batch=512, target_update=5\n"
     ]
    },
    {
     "name": "stderr",
     "output_type": "stream",
     "text": [
      "Episode 18|Iteration 0|reward: ------|last_reward_at: ----|Elapsed Time: 0:00:00||\n",
      "Episode 18|Iteration 1|reward:    0.0|last_reward_at: ----|Elapsed Time: 0:00:00||\n",
      "Episode 18|Iteration 3|reward:    0.0|last_reward_at: ----|Elapsed Time: 0:00:00||\n",
      "Episode 18|Iteration 3|reward:   15.0|last_reward_at: ----|Elapsed Time: 0:00:00||\n",
      "Episode 18|Iteration 3|reward:   15.0|last_reward_at:    3|Elapsed Time: 0:00:00||\n",
      "Episode 18|Iteration 6|reward:   15.0|last_reward_at:    3|Elapsed Time: 0:00:00||\n",
      "Episode 18|Iteration 8|reward:   15.0|last_reward_at:    3|Elapsed Time: 0:00:00||\n",
      "Episode 18|Iteration 10|reward:   15.0|last_reward_at:    3|Elapsed Time: 0:00:00||\n",
      "Episode 18|Iteration 10|reward:   21.0|last_reward_at:    3|Elapsed Time: 0:00:00||\n",
      "Episode 18|Iteration 10|reward:   21.0|last_reward_at:   10|Elapsed Time: 0:00:00||\n",
      "Episode 18|Iteration 13|reward:   21.0|last_reward_at:   10|Elapsed Time: 0:00:00||\n",
      "Episode 18|Iteration 13|reward:   26.0|last_reward_at:   10|Elapsed Time: 0:00:00||\n",
      "Episode 18|Iteration 13|reward:   26.0|last_reward_at:   13|Elapsed Time: 0:00:00||\n",
      "Episode 18|Iteration 15|reward:   27.0|last_reward_at:   13|Elapsed Time: 0:00:00||\n",
      "Episode 18|Iteration 15|reward:   27.0|last_reward_at:   15|Elapsed Time: 0:00:00||\n",
      "Episode 18|Iteration 18|reward:   27.0|last_reward_at:   15|Elapsed Time: 0:00:00||\n",
      "Episode 18|Iteration 19|reward:   27.0|last_reward_at:   15|Elapsed Time: 0:00:00||\n",
      "Episode 18|Iteration 20|reward:   33.0|last_reward_at:   15|Elapsed Time: 0:00:00||\n",
      "Episode 18|Iteration 20|reward:   33.0|last_reward_at:   20|Elapsed Time: 0:00:00||\n",
      "Episode 18|Iteration 21|reward:   39.0|last_reward_at:   20|Elapsed Time: 0:00:00||\n",
      "Episode 18|Iteration 21|reward:   39.0|last_reward_at:   21|Elapsed Time: 0:00:00||\n",
      "Episode 18|Iteration 24|reward:   39.0|last_reward_at:   21|Elapsed Time: 0:00:00||\n",
      "Episode 18|Iteration 24|reward:   45.0|last_reward_at:   21|Elapsed Time: 0:00:01||\n",
      "Episode 18|Iteration 24|reward:   45.0|last_reward_at:   24|Elapsed Time: 0:00:01||\n",
      "Episode 18|Iteration 27|reward:   45.0|last_reward_at:   24|Elapsed Time: 0:00:01||\n",
      "Episode 18|Iteration 29|reward:   45.0|last_reward_at:   24|Elapsed Time: 0:00:01||\n",
      "Episode 18|Iteration 31|reward:   45.0|last_reward_at:   24|Elapsed Time: 0:00:01||\n",
      "Episode 18|Iteration 33|reward:   45.0|last_reward_at:   24|Elapsed Time: 0:00:01||\n",
      "Episode 18|Iteration 35|reward:   45.0|last_reward_at:   24|Elapsed Time: 0:00:01||\n",
      "Episode 18|Iteration 37|reward:   45.0|last_reward_at:   24|Elapsed Time: 0:00:01||\n",
      "Episode 18|Iteration 39|reward:   45.0|last_reward_at:   24|Elapsed Time: 0:00:01||\n",
      "Episode 18|Iteration 41|reward:   45.0|last_reward_at:   24|Elapsed Time: 0:00:01||\n",
      "Episode 18|Iteration 43|reward:   45.0|last_reward_at:   24|Elapsed Time: 0:00:01||\n",
      "Episode 18|Iteration 43|reward:   46.0|last_reward_at:   24|Elapsed Time: 0:00:01||\n",
      "Episode 18|Iteration 43|reward:   46.0|last_reward_at:   43|Elapsed Time: 0:00:01||\n",
      "Episode 18|Iteration 46|reward:   46.0|last_reward_at:   43|Elapsed Time: 0:00:01||\n",
      "Episode 18|Iteration 46|reward:   55.0|last_reward_at:   43|Elapsed Time: 0:00:01||\n",
      "Episode 18|Iteration 46|reward:   55.0|last_reward_at:   46|Elapsed Time: 0:00:01||\n",
      "Episode 18|Iteration 47|reward:   61.0|last_reward_at:   46|Elapsed Time: 0:00:01||\n",
      "Episode 18|Iteration 47|reward:   61.0|last_reward_at:   47|Elapsed Time: 0:00:01||\n",
      "Episode 18|Iteration 50|reward:   61.0|last_reward_at:   47|Elapsed Time: 0:00:01||\n",
      "Episode 18|Iteration 50|reward:   61.0|last_reward_at:   47|Elapsed Time: 0:00:01||\n"
     ]
    },
    {
     "name": "stdout",
     "output_type": "stream",
     "text": [
      "  Episode 18 stopped at t=50 \n",
      "  Breakdown [Reward/NoReward (Success rate)]\n",
      "    explore-local: 6/3 (0.67)\n",
      "    explore-remote: 0/20 (0.00)\n",
      "    explore-connect: 1/17 (0.06)\n",
      "    exploit-local: 1/0 (1.00)\n",
      "    exploit-remote: 0/0 (NaN)\n",
      "    exploit-connect: 2/0 (1.00)\n",
      "  exploit deflected to exploration: 0\n",
      "  ## Episode: 19/20 'DQL' ϵ=0.8857, γ=0.015, lr=0.01, replaymemory=10000,\n",
      "batch=512, target_update=5\n"
     ]
    },
    {
     "name": "stderr",
     "output_type": "stream",
     "text": [
      "Episode 19|Iteration 0|reward: ------|last_reward_at: ----|Elapsed Time: 0:00:00||\n",
      "Episode 19|Iteration 1|reward:    0.0|last_reward_at: ----|Elapsed Time: 0:00:00||\n",
      "Episode 19|Iteration 4|reward:    0.0|last_reward_at: ----|Elapsed Time: 0:00:00||\n",
      "Episode 19|Iteration 4|reward:   15.0|last_reward_at: ----|Elapsed Time: 0:00:00||\n",
      "Episode 19|Iteration 4|reward:   15.0|last_reward_at:    4|Elapsed Time: 0:00:00||\n",
      "Episode 19|Iteration 6|reward:   21.0|last_reward_at:    4|Elapsed Time: 0:00:00||\n",
      "Episode 19|Iteration 6|reward:   21.0|last_reward_at:    6|Elapsed Time: 0:00:00||\n",
      "Episode 19|Iteration 9|reward:   21.0|last_reward_at:    6|Elapsed Time: 0:00:00||\n",
      "Episode 19|Iteration 10|reward:   26.0|last_reward_at:    6|Elapsed Time: 0:00:00||\n",
      "Episode 19|Iteration 10|reward:   26.0|last_reward_at:   10|Elapsed Time: 0:00:00||\n",
      "Episode 19|Iteration 11|reward:   27.0|last_reward_at:   10|Elapsed Time: 0:00:00||\n",
      "Episode 19|Iteration 11|reward:   27.0|last_reward_at:   11|Elapsed Time: 0:00:00||\n",
      "Episode 19|Iteration 13|reward:   33.0|last_reward_at:   11|Elapsed Time: 0:00:00||\n",
      "Episode 19|Iteration 13|reward:   33.0|last_reward_at:   13|Elapsed Time: 0:00:00||\n",
      "Episode 19|Iteration 16|reward:   33.0|last_reward_at:   13|Elapsed Time: 0:00:00||\n",
      "Episode 19|Iteration 16|reward:   39.0|last_reward_at:   13|Elapsed Time: 0:00:00||\n",
      "Episode 19|Iteration 16|reward:   39.0|last_reward_at:   16|Elapsed Time: 0:00:00||\n",
      "Episode 19|Iteration 19|reward:   39.0|last_reward_at:   16|Elapsed Time: 0:00:00||\n",
      "Episode 19|Iteration 20|reward:   39.0|last_reward_at:   16|Elapsed Time: 0:00:00||\n",
      "Episode 19|Iteration 23|reward:   39.0|last_reward_at:   16|Elapsed Time: 0:00:00||\n",
      "Episode 19|Iteration 25|reward:   39.0|last_reward_at:   16|Elapsed Time: 0:00:00||\n",
      "Episode 19|Iteration 25|reward:   45.0|last_reward_at:   16|Elapsed Time: 0:00:00||\n",
      "Episode 19|Iteration 25|reward:   45.0|last_reward_at:   25|Elapsed Time: 0:00:00||\n",
      "Episode 19|Iteration 26|reward:   51.0|last_reward_at:   25|Elapsed Time: 0:00:00||\n",
      "Episode 19|Iteration 26|reward:   51.0|last_reward_at:   26|Elapsed Time: 0:00:00||\n",
      "Episode 19|Iteration 27|reward:   51.0|last_reward_at:   26|Elapsed Time: 0:00:01||\n",
      "Episode 19|Iteration 28|reward:   57.0|last_reward_at:   26|Elapsed Time: 0:00:01||\n",
      "Episode 19|Iteration 28|reward:   57.0|last_reward_at:   28|Elapsed Time: 0:00:01||\n",
      "Episode 19|Iteration 30|reward:   58.0|last_reward_at:   28|Elapsed Time: 0:00:01||\n",
      "Episode 19|Iteration 30|reward:   58.0|last_reward_at:   30|Elapsed Time: 0:00:01||\n",
      "Episode 19|Iteration 32|reward:   67.0|last_reward_at:   30|Elapsed Time: 0:00:01||\n",
      "Episode 19|Iteration 32|reward:   67.0|last_reward_at:   32|Elapsed Time: 0:00:01||\n",
      "Episode 19|Iteration 35|reward:   67.0|last_reward_at:   32|Elapsed Time: 0:00:01||\n",
      "Episode 19|Iteration 37|reward:   67.0|last_reward_at:   32|Elapsed Time: 0:00:01||\n",
      "Episode 19|Iteration 39|reward:   67.0|last_reward_at:   32|Elapsed Time: 0:00:01||\n",
      "Episode 19|Iteration 39|reward:  167.0|last_reward_at:   32|Elapsed Time: 0:00:01||\n",
      "Episode 19|Iteration 39|reward:  167.0|last_reward_at:   39|Elapsed Time: 0:00:01||\n",
      "Episode 19|Iteration 42|reward:  167.0|last_reward_at:   39|Elapsed Time: 0:00:01||\n",
      "Episode 19|Iteration 43|reward:  173.0|last_reward_at:   39|Elapsed Time: 0:00:01||\n",
      "Episode 19|Iteration 43|reward:  173.0|last_reward_at:   43|Elapsed Time: 0:00:01||\n",
      "Episode 19|Iteration 46|reward:  173.0|last_reward_at:   43|Elapsed Time: 0:00:01||\n",
      "Episode 19|Iteration 48|reward:  173.0|last_reward_at:   43|Elapsed Time: 0:00:01||\n",
      "Episode 19|Iteration 50|reward:  173.0|last_reward_at:   43|Elapsed Time: 0:00:01||\n",
      "Episode 19|Iteration 50|reward:  173.0|last_reward_at:   43|Elapsed Time: 0:00:01||\n"
     ]
    },
    {
     "name": "stdout",
     "output_type": "stream",
     "text": [
      "  Episode 19 stopped at t=50 \n",
      "  Breakdown [Reward/NoReward (Success rate)]\n",
      "    explore-local: 8/5 (0.62)\n",
      "    explore-remote: 0/21 (0.00)\n",
      "    explore-connect: 0/11 (0.00)\n",
      "    exploit-local: 1/0 (1.00)\n",
      "    exploit-remote: 0/0 (NaN)\n",
      "    exploit-connect: 4/0 (1.00)\n",
      "  exploit deflected to exploration: 0\n",
      "  ## Episode: 20/20 'DQL' ϵ=0.8850, γ=0.015, lr=0.01, replaymemory=10000,\n",
      "batch=512, target_update=5\n"
     ]
    },
    {
     "name": "stderr",
     "output_type": "stream",
     "text": [
      "Episode 20|Iteration 0|reward: ------|last_reward_at: ----|Elapsed Time: 0:00:00||\n",
      "Episode 20|Iteration 1|reward:    0.0|last_reward_at: ----|Elapsed Time: 0:00:00||\n",
      "Episode 20|Iteration 4|reward:    0.0|last_reward_at: ----|Elapsed Time: 0:00:00||\n",
      "Episode 20|Iteration 5|reward:    6.0|last_reward_at: ----|Elapsed Time: 0:00:00||\n",
      "Episode 20|Iteration 5|reward:    6.0|last_reward_at:    5|Elapsed Time: 0:00:00||\n",
      "Episode 20|Iteration 8|reward:    6.0|last_reward_at:    5|Elapsed Time: 0:00:00||\n",
      "Episode 20|Iteration 9|reward:    6.0|last_reward_at:    5|Elapsed Time: 0:00:00||\n",
      "Episode 20|Iteration 10|reward:   21.0|last_reward_at:    5|Elapsed Time: 0:00:00||\n",
      "Episode 20|Iteration 10|reward:   21.0|last_reward_at:   10|Elapsed Time: 0:00:00||\n",
      "Episode 20|Iteration 11|reward:   22.0|last_reward_at:   10|Elapsed Time: 0:00:00||\n",
      "Episode 20|Iteration 11|reward:   22.0|last_reward_at:   11|Elapsed Time: 0:00:00||\n",
      "Episode 20|Iteration 12|reward:   23.0|last_reward_at:   11|Elapsed Time: 0:00:00||\n",
      "Episode 20|Iteration 12|reward:   23.0|last_reward_at:   12|Elapsed Time: 0:00:00||\n",
      "Episode 20|Iteration 13|reward:   29.0|last_reward_at:   12|Elapsed Time: 0:00:00||\n",
      "Episode 20|Iteration 13|reward:   29.0|last_reward_at:   13|Elapsed Time: 0:00:00||\n",
      "Episode 20|Iteration 14|reward:   35.0|last_reward_at:   13|Elapsed Time: 0:00:00||\n",
      "Episode 20|Iteration 14|reward:   35.0|last_reward_at:   14|Elapsed Time: 0:00:00||\n",
      "Episode 20|Iteration 16|reward:   44.0|last_reward_at:   14|Elapsed Time: 0:00:00||\n",
      "Episode 20|Iteration 16|reward:   44.0|last_reward_at:   16|Elapsed Time: 0:00:00||\n",
      "Episode 20|Iteration 17|reward:   50.0|last_reward_at:   16|Elapsed Time: 0:00:00||\n",
      "Episode 20|Iteration 17|reward:   50.0|last_reward_at:   17|Elapsed Time: 0:00:00||\n",
      "Episode 20|Iteration 20|reward:   50.0|last_reward_at:   17|Elapsed Time: 0:00:00||\n",
      "Episode 20|Iteration 22|reward:   50.0|last_reward_at:   17|Elapsed Time: 0:00:00||\n",
      "Episode 20|Iteration 22|reward:   55.0|last_reward_at:   17|Elapsed Time: 0:00:00||\n",
      "Episode 20|Iteration 22|reward:   55.0|last_reward_at:   22|Elapsed Time: 0:00:00||\n",
      "Episode 20|Iteration 25|reward:   55.0|last_reward_at:   22|Elapsed Time: 0:00:00||\n",
      "Episode 20|Iteration 27|reward:   55.0|last_reward_at:   22|Elapsed Time: 0:00:01||\n",
      "Episode 20|Iteration 29|reward:   55.0|last_reward_at:   22|Elapsed Time: 0:00:01||\n",
      "Episode 20|Iteration 30|reward:   55.0|last_reward_at:   22|Elapsed Time: 0:00:01||\n",
      "Episode 20|Iteration 32|reward:   56.0|last_reward_at:   22|Elapsed Time: 0:00:01||\n",
      "Episode 20|Iteration 32|reward:   56.0|last_reward_at:   32|Elapsed Time: 0:00:01||\n",
      "Episode 20|Iteration 35|reward:   56.0|last_reward_at:   32|Elapsed Time: 0:00:01||\n",
      "Episode 20|Iteration 35|reward:   62.0|last_reward_at:   32|Elapsed Time: 0:00:01||\n",
      "Episode 20|Iteration 35|reward:   62.0|last_reward_at:   35|Elapsed Time: 0:00:01||\n",
      "Episode 20|Iteration 38|reward:   62.0|last_reward_at:   35|Elapsed Time: 0:00:01||\n",
      "Episode 20|Iteration 38|reward:   68.0|last_reward_at:   35|Elapsed Time: 0:00:01||\n",
      "Episode 20|Iteration 38|reward:   68.0|last_reward_at:   38|Elapsed Time: 0:00:01||\n",
      "Episode 20|Iteration 41|reward:   68.0|last_reward_at:   38|Elapsed Time: 0:00:01||\n",
      "Episode 20|Iteration 42|reward:   68.0|last_reward_at:   38|Elapsed Time: 0:00:01||\n",
      "Episode 20|Iteration 42|reward:   74.0|last_reward_at:   38|Elapsed Time: 0:00:01||\n",
      "Episode 20|Iteration 42|reward:   74.0|last_reward_at:   42|Elapsed Time: 0:00:01||\n",
      "Episode 20|Iteration 45|reward:   74.0|last_reward_at:   42|Elapsed Time: 0:00:01||\n",
      "Episode 20|Iteration 47|reward:   74.0|last_reward_at:   42|Elapsed Time: 0:00:01||\n",
      "Episode 20|Iteration 48|reward:   74.0|last_reward_at:   42|Elapsed Time: 0:00:02||\n",
      "Episode 20|Iteration 48|reward:   80.0|last_reward_at:   42|Elapsed Time: 0:00:02||\n",
      "Episode 20|Iteration 48|reward:   80.0|last_reward_at:   48|Elapsed Time: 0:00:02||\n",
      "Episode 20|Iteration 49|reward:  180.0|last_reward_at:   48|Elapsed Time: 0:00:02||\n",
      "Episode 20|Iteration 49|reward:  180.0|last_reward_at:   49|Elapsed Time: 0:00:02||\n",
      "Episode 20|Iteration 50|reward:  180.0|last_reward_at:   49|Elapsed Time: 0:00:02||\n"
     ]
    },
    {
     "name": "stdout",
     "output_type": "stream",
     "text": [
      "  Episode 20 stopped at t=50 \n",
      "  Breakdown [Reward/NoReward (Success rate)]\n",
      "    explore-local: 9/3 (0.75)\n",
      "    explore-remote: 0/19 (0.00)\n",
      "    explore-connect: 1/13 (0.07)\n",
      "    exploit-local: 1/0 (1.00)\n",
      "    exploit-remote: 0/0 (NaN)\n",
      "    exploit-connect: 4/0 (1.00)\n",
      "  exploit deflected to exploration: 0\n",
      "simulation ended\n",
      "###### DQL\n",
      "Learning with: episode_count=20,iteration_count=50,ϵ=0.9,ϵ_min=0.1, ϵ_expdecay=50000,γ=0.015, lr=0.01, replaymemory=10000,\n",
      "batch=512, target_update=5\n",
      "  ## Episode: 1/20 'DQL' ϵ=0.9000, γ=0.015, lr=0.01, replaymemory=10000,\n",
      "batch=512, target_update=5\n"
     ]
    },
    {
     "name": "stderr",
     "output_type": "stream",
     "text": [
      "Episode 1|Iteration 0|reward: ------|last_reward_at: ----|Elapsed Time: 0:00:00||\n",
      "Episode 1|Iteration 1|reward:    0.0|last_reward_at: ----|Elapsed Time: 0:00:00||\n",
      "Episode 1|Iteration 4|reward:    0.0|last_reward_at: ----|Elapsed Time: 0:00:00||\n",
      "Episode 1|Iteration 6|reward:    0.0|last_reward_at: ----|Elapsed Time: 0:00:00||\n",
      "Episode 1|Iteration 8|reward:    0.0|last_reward_at: ----|Elapsed Time: 0:00:00||\n",
      "Episode 1|Iteration 9|reward:   24.0|last_reward_at: ----|Elapsed Time: 0:00:00||\n",
      "Episode 1|Iteration 9|reward:   24.0|last_reward_at:    9|Elapsed Time: 0:00:00||\n",
      "Episode 1|Iteration 11|reward:   30.0|last_reward_at:    9|Elapsed Time: 0:00:00||\n",
      "Episode 1|Iteration 11|reward:   30.0|last_reward_at:   11|Elapsed Time: 0:00:00||\n",
      "Episode 1|Iteration 14|reward:   30.0|last_reward_at:   11|Elapsed Time: 0:00:00||\n",
      "Episode 1|Iteration 16|reward:   30.0|last_reward_at:   11|Elapsed Time: 0:00:00||\n",
      "Episode 1|Iteration 18|reward:   30.0|last_reward_at:   11|Elapsed Time: 0:00:00||\n",
      "Episode 1|Iteration 18|reward:   36.0|last_reward_at:   11|Elapsed Time: 0:00:00||\n",
      "Episode 1|Iteration 18|reward:   36.0|last_reward_at:   18|Elapsed Time: 0:00:00||\n",
      "Episode 1|Iteration 20|reward:   36.0|last_reward_at:   18|Elapsed Time: 0:00:00||\n",
      "Episode 1|Iteration 20|reward:   42.0|last_reward_at:   18|Elapsed Time: 0:00:00||\n",
      "Episode 1|Iteration 20|reward:   42.0|last_reward_at:   20|Elapsed Time: 0:00:00||\n",
      "Episode 1|Iteration 23|reward:   42.0|last_reward_at:   20|Elapsed Time: 0:00:00||\n",
      "Episode 1|Iteration 25|reward:   42.0|last_reward_at:   20|Elapsed Time: 0:00:00||\n",
      "Episode 1|Iteration 27|reward:   42.0|last_reward_at:   20|Elapsed Time: 0:00:00||\n",
      "Episode 1|Iteration 29|reward:   42.0|last_reward_at:   20|Elapsed Time: 0:00:01||\n",
      "Episode 1|Iteration 31|reward:   42.0|last_reward_at:   20|Elapsed Time: 0:00:01||\n",
      "Episode 1|Iteration 33|reward:   42.0|last_reward_at:   20|Elapsed Time: 0:00:01||\n",
      "Episode 1|Iteration 35|reward:   42.0|last_reward_at:   20|Elapsed Time: 0:00:01||\n",
      "Episode 1|Iteration 37|reward:   42.0|last_reward_at:   20|Elapsed Time: 0:00:01||\n",
      "Episode 1|Iteration 39|reward:   42.0|last_reward_at:   20|Elapsed Time: 0:00:01||\n",
      "Episode 1|Iteration 41|reward:   42.0|last_reward_at:   20|Elapsed Time: 0:00:01||\n",
      "Episode 1|Iteration 43|reward:   42.0|last_reward_at:   20|Elapsed Time: 0:00:01||\n",
      "Episode 1|Iteration 45|reward:   42.0|last_reward_at:   20|Elapsed Time: 0:00:01||\n",
      "Episode 1|Iteration 47|reward:   42.0|last_reward_at:   20|Elapsed Time: 0:00:01||\n",
      "Episode 1|Iteration 49|reward:   42.0|last_reward_at:   20|Elapsed Time: 0:00:01||\n",
      "Episode 1|Iteration 50|reward:   42.0|last_reward_at:   20|Elapsed Time: 0:00:01||\n"
     ]
    },
    {
     "name": "stdout",
     "output_type": "stream",
     "text": [
      "  Episode 1 stopped at t=50 \n",
      "  Breakdown [Reward/NoReward (Success rate)]\n",
      "    explore-local: 4/18 (0.18)\n",
      "    explore-remote: 0/12 (0.00)\n",
      "    explore-connect: 0/16 (0.00)\n",
      "    exploit-local: 0/0 (NaN)\n",
      "    exploit-remote: 0/0 (NaN)\n",
      "    exploit-connect: 0/0 (NaN)\n",
      "  exploit deflected to exploration: 0\n",
      "  ## Episode: 2/20 'DQL' ϵ=0.8992, γ=0.015, lr=0.01, replaymemory=10000,\n",
      "batch=512, target_update=5\n"
     ]
    },
    {
     "name": "stderr",
     "output_type": "stream",
     "text": [
      "Episode 2|Iteration 0|reward: ------|last_reward_at: ----|Elapsed Time: 0:00:00||\n",
      "Episode 2|Iteration 1|reward:    0.0|last_reward_at: ----|Elapsed Time: 0:00:00||\n",
      "Episode 2|Iteration 2|reward:   24.0|last_reward_at: ----|Elapsed Time: 0:00:00||\n",
      "Episode 2|Iteration 2|reward:   24.0|last_reward_at:    2|Elapsed Time: 0:00:00||\n",
      "Episode 2|Iteration 5|reward:   24.0|last_reward_at:    2|Elapsed Time: 0:00:00||\n",
      "Episode 2|Iteration 5|reward:   29.0|last_reward_at:    2|Elapsed Time: 0:00:00||\n",
      "Episode 2|Iteration 5|reward:   29.0|last_reward_at:    5|Elapsed Time: 0:00:00||\n",
      "Episode 2|Iteration 7|reward:   30.0|last_reward_at:    5|Elapsed Time: 0:00:00||\n",
      "Episode 2|Iteration 7|reward:   30.0|last_reward_at:    7|Elapsed Time: 0:00:00||\n",
      "Episode 2|Iteration 10|reward:   30.0|last_reward_at:    7|Elapsed Time: 0:00:00||\n",
      "Episode 2|Iteration 12|reward:   30.0|last_reward_at:    7|Elapsed Time: 0:00:00||\n",
      "Episode 2|Iteration 12|reward:   36.0|last_reward_at:    7|Elapsed Time: 0:00:00||\n",
      "Episode 2|Iteration 12|reward:   36.0|last_reward_at:   12|Elapsed Time: 0:00:00||\n",
      "Episode 2|Iteration 14|reward:   42.0|last_reward_at:   12|Elapsed Time: 0:00:00||\n",
      "Episode 2|Iteration 14|reward:   42.0|last_reward_at:   14|Elapsed Time: 0:00:00||\n",
      "Episode 2|Iteration 17|reward:   42.0|last_reward_at:   14|Elapsed Time: 0:00:00||\n",
      "Episode 2|Iteration 17|reward:   48.0|last_reward_at:   14|Elapsed Time: 0:00:00||\n",
      "Episode 2|Iteration 17|reward:   48.0|last_reward_at:   17|Elapsed Time: 0:00:00||\n",
      "Episode 2|Iteration 20|reward:   48.0|last_reward_at:   17|Elapsed Time: 0:00:00||\n",
      "Episode 2|Iteration 20|reward:   54.0|last_reward_at:   17|Elapsed Time: 0:00:00||\n",
      "Episode 2|Iteration 20|reward:   54.0|last_reward_at:   20|Elapsed Time: 0:00:00||\n",
      "Episode 2|Iteration 21|reward:   55.0|last_reward_at:   20|Elapsed Time: 0:00:00||\n",
      "Episode 2|Iteration 21|reward:   55.0|last_reward_at:   21|Elapsed Time: 0:00:00||\n",
      "Episode 2|Iteration 24|reward:   55.0|last_reward_at:   21|Elapsed Time: 0:00:00||\n",
      "Episode 2|Iteration 25|reward:   56.0|last_reward_at:   21|Elapsed Time: 0:00:00||\n",
      "Episode 2|Iteration 25|reward:   56.0|last_reward_at:   25|Elapsed Time: 0:00:00||\n",
      "Episode 2|Iteration 27|reward:   62.0|last_reward_at:   25|Elapsed Time: 0:00:00||\n",
      "Episode 2|Iteration 27|reward:   62.0|last_reward_at:   27|Elapsed Time: 0:00:00||\n",
      "Episode 2|Iteration 30|reward:   62.0|last_reward_at:   27|Elapsed Time: 0:00:01||\n",
      "Episode 2|Iteration 32|reward:   62.0|last_reward_at:   27|Elapsed Time: 0:00:01||\n",
      "Episode 2|Iteration 34|reward:   62.0|last_reward_at:   27|Elapsed Time: 0:00:01||\n",
      "Episode 2|Iteration 36|reward:   62.0|last_reward_at:   27|Elapsed Time: 0:00:01||\n",
      "Episode 2|Iteration 36|reward:   68.0|last_reward_at:   27|Elapsed Time: 0:00:01||\n",
      "Episode 2|Iteration 36|reward:   68.0|last_reward_at:   36|Elapsed Time: 0:00:01||\n",
      "Episode 2|Iteration 38|reward:   69.0|last_reward_at:   36|Elapsed Time: 0:00:01||\n",
      "Episode 2|Iteration 38|reward:   69.0|last_reward_at:   38|Elapsed Time: 0:00:01||\n",
      "Episode 2|Iteration 41|reward:   69.0|last_reward_at:   38|Elapsed Time: 0:00:01||\n",
      "Episode 2|Iteration 43|reward:   69.0|last_reward_at:   38|Elapsed Time: 0:00:01||\n",
      "Episode 2|Iteration 43|reward:   75.0|last_reward_at:   38|Elapsed Time: 0:00:01||\n",
      "Episode 2|Iteration 43|reward:   75.0|last_reward_at:   43|Elapsed Time: 0:00:01||\n",
      "Episode 2|Iteration 46|reward:   75.0|last_reward_at:   43|Elapsed Time: 0:00:01||\n",
      "Episode 2|Iteration 46|reward:   84.0|last_reward_at:   43|Elapsed Time: 0:00:01||\n",
      "Episode 2|Iteration 46|reward:   84.0|last_reward_at:   46|Elapsed Time: 0:00:01||\n",
      "Episode 2|Iteration 49|reward:   84.0|last_reward_at:   46|Elapsed Time: 0:00:01||\n",
      "Episode 2|Iteration 50|reward:   84.0|last_reward_at:   46|Elapsed Time: 0:00:01||\n"
     ]
    },
    {
     "name": "stdout",
     "output_type": "stream",
     "text": [
      "  Episode 2 stopped at t=50 \n",
      "  Breakdown [Reward/NoReward (Success rate)]\n",
      "    explore-local: 9/2 (0.82)\n",
      "    explore-remote: 0/18 (0.00)\n",
      "    explore-connect: 0/16 (0.00)\n",
      "    exploit-local: 0/0 (NaN)\n",
      "    exploit-remote: 0/0 (NaN)\n",
      "    exploit-connect: 5/0 (1.00)\n",
      "  exploit deflected to exploration: 0\n",
      "  ## Episode: 3/20 'DQL' ϵ=0.8984, γ=0.015, lr=0.01, replaymemory=10000,\n",
      "batch=512, target_update=5\n"
     ]
    },
    {
     "name": "stderr",
     "output_type": "stream",
     "text": [
      "Episode 3|Iteration 0|reward: ------|last_reward_at: ----|Elapsed Time: 0:00:00||\n",
      "Episode 3|Iteration 1|reward:    6.0|last_reward_at: ----|Elapsed Time: 0:00:00||\n",
      "Episode 3|Iteration 1|reward:    6.0|last_reward_at:    1|Elapsed Time: 0:00:00||\n",
      "Episode 3|Iteration 4|reward:    6.0|last_reward_at:    1|Elapsed Time: 0:00:00||\n",
      "Episode 3|Iteration 5|reward:   30.0|last_reward_at:    1|Elapsed Time: 0:00:00||\n",
      "Episode 3|Iteration 5|reward:   30.0|last_reward_at:    5|Elapsed Time: 0:00:00||\n",
      "Episode 3|Iteration 7|reward:   30.0|last_reward_at:    5|Elapsed Time: 0:00:00||\n",
      "Episode 3|Iteration 8|reward:   30.0|last_reward_at:    5|Elapsed Time: 0:00:00||\n",
      "Episode 3|Iteration 10|reward:   30.0|last_reward_at:    5|Elapsed Time: 0:00:00||\n",
      "Episode 3|Iteration 10|reward:   35.0|last_reward_at:    5|Elapsed Time: 0:00:00||\n",
      "Episode 3|Iteration 10|reward:   35.0|last_reward_at:   10|Elapsed Time: 0:00:00||\n",
      "Episode 3|Iteration 11|reward:   36.0|last_reward_at:   10|Elapsed Time: 0:00:00||\n",
      "Episode 3|Iteration 11|reward:   36.0|last_reward_at:   11|Elapsed Time: 0:00:00||\n",
      "Episode 3|Iteration 14|reward:   36.0|last_reward_at:   11|Elapsed Time: 0:00:00||\n",
      "Episode 3|Iteration 16|reward:   36.0|last_reward_at:   11|Elapsed Time: 0:00:00||\n",
      "Episode 3|Iteration 18|reward:   36.0|last_reward_at:   11|Elapsed Time: 0:00:00||\n",
      "Episode 3|Iteration 20|reward:   36.0|last_reward_at:   11|Elapsed Time: 0:00:00||\n",
      "Episode 3|Iteration 21|reward:   42.0|last_reward_at:   11|Elapsed Time: 0:00:00||\n",
      "Episode 3|Iteration 21|reward:   42.0|last_reward_at:   21|Elapsed Time: 0:00:00||\n",
      "Episode 3|Iteration 24|reward:   42.0|last_reward_at:   21|Elapsed Time: 0:00:00||\n",
      "Episode 3|Iteration 26|reward:   42.0|last_reward_at:   21|Elapsed Time: 0:00:01||\n",
      "Episode 3|Iteration 28|reward:   42.0|last_reward_at:   21|Elapsed Time: 0:00:01||\n",
      "Episode 3|Iteration 30|reward:   42.0|last_reward_at:   21|Elapsed Time: 0:00:01||\n",
      "Episode 3|Iteration 32|reward:   42.0|last_reward_at:   21|Elapsed Time: 0:00:01||\n",
      "Episode 3|Iteration 33|reward:   43.0|last_reward_at:   21|Elapsed Time: 0:00:01||\n",
      "Episode 3|Iteration 33|reward:   43.0|last_reward_at:   33|Elapsed Time: 0:00:01||\n",
      "Episode 3|Iteration 35|reward:   49.0|last_reward_at:   33|Elapsed Time: 0:00:01||\n",
      "Episode 3|Iteration 35|reward:   49.0|last_reward_at:   35|Elapsed Time: 0:00:01||\n",
      "Episode 3|Iteration 38|reward:   49.0|last_reward_at:   35|Elapsed Time: 0:00:01||\n",
      "Episode 3|Iteration 38|reward:   55.0|last_reward_at:   35|Elapsed Time: 0:00:01||\n",
      "Episode 3|Iteration 38|reward:   55.0|last_reward_at:   38|Elapsed Time: 0:00:01||\n",
      "Episode 3|Iteration 39|reward:   61.0|last_reward_at:   38|Elapsed Time: 0:00:01||\n",
      "Episode 3|Iteration 39|reward:   61.0|last_reward_at:   39|Elapsed Time: 0:00:01||\n",
      "Episode 3|Iteration 40|reward:   67.0|last_reward_at:   39|Elapsed Time: 0:00:01||\n",
      "Episode 3|Iteration 40|reward:   67.0|last_reward_at:   40|Elapsed Time: 0:00:01||\n",
      "Episode 3|Iteration 41|reward:   73.0|last_reward_at:   40|Elapsed Time: 0:00:01||\n",
      "Episode 3|Iteration 41|reward:   73.0|last_reward_at:   41|Elapsed Time: 0:00:01||\n",
      "Episode 3|Iteration 44|reward:   73.0|last_reward_at:   41|Elapsed Time: 0:00:01||\n",
      "Episode 3|Iteration 45|reward:   74.0|last_reward_at:   41|Elapsed Time: 0:00:01||\n",
      "Episode 3|Iteration 45|reward:   74.0|last_reward_at:   45|Elapsed Time: 0:00:01||\n",
      "Episode 3|Iteration 46|reward:   80.0|last_reward_at:   45|Elapsed Time: 0:00:01||\n",
      "Episode 3|Iteration 46|reward:   80.0|last_reward_at:   46|Elapsed Time: 0:00:01||\n",
      "Episode 3|Iteration 47|reward:   86.0|last_reward_at:   46|Elapsed Time: 0:00:01||\n",
      "Episode 3|Iteration 47|reward:   86.0|last_reward_at:   47|Elapsed Time: 0:00:01||\n",
      "Episode 3|Iteration 50|reward:   86.0|last_reward_at:   47|Elapsed Time: 0:00:01||\n",
      "Episode 3|Iteration 50|reward:   87.0|last_reward_at:   47|Elapsed Time: 0:00:01||\n",
      "Episode 3|Iteration 50|reward:   87.0|last_reward_at:   50|Elapsed Time: 0:00:01||\n",
      "Episode 3|Iteration 50|reward:   87.0|last_reward_at:   50|Elapsed Time: 0:00:01||\n"
     ]
    },
    {
     "name": "stdout",
     "output_type": "stream",
     "text": [
      "  Episode 3 stopped at t=50 \n",
      "  Breakdown [Reward/NoReward (Success rate)]\n",
      "    explore-local: 10/3 (0.77)\n",
      "    explore-remote: 0/19 (0.00)\n",
      "    explore-connect: 2/13 (0.13)\n",
      "    exploit-local: 0/0 (NaN)\n",
      "    exploit-remote: 0/0 (NaN)\n",
      "    exploit-connect: 3/0 (1.00)\n",
      "  exploit deflected to exploration: 0\n",
      "  ## Episode: 4/20 'DQL' ϵ=0.8976, γ=0.015, lr=0.01, replaymemory=10000,\n",
      "batch=512, target_update=5\n"
     ]
    },
    {
     "name": "stderr",
     "output_type": "stream",
     "text": [
      "Episode 4|Iteration 0|reward: ------|last_reward_at: ----|Elapsed Time: 0:00:00||\n",
      "Episode 4|Iteration 1|reward:   24.0|last_reward_at: ----|Elapsed Time: 0:00:00||\n",
      "Episode 4|Iteration 1|reward:   24.0|last_reward_at:    1|Elapsed Time: 0:00:00||\n",
      "Episode 4|Iteration 4|reward:   24.0|last_reward_at:    1|Elapsed Time: 0:00:00||\n",
      "Episode 4|Iteration 6|reward:   24.0|last_reward_at:    1|Elapsed Time: 0:00:00||\n",
      "Episode 4|Iteration 8|reward:   24.0|last_reward_at:    1|Elapsed Time: 0:00:00||\n",
      "Episode 4|Iteration 8|reward:   29.0|last_reward_at:    1|Elapsed Time: 0:00:00||\n",
      "Episode 4|Iteration 8|reward:   29.0|last_reward_at:    8|Elapsed Time: 0:00:00||\n",
      "Episode 4|Iteration 11|reward:   29.0|last_reward_at:    8|Elapsed Time: 0:00:00||\n",
      "Episode 4|Iteration 13|reward:   29.0|last_reward_at:    8|Elapsed Time: 0:00:00||\n",
      "Episode 4|Iteration 15|reward:   29.0|last_reward_at:    8|Elapsed Time: 0:00:00||\n",
      "Episode 4|Iteration 17|reward:   29.0|last_reward_at:    8|Elapsed Time: 0:00:00||\n",
      "Episode 4|Iteration 19|reward:   29.0|last_reward_at:    8|Elapsed Time: 0:00:00||\n",
      "Episode 4|Iteration 20|reward:   35.0|last_reward_at:    8|Elapsed Time: 0:00:00||\n",
      "Episode 4|Iteration 20|reward:   35.0|last_reward_at:   20|Elapsed Time: 0:00:00||\n",
      "Episode 4|Iteration 22|reward:   41.0|last_reward_at:   20|Elapsed Time: 0:00:00||\n",
      "Episode 4|Iteration 22|reward:   41.0|last_reward_at:   22|Elapsed Time: 0:00:00||\n",
      "Episode 4|Iteration 25|reward:   41.0|last_reward_at:   22|Elapsed Time: 0:00:00||\n",
      "Episode 4|Iteration 25|reward:   47.0|last_reward_at:   22|Elapsed Time: 0:00:00||\n",
      "Episode 4|Iteration 25|reward:   47.0|last_reward_at:   25|Elapsed Time: 0:00:00||\n",
      "Episode 4|Iteration 28|reward:   47.0|last_reward_at:   25|Elapsed Time: 0:00:00||\n",
      "Episode 4|Iteration 30|reward:   47.0|last_reward_at:   25|Elapsed Time: 0:00:00||\n",
      "Episode 4|Iteration 30|reward:   48.0|last_reward_at:   25|Elapsed Time: 0:00:01||\n",
      "Episode 4|Iteration 30|reward:   48.0|last_reward_at:   30|Elapsed Time: 0:00:01||\n",
      "Episode 4|Iteration 33|reward:   48.0|last_reward_at:   30|Elapsed Time: 0:00:01||\n",
      "Episode 4|Iteration 35|reward:   48.0|last_reward_at:   30|Elapsed Time: 0:00:01||\n",
      "Episode 4|Iteration 35|reward:   54.0|last_reward_at:   30|Elapsed Time: 0:00:01||\n",
      "Episode 4|Iteration 35|reward:   54.0|last_reward_at:   35|Elapsed Time: 0:00:01||\n",
      "Episode 4|Iteration 38|reward:   54.0|last_reward_at:   35|Elapsed Time: 0:00:01||\n",
      "Episode 4|Iteration 39|reward:   55.0|last_reward_at:   35|Elapsed Time: 0:00:01||\n",
      "Episode 4|Iteration 39|reward:   55.0|last_reward_at:   39|Elapsed Time: 0:00:01||\n",
      "Episode 4|Iteration 42|reward:   55.0|last_reward_at:   39|Elapsed Time: 0:00:01||\n",
      "Episode 4|Iteration 44|reward:   55.0|last_reward_at:   39|Elapsed Time: 0:00:01||\n",
      "Episode 4|Iteration 46|reward:   55.0|last_reward_at:   39|Elapsed Time: 0:00:01||\n",
      "Episode 4|Iteration 48|reward:   55.0|last_reward_at:   39|Elapsed Time: 0:00:01||\n",
      "Episode 4|Iteration 50|reward:   55.0|last_reward_at:   39|Elapsed Time: 0:00:01||\n",
      "Episode 4|Iteration 50|reward:   55.0|last_reward_at:   39|Elapsed Time: 0:00:01||\n"
     ]
    },
    {
     "name": "stdout",
     "output_type": "stream",
     "text": [
      "  Episode 4 stopped at t=50 \n",
      "  Breakdown [Reward/NoReward (Success rate)]\n",
      "    explore-local: 5/7 (0.42)\n",
      "    explore-remote: 0/16 (0.00)\n",
      "    explore-connect: 2/19 (0.10)\n",
      "    exploit-local: 0/0 (NaN)\n",
      "    exploit-remote: 0/0 (NaN)\n",
      "    exploit-connect: 1/0 (1.00)\n",
      "  exploit deflected to exploration: 0\n",
      "  ## Episode: 5/20 'DQL' ϵ=0.8968, γ=0.015, lr=0.01, replaymemory=10000,\n",
      "batch=512, target_update=5\n"
     ]
    },
    {
     "name": "stderr",
     "output_type": "stream",
     "text": [
      "Episode 5|Iteration 0|reward: ------|last_reward_at: ----|Elapsed Time: 0:00:00||\n",
      "Episode 5|Iteration 1|reward:    6.0|last_reward_at: ----|Elapsed Time: 0:00:00||\n",
      "Episode 5|Iteration 1|reward:    6.0|last_reward_at:    1|Elapsed Time: 0:00:00||\n",
      "Episode 5|Iteration 4|reward:    6.0|last_reward_at:    1|Elapsed Time: 0:00:00||\n",
      "Episode 5|Iteration 4|reward:   30.0|last_reward_at:    1|Elapsed Time: 0:00:00||\n",
      "Episode 5|Iteration 4|reward:   30.0|last_reward_at:    4|Elapsed Time: 0:00:00||\n",
      "Episode 5|Iteration 5|reward:   35.0|last_reward_at:    4|Elapsed Time: 0:00:00||\n",
      "Episode 5|Iteration 5|reward:   35.0|last_reward_at:    5|Elapsed Time: 0:00:00||\n",
      "Episode 5|Iteration 8|reward:   35.0|last_reward_at:    5|Elapsed Time: 0:00:00||\n",
      "Episode 5|Iteration 10|reward:   35.0|last_reward_at:    5|Elapsed Time: 0:00:00||\n",
      "Episode 5|Iteration 11|reward:   41.0|last_reward_at:    5|Elapsed Time: 0:00:00||\n",
      "Episode 5|Iteration 11|reward:   41.0|last_reward_at:   11|Elapsed Time: 0:00:00||\n",
      "Episode 5|Iteration 12|reward:   47.0|last_reward_at:   11|Elapsed Time: 0:00:00||\n",
      "Episode 5|Iteration 12|reward:   47.0|last_reward_at:   12|Elapsed Time: 0:00:00||\n",
      "Episode 5|Iteration 15|reward:   47.0|last_reward_at:   12|Elapsed Time: 0:00:00||\n",
      "Episode 5|Iteration 17|reward:   47.0|last_reward_at:   12|Elapsed Time: 0:00:00||\n",
      "Episode 5|Iteration 19|reward:   47.0|last_reward_at:   12|Elapsed Time: 0:00:00||\n",
      "Episode 5|Iteration 20|reward:   48.0|last_reward_at:   12|Elapsed Time: 0:00:00||\n",
      "Episode 5|Iteration 20|reward:   48.0|last_reward_at:   20|Elapsed Time: 0:00:00||\n",
      "Episode 5|Iteration 23|reward:   48.0|last_reward_at:   20|Elapsed Time: 0:00:00||\n",
      "Episode 5|Iteration 25|reward:   48.0|last_reward_at:   20|Elapsed Time: 0:00:00||\n",
      "Episode 5|Iteration 27|reward:   48.0|last_reward_at:   20|Elapsed Time: 0:00:00||\n",
      "Episode 5|Iteration 28|reward:   49.0|last_reward_at:   20|Elapsed Time: 0:00:01||\n",
      "Episode 5|Iteration 28|reward:   49.0|last_reward_at:   28|Elapsed Time: 0:00:01||\n",
      "Episode 5|Iteration 31|reward:   49.0|last_reward_at:   28|Elapsed Time: 0:00:01||\n",
      "Episode 5|Iteration 31|reward:   58.0|last_reward_at:   28|Elapsed Time: 0:00:01||\n",
      "Episode 5|Iteration 31|reward:   58.0|last_reward_at:   31|Elapsed Time: 0:00:01||\n",
      "Episode 5|Iteration 34|reward:   58.0|last_reward_at:   31|Elapsed Time: 0:00:01||\n",
      "Episode 5|Iteration 36|reward:   58.0|last_reward_at:   31|Elapsed Time: 0:00:01||\n",
      "Episode 5|Iteration 36|reward:  158.0|last_reward_at:   31|Elapsed Time: 0:00:01||\n",
      "Episode 5|Iteration 36|reward:  158.0|last_reward_at:   36|Elapsed Time: 0:00:01||\n",
      "Episode 5|Iteration 38|reward:  164.0|last_reward_at:   36|Elapsed Time: 0:00:01||\n",
      "Episode 5|Iteration 38|reward:  164.0|last_reward_at:   38|Elapsed Time: 0:00:01||\n",
      "Episode 5|Iteration 41|reward:  164.0|last_reward_at:   38|Elapsed Time: 0:00:01||\n",
      "Episode 5|Iteration 42|reward:  170.0|last_reward_at:   38|Elapsed Time: 0:00:01||\n",
      "Episode 5|Iteration 42|reward:  170.0|last_reward_at:   42|Elapsed Time: 0:00:01||\n",
      "Episode 5|Iteration 43|reward:  171.0|last_reward_at:   42|Elapsed Time: 0:00:01||\n",
      "Episode 5|Iteration 43|reward:  171.0|last_reward_at:   43|Elapsed Time: 0:00:01||\n",
      "Episode 5|Iteration 44|reward:  177.0|last_reward_at:   43|Elapsed Time: 0:00:01||\n",
      "Episode 5|Iteration 44|reward:  177.0|last_reward_at:   44|Elapsed Time: 0:00:01||\n",
      "Episode 5|Iteration 45|reward:  183.0|last_reward_at:   44|Elapsed Time: 0:00:01||\n",
      "Episode 5|Iteration 45|reward:  183.0|last_reward_at:   45|Elapsed Time: 0:00:01||\n",
      "Episode 5|Iteration 46|reward:  189.0|last_reward_at:   45|Elapsed Time: 0:00:01||\n",
      "Episode 5|Iteration 46|reward:  189.0|last_reward_at:   46|Elapsed Time: 0:00:01||\n",
      "Episode 5|Iteration 48|reward:  195.0|last_reward_at:   46|Elapsed Time: 0:00:01||\n",
      "Episode 5|Iteration 48|reward:  195.0|last_reward_at:   48|Elapsed Time: 0:00:01||\n",
      "Episode 5|Iteration 50|reward:  195.0|last_reward_at:   48|Elapsed Time: 0:00:01||\n"
     ]
    },
    {
     "name": "stdout",
     "output_type": "stream",
     "text": [
      "  Episode 5 stopped at t=50 \n",
      "  Breakdown [Reward/NoReward (Success rate)]\n",
      "    explore-local: 10/6 (0.62)\n",
      "    explore-remote: 0/14 (0.00)\n",
      "    explore-connect: 1/14 (0.07)\n",
      "    exploit-local: 1/0 (1.00)\n",
      "    exploit-remote: 0/0 (NaN)\n",
      "    exploit-connect: 4/0 (1.00)\n",
      "  exploit deflected to exploration: 0\n",
      "  ## Episode: 6/20 'DQL' ϵ=0.8960, γ=0.015, lr=0.01, replaymemory=10000,\n",
      "batch=512, target_update=5\n"
     ]
    },
    {
     "name": "stderr",
     "output_type": "stream",
     "text": [
      "Episode 6|Iteration 0|reward: ------|last_reward_at: ----|Elapsed Time: 0:00:00||\n",
      "Episode 6|Iteration 1|reward:    0.0|last_reward_at: ----|Elapsed Time: 0:00:00||\n",
      "Episode 6|Iteration 4|reward:    0.0|last_reward_at: ----|Elapsed Time: 0:00:00||\n",
      "Episode 6|Iteration 4|reward:    6.0|last_reward_at: ----|Elapsed Time: 0:00:00||\n",
      "Episode 6|Iteration 4|reward:    6.0|last_reward_at:    4|Elapsed Time: 0:00:00||\n",
      "Episode 6|Iteration 5|reward:   12.0|last_reward_at:    4|Elapsed Time: 0:00:00||\n",
      "Episode 6|Iteration 5|reward:   12.0|last_reward_at:    5|Elapsed Time: 0:00:00||\n",
      "Episode 6|Iteration 8|reward:   12.0|last_reward_at:    5|Elapsed Time: 0:00:00||\n",
      "Episode 6|Iteration 8|reward:   36.0|last_reward_at:    5|Elapsed Time: 0:00:00||\n",
      "Episode 6|Iteration 8|reward:   36.0|last_reward_at:    8|Elapsed Time: 0:00:00||\n",
      "Episode 6|Iteration 11|reward:   36.0|last_reward_at:    8|Elapsed Time: 0:00:00||\n",
      "Episode 6|Iteration 11|reward:   41.0|last_reward_at:    8|Elapsed Time: 0:00:00||\n",
      "Episode 6|Iteration 11|reward:   41.0|last_reward_at:   11|Elapsed Time: 0:00:00||\n",
      "Episode 6|Iteration 13|reward:   47.0|last_reward_at:   11|Elapsed Time: 0:00:00||\n",
      "Episode 6|Iteration 13|reward:   47.0|last_reward_at:   13|Elapsed Time: 0:00:00||\n",
      "Episode 6|Iteration 14|reward:   48.0|last_reward_at:   13|Elapsed Time: 0:00:00||\n",
      "Episode 6|Iteration 14|reward:   48.0|last_reward_at:   14|Elapsed Time: 0:00:00||\n",
      "Episode 6|Iteration 17|reward:   48.0|last_reward_at:   14|Elapsed Time: 0:00:00||\n",
      "Episode 6|Iteration 19|reward:   48.0|last_reward_at:   14|Elapsed Time: 0:00:00||\n",
      "Episode 6|Iteration 20|reward:   54.0|last_reward_at:   14|Elapsed Time: 0:00:00||\n",
      "Episode 6|Iteration 20|reward:   54.0|last_reward_at:   20|Elapsed Time: 0:00:00||\n",
      "Episode 6|Iteration 21|reward:   55.0|last_reward_at:   20|Elapsed Time: 0:00:00||\n",
      "Episode 6|Iteration 21|reward:   55.0|last_reward_at:   21|Elapsed Time: 0:00:00||\n",
      "Episode 6|Iteration 22|reward:   56.0|last_reward_at:   21|Elapsed Time: 0:00:00||\n",
      "Episode 6|Iteration 22|reward:   56.0|last_reward_at:   22|Elapsed Time: 0:00:00||\n",
      "Episode 6|Iteration 24|reward:   62.0|last_reward_at:   22|Elapsed Time: 0:00:00||\n",
      "Episode 6|Iteration 24|reward:   62.0|last_reward_at:   24|Elapsed Time: 0:00:00||\n",
      "Episode 6|Iteration 27|reward:   62.0|last_reward_at:   24|Elapsed Time: 0:00:00||\n",
      "Episode 6|Iteration 29|reward:   62.0|last_reward_at:   24|Elapsed Time: 0:00:01||\n",
      "Episode 6|Iteration 29|reward:   68.0|last_reward_at:   24|Elapsed Time: 0:00:01||\n",
      "Episode 6|Iteration 29|reward:   68.0|last_reward_at:   29|Elapsed Time: 0:00:01||\n",
      "Episode 6|Iteration 32|reward:   68.0|last_reward_at:   29|Elapsed Time: 0:00:01||\n",
      "Episode 6|Iteration 34|reward:   68.0|last_reward_at:   29|Elapsed Time: 0:00:01||\n",
      "Episode 6|Iteration 35|reward:   69.0|last_reward_at:   29|Elapsed Time: 0:00:01||\n",
      "Episode 6|Iteration 35|reward:   69.0|last_reward_at:   35|Elapsed Time: 0:00:01||\n",
      "Episode 6|Iteration 37|reward:   69.0|last_reward_at:   35|Elapsed Time: 0:00:01||\n",
      "Episode 6|Iteration 38|reward:   75.0|last_reward_at:   35|Elapsed Time: 0:00:01||\n",
      "Episode 6|Iteration 38|reward:   75.0|last_reward_at:   38|Elapsed Time: 0:00:01||\n",
      "Episode 6|Iteration 39|reward:   81.0|last_reward_at:   38|Elapsed Time: 0:00:01||\n",
      "Episode 6|Iteration 39|reward:   81.0|last_reward_at:   39|Elapsed Time: 0:00:01||\n",
      "Episode 6|Iteration 41|reward:   81.0|last_reward_at:   39|Elapsed Time: 0:00:01||\n",
      "Episode 6|Iteration 43|reward:   81.0|last_reward_at:   39|Elapsed Time: 0:00:01||\n",
      "Episode 6|Iteration 45|reward:   81.0|last_reward_at:   39|Elapsed Time: 0:00:01||\n",
      "Episode 6|Iteration 46|reward:   81.0|last_reward_at:   39|Elapsed Time: 0:00:01||\n",
      "Episode 6|Iteration 47|reward:   81.0|last_reward_at:   39|Elapsed Time: 0:00:02||\n",
      "Episode 6|Iteration 48|reward:   87.0|last_reward_at:   39|Elapsed Time: 0:00:02||\n",
      "Episode 6|Iteration 48|reward:   87.0|last_reward_at:   48|Elapsed Time: 0:00:02||\n",
      "Episode 6|Iteration 50|reward:   93.0|last_reward_at:   48|Elapsed Time: 0:00:02||\n",
      "Episode 6|Iteration 50|reward:   93.0|last_reward_at:   50|Elapsed Time: 0:00:02||\n",
      "Episode 6|Iteration 50|reward:   93.0|last_reward_at:   50|Elapsed Time: 0:00:02||\n"
     ]
    },
    {
     "name": "stdout",
     "output_type": "stream",
     "text": [
      "  Episode 6 stopped at t=50 \n",
      "  Breakdown [Reward/NoReward (Success rate)]\n",
      "    explore-local: 8/4 (0.67)\n",
      "    explore-remote: 0/18 (0.00)\n",
      "    explore-connect: 2/12 (0.14)\n",
      "    exploit-local: 3/0 (1.00)\n",
      "    exploit-remote: 0/0 (NaN)\n",
      "    exploit-connect: 3/0 (1.00)\n",
      "  exploit deflected to exploration: 0\n",
      "  ## Episode: 7/20 'DQL' ϵ=0.8952, γ=0.015, lr=0.01, replaymemory=10000,\n",
      "batch=512, target_update=5\n"
     ]
    },
    {
     "name": "stderr",
     "output_type": "stream",
     "text": [
      "Episode 7|Iteration 0|reward: ------|last_reward_at: ----|Elapsed Time: 0:00:00||\n",
      "Episode 7|Iteration 1|reward:    0.0|last_reward_at: ----|Elapsed Time: 0:00:00||\n",
      "Episode 7|Iteration 3|reward:   24.0|last_reward_at: ----|Elapsed Time: 0:00:00||\n",
      "Episode 7|Iteration 3|reward:   24.0|last_reward_at:    3|Elapsed Time: 0:00:00||\n",
      "Episode 7|Iteration 5|reward:   29.0|last_reward_at:    3|Elapsed Time: 0:00:00||\n",
      "Episode 7|Iteration 5|reward:   29.0|last_reward_at:    5|Elapsed Time: 0:00:00||\n",
      "Episode 7|Iteration 6|reward:   35.0|last_reward_at:    5|Elapsed Time: 0:00:00||\n",
      "Episode 7|Iteration 6|reward:   35.0|last_reward_at:    6|Elapsed Time: 0:00:00||\n",
      "Episode 7|Iteration 8|reward:   36.0|last_reward_at:    6|Elapsed Time: 0:00:00||\n",
      "Episode 7|Iteration 8|reward:   36.0|last_reward_at:    8|Elapsed Time: 0:00:00||\n",
      "Episode 7|Iteration 10|reward:   42.0|last_reward_at:    8|Elapsed Time: 0:00:00||\n",
      "Episode 7|Iteration 10|reward:   42.0|last_reward_at:   10|Elapsed Time: 0:00:00||\n",
      "Episode 7|Iteration 11|reward:   48.0|last_reward_at:   10|Elapsed Time: 0:00:00||\n",
      "Episode 7|Iteration 11|reward:   48.0|last_reward_at:   11|Elapsed Time: 0:00:00||\n",
      "Episode 7|Iteration 14|reward:   48.0|last_reward_at:   11|Elapsed Time: 0:00:00||\n",
      "Episode 7|Iteration 16|reward:   48.0|last_reward_at:   11|Elapsed Time: 0:00:00||\n",
      "Episode 7|Iteration 17|reward:   54.0|last_reward_at:   11|Elapsed Time: 0:00:00||\n",
      "Episode 7|Iteration 17|reward:   54.0|last_reward_at:   17|Elapsed Time: 0:00:00||\n",
      "Episode 7|Iteration 20|reward:   54.0|last_reward_at:   17|Elapsed Time: 0:00:00||\n",
      "Episode 7|Iteration 22|reward:   54.0|last_reward_at:   17|Elapsed Time: 0:00:00||\n",
      "Episode 7|Iteration 24|reward:   54.0|last_reward_at:   17|Elapsed Time: 0:00:00||\n",
      "Episode 7|Iteration 26|reward:   54.0|last_reward_at:   17|Elapsed Time: 0:00:00||\n",
      "Episode 7|Iteration 28|reward:   54.0|last_reward_at:   17|Elapsed Time: 0:00:00||\n",
      "Episode 7|Iteration 29|reward:   55.0|last_reward_at:   17|Elapsed Time: 0:00:01||\n",
      "Episode 7|Iteration 29|reward:   55.0|last_reward_at:   29|Elapsed Time: 0:00:01||\n",
      "Episode 7|Iteration 31|reward:   56.0|last_reward_at:   29|Elapsed Time: 0:00:01||\n",
      "Episode 7|Iteration 31|reward:   56.0|last_reward_at:   31|Elapsed Time: 0:00:01||\n",
      "Episode 7|Iteration 33|reward:   57.0|last_reward_at:   31|Elapsed Time: 0:00:01||\n",
      "Episode 7|Iteration 33|reward:   57.0|last_reward_at:   33|Elapsed Time: 0:00:01||\n",
      "Episode 7|Iteration 36|reward:   57.0|last_reward_at:   33|Elapsed Time: 0:00:01||\n",
      "Episode 7|Iteration 36|reward:   63.0|last_reward_at:   33|Elapsed Time: 0:00:01||\n",
      "Episode 7|Iteration 36|reward:   63.0|last_reward_at:   36|Elapsed Time: 0:00:01||\n",
      "Episode 7|Iteration 39|reward:   63.0|last_reward_at:   36|Elapsed Time: 0:00:01||\n",
      "Episode 7|Iteration 41|reward:   63.0|last_reward_at:   36|Elapsed Time: 0:00:01||\n",
      "Episode 7|Iteration 43|reward:   63.0|last_reward_at:   36|Elapsed Time: 0:00:01||\n",
      "Episode 7|Iteration 45|reward:   63.0|last_reward_at:   36|Elapsed Time: 0:00:01||\n",
      "Episode 7|Iteration 47|reward:   63.0|last_reward_at:   36|Elapsed Time: 0:00:01||\n",
      "Episode 7|Iteration 49|reward:   63.0|last_reward_at:   36|Elapsed Time: 0:00:01||\n",
      "Episode 7|Iteration 50|reward:   63.0|last_reward_at:   36|Elapsed Time: 0:00:01||\n"
     ]
    },
    {
     "name": "stdout",
     "output_type": "stream",
     "text": [
      "  Episode 7 stopped at t=50 \n",
      "  Breakdown [Reward/NoReward (Success rate)]\n",
      "    explore-local: 5/9 (0.36)\n",
      "    explore-remote: 0/17 (0.00)\n",
      "    explore-connect: 0/13 (0.00)\n",
      "    exploit-local: 1/0 (1.00)\n",
      "    exploit-remote: 0/0 (NaN)\n",
      "    exploit-connect: 5/0 (1.00)\n",
      "  exploit deflected to exploration: 0\n",
      "  ## Episode: 8/20 'DQL' ϵ=0.8944, γ=0.015, lr=0.01, replaymemory=10000,\n",
      "batch=512, target_update=5\n"
     ]
    },
    {
     "name": "stderr",
     "output_type": "stream",
     "text": [
      "Episode 8|Iteration 0|reward: ------|last_reward_at: ----|Elapsed Time: 0:00:00||\n",
      "Episode 8|Iteration 1|reward:    6.0|last_reward_at: ----|Elapsed Time: 0:00:00||\n",
      "Episode 8|Iteration 1|reward:    6.0|last_reward_at:    1|Elapsed Time: 0:00:00||\n",
      "Episode 8|Iteration 3|reward:   12.0|last_reward_at:    1|Elapsed Time: 0:00:00||\n",
      "Episode 8|Iteration 3|reward:   12.0|last_reward_at:    3|Elapsed Time: 0:00:00||\n",
      "Episode 8|Iteration 5|reward:   36.0|last_reward_at:    3|Elapsed Time: 0:00:00||\n",
      "Episode 8|Iteration 5|reward:   36.0|last_reward_at:    5|Elapsed Time: 0:00:00||\n",
      "Episode 8|Iteration 8|reward:   36.0|last_reward_at:    5|Elapsed Time: 0:00:00||\n",
      "Episode 8|Iteration 10|reward:   36.0|last_reward_at:    5|Elapsed Time: 0:00:00||\n",
      "Episode 8|Iteration 11|reward:   37.0|last_reward_at:    5|Elapsed Time: 0:00:00||\n",
      "Episode 8|Iteration 11|reward:   37.0|last_reward_at:   11|Elapsed Time: 0:00:00||\n",
      "Episode 8|Iteration 12|reward:   43.0|last_reward_at:   11|Elapsed Time: 0:00:00||\n",
      "Episode 8|Iteration 12|reward:   43.0|last_reward_at:   12|Elapsed Time: 0:00:00||\n",
      "Episode 8|Iteration 14|reward:   44.0|last_reward_at:   12|Elapsed Time: 0:00:00||\n",
      "Episode 8|Iteration 14|reward:   44.0|last_reward_at:   14|Elapsed Time: 0:00:00||\n",
      "Episode 8|Iteration 17|reward:   44.0|last_reward_at:   14|Elapsed Time: 0:00:00||\n",
      "Episode 8|Iteration 19|reward:   44.0|last_reward_at:   14|Elapsed Time: 0:00:00||\n",
      "Episode 8|Iteration 20|reward:   53.0|last_reward_at:   14|Elapsed Time: 0:00:00||\n",
      "Episode 8|Iteration 20|reward:   53.0|last_reward_at:   20|Elapsed Time: 0:00:00||\n",
      "Episode 8|Iteration 23|reward:   53.0|last_reward_at:   20|Elapsed Time: 0:00:00||\n",
      "Episode 8|Iteration 25|reward:   53.0|last_reward_at:   20|Elapsed Time: 0:00:00||\n",
      "Episode 8|Iteration 27|reward:   53.0|last_reward_at:   20|Elapsed Time: 0:00:00||\n",
      "Episode 8|Iteration 27|reward:   58.0|last_reward_at:   20|Elapsed Time: 0:00:00||\n",
      "Episode 8|Iteration 27|reward:   58.0|last_reward_at:   27|Elapsed Time: 0:00:00||\n",
      "Episode 8|Iteration 29|reward:   59.0|last_reward_at:   27|Elapsed Time: 0:00:00||\n",
      "Episode 8|Iteration 29|reward:   59.0|last_reward_at:   29|Elapsed Time: 0:00:00||\n",
      "Episode 8|Iteration 30|reward:   60.0|last_reward_at:   29|Elapsed Time: 0:00:01||\n",
      "Episode 8|Iteration 30|reward:   60.0|last_reward_at:   30|Elapsed Time: 0:00:01||\n",
      "Episode 8|Iteration 33|reward:   60.0|last_reward_at:   30|Elapsed Time: 0:00:01||\n",
      "Episode 8|Iteration 35|reward:   60.0|last_reward_at:   30|Elapsed Time: 0:00:01||\n",
      "Episode 8|Iteration 35|reward:   66.0|last_reward_at:   30|Elapsed Time: 0:00:01||\n",
      "Episode 8|Iteration 35|reward:   66.0|last_reward_at:   35|Elapsed Time: 0:00:01||\n",
      "Episode 8|Iteration 37|reward:  166.0|last_reward_at:   35|Elapsed Time: 0:00:01||\n",
      "Episode 8|Iteration 37|reward:  166.0|last_reward_at:   37|Elapsed Time: 0:00:01||\n",
      "Episode 8|Iteration 38|reward:  172.0|last_reward_at:   37|Elapsed Time: 0:00:01||\n",
      "Episode 8|Iteration 38|reward:  172.0|last_reward_at:   38|Elapsed Time: 0:00:01||\n",
      "Episode 8|Iteration 41|reward:  172.0|last_reward_at:   38|Elapsed Time: 0:00:01||\n",
      "Episode 8|Iteration 42|reward:  172.0|last_reward_at:   38|Elapsed Time: 0:00:01||\n",
      "Episode 8|Iteration 45|reward:  172.0|last_reward_at:   38|Elapsed Time: 0:00:01||\n",
      "Episode 8|Iteration 47|reward:  172.0|last_reward_at:   38|Elapsed Time: 0:00:01||\n",
      "Episode 8|Iteration 49|reward:  172.0|last_reward_at:   38|Elapsed Time: 0:00:01||\n",
      "Episode 8|Iteration 50|reward:  178.0|last_reward_at:   38|Elapsed Time: 0:00:01||\n",
      "Episode 8|Iteration 50|reward:  178.0|last_reward_at:   50|Elapsed Time: 0:00:01||\n",
      "Episode 8|Iteration 50|reward:  178.0|last_reward_at:   50|Elapsed Time: 0:00:01||\n"
     ]
    },
    {
     "name": "stdout",
     "output_type": "stream",
     "text": [
      "  Episode 8 stopped at t=50 \n",
      "  Breakdown [Reward/NoReward (Success rate)]\n",
      "    explore-local: 7/7 (0.50)\n",
      "    explore-remote: 0/19 (0.00)\n",
      "    explore-connect: 1/9 (0.10)\n",
      "    exploit-local: 1/1 (0.50)\n",
      "    exploit-remote: 0/0 (NaN)\n",
      "    exploit-connect: 5/0 (1.00)\n",
      "  exploit deflected to exploration: 0\n",
      "  ## Episode: 9/20 'DQL' ϵ=0.8936, γ=0.015, lr=0.01, replaymemory=10000,\n",
      "batch=512, target_update=5\n"
     ]
    },
    {
     "name": "stderr",
     "output_type": "stream",
     "text": [
      "Episode 9|Iteration 0|reward: ------|last_reward_at: ----|Elapsed Time: 0:00:00||\n",
      "Episode 9|Iteration 1|reward:    0.0|last_reward_at: ----|Elapsed Time: 0:00:00||\n",
      "Episode 9|Iteration 2|reward:    6.0|last_reward_at: ----|Elapsed Time: 0:00:00||\n",
      "Episode 9|Iteration 2|reward:    6.0|last_reward_at:    2|Elapsed Time: 0:00:00||\n",
      "Episode 9|Iteration 4|reward:   12.0|last_reward_at:    2|Elapsed Time: 0:00:00||\n",
      "Episode 9|Iteration 4|reward:   12.0|last_reward_at:    4|Elapsed Time: 0:00:00||\n",
      "Episode 9|Iteration 7|reward:   12.0|last_reward_at:    4|Elapsed Time: 0:00:00||\n",
      "Episode 9|Iteration 9|reward:   12.0|last_reward_at:    4|Elapsed Time: 0:00:00||\n",
      "Episode 9|Iteration 11|reward:   12.0|last_reward_at:    4|Elapsed Time: 0:00:00||\n",
      "Episode 9|Iteration 12|reward:   18.0|last_reward_at:    4|Elapsed Time: 0:00:00||\n",
      "Episode 9|Iteration 12|reward:   18.0|last_reward_at:   12|Elapsed Time: 0:00:00||\n",
      "Episode 9|Iteration 14|reward:   18.0|last_reward_at:   12|Elapsed Time: 0:00:00||\n",
      "Episode 9|Iteration 14|reward:   42.0|last_reward_at:   12|Elapsed Time: 0:00:00||\n",
      "Episode 9|Iteration 14|reward:   42.0|last_reward_at:   14|Elapsed Time: 0:00:00||\n",
      "Episode 9|Iteration 15|reward:   43.0|last_reward_at:   14|Elapsed Time: 0:00:00||\n",
      "Episode 9|Iteration 15|reward:   43.0|last_reward_at:   15|Elapsed Time: 0:00:00||\n",
      "Episode 9|Iteration 18|reward:   43.0|last_reward_at:   15|Elapsed Time: 0:00:00||\n",
      "Episode 9|Iteration 20|reward:   43.0|last_reward_at:   15|Elapsed Time: 0:00:00||\n",
      "Episode 9|Iteration 22|reward:   43.0|last_reward_at:   15|Elapsed Time: 0:00:00||\n",
      "Episode 9|Iteration 22|reward:   52.0|last_reward_at:   15|Elapsed Time: 0:00:00||\n",
      "Episode 9|Iteration 22|reward:   52.0|last_reward_at:   22|Elapsed Time: 0:00:00||\n",
      "Episode 9|Iteration 25|reward:   52.0|last_reward_at:   22|Elapsed Time: 0:00:00||\n",
      "Episode 9|Iteration 25|reward:  152.0|last_reward_at:   22|Elapsed Time: 0:00:00||\n",
      "Episode 9|Iteration 25|reward:  152.0|last_reward_at:   25|Elapsed Time: 0:00:00||\n",
      "Episode 9|Iteration 27|reward:  152.0|last_reward_at:   25|Elapsed Time: 0:00:01||\n",
      "Episode 9|Iteration 27|reward:  158.0|last_reward_at:   25|Elapsed Time: 0:00:01||\n",
      "Episode 9|Iteration 27|reward:  158.0|last_reward_at:   27|Elapsed Time: 0:00:01||\n",
      "Episode 9|Iteration 28|reward:  163.0|last_reward_at:   27|Elapsed Time: 0:00:01||\n",
      "Episode 9|Iteration 28|reward:  163.0|last_reward_at:   28|Elapsed Time: 0:00:01||\n",
      "Episode 9|Iteration 29|reward:  164.0|last_reward_at:   28|Elapsed Time: 0:00:01||\n",
      "Episode 9|Iteration 29|reward:  164.0|last_reward_at:   29|Elapsed Time: 0:00:01||\n",
      "Episode 9|Iteration 31|reward:  383.0|last_reward_at:   29|Elapsed Time: 0:00:01||\n",
      "Episode 9|Iteration 31|reward:  383.0|last_reward_at:   31|Elapsed Time: 0:00:01||\n",
      "Episode 9|Iteration 34|reward:  383.0|last_reward_at:   31|Elapsed Time: 0:00:01||\n",
      "Episode 9|Iteration 36|reward:  383.0|last_reward_at:   31|Elapsed Time: 0:00:01||\n",
      "Episode 9|Iteration 38|reward:  383.0|last_reward_at:   31|Elapsed Time: 0:00:01||\n",
      "Episode 9|Iteration 40|reward:  383.0|last_reward_at:   31|Elapsed Time: 0:00:01||\n",
      "Episode 9|Iteration 42|reward:  383.0|last_reward_at:   31|Elapsed Time: 0:00:01||\n",
      "Episode 9|Iteration 43|reward:  389.0|last_reward_at:   31|Elapsed Time: 0:00:01||\n",
      "Episode 9|Iteration 43|reward:  389.0|last_reward_at:   43|Elapsed Time: 0:00:01||\n",
      "Episode 9|Iteration 44|reward:  395.0|last_reward_at:   43|Elapsed Time: 0:00:01||\n",
      "Episode 9|Iteration 44|reward:  395.0|last_reward_at:   44|Elapsed Time: 0:00:01||\n",
      "Episode 9|Iteration 47|reward:  395.0|last_reward_at:   44|Elapsed Time: 0:00:01||\n",
      "Episode 9|Iteration 49|reward:  395.0|last_reward_at:   44|Elapsed Time: 0:00:01||\n",
      "Episode 9|Iteration 50|reward:  395.0|last_reward_at:   44|Elapsed Time: 0:00:01||\n"
     ]
    },
    {
     "name": "stdout",
     "output_type": "stream",
     "text": [
      "  Episode 9 stopped at t=50 \n",
      "  Breakdown [Reward/NoReward (Success rate)]\n",
      "    explore-local: 9/5 (0.64)\n",
      "    explore-remote: 0/19 (0.00)\n",
      "    explore-connect: 0/12 (0.00)\n",
      "    exploit-local: 0/0 (NaN)\n",
      "    exploit-remote: 0/0 (NaN)\n",
      "    exploit-connect: 4/1 (0.80)\n",
      "  exploit deflected to exploration: 0\n",
      "  ## Episode: 10/20 'DQL' ϵ=0.8928, γ=0.015, lr=0.01, replaymemory=10000,\n",
      "batch=512, target_update=5\n"
     ]
    },
    {
     "name": "stderr",
     "output_type": "stream",
     "text": [
      "Episode 10|Iteration 0|reward: ------|last_reward_at: ----|Elapsed Time: 0:00:00||\n",
      "Episode 10|Iteration 1|reward:   24.0|last_reward_at: ----|Elapsed Time: 0:00:00||\n",
      "Episode 10|Iteration 1|reward:   24.0|last_reward_at:    1|Elapsed Time: 0:00:00||\n",
      "Episode 10|Iteration 3|reward:   24.0|last_reward_at:    1|Elapsed Time: 0:00:00||\n",
      "Episode 10|Iteration 4|reward:   25.0|last_reward_at:    1|Elapsed Time: 0:00:00||\n",
      "Episode 10|Iteration 4|reward:   25.0|last_reward_at:    4|Elapsed Time: 0:00:00||\n",
      "Episode 10|Iteration 7|reward:   25.0|last_reward_at:    4|Elapsed Time: 0:00:00||\n",
      "Episode 10|Iteration 7|reward:   31.0|last_reward_at:    4|Elapsed Time: 0:00:00||\n",
      "Episode 10|Iteration 7|reward:   31.0|last_reward_at:    7|Elapsed Time: 0:00:00||\n",
      "Episode 10|Iteration 9|reward:   32.0|last_reward_at:    7|Elapsed Time: 0:00:00||\n",
      "Episode 10|Iteration 9|reward:   32.0|last_reward_at:    9|Elapsed Time: 0:00:00||\n",
      "Episode 10|Iteration 11|reward:   33.0|last_reward_at:    9|Elapsed Time: 0:00:00||\n",
      "Episode 10|Iteration 11|reward:   33.0|last_reward_at:   11|Elapsed Time: 0:00:00||\n",
      "Episode 10|Iteration 14|reward:   33.0|last_reward_at:   11|Elapsed Time: 0:00:00||\n",
      "Episode 10|Iteration 16|reward:   33.0|last_reward_at:   11|Elapsed Time: 0:00:00||\n",
      "Episode 10|Iteration 17|reward:   42.0|last_reward_at:   11|Elapsed Time: 0:00:00||\n",
      "Episode 10|Iteration 17|reward:   42.0|last_reward_at:   17|Elapsed Time: 0:00:00||\n",
      "Episode 10|Iteration 18|reward:   48.0|last_reward_at:   17|Elapsed Time: 0:00:00||\n",
      "Episode 10|Iteration 18|reward:   48.0|last_reward_at:   18|Elapsed Time: 0:00:00||\n",
      "Episode 10|Iteration 21|reward:   48.0|last_reward_at:   18|Elapsed Time: 0:00:00||\n",
      "Episode 10|Iteration 21|reward:   54.0|last_reward_at:   18|Elapsed Time: 0:00:00||\n",
      "Episode 10|Iteration 21|reward:   54.0|last_reward_at:   21|Elapsed Time: 0:00:00||\n",
      "Episode 10|Iteration 23|reward:   60.0|last_reward_at:   21|Elapsed Time: 0:00:00||\n",
      "Episode 10|Iteration 23|reward:   60.0|last_reward_at:   23|Elapsed Time: 0:00:00||\n",
      "Episode 10|Iteration 25|reward:   65.0|last_reward_at:   23|Elapsed Time: 0:00:00||\n",
      "Episode 10|Iteration 25|reward:   65.0|last_reward_at:   25|Elapsed Time: 0:00:00||\n",
      "Episode 10|Iteration 27|reward:   71.0|last_reward_at:   25|Elapsed Time: 0:00:01||\n",
      "Episode 10|Iteration 27|reward:   71.0|last_reward_at:   27|Elapsed Time: 0:00:01||\n",
      "Episode 10|Iteration 28|reward:   77.0|last_reward_at:   27|Elapsed Time: 0:00:01||\n",
      "Episode 10|Iteration 28|reward:   77.0|last_reward_at:   28|Elapsed Time: 0:00:01||\n",
      "Episode 10|Iteration 30|reward:   77.0|last_reward_at:   28|Elapsed Time: 0:00:01||\n",
      "Episode 10|Iteration 31|reward:   77.0|last_reward_at:   28|Elapsed Time: 0:00:01||\n",
      "Episode 10|Iteration 33|reward:   77.0|last_reward_at:   28|Elapsed Time: 0:00:01||\n",
      "Episode 10|Iteration 34|reward:   77.0|last_reward_at:   28|Elapsed Time: 0:00:01||\n",
      "Episode 10|Iteration 35|reward:   77.0|last_reward_at:   28|Elapsed Time: 0:00:01||\n",
      "Episode 10|Iteration 36|reward:   77.0|last_reward_at:   28|Elapsed Time: 0:00:01||\n",
      "Episode 10|Iteration 37|reward:   77.0|last_reward_at:   28|Elapsed Time: 0:00:01||\n",
      "Episode 10|Iteration 38|reward:   77.0|last_reward_at:   28|Elapsed Time: 0:00:01||\n",
      "Episode 10|Iteration 39|reward:   77.0|last_reward_at:   28|Elapsed Time: 0:00:01||\n",
      "Episode 10|Iteration 39|reward:   83.0|last_reward_at:   28|Elapsed Time: 0:00:01||\n",
      "Episode 10|Iteration 39|reward:   83.0|last_reward_at:   39|Elapsed Time: 0:00:01||\n",
      "Episode 10|Iteration 42|reward:   83.0|last_reward_at:   39|Elapsed Time: 0:00:01||\n",
      "Episode 10|Iteration 43|reward:   83.0|last_reward_at:   39|Elapsed Time: 0:00:01||\n",
      "Episode 10|Iteration 46|reward:   83.0|last_reward_at:   39|Elapsed Time: 0:00:01||\n",
      "Episode 10|Iteration 48|reward:   83.0|last_reward_at:   39|Elapsed Time: 0:00:02||\n",
      "Episode 10|Iteration 50|reward:   83.0|last_reward_at:   39|Elapsed Time: 0:00:02||\n",
      "Episode 10|Iteration 50|reward:   89.0|last_reward_at:   39|Elapsed Time: 0:00:02||\n",
      "Episode 10|Iteration 50|reward:   89.0|last_reward_at:   50|Elapsed Time: 0:00:02||\n",
      "Episode 10|Iteration 50|reward:   89.0|last_reward_at:   50|Elapsed Time: 0:00:02||\n"
     ]
    },
    {
     "name": "stdout",
     "output_type": "stream",
     "text": [
      "  Episode 10 stopped at t=50 \n",
      "  Breakdown [Reward/NoReward (Success rate)]\n",
      "    explore-local: 9/5 (0.64)\n",
      "    explore-remote: 0/13 (0.00)\n",
      "    explore-connect: 0/18 (0.00)\n",
      "    exploit-local: 1/0 (1.00)\n",
      "    exploit-remote: 0/0 (NaN)\n",
      "    exploit-connect: 4/0 (1.00)\n",
      "  exploit deflected to exploration: 0\n",
      "  ## Episode: 11/20 'DQL' ϵ=0.8921, γ=0.015, lr=0.01, replaymemory=10000,\n",
      "batch=512, target_update=5\n"
     ]
    },
    {
     "name": "stderr",
     "output_type": "stream",
     "text": [
      "Episode 11|Iteration 0|reward: ------|last_reward_at: ----|Elapsed Time: 0:00:00||\n",
      "Episode 11|Iteration 1|reward:    0.0|last_reward_at: ----|Elapsed Time: 0:00:00||\n",
      "Episode 11|Iteration 3|reward:    6.0|last_reward_at: ----|Elapsed Time: 0:00:00||\n",
      "Episode 11|Iteration 3|reward:    6.0|last_reward_at:    3|Elapsed Time: 0:00:00||\n",
      "Episode 11|Iteration 4|reward:   12.0|last_reward_at:    3|Elapsed Time: 0:00:00||\n",
      "Episode 11|Iteration 4|reward:   12.0|last_reward_at:    4|Elapsed Time: 0:00:00||\n",
      "Episode 11|Iteration 6|reward:   18.0|last_reward_at:    4|Elapsed Time: 0:00:00||\n",
      "Episode 11|Iteration 6|reward:   18.0|last_reward_at:    6|Elapsed Time: 0:00:00||\n",
      "Episode 11|Iteration 9|reward:   18.0|last_reward_at:    6|Elapsed Time: 0:00:00||\n",
      "Episode 11|Iteration 10|reward:   42.0|last_reward_at:    6|Elapsed Time: 0:00:00||\n",
      "Episode 11|Iteration 10|reward:   42.0|last_reward_at:   10|Elapsed Time: 0:00:00||\n",
      "Episode 11|Iteration 12|reward:   43.0|last_reward_at:   10|Elapsed Time: 0:00:00||\n",
      "Episode 11|Iteration 12|reward:   43.0|last_reward_at:   12|Elapsed Time: 0:00:00||\n",
      "Episode 11|Iteration 13|reward:   48.0|last_reward_at:   12|Elapsed Time: 0:00:00||\n",
      "Episode 11|Iteration 13|reward:   48.0|last_reward_at:   13|Elapsed Time: 0:00:00||\n",
      "Episode 11|Iteration 16|reward:   48.0|last_reward_at:   13|Elapsed Time: 0:00:00||\n",
      "Episode 11|Iteration 18|reward:   48.0|last_reward_at:   13|Elapsed Time: 0:00:00||\n",
      "Episode 11|Iteration 19|reward:   54.0|last_reward_at:   13|Elapsed Time: 0:00:00||\n",
      "Episode 11|Iteration 19|reward:   54.0|last_reward_at:   19|Elapsed Time: 0:00:00||\n",
      "Episode 11|Iteration 21|reward:   55.0|last_reward_at:   19|Elapsed Time: 0:00:00||\n",
      "Episode 11|Iteration 21|reward:   55.0|last_reward_at:   21|Elapsed Time: 0:00:00||\n",
      "Episode 11|Iteration 23|reward:   56.0|last_reward_at:   21|Elapsed Time: 0:00:00||\n",
      "Episode 11|Iteration 23|reward:   56.0|last_reward_at:   23|Elapsed Time: 0:00:00||\n",
      "Episode 11|Iteration 26|reward:   56.0|last_reward_at:   23|Elapsed Time: 0:00:00||\n",
      "Episode 11|Iteration 28|reward:   56.0|last_reward_at:   23|Elapsed Time: 0:00:00||\n",
      "Episode 11|Iteration 29|reward:   56.0|last_reward_at:   23|Elapsed Time: 0:00:01||\n",
      "Episode 11|Iteration 30|reward:   62.0|last_reward_at:   23|Elapsed Time: 0:00:01||\n",
      "Episode 11|Iteration 30|reward:   62.0|last_reward_at:   30|Elapsed Time: 0:00:01||\n",
      "Episode 11|Iteration 33|reward:   62.0|last_reward_at:   30|Elapsed Time: 0:00:01||\n",
      "Episode 11|Iteration 34|reward:   68.0|last_reward_at:   30|Elapsed Time: 0:00:01||\n",
      "Episode 11|Iteration 34|reward:   68.0|last_reward_at:   34|Elapsed Time: 0:00:01||\n",
      "Episode 11|Iteration 37|reward:   68.0|last_reward_at:   34|Elapsed Time: 0:00:01||\n",
      "Episode 11|Iteration 38|reward:   74.0|last_reward_at:   34|Elapsed Time: 0:00:01||\n",
      "Episode 11|Iteration 38|reward:   74.0|last_reward_at:   38|Elapsed Time: 0:00:01||\n",
      "Episode 11|Iteration 41|reward:   74.0|last_reward_at:   38|Elapsed Time: 0:00:01||\n",
      "Episode 11|Iteration 43|reward:   74.0|last_reward_at:   38|Elapsed Time: 0:00:01||\n",
      "Episode 11|Iteration 43|reward:   80.0|last_reward_at:   38|Elapsed Time: 0:00:01||\n",
      "Episode 11|Iteration 43|reward:   80.0|last_reward_at:   43|Elapsed Time: 0:00:01||\n",
      "Episode 11|Iteration 44|reward:   81.0|last_reward_at:   43|Elapsed Time: 0:00:01||\n",
      "Episode 11|Iteration 44|reward:   81.0|last_reward_at:   44|Elapsed Time: 0:00:01||\n",
      "Episode 11|Iteration 45|reward:   90.0|last_reward_at:   44|Elapsed Time: 0:00:01||\n",
      "Episode 11|Iteration 45|reward:   90.0|last_reward_at:   45|Elapsed Time: 0:00:01||\n",
      "Episode 11|Iteration 48|reward:   90.0|last_reward_at:   45|Elapsed Time: 0:00:01||\n",
      "Episode 11|Iteration 50|reward:   90.0|last_reward_at:   45|Elapsed Time: 0:00:01||\n",
      "Episode 11|Iteration 50|reward:   90.0|last_reward_at:   45|Elapsed Time: 0:00:01||\n"
     ]
    },
    {
     "name": "stdout",
     "output_type": "stream",
     "text": [
      "  Episode 11 stopped at t=50 \n",
      "  Breakdown [Reward/NoReward (Success rate)]\n",
      "    explore-local: 9/11 (0.45)\n",
      "    explore-remote: 0/14 (0.00)\n",
      "    explore-connect: 0/10 (0.00)\n",
      "    exploit-local: 1/0 (1.00)\n",
      "    exploit-remote: 0/0 (NaN)\n",
      "    exploit-connect: 5/0 (1.00)\n",
      "  exploit deflected to exploration: 0\n",
      "  ## Episode: 12/20 'DQL' ϵ=0.8913, γ=0.015, lr=0.01, replaymemory=10000,\n",
      "batch=512, target_update=5\n"
     ]
    },
    {
     "name": "stderr",
     "output_type": "stream",
     "text": [
      "Episode 12|Iteration 0|reward: ------|last_reward_at: ----|Elapsed Time: 0:00:00||\n",
      "Episode 12|Iteration 1|reward:    0.0|last_reward_at: ----|Elapsed Time: 0:00:00||\n",
      "Episode 12|Iteration 4|reward:    0.0|last_reward_at: ----|Elapsed Time: 0:00:00||\n",
      "Episode 12|Iteration 6|reward:    0.0|last_reward_at: ----|Elapsed Time: 0:00:00||\n",
      "Episode 12|Iteration 7|reward:    6.0|last_reward_at: ----|Elapsed Time: 0:00:00||\n",
      "Episode 12|Iteration 7|reward:    6.0|last_reward_at:    7|Elapsed Time: 0:00:00||\n",
      "Episode 12|Iteration 9|reward:   12.0|last_reward_at:    7|Elapsed Time: 0:00:00||\n",
      "Episode 12|Iteration 9|reward:   12.0|last_reward_at:    9|Elapsed Time: 0:00:00||\n",
      "Episode 12|Iteration 12|reward:   12.0|last_reward_at:    9|Elapsed Time: 0:00:00||\n",
      "Episode 12|Iteration 14|reward:   12.0|last_reward_at:    9|Elapsed Time: 0:00:00||\n",
      "Episode 12|Iteration 16|reward:   12.0|last_reward_at:    9|Elapsed Time: 0:00:00||\n",
      "Episode 12|Iteration 18|reward:   12.0|last_reward_at:    9|Elapsed Time: 0:00:00||\n",
      "Episode 12|Iteration 20|reward:   12.0|last_reward_at:    9|Elapsed Time: 0:00:00||\n",
      "Episode 12|Iteration 20|reward:   36.0|last_reward_at:    9|Elapsed Time: 0:00:00||\n",
      "Episode 12|Iteration 20|reward:   36.0|last_reward_at:   20|Elapsed Time: 0:00:00||\n",
      "Episode 12|Iteration 23|reward:   36.0|last_reward_at:   20|Elapsed Time: 0:00:00||\n",
      "Episode 12|Iteration 25|reward:   36.0|last_reward_at:   20|Elapsed Time: 0:00:00||\n",
      "Episode 12|Iteration 25|reward:   42.0|last_reward_at:   20|Elapsed Time: 0:00:00||\n",
      "Episode 12|Iteration 25|reward:   42.0|last_reward_at:   25|Elapsed Time: 0:00:00||\n",
      "Episode 12|Iteration 26|reward:   42.0|last_reward_at:   25|Elapsed Time: 0:00:01||\n",
      "Episode 12|Iteration 29|reward:   42.0|last_reward_at:   25|Elapsed Time: 0:00:01||\n",
      "Episode 12|Iteration 31|reward:   42.0|last_reward_at:   25|Elapsed Time: 0:00:01||\n",
      "Episode 12|Iteration 32|reward:   42.0|last_reward_at:   25|Elapsed Time: 0:00:01||\n",
      "Episode 12|Iteration 33|reward:   42.0|last_reward_at:   25|Elapsed Time: 0:00:01||\n",
      "Episode 12|Iteration 34|reward:   42.0|last_reward_at:   25|Elapsed Time: 0:00:01||\n",
      "Episode 12|Iteration 35|reward:   47.0|last_reward_at:   25|Elapsed Time: 0:00:01||\n",
      "Episode 12|Iteration 35|reward:   47.0|last_reward_at:   35|Elapsed Time: 0:00:01||\n",
      "Episode 12|Iteration 37|reward:   47.0|last_reward_at:   35|Elapsed Time: 0:00:01||\n",
      "Episode 12|Iteration 38|reward:   47.0|last_reward_at:   35|Elapsed Time: 0:00:01||\n",
      "Episode 12|Iteration 40|reward:   47.0|last_reward_at:   35|Elapsed Time: 0:00:01||\n",
      "Episode 12|Iteration 40|reward:   47.0|last_reward_at:   35|Elapsed Time: 0:00:01||\n",
      "Episode 12|Iteration 41|reward:   47.0|last_reward_at:   35|Elapsed Time: 0:00:02||\n",
      "Episode 12|Iteration 43|reward:   47.0|last_reward_at:   35|Elapsed Time: 0:00:02||\n",
      "Episode 12|Iteration 44|reward:   47.0|last_reward_at:   35|Elapsed Time: 0:00:02||\n",
      "Episode 12|Iteration 46|reward:   47.0|last_reward_at:   35|Elapsed Time: 0:00:02||\n",
      "Episode 12|Iteration 47|reward:   47.0|last_reward_at:   35|Elapsed Time: 0:00:02||\n",
      "Episode 12|Iteration 47|reward:   48.0|last_reward_at:   35|Elapsed Time: 0:00:02||\n",
      "Episode 12|Iteration 47|reward:   48.0|last_reward_at:   47|Elapsed Time: 0:00:02||\n",
      "Episode 12|Iteration 48|reward:   49.0|last_reward_at:   47|Elapsed Time: 0:00:02||\n",
      "Episode 12|Iteration 48|reward:   49.0|last_reward_at:   48|Elapsed Time: 0:00:02||\n",
      "Episode 12|Iteration 49|reward:   50.0|last_reward_at:   48|Elapsed Time: 0:00:02||\n",
      "Episode 12|Iteration 49|reward:   50.0|last_reward_at:   49|Elapsed Time: 0:00:02||\n",
      "Episode 12|Iteration 50|reward:   50.0|last_reward_at:   49|Elapsed Time: 0:00:02||\n"
     ]
    },
    {
     "name": "stdout",
     "output_type": "stream",
     "text": [
      "  Episode 12 stopped at t=50 \n",
      "  Breakdown [Reward/NoReward (Success rate)]\n",
      "    explore-local: 3/10 (0.23)\n",
      "    explore-remote: 0/25 (0.00)\n",
      "    explore-connect: 0/7 (0.00)\n",
      "    exploit-local: 1/0 (1.00)\n",
      "    exploit-remote: 0/0 (NaN)\n",
      "    exploit-connect: 4/0 (1.00)\n",
      "  exploit deflected to exploration: 0\n",
      "  ## Episode: 13/20 'DQL' ϵ=0.8905, γ=0.015, lr=0.01, replaymemory=10000,\n",
      "batch=512, target_update=5\n"
     ]
    },
    {
     "name": "stderr",
     "output_type": "stream",
     "text": [
      "Episode 13|Iteration 0|reward: ------|last_reward_at: ----|Elapsed Time: 0:00:00||\n",
      "Episode 13|Iteration 1|reward:    0.0|last_reward_at: ----|Elapsed Time: 0:00:00||\n",
      "Episode 13|Iteration 2|reward:   24.0|last_reward_at: ----|Elapsed Time: 0:00:00||\n",
      "Episode 13|Iteration 2|reward:   24.0|last_reward_at:    2|Elapsed Time: 0:00:00||\n",
      "Episode 13|Iteration 4|reward:   24.0|last_reward_at:    2|Elapsed Time: 0:00:00||\n",
      "Episode 13|Iteration 7|reward:   24.0|last_reward_at:    2|Elapsed Time: 0:00:00||\n",
      "Episode 13|Iteration 8|reward:   30.0|last_reward_at:    2|Elapsed Time: 0:00:00||\n",
      "Episode 13|Iteration 8|reward:   30.0|last_reward_at:    8|Elapsed Time: 0:00:00||\n",
      "Episode 13|Iteration 10|reward:   30.0|last_reward_at:    8|Elapsed Time: 0:00:00||\n",
      "Episode 13|Iteration 12|reward:   30.0|last_reward_at:    8|Elapsed Time: 0:00:00||\n",
      "Episode 13|Iteration 14|reward:   30.0|last_reward_at:    8|Elapsed Time: 0:00:00||\n",
      "Episode 13|Iteration 16|reward:   30.0|last_reward_at:    8|Elapsed Time: 0:00:00||\n",
      "Episode 13|Iteration 18|reward:   30.0|last_reward_at:    8|Elapsed Time: 0:00:00||\n",
      "Episode 13|Iteration 19|reward:   31.0|last_reward_at:    8|Elapsed Time: 0:00:00||\n",
      "Episode 13|Iteration 19|reward:   31.0|last_reward_at:   19|Elapsed Time: 0:00:00||\n",
      "Episode 13|Iteration 22|reward:   31.0|last_reward_at:   19|Elapsed Time: 0:00:00||\n",
      "Episode 13|Iteration 24|reward:   31.0|last_reward_at:   19|Elapsed Time: 0:00:00||\n",
      "Episode 13|Iteration 26|reward:   31.0|last_reward_at:   19|Elapsed Time: 0:00:01||\n",
      "Episode 13|Iteration 26|reward:   37.0|last_reward_at:   19|Elapsed Time: 0:00:01||\n",
      "Episode 13|Iteration 26|reward:   37.0|last_reward_at:   26|Elapsed Time: 0:00:01||\n",
      "Episode 13|Iteration 29|reward:   37.0|last_reward_at:   26|Elapsed Time: 0:00:01||\n",
      "Episode 13|Iteration 29|reward:   43.0|last_reward_at:   26|Elapsed Time: 0:00:01||\n",
      "Episode 13|Iteration 29|reward:   43.0|last_reward_at:   29|Elapsed Time: 0:00:01||\n",
      "Episode 13|Iteration 32|reward:   43.0|last_reward_at:   29|Elapsed Time: 0:00:01||\n",
      "Episode 13|Iteration 33|reward:   44.0|last_reward_at:   29|Elapsed Time: 0:00:01||\n",
      "Episode 13|Iteration 33|reward:   44.0|last_reward_at:   33|Elapsed Time: 0:00:01||\n",
      "Episode 13|Iteration 35|reward:   44.0|last_reward_at:   33|Elapsed Time: 0:00:01||\n",
      "Episode 13|Iteration 35|reward:   50.0|last_reward_at:   33|Elapsed Time: 0:00:01||\n",
      "Episode 13|Iteration 35|reward:   50.0|last_reward_at:   35|Elapsed Time: 0:00:01||\n",
      "Episode 13|Iteration 38|reward:   50.0|last_reward_at:   35|Elapsed Time: 0:00:01||\n",
      "Episode 13|Iteration 38|reward:   55.0|last_reward_at:   35|Elapsed Time: 0:00:01||\n",
      "Episode 13|Iteration 38|reward:   55.0|last_reward_at:   38|Elapsed Time: 0:00:01||\n",
      "Episode 13|Iteration 41|reward:   55.0|last_reward_at:   38|Elapsed Time: 0:00:01||\n",
      "Episode 13|Iteration 43|reward:   55.0|last_reward_at:   38|Elapsed Time: 0:00:01||\n",
      "Episode 13|Iteration 43|reward:   56.0|last_reward_at:   38|Elapsed Time: 0:00:01||\n",
      "Episode 13|Iteration 43|reward:   56.0|last_reward_at:   43|Elapsed Time: 0:00:01||\n",
      "Episode 13|Iteration 45|reward:   65.0|last_reward_at:   43|Elapsed Time: 0:00:01||\n",
      "Episode 13|Iteration 45|reward:   65.0|last_reward_at:   45|Elapsed Time: 0:00:01||\n",
      "Episode 13|Iteration 46|reward:   71.0|last_reward_at:   45|Elapsed Time: 0:00:01||\n",
      "Episode 13|Iteration 46|reward:   71.0|last_reward_at:   46|Elapsed Time: 0:00:01||\n",
      "Episode 13|Iteration 49|reward:   71.0|last_reward_at:   46|Elapsed Time: 0:00:01||\n",
      "Episode 13|Iteration 50|reward:   71.0|last_reward_at:   46|Elapsed Time: 0:00:02||\n"
     ]
    },
    {
     "name": "stdout",
     "output_type": "stream",
     "text": [
      "  Episode 13 stopped at t=50 \n",
      "  Breakdown [Reward/NoReward (Success rate)]\n",
      "    explore-local: 6/9 (0.40)\n",
      "    explore-remote: 0/17 (0.00)\n",
      "    explore-connect: 3/13 (0.19)\n",
      "    exploit-local: 1/0 (1.00)\n",
      "    exploit-remote: 0/0 (NaN)\n",
      "    exploit-connect: 1/0 (1.00)\n",
      "  exploit deflected to exploration: 0\n",
      "  ## Episode: 14/20 'DQL' ϵ=0.8897, γ=0.015, lr=0.01, replaymemory=10000,\n",
      "batch=512, target_update=5\n"
     ]
    },
    {
     "name": "stderr",
     "output_type": "stream",
     "text": [
      "Episode 14|Iteration 0|reward: ------|last_reward_at: ----|Elapsed Time: 0:00:00||\n",
      "Episode 14|Iteration 1|reward:   24.0|last_reward_at: ----|Elapsed Time: 0:00:00||\n",
      "Episode 14|Iteration 1|reward:   24.0|last_reward_at:    1|Elapsed Time: 0:00:00||\n",
      "Episode 14|Iteration 3|reward:   24.0|last_reward_at:    1|Elapsed Time: 0:00:00||\n",
      "Episode 14|Iteration 5|reward:   24.0|last_reward_at:    1|Elapsed Time: 0:00:00||\n",
      "Episode 14|Iteration 6|reward:   30.0|last_reward_at:    1|Elapsed Time: 0:00:00||\n",
      "Episode 14|Iteration 6|reward:   30.0|last_reward_at:    6|Elapsed Time: 0:00:00||\n",
      "Episode 14|Iteration 8|reward:   31.0|last_reward_at:    6|Elapsed Time: 0:00:00||\n",
      "Episode 14|Iteration 8|reward:   31.0|last_reward_at:    8|Elapsed Time: 0:00:00||\n",
      "Episode 14|Iteration 10|reward:   32.0|last_reward_at:    8|Elapsed Time: 0:00:00||\n",
      "Episode 14|Iteration 10|reward:   32.0|last_reward_at:   10|Elapsed Time: 0:00:00||\n",
      "Episode 14|Iteration 12|reward:   38.0|last_reward_at:   10|Elapsed Time: 0:00:00||\n",
      "Episode 14|Iteration 12|reward:   38.0|last_reward_at:   12|Elapsed Time: 0:00:00||\n",
      "Episode 14|Iteration 14|reward:   44.0|last_reward_at:   12|Elapsed Time: 0:00:00||\n",
      "Episode 14|Iteration 14|reward:   44.0|last_reward_at:   14|Elapsed Time: 0:00:00||\n",
      "Episode 14|Iteration 17|reward:   44.0|last_reward_at:   14|Elapsed Time: 0:00:00||\n",
      "Episode 14|Iteration 18|reward:   50.0|last_reward_at:   14|Elapsed Time: 0:00:00||\n",
      "Episode 14|Iteration 18|reward:   50.0|last_reward_at:   18|Elapsed Time: 0:00:00||\n",
      "Episode 14|Iteration 19|reward:   56.0|last_reward_at:   18|Elapsed Time: 0:00:00||\n",
      "Episode 14|Iteration 19|reward:   56.0|last_reward_at:   19|Elapsed Time: 0:00:00||\n",
      "Episode 14|Iteration 22|reward:   56.0|last_reward_at:   19|Elapsed Time: 0:00:00||\n",
      "Episode 14|Iteration 24|reward:   56.0|last_reward_at:   19|Elapsed Time: 0:00:00||\n",
      "Episode 14|Iteration 26|reward:   56.0|last_reward_at:   19|Elapsed Time: 0:00:01||\n",
      "Episode 14|Iteration 26|reward:   61.0|last_reward_at:   19|Elapsed Time: 0:00:01||\n",
      "Episode 14|Iteration 26|reward:   61.0|last_reward_at:   26|Elapsed Time: 0:00:01||\n",
      "Episode 14|Iteration 29|reward:   61.0|last_reward_at:   26|Elapsed Time: 0:00:01||\n",
      "Episode 14|Iteration 30|reward:   62.0|last_reward_at:   26|Elapsed Time: 0:00:01||\n",
      "Episode 14|Iteration 30|reward:   62.0|last_reward_at:   30|Elapsed Time: 0:00:01||\n",
      "Episode 14|Iteration 33|reward:   62.0|last_reward_at:   30|Elapsed Time: 0:00:01||\n",
      "Episode 14|Iteration 33|reward:   63.0|last_reward_at:   30|Elapsed Time: 0:00:01||\n",
      "Episode 14|Iteration 33|reward:   63.0|last_reward_at:   33|Elapsed Time: 0:00:01||\n",
      "Episode 14|Iteration 34|reward:   69.0|last_reward_at:   33|Elapsed Time: 0:00:01||\n",
      "Episode 14|Iteration 34|reward:   69.0|last_reward_at:   34|Elapsed Time: 0:00:01||\n",
      "Episode 14|Iteration 37|reward:   69.0|last_reward_at:   34|Elapsed Time: 0:00:01||\n",
      "Episode 14|Iteration 39|reward:   69.0|last_reward_at:   34|Elapsed Time: 0:00:01||\n",
      "Episode 14|Iteration 41|reward:   69.0|last_reward_at:   34|Elapsed Time: 0:00:01||\n",
      "Episode 14|Iteration 43|reward:   69.0|last_reward_at:   34|Elapsed Time: 0:00:01||\n",
      "Episode 14|Iteration 44|reward:   75.0|last_reward_at:   34|Elapsed Time: 0:00:01||\n",
      "Episode 14|Iteration 44|reward:   75.0|last_reward_at:   44|Elapsed Time: 0:00:01||\n",
      "Episode 14|Iteration 45|reward:   81.0|last_reward_at:   44|Elapsed Time: 0:00:01||\n",
      "Episode 14|Iteration 45|reward:   81.0|last_reward_at:   45|Elapsed Time: 0:00:01||\n",
      "Episode 14|Iteration 46|reward:   87.0|last_reward_at:   45|Elapsed Time: 0:00:01||\n",
      "Episode 14|Iteration 46|reward:   87.0|last_reward_at:   46|Elapsed Time: 0:00:01||\n",
      "Episode 14|Iteration 49|reward:   87.0|last_reward_at:   46|Elapsed Time: 0:00:01||\n",
      "Episode 14|Iteration 50|reward:   87.0|last_reward_at:   46|Elapsed Time: 0:00:01||\n"
     ]
    },
    {
     "name": "stdout",
     "output_type": "stream",
     "text": [
      "  Episode 14 stopped at t=50 \n",
      "  Breakdown [Reward/NoReward (Success rate)]\n",
      "    explore-local: 8/3 (0.73)\n",
      "    explore-remote: 0/19 (0.00)\n",
      "    explore-connect: 0/13 (0.00)\n",
      "    exploit-local: 2/0 (1.00)\n",
      "    exploit-remote: 0/0 (NaN)\n",
      "    exploit-connect: 5/0 (1.00)\n",
      "  exploit deflected to exploration: 0\n",
      "  ## Episode: 15/20 'DQL' ϵ=0.8889, γ=0.015, lr=0.01, replaymemory=10000,\n",
      "batch=512, target_update=5\n"
     ]
    },
    {
     "name": "stderr",
     "output_type": "stream",
     "text": [
      "Episode 15|Iteration 0|reward: ------|last_reward_at: ----|Elapsed Time: 0:00:00||\n",
      "Episode 15|Iteration 1|reward:    0.0|last_reward_at: ----|Elapsed Time: 0:00:00||\n",
      "Episode 15|Iteration 3|reward:   24.0|last_reward_at: ----|Elapsed Time: 0:00:00||\n",
      "Episode 15|Iteration 3|reward:   24.0|last_reward_at:    3|Elapsed Time: 0:00:00||\n",
      "Episode 15|Iteration 4|reward:   25.0|last_reward_at:    3|Elapsed Time: 0:00:00||\n",
      "Episode 15|Iteration 4|reward:   25.0|last_reward_at:    4|Elapsed Time: 0:00:00||\n",
      "Episode 15|Iteration 7|reward:   25.0|last_reward_at:    4|Elapsed Time: 0:00:00||\n",
      "Episode 15|Iteration 7|reward:   26.0|last_reward_at:    4|Elapsed Time: 0:00:00||\n",
      "Episode 15|Iteration 7|reward:   26.0|last_reward_at:    7|Elapsed Time: 0:00:00||\n",
      "Episode 15|Iteration 8|reward:   32.0|last_reward_at:    7|Elapsed Time: 0:00:00||\n",
      "Episode 15|Iteration 8|reward:   32.0|last_reward_at:    8|Elapsed Time: 0:00:00||\n",
      "Episode 15|Iteration 10|reward:   37.0|last_reward_at:    8|Elapsed Time: 0:00:00||\n",
      "Episode 15|Iteration 10|reward:   37.0|last_reward_at:   10|Elapsed Time: 0:00:00||\n",
      "Episode 15|Iteration 12|reward:   38.0|last_reward_at:   10|Elapsed Time: 0:00:00||\n",
      "Episode 15|Iteration 12|reward:   38.0|last_reward_at:   12|Elapsed Time: 0:00:00||\n",
      "Episode 15|Iteration 14|reward:   39.0|last_reward_at:   12|Elapsed Time: 0:00:00||\n",
      "Episode 15|Iteration 14|reward:   39.0|last_reward_at:   14|Elapsed Time: 0:00:00||\n",
      "Episode 15|Iteration 17|reward:   39.0|last_reward_at:   14|Elapsed Time: 0:00:00||\n",
      "Episode 15|Iteration 19|reward:   39.0|last_reward_at:   14|Elapsed Time: 0:00:00||\n",
      "Episode 15|Iteration 19|reward:   45.0|last_reward_at:   14|Elapsed Time: 0:00:00||\n",
      "Episode 15|Iteration 19|reward:   45.0|last_reward_at:   19|Elapsed Time: 0:00:00||\n",
      "Episode 15|Iteration 22|reward:   45.0|last_reward_at:   19|Elapsed Time: 0:00:00||\n",
      "Episode 15|Iteration 22|reward:   54.0|last_reward_at:   19|Elapsed Time: 0:00:00||\n",
      "Episode 15|Iteration 22|reward:   54.0|last_reward_at:   22|Elapsed Time: 0:00:00||\n",
      "Episode 15|Iteration 24|reward:   54.0|last_reward_at:   22|Elapsed Time: 0:00:00||\n",
      "Episode 15|Iteration 24|reward:   60.0|last_reward_at:   22|Elapsed Time: 0:00:00||\n",
      "Episode 15|Iteration 24|reward:   60.0|last_reward_at:   24|Elapsed Time: 0:00:00||\n",
      "Episode 15|Iteration 26|reward:   60.0|last_reward_at:   24|Elapsed Time: 0:00:01||\n",
      "Episode 15|Iteration 27|reward:  160.0|last_reward_at:   24|Elapsed Time: 0:00:01||\n",
      "Episode 15|Iteration 27|reward:  160.0|last_reward_at:   27|Elapsed Time: 0:00:01||\n",
      "Episode 15|Iteration 28|reward:  166.0|last_reward_at:   27|Elapsed Time: 0:00:01||\n",
      "Episode 15|Iteration 28|reward:  166.0|last_reward_at:   28|Elapsed Time: 0:00:01||\n",
      "Episode 15|Iteration 30|reward:  166.0|last_reward_at:   28|Elapsed Time: 0:00:01||\n",
      "Episode 15|Iteration 32|reward:  166.0|last_reward_at:   28|Elapsed Time: 0:00:01||\n",
      "Episode 15|Iteration 32|reward:  385.0|last_reward_at:   28|Elapsed Time: 0:00:01||\n",
      "Episode 15|Iteration 32|reward:  385.0|last_reward_at:   32|Elapsed Time: 0:00:01||\n",
      "Episode 15|Iteration 33|reward:  386.0|last_reward_at:   32|Elapsed Time: 0:00:01||\n",
      "Episode 15|Iteration 33|reward:  386.0|last_reward_at:   33|Elapsed Time: 0:00:01||\n",
      "Episode 15|Iteration 36|reward:  386.0|last_reward_at:   33|Elapsed Time: 0:00:01||\n",
      "Episode 15|Iteration 37|reward:  392.0|last_reward_at:   33|Elapsed Time: 0:00:01||\n",
      "Episode 15|Iteration 37|reward:  392.0|last_reward_at:   37|Elapsed Time: 0:00:01||\n",
      "Episode 15|Iteration 40|reward:  392.0|last_reward_at:   37|Elapsed Time: 0:00:01||\n",
      "Episode 15|Iteration 42|reward:  392.0|last_reward_at:   37|Elapsed Time: 0:00:01||\n",
      "Episode 15|Iteration 44|reward:  392.0|last_reward_at:   37|Elapsed Time: 0:00:01||\n",
      "Episode 15|Iteration 45|reward:  392.0|last_reward_at:   37|Elapsed Time: 0:00:01||\n",
      "Episode 15|Iteration 45|reward:  398.0|last_reward_at:   37|Elapsed Time: 0:00:01||\n",
      "Episode 15|Iteration 45|reward:  398.0|last_reward_at:   45|Elapsed Time: 0:00:01||\n",
      "Episode 15|Iteration 48|reward:  398.0|last_reward_at:   45|Elapsed Time: 0:00:02||\n",
      "Episode 15|Iteration 50|reward:  398.0|last_reward_at:   45|Elapsed Time: 0:00:02||\n",
      "Episode 15|Iteration 50|reward:  398.0|last_reward_at:   45|Elapsed Time: 0:00:02||\n"
     ]
    },
    {
     "name": "stdout",
     "output_type": "stream",
     "text": [
      "  Episode 15 stopped at t=50 \n",
      "  Breakdown [Reward/NoReward (Success rate)]\n",
      "    explore-local: 8/1 (0.89)\n",
      "    explore-remote: 0/13 (0.00)\n",
      "    explore-connect: 0/17 (0.00)\n",
      "    exploit-local: 1/1 (0.50)\n",
      "    exploit-remote: 0/0 (NaN)\n",
      "    exploit-connect: 7/2 (0.78)\n",
      "  exploit deflected to exploration: 0\n",
      "  ## Episode: 16/20 'DQL' ϵ=0.8881, γ=0.015, lr=0.01, replaymemory=10000,\n",
      "batch=512, target_update=5\n"
     ]
    },
    {
     "name": "stderr",
     "output_type": "stream",
     "text": [
      "Episode 16|Iteration 0|reward: ------|last_reward_at: ----|Elapsed Time: 0:00:00||\n",
      "Episode 16|Iteration 1|reward:    0.0|last_reward_at: ----|Elapsed Time: 0:00:00||\n",
      "Episode 16|Iteration 2|reward:    6.0|last_reward_at: ----|Elapsed Time: 0:00:00||\n",
      "Episode 16|Iteration 2|reward:    6.0|last_reward_at:    2|Elapsed Time: 0:00:00||\n",
      "Episode 16|Iteration 3|reward:   30.0|last_reward_at:    2|Elapsed Time: 0:00:00||\n",
      "Episode 16|Iteration 3|reward:   30.0|last_reward_at:    3|Elapsed Time: 0:00:00||\n",
      "Episode 16|Iteration 5|reward:   36.0|last_reward_at:    3|Elapsed Time: 0:00:00||\n",
      "Episode 16|Iteration 5|reward:   36.0|last_reward_at:    5|Elapsed Time: 0:00:00||\n",
      "Episode 16|Iteration 6|reward:   42.0|last_reward_at:    5|Elapsed Time: 0:00:00||\n",
      "Episode 16|Iteration 6|reward:   42.0|last_reward_at:    6|Elapsed Time: 0:00:00||\n",
      "Episode 16|Iteration 9|reward:   42.0|last_reward_at:    6|Elapsed Time: 0:00:00||\n",
      "Episode 16|Iteration 9|reward:   47.0|last_reward_at:    6|Elapsed Time: 0:00:00||\n",
      "Episode 16|Iteration 9|reward:   47.0|last_reward_at:    9|Elapsed Time: 0:00:00||\n",
      "Episode 16|Iteration 10|reward:   48.0|last_reward_at:    9|Elapsed Time: 0:00:00||\n",
      "Episode 16|Iteration 10|reward:   48.0|last_reward_at:   10|Elapsed Time: 0:00:00||\n",
      "Episode 16|Iteration 13|reward:   48.0|last_reward_at:   10|Elapsed Time: 0:00:00||\n",
      "Episode 16|Iteration 15|reward:   48.0|last_reward_at:   10|Elapsed Time: 0:00:00||\n",
      "Episode 16|Iteration 16|reward:   49.0|last_reward_at:   10|Elapsed Time: 0:00:00||\n",
      "Episode 16|Iteration 16|reward:   49.0|last_reward_at:   16|Elapsed Time: 0:00:00||\n",
      "Episode 16|Iteration 19|reward:   49.0|last_reward_at:   16|Elapsed Time: 0:00:00||\n",
      "Episode 16|Iteration 20|reward:   49.0|last_reward_at:   16|Elapsed Time: 0:00:00||\n",
      "Episode 16|Iteration 22|reward:   49.0|last_reward_at:   16|Elapsed Time: 0:00:00||\n",
      "Episode 16|Iteration 24|reward:   49.0|last_reward_at:   16|Elapsed Time: 0:00:00||\n",
      "Episode 16|Iteration 24|reward:   58.0|last_reward_at:   16|Elapsed Time: 0:00:00||\n",
      "Episode 16|Iteration 24|reward:   58.0|last_reward_at:   24|Elapsed Time: 0:00:00||\n",
      "Episode 16|Iteration 26|reward:   64.0|last_reward_at:   24|Elapsed Time: 0:00:00||\n",
      "Episode 16|Iteration 26|reward:   64.0|last_reward_at:   26|Elapsed Time: 0:00:00||\n",
      "Episode 16|Iteration 29|reward:   64.0|last_reward_at:   26|Elapsed Time: 0:00:01||\n",
      "Episode 16|Iteration 31|reward:   64.0|last_reward_at:   26|Elapsed Time: 0:00:01||\n",
      "Episode 16|Iteration 31|reward:  164.0|last_reward_at:   26|Elapsed Time: 0:00:01||\n",
      "Episode 16|Iteration 31|reward:  164.0|last_reward_at:   31|Elapsed Time: 0:00:01||\n",
      "Episode 16|Iteration 34|reward:  164.0|last_reward_at:   31|Elapsed Time: 0:00:01||\n",
      "Episode 16|Iteration 36|reward:  164.0|last_reward_at:   31|Elapsed Time: 0:00:01||\n",
      "Episode 16|Iteration 38|reward:  164.0|last_reward_at:   31|Elapsed Time: 0:00:01||\n",
      "Episode 16|Iteration 39|reward:  165.0|last_reward_at:   31|Elapsed Time: 0:00:01||\n",
      "Episode 16|Iteration 39|reward:  165.0|last_reward_at:   39|Elapsed Time: 0:00:01||\n",
      "Episode 16|Iteration 40|reward:  171.0|last_reward_at:   39|Elapsed Time: 0:00:01||\n",
      "Episode 16|Iteration 40|reward:  171.0|last_reward_at:   40|Elapsed Time: 0:00:01||\n",
      "Episode 16|Iteration 42|reward:  177.0|last_reward_at:   40|Elapsed Time: 0:00:01||\n",
      "Episode 16|Iteration 42|reward:  177.0|last_reward_at:   42|Elapsed Time: 0:00:01||\n",
      "Episode 16|Iteration 45|reward:  177.0|last_reward_at:   42|Elapsed Time: 0:00:01||\n",
      "Episode 16|Iteration 47|reward:  177.0|last_reward_at:   42|Elapsed Time: 0:00:01||\n",
      "Episode 16|Iteration 49|reward:  177.0|last_reward_at:   42|Elapsed Time: 0:00:01||\n",
      "Episode 16|Iteration 50|reward:  177.0|last_reward_at:   42|Elapsed Time: 0:00:01||\n"
     ]
    },
    {
     "name": "stdout",
     "output_type": "stream",
     "text": [
      "  Episode 16 stopped at t=50 \n",
      "  Breakdown [Reward/NoReward (Success rate)]\n",
      "    explore-local: 7/6 (0.54)\n",
      "    explore-remote: 0/16 (0.00)\n",
      "    explore-connect: 2/15 (0.12)\n",
      "    exploit-local: 1/0 (1.00)\n",
      "    exploit-remote: 0/0 (NaN)\n",
      "    exploit-connect: 3/0 (1.00)\n",
      "  exploit deflected to exploration: 0\n",
      "  ## Episode: 17/20 'DQL' ϵ=0.8873, γ=0.015, lr=0.01, replaymemory=10000,\n",
      "batch=512, target_update=5\n"
     ]
    },
    {
     "name": "stderr",
     "output_type": "stream",
     "text": [
      "Episode 17|Iteration 0|reward: ------|last_reward_at: ----|Elapsed Time: 0:00:00||\n",
      "Episode 17|Iteration 1|reward:    0.0|last_reward_at: ----|Elapsed Time: 0:00:00||\n",
      "Episode 17|Iteration 4|reward:    0.0|last_reward_at: ----|Elapsed Time: 0:00:00||\n",
      "Episode 17|Iteration 4|reward:    6.0|last_reward_at: ----|Elapsed Time: 0:00:00||\n",
      "Episode 17|Iteration 4|reward:    6.0|last_reward_at:    4|Elapsed Time: 0:00:00||\n",
      "Episode 17|Iteration 7|reward:    6.0|last_reward_at:    4|Elapsed Time: 0:00:00||\n",
      "Episode 17|Iteration 8|reward:   30.0|last_reward_at:    4|Elapsed Time: 0:00:00||\n",
      "Episode 17|Iteration 8|reward:   30.0|last_reward_at:    8|Elapsed Time: 0:00:00||\n",
      "Episode 17|Iteration 11|reward:   30.0|last_reward_at:    8|Elapsed Time: 0:00:00||\n",
      "Episode 17|Iteration 13|reward:   30.0|last_reward_at:    8|Elapsed Time: 0:00:00||\n",
      "Episode 17|Iteration 14|reward:   35.0|last_reward_at:    8|Elapsed Time: 0:00:00||\n",
      "Episode 17|Iteration 14|reward:   35.0|last_reward_at:   14|Elapsed Time: 0:00:00||\n",
      "Episode 17|Iteration 16|reward:   36.0|last_reward_at:   14|Elapsed Time: 0:00:00||\n",
      "Episode 17|Iteration 16|reward:   36.0|last_reward_at:   16|Elapsed Time: 0:00:00||\n",
      "Episode 17|Iteration 18|reward:   42.0|last_reward_at:   16|Elapsed Time: 0:00:00||\n",
      "Episode 17|Iteration 18|reward:   42.0|last_reward_at:   18|Elapsed Time: 0:00:00||\n",
      "Episode 17|Iteration 21|reward:   42.0|last_reward_at:   18|Elapsed Time: 0:00:00||\n",
      "Episode 17|Iteration 21|reward:   43.0|last_reward_at:   18|Elapsed Time: 0:00:00||\n",
      "Episode 17|Iteration 21|reward:   43.0|last_reward_at:   21|Elapsed Time: 0:00:00||\n",
      "Episode 17|Iteration 23|reward:   43.0|last_reward_at:   21|Elapsed Time: 0:00:00||\n",
      "Episode 17|Iteration 25|reward:   43.0|last_reward_at:   21|Elapsed Time: 0:00:00||\n",
      "Episode 17|Iteration 26|reward:   49.0|last_reward_at:   21|Elapsed Time: 0:00:00||\n",
      "Episode 17|Iteration 26|reward:   49.0|last_reward_at:   26|Elapsed Time: 0:00:00||\n",
      "Episode 17|Iteration 29|reward:   49.0|last_reward_at:   26|Elapsed Time: 0:00:01||\n",
      "Episode 17|Iteration 31|reward:   49.0|last_reward_at:   26|Elapsed Time: 0:00:01||\n",
      "Episode 17|Iteration 33|reward:   49.0|last_reward_at:   26|Elapsed Time: 0:00:01||\n",
      "Episode 17|Iteration 35|reward:   49.0|last_reward_at:   26|Elapsed Time: 0:00:01||\n",
      "Episode 17|Iteration 37|reward:   49.0|last_reward_at:   26|Elapsed Time: 0:00:01||\n",
      "Episode 17|Iteration 39|reward:   49.0|last_reward_at:   26|Elapsed Time: 0:00:01||\n",
      "Episode 17|Iteration 40|reward:   49.0|last_reward_at:   26|Elapsed Time: 0:00:01||\n",
      "Episode 17|Iteration 41|reward:   49.0|last_reward_at:   26|Elapsed Time: 0:00:01||\n",
      "Episode 17|Iteration 41|reward:   58.0|last_reward_at:   26|Elapsed Time: 0:00:01||\n",
      "Episode 17|Iteration 41|reward:   58.0|last_reward_at:   41|Elapsed Time: 0:00:01||\n",
      "Episode 17|Iteration 43|reward:   58.0|last_reward_at:   41|Elapsed Time: 0:00:01||\n",
      "Episode 17|Iteration 45|reward:   58.0|last_reward_at:   41|Elapsed Time: 0:00:01||\n",
      "Episode 17|Iteration 47|reward:   58.0|last_reward_at:   41|Elapsed Time: 0:00:01||\n",
      "Episode 17|Iteration 49|reward:   58.0|last_reward_at:   41|Elapsed Time: 0:00:01||\n",
      "Episode 17|Iteration 50|reward:   59.0|last_reward_at:   41|Elapsed Time: 0:00:01||\n",
      "Episode 17|Iteration 50|reward:   59.0|last_reward_at:   50|Elapsed Time: 0:00:01||\n",
      "Episode 17|Iteration 50|reward:   59.0|last_reward_at:   50|Elapsed Time: 0:00:01||\n"
     ]
    },
    {
     "name": "stdout",
     "output_type": "stream",
     "text": [
      "  Episode 17 stopped at t=50 \n",
      "  Breakdown [Reward/NoReward (Success rate)]\n",
      "    explore-local: 4/3 (0.57)\n",
      "    explore-remote: 0/25 (0.00)\n",
      "    explore-connect: 0/13 (0.00)\n",
      "    exploit-local: 1/0 (1.00)\n",
      "    exploit-remote: 0/0 (NaN)\n",
      "    exploit-connect: 4/0 (1.00)\n",
      "  exploit deflected to exploration: 0\n",
      "  ## Episode: 18/20 'DQL' ϵ=0.8865, γ=0.015, lr=0.01, replaymemory=10000,\n",
      "batch=512, target_update=5\n"
     ]
    },
    {
     "name": "stderr",
     "output_type": "stream",
     "text": [
      "Episode 18|Iteration 0|reward: ------|last_reward_at: ----|Elapsed Time: 0:00:00||\n",
      "Episode 18|Iteration 1|reward:    0.0|last_reward_at: ----|Elapsed Time: 0:00:00||\n",
      "Episode 18|Iteration 2|reward:    6.0|last_reward_at: ----|Elapsed Time: 0:00:00||\n",
      "Episode 18|Iteration 2|reward:    6.0|last_reward_at:    2|Elapsed Time: 0:00:00||\n",
      "Episode 18|Iteration 5|reward:    6.0|last_reward_at:    2|Elapsed Time: 0:00:00||\n",
      "Episode 18|Iteration 7|reward:    6.0|last_reward_at:    2|Elapsed Time: 0:00:00||\n",
      "Episode 18|Iteration 7|reward:   30.0|last_reward_at:    2|Elapsed Time: 0:00:00||\n",
      "Episode 18|Iteration 7|reward:   30.0|last_reward_at:    7|Elapsed Time: 0:00:00||\n",
      "Episode 18|Iteration 10|reward:   30.0|last_reward_at:    7|Elapsed Time: 0:00:00||\n",
      "Episode 18|Iteration 12|reward:   30.0|last_reward_at:    7|Elapsed Time: 0:00:00||\n",
      "Episode 18|Iteration 12|reward:   35.0|last_reward_at:    7|Elapsed Time: 0:00:00||\n",
      "Episode 18|Iteration 12|reward:   35.0|last_reward_at:   12|Elapsed Time: 0:00:00||\n",
      "Episode 18|Iteration 15|reward:   35.0|last_reward_at:   12|Elapsed Time: 0:00:00||\n",
      "Episode 18|Iteration 17|reward:   35.0|last_reward_at:   12|Elapsed Time: 0:00:00||\n",
      "Episode 18|Iteration 19|reward:   35.0|last_reward_at:   12|Elapsed Time: 0:00:00||\n",
      "Episode 18|Iteration 21|reward:   35.0|last_reward_at:   12|Elapsed Time: 0:00:00||\n",
      "Episode 18|Iteration 23|reward:   35.0|last_reward_at:   12|Elapsed Time: 0:00:00||\n",
      "Episode 18|Iteration 25|reward:   35.0|last_reward_at:   12|Elapsed Time: 0:00:00||\n",
      "Episode 18|Iteration 26|reward:   35.0|last_reward_at:   12|Elapsed Time: 0:00:00||\n",
      "Episode 18|Iteration 26|reward:   41.0|last_reward_at:   12|Elapsed Time: 0:00:00||\n",
      "Episode 18|Iteration 26|reward:   41.0|last_reward_at:   26|Elapsed Time: 0:00:00||\n",
      "Episode 18|Iteration 29|reward:   41.0|last_reward_at:   26|Elapsed Time: 0:00:01||\n",
      "Episode 18|Iteration 31|reward:   41.0|last_reward_at:   26|Elapsed Time: 0:00:01||\n",
      "Episode 18|Iteration 31|reward:   47.0|last_reward_at:   26|Elapsed Time: 0:00:01||\n",
      "Episode 18|Iteration 31|reward:   47.0|last_reward_at:   31|Elapsed Time: 0:00:01||\n",
      "Episode 18|Iteration 32|reward:   48.0|last_reward_at:   31|Elapsed Time: 0:00:01||\n",
      "Episode 18|Iteration 32|reward:   48.0|last_reward_at:   32|Elapsed Time: 0:00:01||\n",
      "Episode 18|Iteration 33|reward:   49.0|last_reward_at:   32|Elapsed Time: 0:00:01||\n",
      "Episode 18|Iteration 33|reward:   49.0|last_reward_at:   33|Elapsed Time: 0:00:01||\n",
      "Episode 18|Iteration 34|reward:   55.0|last_reward_at:   33|Elapsed Time: 0:00:01||\n",
      "Episode 18|Iteration 34|reward:   55.0|last_reward_at:   34|Elapsed Time: 0:00:01||\n",
      "Episode 18|Iteration 36|reward:   55.0|last_reward_at:   34|Elapsed Time: 0:00:01||\n",
      "Episode 18|Iteration 37|reward:   55.0|last_reward_at:   34|Elapsed Time: 0:00:01||\n",
      "Episode 18|Iteration 38|reward:   55.0|last_reward_at:   34|Elapsed Time: 0:00:01||\n",
      "Episode 18|Iteration 39|reward:   55.0|last_reward_at:   34|Elapsed Time: 0:00:01||\n",
      "Episode 18|Iteration 41|reward:   55.0|last_reward_at:   34|Elapsed Time: 0:00:01||\n",
      "Episode 18|Iteration 41|reward:   61.0|last_reward_at:   34|Elapsed Time: 0:00:01||\n",
      "Episode 18|Iteration 41|reward:   61.0|last_reward_at:   41|Elapsed Time: 0:00:01||\n",
      "Episode 18|Iteration 43|reward:   61.0|last_reward_at:   41|Elapsed Time: 0:00:01||\n",
      "Episode 18|Iteration 44|reward:   61.0|last_reward_at:   41|Elapsed Time: 0:00:01||\n",
      "Episode 18|Iteration 46|reward:   61.0|last_reward_at:   41|Elapsed Time: 0:00:01||\n",
      "Episode 18|Iteration 48|reward:   61.0|last_reward_at:   41|Elapsed Time: 0:00:01||\n",
      "Episode 18|Iteration 48|reward:   62.0|last_reward_at:   41|Elapsed Time: 0:00:01||\n",
      "Episode 18|Iteration 48|reward:   62.0|last_reward_at:   48|Elapsed Time: 0:00:01||\n",
      "Episode 18|Iteration 50|reward:   62.0|last_reward_at:   48|Elapsed Time: 0:00:02||\n"
     ]
    },
    {
     "name": "stdout",
     "output_type": "stream",
     "text": [
      "  Episode 18 stopped at t=50 \n",
      "  Breakdown [Reward/NoReward (Success rate)]\n",
      "    explore-local: 6/7 (0.46)\n",
      "    explore-remote: 0/19 (0.00)\n",
      "    explore-connect: 0/14 (0.00)\n",
      "    exploit-local: 0/0 (NaN)\n",
      "    exploit-remote: 0/0 (NaN)\n",
      "    exploit-connect: 4/0 (1.00)\n",
      "  exploit deflected to exploration: 0\n",
      "  ## Episode: 19/20 'DQL' ϵ=0.8857, γ=0.015, lr=0.01, replaymemory=10000,\n",
      "batch=512, target_update=5\n"
     ]
    },
    {
     "name": "stderr",
     "output_type": "stream",
     "text": [
      "Episode 19|Iteration 0|reward: ------|last_reward_at: ----|Elapsed Time: 0:00:00||\n",
      "Episode 19|Iteration 1|reward:   24.0|last_reward_at: ----|Elapsed Time: 0:00:00||\n",
      "Episode 19|Iteration 1|reward:   24.0|last_reward_at:    1|Elapsed Time: 0:00:00||\n",
      "Episode 19|Iteration 2|reward:   29.0|last_reward_at:    1|Elapsed Time: 0:00:00||\n",
      "Episode 19|Iteration 2|reward:   29.0|last_reward_at:    2|Elapsed Time: 0:00:00||\n",
      "Episode 19|Iteration 3|reward:   35.0|last_reward_at:    2|Elapsed Time: 0:00:00||\n",
      "Episode 19|Iteration 3|reward:   35.0|last_reward_at:    3|Elapsed Time: 0:00:00||\n",
      "Episode 19|Iteration 5|reward:   41.0|last_reward_at:    3|Elapsed Time: 0:00:00||\n",
      "Episode 19|Iteration 5|reward:   41.0|last_reward_at:    5|Elapsed Time: 0:00:00||\n",
      "Episode 19|Iteration 7|reward:   41.0|last_reward_at:    5|Elapsed Time: 0:00:00||\n",
      "Episode 19|Iteration 7|reward:   47.0|last_reward_at:    5|Elapsed Time: 0:00:00||\n",
      "Episode 19|Iteration 7|reward:   47.0|last_reward_at:    7|Elapsed Time: 0:00:00||\n",
      "Episode 19|Iteration 10|reward:   47.0|last_reward_at:    7|Elapsed Time: 0:00:00||\n",
      "Episode 19|Iteration 10|reward:   48.0|last_reward_at:    7|Elapsed Time: 0:00:00||\n",
      "Episode 19|Iteration 10|reward:   48.0|last_reward_at:   10|Elapsed Time: 0:00:00||\n",
      "Episode 19|Iteration 13|reward:   48.0|last_reward_at:   10|Elapsed Time: 0:00:00||\n",
      "Episode 19|Iteration 13|reward:   49.0|last_reward_at:   10|Elapsed Time: 0:00:00||\n",
      "Episode 19|Iteration 13|reward:   49.0|last_reward_at:   13|Elapsed Time: 0:00:00||\n",
      "Episode 19|Iteration 14|reward:   55.0|last_reward_at:   13|Elapsed Time: 0:00:00||\n",
      "Episode 19|Iteration 14|reward:   55.0|last_reward_at:   14|Elapsed Time: 0:00:00||\n",
      "Episode 19|Iteration 15|reward:   61.0|last_reward_at:   14|Elapsed Time: 0:00:00||\n",
      "Episode 19|Iteration 15|reward:   61.0|last_reward_at:   15|Elapsed Time: 0:00:00||\n",
      "Episode 19|Iteration 16|reward:   62.0|last_reward_at:   15|Elapsed Time: 0:00:00||\n",
      "Episode 19|Iteration 16|reward:   62.0|last_reward_at:   16|Elapsed Time: 0:00:00||\n",
      "Episode 19|Iteration 19|reward:   62.0|last_reward_at:   16|Elapsed Time: 0:00:00||\n",
      "Episode 19|Iteration 20|reward:   62.0|last_reward_at:   16|Elapsed Time: 0:00:00||\n",
      "Episode 19|Iteration 21|reward:   63.0|last_reward_at:   16|Elapsed Time: 0:00:00||\n",
      "Episode 19|Iteration 21|reward:   63.0|last_reward_at:   21|Elapsed Time: 0:00:00||\n",
      "Episode 19|Iteration 24|reward:   63.0|last_reward_at:   21|Elapsed Time: 0:00:01||\n",
      "Episode 19|Iteration 26|reward:   63.0|last_reward_at:   21|Elapsed Time: 0:00:01||\n",
      "Episode 19|Iteration 26|reward:   72.0|last_reward_at:   21|Elapsed Time: 0:00:01||\n",
      "Episode 19|Iteration 26|reward:   72.0|last_reward_at:   26|Elapsed Time: 0:00:01||\n",
      "Episode 19|Iteration 27|reward:   78.0|last_reward_at:   26|Elapsed Time: 0:00:01||\n",
      "Episode 19|Iteration 27|reward:   78.0|last_reward_at:   27|Elapsed Time: 0:00:01||\n",
      "Episode 19|Iteration 30|reward:   78.0|last_reward_at:   27|Elapsed Time: 0:00:01||\n",
      "Episode 19|Iteration 32|reward:   78.0|last_reward_at:   27|Elapsed Time: 0:00:01||\n",
      "Episode 19|Iteration 33|reward:   84.0|last_reward_at:   27|Elapsed Time: 0:00:01||\n",
      "Episode 19|Iteration 33|reward:   84.0|last_reward_at:   33|Elapsed Time: 0:00:01||\n",
      "Episode 19|Iteration 34|reward:   90.0|last_reward_at:   33|Elapsed Time: 0:00:01||\n",
      "Episode 19|Iteration 34|reward:   90.0|last_reward_at:   34|Elapsed Time: 0:00:01||\n",
      "Episode 19|Iteration 37|reward:   90.0|last_reward_at:   34|Elapsed Time: 0:00:01||\n",
      "Episode 19|Iteration 39|reward:   90.0|last_reward_at:   34|Elapsed Time: 0:00:01||\n",
      "Episode 19|Iteration 40|reward:   96.0|last_reward_at:   34|Elapsed Time: 0:00:01||\n",
      "Episode 19|Iteration 40|reward:   96.0|last_reward_at:   40|Elapsed Time: 0:00:01||\n",
      "Episode 19|Iteration 43|reward:   96.0|last_reward_at:   40|Elapsed Time: 0:00:01||\n",
      "Episode 19|Iteration 45|reward:   96.0|last_reward_at:   40|Elapsed Time: 0:00:01||\n",
      "Episode 19|Iteration 45|reward:  196.0|last_reward_at:   40|Elapsed Time: 0:00:01||\n",
      "Episode 19|Iteration 45|reward:  196.0|last_reward_at:   45|Elapsed Time: 0:00:01||\n",
      "Episode 19|Iteration 47|reward:  415.0|last_reward_at:   45|Elapsed Time: 0:00:01||\n",
      "Episode 19|Iteration 47|reward:  415.0|last_reward_at:   47|Elapsed Time: 0:00:01||\n",
      "Episode 19|Iteration 50|reward:  415.0|last_reward_at:   47|Elapsed Time: 0:00:02||\n",
      "Episode 19|Iteration 50|reward:  421.0|last_reward_at:   47|Elapsed Time: 0:00:02||\n",
      "Episode 19|Iteration 50|reward:  421.0|last_reward_at:   50|Elapsed Time: 0:00:02||\n",
      "Episode 19|Iteration 50|reward:  421.0|last_reward_at:   50|Elapsed Time: 0:00:02||\n"
     ]
    },
    {
     "name": "stdout",
     "output_type": "stream",
     "text": [
      "  Episode 19 stopped at t=50 \n",
      "  Breakdown [Reward/NoReward (Success rate)]\n",
      "    explore-local: 10/3 (0.77)\n",
      "    explore-remote: 0/16 (0.00)\n",
      "    explore-connect: 1/12 (0.08)\n",
      "    exploit-local: 3/0 (1.00)\n",
      "    exploit-remote: 0/0 (NaN)\n",
      "    exploit-connect: 5/0 (1.00)\n",
      "  exploit deflected to exploration: 0\n",
      "  ## Episode: 20/20 'DQL' ϵ=0.8850, γ=0.015, lr=0.01, replaymemory=10000,\n",
      "batch=512, target_update=5\n"
     ]
    },
    {
     "name": "stderr",
     "output_type": "stream",
     "text": [
      "Episode 20|Iteration 0|reward: ------|last_reward_at: ----|Elapsed Time: 0:00:00||\n",
      "Episode 20|Iteration 1|reward:    6.0|last_reward_at: ----|Elapsed Time: 0:00:00||\n",
      "Episode 20|Iteration 1|reward:    6.0|last_reward_at:    1|Elapsed Time: 0:00:00||\n",
      "Episode 20|Iteration 2|reward:   12.0|last_reward_at:    1|Elapsed Time: 0:00:00||\n",
      "Episode 20|Iteration 2|reward:   12.0|last_reward_at:    2|Elapsed Time: 0:00:00||\n",
      "Episode 20|Iteration 4|reward:   36.0|last_reward_at:    2|Elapsed Time: 0:00:00||\n",
      "Episode 20|Iteration 4|reward:   36.0|last_reward_at:    4|Elapsed Time: 0:00:00||\n",
      "Episode 20|Iteration 5|reward:   37.0|last_reward_at:    4|Elapsed Time: 0:00:00||\n",
      "Episode 20|Iteration 5|reward:   37.0|last_reward_at:    5|Elapsed Time: 0:00:00||\n",
      "Episode 20|Iteration 7|reward:   38.0|last_reward_at:    5|Elapsed Time: 0:00:00||\n",
      "Episode 20|Iteration 7|reward:   38.0|last_reward_at:    7|Elapsed Time: 0:00:00||\n",
      "Episode 20|Iteration 10|reward:   38.0|last_reward_at:    7|Elapsed Time: 0:00:00||\n",
      "Episode 20|Iteration 12|reward:   38.0|last_reward_at:    7|Elapsed Time: 0:00:00||\n",
      "Episode 20|Iteration 14|reward:   38.0|last_reward_at:    7|Elapsed Time: 0:00:00||\n",
      "Episode 20|Iteration 15|reward:   39.0|last_reward_at:    7|Elapsed Time: 0:00:00||\n",
      "Episode 20|Iteration 15|reward:   39.0|last_reward_at:   15|Elapsed Time: 0:00:00||\n",
      "Episode 20|Iteration 16|reward:   44.0|last_reward_at:   15|Elapsed Time: 0:00:00||\n",
      "Episode 20|Iteration 16|reward:   44.0|last_reward_at:   16|Elapsed Time: 0:00:00||\n",
      "Episode 20|Iteration 18|reward:   45.0|last_reward_at:   16|Elapsed Time: 0:00:00||\n",
      "Episode 20|Iteration 18|reward:   45.0|last_reward_at:   18|Elapsed Time: 0:00:00||\n",
      "Episode 20|Iteration 21|reward:   45.0|last_reward_at:   18|Elapsed Time: 0:00:00||\n",
      "Episode 20|Iteration 23|reward:   45.0|last_reward_at:   18|Elapsed Time: 0:00:00||\n",
      "Episode 20|Iteration 24|reward:   51.0|last_reward_at:   18|Elapsed Time: 0:00:00||\n",
      "Episode 20|Iteration 24|reward:   51.0|last_reward_at:   24|Elapsed Time: 0:00:00||\n",
      "Episode 20|Iteration 27|reward:   51.0|last_reward_at:   24|Elapsed Time: 0:00:00||\n",
      "Episode 20|Iteration 27|reward:   57.0|last_reward_at:   24|Elapsed Time: 0:00:01||\n",
      "Episode 20|Iteration 27|reward:   57.0|last_reward_at:   27|Elapsed Time: 0:00:01||\n",
      "Episode 20|Iteration 30|reward:   57.0|last_reward_at:   27|Elapsed Time: 0:00:01||\n",
      "Episode 20|Iteration 32|reward:   57.0|last_reward_at:   27|Elapsed Time: 0:00:01||\n",
      "Episode 20|Iteration 34|reward:   57.0|last_reward_at:   27|Elapsed Time: 0:00:01||\n",
      "Episode 20|Iteration 36|reward:   57.0|last_reward_at:   27|Elapsed Time: 0:00:01||\n",
      "Episode 20|Iteration 37|reward:   57.0|last_reward_at:   27|Elapsed Time: 0:00:01||\n",
      "Episode 20|Iteration 39|reward:   57.0|last_reward_at:   27|Elapsed Time: 0:00:01||\n",
      "Episode 20|Iteration 41|reward:   57.0|last_reward_at:   27|Elapsed Time: 0:00:01||\n",
      "Episode 20|Iteration 41|reward:   66.0|last_reward_at:   27|Elapsed Time: 0:00:01||\n",
      "Episode 20|Iteration 41|reward:   66.0|last_reward_at:   41|Elapsed Time: 0:00:01||\n",
      "Episode 20|Iteration 43|reward:   66.0|last_reward_at:   41|Elapsed Time: 0:00:01||\n",
      "Episode 20|Iteration 44|reward:   66.0|last_reward_at:   41|Elapsed Time: 0:00:01||\n",
      "Episode 20|Iteration 45|reward:   66.0|last_reward_at:   41|Elapsed Time: 0:00:01||\n",
      "Episode 20|Iteration 47|reward:   66.0|last_reward_at:   41|Elapsed Time: 0:00:01||\n",
      "Episode 20|Iteration 49|reward:   66.0|last_reward_at:   41|Elapsed Time: 0:00:02||\n",
      "Episode 20|Iteration 50|reward:  166.0|last_reward_at:   41|Elapsed Time: 0:00:02||\n",
      "Episode 20|Iteration 50|reward:  166.0|last_reward_at:   50|Elapsed Time: 0:00:02||\n",
      "Episode 20|Iteration 50|reward:  166.0|last_reward_at:   50|Elapsed Time: 0:00:02||\n"
     ]
    },
    {
     "name": "stdout",
     "output_type": "stream",
     "text": [
      "  Episode 20 stopped at t=50 \n",
      "  Breakdown [Reward/NoReward (Success rate)]\n",
      "    explore-local: 5/7 (0.42)\n",
      "    explore-remote: 0/19 (0.00)\n",
      "    explore-connect: 1/12 (0.08)\n",
      "    exploit-local: 1/0 (1.00)\n",
      "    exploit-remote: 0/0 (NaN)\n",
      "    exploit-connect: 5/0 (1.00)\n",
      "  exploit deflected to exploration: 0\n",
      "simulation ended\n",
      "###### DQL\n",
      "Learning with: episode_count=20,iteration_count=50,ϵ=0.9,ϵ_min=0.1, ϵ_expdecay=50000,γ=0.015, lr=0.01, replaymemory=10000,\n",
      "batch=512, target_update=5\n",
      "  ## Episode: 1/20 'DQL' ϵ=0.9000, γ=0.015, lr=0.01, replaymemory=10000,\n",
      "batch=512, target_update=5\n"
     ]
    },
    {
     "name": "stderr",
     "output_type": "stream",
     "text": [
      "Episode 1|Iteration 0|reward: ------|last_reward_at: ----|Elapsed Time: 0:00:00||\n",
      "Episode 1|Iteration 1|reward:    0.0|last_reward_at: ----|Elapsed Time: 0:00:00||\n",
      "Episode 1|Iteration 2|reward:    6.0|last_reward_at: ----|Elapsed Time: 0:00:00||\n",
      "Episode 1|Iteration 2|reward:    6.0|last_reward_at:    2|Elapsed Time: 0:00:00||\n",
      "Episode 1|Iteration 4|reward:   12.0|last_reward_at:    2|Elapsed Time: 0:00:00||\n",
      "Episode 1|Iteration 4|reward:   12.0|last_reward_at:    4|Elapsed Time: 0:00:00||\n",
      "Episode 1|Iteration 7|reward:   12.0|last_reward_at:    4|Elapsed Time: 0:00:00||\n",
      "Episode 1|Iteration 8|reward:   30.0|last_reward_at:    4|Elapsed Time: 0:00:00||\n",
      "Episode 1|Iteration 8|reward:   30.0|last_reward_at:    8|Elapsed Time: 0:00:00||\n",
      "Episode 1|Iteration 11|reward:   30.0|last_reward_at:    8|Elapsed Time: 0:00:00||\n",
      "Episode 1|Iteration 11|reward:   31.0|last_reward_at:    8|Elapsed Time: 0:00:00||\n",
      "Episode 1|Iteration 11|reward:   31.0|last_reward_at:   11|Elapsed Time: 0:00:00||\n",
      "Episode 1|Iteration 14|reward:   31.0|last_reward_at:   11|Elapsed Time: 0:00:00||\n",
      "Episode 1|Iteration 15|reward:   37.0|last_reward_at:   11|Elapsed Time: 0:00:00||\n",
      "Episode 1|Iteration 15|reward:   37.0|last_reward_at:   15|Elapsed Time: 0:00:00||\n",
      "Episode 1|Iteration 18|reward:   37.0|last_reward_at:   15|Elapsed Time: 0:00:00||\n",
      "Episode 1|Iteration 18|reward:   43.0|last_reward_at:   15|Elapsed Time: 0:00:00||\n",
      "Episode 1|Iteration 18|reward:   43.0|last_reward_at:   18|Elapsed Time: 0:00:00||\n",
      "Episode 1|Iteration 20|reward:   49.0|last_reward_at:   18|Elapsed Time: 0:00:00||\n",
      "Episode 1|Iteration 20|reward:   49.0|last_reward_at:   20|Elapsed Time: 0:00:00||\n",
      "Episode 1|Iteration 23|reward:   49.0|last_reward_at:   20|Elapsed Time: 0:00:00||\n",
      "Episode 1|Iteration 24|reward:   49.0|last_reward_at:   20|Elapsed Time: 0:00:00||\n",
      "Episode 1|Iteration 26|reward:   49.0|last_reward_at:   20|Elapsed Time: 0:00:00||\n",
      "Episode 1|Iteration 26|reward:   54.0|last_reward_at:   20|Elapsed Time: 0:00:00||\n",
      "Episode 1|Iteration 26|reward:   54.0|last_reward_at:   26|Elapsed Time: 0:00:00||\n",
      "Episode 1|Iteration 29|reward:   54.0|last_reward_at:   26|Elapsed Time: 0:00:01||\n",
      "Episode 1|Iteration 29|reward:   55.0|last_reward_at:   26|Elapsed Time: 0:00:01||\n",
      "Episode 1|Iteration 29|reward:   55.0|last_reward_at:   29|Elapsed Time: 0:00:01||\n",
      "Episode 1|Iteration 31|reward:   64.0|last_reward_at:   29|Elapsed Time: 0:00:01||\n",
      "Episode 1|Iteration 31|reward:   64.0|last_reward_at:   31|Elapsed Time: 0:00:01||\n",
      "Episode 1|Iteration 34|reward:   64.0|last_reward_at:   31|Elapsed Time: 0:00:01||\n",
      "Episode 1|Iteration 34|reward:  164.0|last_reward_at:   31|Elapsed Time: 0:00:01||\n",
      "Episode 1|Iteration 34|reward:  164.0|last_reward_at:   34|Elapsed Time: 0:00:01||\n",
      "Episode 1|Iteration 35|reward:  170.0|last_reward_at:   34|Elapsed Time: 0:00:01||\n",
      "Episode 1|Iteration 35|reward:  170.0|last_reward_at:   35|Elapsed Time: 0:00:01||\n",
      "Episode 1|Iteration 36|reward:  431.0|last_reward_at:   35|Elapsed Time: 0:00:01||\n",
      "Episode 1|Iteration 36|reward:  431.0|last_reward_at:   36|Elapsed Time: 0:00:01||\n",
      "Episode 1|Iteration 37|reward:  437.0|last_reward_at:   36|Elapsed Time: 0:00:01||\n",
      "Episode 1|Iteration 37|reward:  437.0|last_reward_at:   37|Elapsed Time: 0:00:01||\n",
      "Episode 1|Iteration 40|reward:  437.0|last_reward_at:   37|Elapsed Time: 0:00:01||\n",
      "Episode 1|Iteration 42|reward:  437.0|last_reward_at:   37|Elapsed Time: 0:00:01||\n",
      "Episode 1|Iteration 44|reward:  437.0|last_reward_at:   37|Elapsed Time: 0:00:01||\n",
      "Episode 1|Iteration 46|reward:  437.0|last_reward_at:   37|Elapsed Time: 0:00:01||\n",
      "Episode 1|Iteration 47|reward:  437.0|last_reward_at:   37|Elapsed Time: 0:00:01||\n",
      "Episode 1|Iteration 49|reward:  437.0|last_reward_at:   37|Elapsed Time: 0:00:01||\n",
      "Episode 1|Iteration 50|reward:  437.0|last_reward_at:   37|Elapsed Time: 0:00:01||\n"
     ]
    },
    {
     "name": "stdout",
     "output_type": "stream",
     "text": [
      "  Episode 1 stopped at t=50 \n",
      "  Breakdown [Reward/NoReward (Success rate)]\n",
      "    explore-local: 9/7 (0.56)\n",
      "    explore-remote: 0/16 (0.00)\n",
      "    explore-connect: 1/11 (0.08)\n",
      "    exploit-local: 1/0 (1.00)\n",
      "    exploit-remote: 0/0 (NaN)\n",
      "    exploit-connect: 3/2 (0.60)\n",
      "  exploit deflected to exploration: 0\n",
      "  ## Episode: 2/20 'DQL' ϵ=0.8992, γ=0.015, lr=0.01, replaymemory=10000,\n",
      "batch=512, target_update=5\n"
     ]
    },
    {
     "name": "stderr",
     "output_type": "stream",
     "text": [
      "Episode 2|Iteration 0|reward: ------|last_reward_at: ----|Elapsed Time: 0:00:00||\n",
      "Episode 2|Iteration 1|reward:   18.0|last_reward_at: ----|Elapsed Time: 0:00:00||\n",
      "Episode 2|Iteration 1|reward:   18.0|last_reward_at:    1|Elapsed Time: 0:00:00||\n",
      "Episode 2|Iteration 4|reward:   18.0|last_reward_at:    1|Elapsed Time: 0:00:00||\n",
      "Episode 2|Iteration 6|reward:   18.0|last_reward_at:    1|Elapsed Time: 0:00:00||\n",
      "Episode 2|Iteration 8|reward:   18.0|last_reward_at:    1|Elapsed Time: 0:00:00||\n",
      "Episode 2|Iteration 9|reward:   23.0|last_reward_at:    1|Elapsed Time: 0:00:00||\n",
      "Episode 2|Iteration 9|reward:   23.0|last_reward_at:    9|Elapsed Time: 0:00:00||\n",
      "Episode 2|Iteration 11|reward:   24.0|last_reward_at:    9|Elapsed Time: 0:00:00||\n",
      "Episode 2|Iteration 11|reward:   24.0|last_reward_at:   11|Elapsed Time: 0:00:00||\n",
      "Episode 2|Iteration 13|reward:   25.0|last_reward_at:   11|Elapsed Time: 0:00:00||\n",
      "Episode 2|Iteration 13|reward:   25.0|last_reward_at:   13|Elapsed Time: 0:00:00||\n",
      "Episode 2|Iteration 16|reward:   25.0|last_reward_at:   13|Elapsed Time: 0:00:00||\n",
      "Episode 2|Iteration 17|reward:   25.0|last_reward_at:   13|Elapsed Time: 0:00:00||\n",
      "Episode 2|Iteration 17|reward:   31.0|last_reward_at:   13|Elapsed Time: 0:00:00||\n",
      "Episode 2|Iteration 17|reward:   31.0|last_reward_at:   17|Elapsed Time: 0:00:00||\n",
      "Episode 2|Iteration 19|reward:   40.0|last_reward_at:   17|Elapsed Time: 0:00:00||\n",
      "Episode 2|Iteration 19|reward:   40.0|last_reward_at:   19|Elapsed Time: 0:00:00||\n",
      "Episode 2|Iteration 20|reward:   46.0|last_reward_at:   19|Elapsed Time: 0:00:00||\n",
      "Episode 2|Iteration 20|reward:   46.0|last_reward_at:   20|Elapsed Time: 0:00:00||\n",
      "Episode 2|Iteration 22|reward:  146.0|last_reward_at:   20|Elapsed Time: 0:00:00||\n",
      "Episode 2|Iteration 22|reward:  146.0|last_reward_at:   22|Elapsed Time: 0:00:00||\n",
      "Episode 2|Iteration 25|reward:  146.0|last_reward_at:   22|Elapsed Time: 0:00:00||\n",
      "Episode 2|Iteration 25|reward:  152.0|last_reward_at:   22|Elapsed Time: 0:00:00||\n",
      "Episode 2|Iteration 25|reward:  152.0|last_reward_at:   25|Elapsed Time: 0:00:00||\n",
      "Episode 2|Iteration 28|reward:  152.0|last_reward_at:   25|Elapsed Time: 0:00:01||\n",
      "Episode 2|Iteration 28|reward:  158.0|last_reward_at:   25|Elapsed Time: 0:00:01||\n",
      "Episode 2|Iteration 28|reward:  158.0|last_reward_at:   28|Elapsed Time: 0:00:01||\n",
      "Episode 2|Iteration 30|reward:  158.0|last_reward_at:   28|Elapsed Time: 0:00:01||\n",
      "Episode 2|Iteration 31|reward:  164.0|last_reward_at:   28|Elapsed Time: 0:00:01||\n",
      "Episode 2|Iteration 31|reward:  164.0|last_reward_at:   31|Elapsed Time: 0:00:01||\n",
      "Episode 2|Iteration 33|reward:  164.0|last_reward_at:   31|Elapsed Time: 0:00:01||\n",
      "Episode 2|Iteration 34|reward:  164.0|last_reward_at:   31|Elapsed Time: 0:00:01||\n",
      "Episode 2|Iteration 35|reward:  164.0|last_reward_at:   31|Elapsed Time: 0:00:01||\n",
      "Episode 2|Iteration 36|reward:  170.0|last_reward_at:   31|Elapsed Time: 0:00:01||\n",
      "Episode 2|Iteration 36|reward:  170.0|last_reward_at:   36|Elapsed Time: 0:00:01||\n",
      "Episode 2|Iteration 38|reward:  431.0|last_reward_at:   36|Elapsed Time: 0:00:01||\n",
      "Episode 2|Iteration 38|reward:  431.0|last_reward_at:   38|Elapsed Time: 0:00:01||\n",
      "Episode 2|Iteration 40|reward:  437.0|last_reward_at:   38|Elapsed Time: 0:00:01||\n",
      "Episode 2|Iteration 40|reward:  437.0|last_reward_at:   40|Elapsed Time: 0:00:01||\n",
      "Episode 2|Iteration 43|reward:  437.0|last_reward_at:   40|Elapsed Time: 0:00:01||\n",
      "Episode 2|Iteration 45|reward:  437.0|last_reward_at:   40|Elapsed Time: 0:00:01||\n",
      "Episode 2|Iteration 47|reward:  437.0|last_reward_at:   40|Elapsed Time: 0:00:01||\n",
      "Episode 2|Iteration 49|reward:  437.0|last_reward_at:   40|Elapsed Time: 0:00:02||\n",
      "Episode 2|Iteration 50|reward:  437.0|last_reward_at:   40|Elapsed Time: 0:00:02||\n"
     ]
    },
    {
     "name": "stdout",
     "output_type": "stream",
     "text": [
      "  Episode 2 stopped at t=50 \n",
      "  Breakdown [Reward/NoReward (Success rate)]\n",
      "    explore-local: 7/7 (0.50)\n",
      "    explore-remote: 0/15 (0.00)\n",
      "    explore-connect: 1/12 (0.08)\n",
      "    exploit-local: 3/0 (1.00)\n",
      "    exploit-remote: 0/0 (NaN)\n",
      "    exploit-connect: 3/2 (0.60)\n",
      "  exploit deflected to exploration: 0\n",
      "  ## Episode: 3/20 'DQL' ϵ=0.8984, γ=0.015, lr=0.01, replaymemory=10000,\n",
      "batch=512, target_update=5\n"
     ]
    },
    {
     "name": "stderr",
     "output_type": "stream",
     "text": [
      "Episode 3|Iteration 0|reward: ------|last_reward_at: ----|Elapsed Time: 0:00:00||\n",
      "Episode 3|Iteration 1|reward:    0.0|last_reward_at: ----|Elapsed Time: 0:00:00||\n",
      "Episode 3|Iteration 2|reward:   18.0|last_reward_at: ----|Elapsed Time: 0:00:00||\n",
      "Episode 3|Iteration 2|reward:   18.0|last_reward_at:    2|Elapsed Time: 0:00:00||\n",
      "Episode 3|Iteration 3|reward:   23.0|last_reward_at:    2|Elapsed Time: 0:00:00||\n",
      "Episode 3|Iteration 3|reward:   23.0|last_reward_at:    3|Elapsed Time: 0:00:00||\n",
      "Episode 3|Iteration 4|reward:   29.0|last_reward_at:    3|Elapsed Time: 0:00:00||\n",
      "Episode 3|Iteration 4|reward:   29.0|last_reward_at:    4|Elapsed Time: 0:00:00||\n",
      "Episode 3|Iteration 7|reward:   29.0|last_reward_at:    4|Elapsed Time: 0:00:00||\n",
      "Episode 3|Iteration 9|reward:   29.0|last_reward_at:    4|Elapsed Time: 0:00:00||\n",
      "Episode 3|Iteration 11|reward:   29.0|last_reward_at:    4|Elapsed Time: 0:00:00||\n",
      "Episode 3|Iteration 12|reward:   29.0|last_reward_at:    4|Elapsed Time: 0:00:00||\n",
      "Episode 3|Iteration 13|reward:   35.0|last_reward_at:    4|Elapsed Time: 0:00:00||\n",
      "Episode 3|Iteration 13|reward:   35.0|last_reward_at:   13|Elapsed Time: 0:00:00||\n",
      "Episode 3|Iteration 14|reward:   41.0|last_reward_at:   13|Elapsed Time: 0:00:00||\n",
      "Episode 3|Iteration 14|reward:   41.0|last_reward_at:   14|Elapsed Time: 0:00:00||\n",
      "Episode 3|Iteration 17|reward:   41.0|last_reward_at:   14|Elapsed Time: 0:00:00||\n",
      "Episode 3|Iteration 19|reward:   41.0|last_reward_at:   14|Elapsed Time: 0:00:00||\n",
      "Episode 3|Iteration 21|reward:   41.0|last_reward_at:   14|Elapsed Time: 0:00:00||\n",
      "Episode 3|Iteration 23|reward:   41.0|last_reward_at:   14|Elapsed Time: 0:00:00||\n",
      "Episode 3|Iteration 25|reward:   41.0|last_reward_at:   14|Elapsed Time: 0:00:00||\n",
      "Episode 3|Iteration 27|reward:   41.0|last_reward_at:   14|Elapsed Time: 0:00:00||\n",
      "Episode 3|Iteration 29|reward:   41.0|last_reward_at:   14|Elapsed Time: 0:00:01||\n",
      "Episode 3|Iteration 31|reward:   41.0|last_reward_at:   14|Elapsed Time: 0:00:01||\n",
      "Episode 3|Iteration 33|reward:   41.0|last_reward_at:   14|Elapsed Time: 0:00:01||\n",
      "Episode 3|Iteration 35|reward:   41.0|last_reward_at:   14|Elapsed Time: 0:00:01||\n",
      "Episode 3|Iteration 35|reward:   47.0|last_reward_at:   14|Elapsed Time: 0:00:01||\n",
      "Episode 3|Iteration 35|reward:   47.0|last_reward_at:   35|Elapsed Time: 0:00:01||\n",
      "Episode 3|Iteration 38|reward:   47.0|last_reward_at:   35|Elapsed Time: 0:00:01||\n",
      "Episode 3|Iteration 40|reward:   47.0|last_reward_at:   35|Elapsed Time: 0:00:01||\n",
      "Episode 3|Iteration 42|reward:   47.0|last_reward_at:   35|Elapsed Time: 0:00:01||\n",
      "Episode 3|Iteration 44|reward:   47.0|last_reward_at:   35|Elapsed Time: 0:00:01||\n",
      "Episode 3|Iteration 46|reward:   47.0|last_reward_at:   35|Elapsed Time: 0:00:01||\n",
      "Episode 3|Iteration 46|reward:   48.0|last_reward_at:   35|Elapsed Time: 0:00:01||\n",
      "Episode 3|Iteration 46|reward:   48.0|last_reward_at:   46|Elapsed Time: 0:00:01||\n",
      "Episode 3|Iteration 49|reward:   48.0|last_reward_at:   46|Elapsed Time: 0:00:01||\n",
      "Episode 3|Iteration 49|reward:   49.0|last_reward_at:   46|Elapsed Time: 0:00:01||\n",
      "Episode 3|Iteration 49|reward:   49.0|last_reward_at:   49|Elapsed Time: 0:00:01||\n",
      "Episode 3|Iteration 50|reward:   49.0|last_reward_at:   49|Elapsed Time: 0:00:01||\n"
     ]
    },
    {
     "name": "stdout",
     "output_type": "stream",
     "text": [
      "  Episode 3 stopped at t=50 \n",
      "  Breakdown [Reward/NoReward (Success rate)]\n",
      "    explore-local: 5/6 (0.45)\n",
      "    explore-remote: 0/14 (0.00)\n",
      "    explore-connect: 1/22 (0.04)\n",
      "    exploit-local: 0/0 (NaN)\n",
      "    exploit-remote: 0/0 (NaN)\n",
      "    exploit-connect: 2/0 (1.00)\n",
      "  exploit deflected to exploration: 0\n",
      "  ## Episode: 4/20 'DQL' ϵ=0.8976, γ=0.015, lr=0.01, replaymemory=10000,\n",
      "batch=512, target_update=5\n"
     ]
    },
    {
     "name": "stderr",
     "output_type": "stream",
     "text": [
      "Episode 4|Iteration 0|reward: ------|last_reward_at: ----|Elapsed Time: 0:00:00||\n",
      "Episode 4|Iteration 1|reward:    0.0|last_reward_at: ----|Elapsed Time: 0:00:00||\n",
      "Episode 4|Iteration 2|reward:   18.0|last_reward_at: ----|Elapsed Time: 0:00:00||\n",
      "Episode 4|Iteration 2|reward:   18.0|last_reward_at:    2|Elapsed Time: 0:00:00||\n",
      "Episode 4|Iteration 5|reward:   18.0|last_reward_at:    2|Elapsed Time: 0:00:00||\n",
      "Episode 4|Iteration 5|reward:   19.0|last_reward_at:    2|Elapsed Time: 0:00:00||\n",
      "Episode 4|Iteration 5|reward:   19.0|last_reward_at:    5|Elapsed Time: 0:00:00||\n",
      "Episode 4|Iteration 6|reward:   25.0|last_reward_at:    5|Elapsed Time: 0:00:00||\n",
      "Episode 4|Iteration 6|reward:   25.0|last_reward_at:    6|Elapsed Time: 0:00:00||\n",
      "Episode 4|Iteration 9|reward:   25.0|last_reward_at:    6|Elapsed Time: 0:00:00||\n",
      "Episode 4|Iteration 11|reward:   25.0|last_reward_at:    6|Elapsed Time: 0:00:00||\n",
      "Episode 4|Iteration 12|reward:   31.0|last_reward_at:    6|Elapsed Time: 0:00:00||\n",
      "Episode 4|Iteration 12|reward:   31.0|last_reward_at:   12|Elapsed Time: 0:00:00||\n",
      "Episode 4|Iteration 15|reward:   31.0|last_reward_at:   12|Elapsed Time: 0:00:00||\n",
      "Episode 4|Iteration 16|reward:   36.0|last_reward_at:   12|Elapsed Time: 0:00:00||\n",
      "Episode 4|Iteration 16|reward:   36.0|last_reward_at:   16|Elapsed Time: 0:00:00||\n",
      "Episode 4|Iteration 19|reward:   36.0|last_reward_at:   16|Elapsed Time: 0:00:00||\n",
      "Episode 4|Iteration 20|reward:   37.0|last_reward_at:   16|Elapsed Time: 0:00:00||\n",
      "Episode 4|Iteration 20|reward:   37.0|last_reward_at:   20|Elapsed Time: 0:00:00||\n",
      "Episode 4|Iteration 23|reward:   37.0|last_reward_at:   20|Elapsed Time: 0:00:00||\n",
      "Episode 4|Iteration 23|reward:   43.0|last_reward_at:   20|Elapsed Time: 0:00:00||\n",
      "Episode 4|Iteration 23|reward:   43.0|last_reward_at:   23|Elapsed Time: 0:00:00||\n",
      "Episode 4|Iteration 25|reward:   49.0|last_reward_at:   23|Elapsed Time: 0:00:00||\n",
      "Episode 4|Iteration 25|reward:   49.0|last_reward_at:   25|Elapsed Time: 0:00:00||\n",
      "Episode 4|Iteration 26|reward:   55.0|last_reward_at:   25|Elapsed Time: 0:00:01||\n",
      "Episode 4|Iteration 26|reward:   55.0|last_reward_at:   26|Elapsed Time: 0:00:01||\n",
      "Episode 4|Iteration 27|reward:   61.0|last_reward_at:   26|Elapsed Time: 0:00:01||\n",
      "Episode 4|Iteration 27|reward:   61.0|last_reward_at:   27|Elapsed Time: 0:00:01||\n",
      "Episode 4|Iteration 29|reward:   61.0|last_reward_at:   27|Elapsed Time: 0:00:01||\n",
      "Episode 4|Iteration 30|reward:   61.0|last_reward_at:   27|Elapsed Time: 0:00:01||\n",
      "Episode 4|Iteration 30|reward:   67.0|last_reward_at:   27|Elapsed Time: 0:00:01||\n",
      "Episode 4|Iteration 30|reward:   67.0|last_reward_at:   30|Elapsed Time: 0:00:01||\n",
      "Episode 4|Iteration 33|reward:   67.0|last_reward_at:   30|Elapsed Time: 0:00:01||\n",
      "Episode 4|Iteration 35|reward:   67.0|last_reward_at:   30|Elapsed Time: 0:00:01||\n",
      "Episode 4|Iteration 35|reward:   73.0|last_reward_at:   30|Elapsed Time: 0:00:01||\n",
      "Episode 4|Iteration 35|reward:   73.0|last_reward_at:   35|Elapsed Time: 0:00:01||\n",
      "Episode 4|Iteration 37|reward:   73.0|last_reward_at:   35|Elapsed Time: 0:00:01||\n",
      "Episode 4|Iteration 38|reward:   82.0|last_reward_at:   35|Elapsed Time: 0:00:01||\n",
      "Episode 4|Iteration 38|reward:   82.0|last_reward_at:   38|Elapsed Time: 0:00:01||\n",
      "Episode 4|Iteration 41|reward:   82.0|last_reward_at:   38|Elapsed Time: 0:00:01||\n",
      "Episode 4|Iteration 43|reward:   82.0|last_reward_at:   38|Elapsed Time: 0:00:01||\n",
      "Episode 4|Iteration 43|reward:  182.0|last_reward_at:   38|Elapsed Time: 0:00:01||\n",
      "Episode 4|Iteration 43|reward:  182.0|last_reward_at:   43|Elapsed Time: 0:00:01||\n",
      "Episode 4|Iteration 44|reward:  443.0|last_reward_at:   43|Elapsed Time: 0:00:01||\n",
      "Episode 4|Iteration 44|reward:  443.0|last_reward_at:   44|Elapsed Time: 0:00:01||\n",
      "Episode 4|Iteration 46|reward:  443.0|last_reward_at:   44|Elapsed Time: 0:00:02||\n",
      "Episode 4|Iteration 47|reward:  443.0|last_reward_at:   44|Elapsed Time: 0:00:02||\n",
      "Episode 4|Iteration 49|reward:  443.0|last_reward_at:   44|Elapsed Time: 0:00:02||\n",
      "Episode 4|Iteration 50|reward:  443.0|last_reward_at:   44|Elapsed Time: 0:00:02||\n"
     ]
    },
    {
     "name": "stdout",
     "output_type": "stream",
     "text": [
      "  Episode 4 stopped at t=50 \n",
      "  Breakdown [Reward/NoReward (Success rate)]\n",
      "    explore-local: 7/8 (0.47)\n",
      "    explore-remote: 0/18 (0.00)\n",
      "    explore-connect: 1/9 (0.10)\n",
      "    exploit-local: 4/0 (1.00)\n",
      "    exploit-remote: 0/0 (NaN)\n",
      "    exploit-connect: 3/0 (1.00)\n",
      "  exploit deflected to exploration: 0\n",
      "  ## Episode: 5/20 'DQL' ϵ=0.8968, γ=0.015, lr=0.01, replaymemory=10000,\n",
      "batch=512, target_update=5\n"
     ]
    },
    {
     "name": "stderr",
     "output_type": "stream",
     "text": [
      "Episode 5|Iteration 0|reward: ------|last_reward_at: ----|Elapsed Time: 0:00:00||\n",
      "Episode 5|Iteration 1|reward:    6.0|last_reward_at: ----|Elapsed Time: 0:00:00||\n",
      "Episode 5|Iteration 1|reward:    6.0|last_reward_at:    1|Elapsed Time: 0:00:00||\n",
      "Episode 5|Iteration 4|reward:    6.0|last_reward_at:    1|Elapsed Time: 0:00:00||\n",
      "Episode 5|Iteration 4|reward:   24.0|last_reward_at:    1|Elapsed Time: 0:00:00||\n",
      "Episode 5|Iteration 4|reward:   24.0|last_reward_at:    4|Elapsed Time: 0:00:00||\n",
      "Episode 5|Iteration 7|reward:   24.0|last_reward_at:    4|Elapsed Time: 0:00:00||\n",
      "Episode 5|Iteration 8|reward:   24.0|last_reward_at:    4|Elapsed Time: 0:00:00||\n",
      "Episode 5|Iteration 9|reward:   25.0|last_reward_at:    4|Elapsed Time: 0:00:00||\n",
      "Episode 5|Iteration 9|reward:   25.0|last_reward_at:    9|Elapsed Time: 0:00:00||\n",
      "Episode 5|Iteration 11|reward:   25.0|last_reward_at:    9|Elapsed Time: 0:00:00||\n",
      "Episode 5|Iteration 13|reward:   25.0|last_reward_at:    9|Elapsed Time: 0:00:00||\n",
      "Episode 5|Iteration 14|reward:   31.0|last_reward_at:    9|Elapsed Time: 0:00:00||\n",
      "Episode 5|Iteration 14|reward:   31.0|last_reward_at:   14|Elapsed Time: 0:00:00||\n",
      "Episode 5|Iteration 16|reward:   36.0|last_reward_at:   14|Elapsed Time: 0:00:00||\n",
      "Episode 5|Iteration 16|reward:   36.0|last_reward_at:   16|Elapsed Time: 0:00:00||\n",
      "Episode 5|Iteration 19|reward:   36.0|last_reward_at:   16|Elapsed Time: 0:00:00||\n",
      "Episode 5|Iteration 21|reward:   36.0|last_reward_at:   16|Elapsed Time: 0:00:00||\n",
      "Episode 5|Iteration 22|reward:   37.0|last_reward_at:   16|Elapsed Time: 0:00:00||\n",
      "Episode 5|Iteration 22|reward:   37.0|last_reward_at:   22|Elapsed Time: 0:00:00||\n",
      "Episode 5|Iteration 25|reward:   37.0|last_reward_at:   22|Elapsed Time: 0:00:00||\n",
      "Episode 5|Iteration 27|reward:   37.0|last_reward_at:   22|Elapsed Time: 0:00:01||\n",
      "Episode 5|Iteration 28|reward:   37.0|last_reward_at:   22|Elapsed Time: 0:00:01||\n",
      "Episode 5|Iteration 29|reward:   37.0|last_reward_at:   22|Elapsed Time: 0:00:01||\n",
      "Episode 5|Iteration 30|reward:   37.0|last_reward_at:   22|Elapsed Time: 0:00:01||\n",
      "Episode 5|Iteration 32|reward:   37.0|last_reward_at:   22|Elapsed Time: 0:00:01||\n",
      "Episode 5|Iteration 34|reward:   37.0|last_reward_at:   22|Elapsed Time: 0:00:01||\n",
      "Episode 5|Iteration 35|reward:   37.0|last_reward_at:   22|Elapsed Time: 0:00:01||\n",
      "Episode 5|Iteration 36|reward:   37.0|last_reward_at:   22|Elapsed Time: 0:00:01||\n",
      "Episode 5|Iteration 37|reward:   43.0|last_reward_at:   22|Elapsed Time: 0:00:01||\n",
      "Episode 5|Iteration 37|reward:   43.0|last_reward_at:   37|Elapsed Time: 0:00:01||\n",
      "Episode 5|Iteration 40|reward:   43.0|last_reward_at:   37|Elapsed Time: 0:00:01||\n",
      "Episode 5|Iteration 41|reward:   49.0|last_reward_at:   37|Elapsed Time: 0:00:01||\n",
      "Episode 5|Iteration 41|reward:   49.0|last_reward_at:   41|Elapsed Time: 0:00:01||\n",
      "Episode 5|Iteration 42|reward:   55.0|last_reward_at:   41|Elapsed Time: 0:00:01||\n",
      "Episode 5|Iteration 42|reward:   55.0|last_reward_at:   42|Elapsed Time: 0:00:01||\n",
      "Episode 5|Iteration 45|reward:   55.0|last_reward_at:   42|Elapsed Time: 0:00:01||\n",
      "Episode 5|Iteration 47|reward:   55.0|last_reward_at:   42|Elapsed Time: 0:00:01||\n",
      "Episode 5|Iteration 48|reward:   55.0|last_reward_at:   42|Elapsed Time: 0:00:02||\n",
      "Episode 5|Iteration 50|reward:   55.0|last_reward_at:   42|Elapsed Time: 0:00:02||\n",
      "Episode 5|Iteration 50|reward:   55.0|last_reward_at:   42|Elapsed Time: 0:00:02||\n"
     ]
    },
    {
     "name": "stdout",
     "output_type": "stream",
     "text": [
      "  Episode 5 stopped at t=50 \n",
      "  Breakdown [Reward/NoReward (Success rate)]\n",
      "    explore-local: 4/7 (0.36)\n",
      "    explore-remote: 0/16 (0.00)\n",
      "    explore-connect: 0/18 (0.00)\n",
      "    exploit-local: 2/0 (1.00)\n",
      "    exploit-remote: 0/0 (NaN)\n",
      "    exploit-connect: 3/0 (1.00)\n",
      "  exploit deflected to exploration: 0\n",
      "  ## Episode: 6/20 'DQL' ϵ=0.8960, γ=0.015, lr=0.01, replaymemory=10000,\n",
      "batch=512, target_update=5\n"
     ]
    },
    {
     "name": "stderr",
     "output_type": "stream",
     "text": [
      "Episode 6|Iteration 0|reward: ------|last_reward_at: ----|Elapsed Time: 0:00:00||\n",
      "Episode 6|Iteration 1|reward:    0.0|last_reward_at: ----|Elapsed Time: 0:00:00||\n",
      "Episode 6|Iteration 2|reward:    6.0|last_reward_at: ----|Elapsed Time: 0:00:00||\n",
      "Episode 6|Iteration 2|reward:    6.0|last_reward_at:    2|Elapsed Time: 0:00:00||\n",
      "Episode 6|Iteration 4|reward:    6.0|last_reward_at:    2|Elapsed Time: 0:00:00||\n",
      "Episode 6|Iteration 4|reward:   24.0|last_reward_at:    2|Elapsed Time: 0:00:00||\n",
      "Episode 6|Iteration 4|reward:   24.0|last_reward_at:    4|Elapsed Time: 0:00:00||\n",
      "Episode 6|Iteration 7|reward:   24.0|last_reward_at:    4|Elapsed Time: 0:00:00||\n",
      "Episode 6|Iteration 8|reward:   24.0|last_reward_at:    4|Elapsed Time: 0:00:00||\n",
      "Episode 6|Iteration 8|reward:   24.0|last_reward_at:    4|Elapsed Time: 0:00:00||\n",
      "Episode 6|Iteration 10|reward:   24.0|last_reward_at:    4|Elapsed Time: 0:00:00||\n",
      "Episode 6|Iteration 11|reward:   24.0|last_reward_at:    4|Elapsed Time: 0:00:00||\n",
      "Episode 6|Iteration 11|reward:   29.0|last_reward_at:    4|Elapsed Time: 0:00:00||\n",
      "Episode 6|Iteration 11|reward:   29.0|last_reward_at:   11|Elapsed Time: 0:00:00||\n",
      "Episode 6|Iteration 13|reward:   29.0|last_reward_at:   11|Elapsed Time: 0:00:00||\n",
      "Episode 6|Iteration 14|reward:   29.0|last_reward_at:   11|Elapsed Time: 0:00:00||\n",
      "Episode 6|Iteration 14|reward:   29.0|last_reward_at:   11|Elapsed Time: 0:00:01||\n",
      "Episode 6|Iteration 16|reward:   29.0|last_reward_at:   11|Elapsed Time: 0:00:01||\n",
      "Episode 6|Iteration 17|reward:   29.0|last_reward_at:   11|Elapsed Time: 0:00:01||\n",
      "Episode 6|Iteration 17|reward:   30.0|last_reward_at:   11|Elapsed Time: 0:00:01||\n",
      "Episode 6|Iteration 17|reward:   30.0|last_reward_at:   17|Elapsed Time: 0:00:01||\n",
      "Episode 6|Iteration 18|reward:   31.0|last_reward_at:   17|Elapsed Time: 0:00:01||\n",
      "Episode 6|Iteration 18|reward:   31.0|last_reward_at:   18|Elapsed Time: 0:00:01||\n",
      "Episode 6|Iteration 21|reward:   31.0|last_reward_at:   18|Elapsed Time: 0:00:01||\n",
      "Episode 6|Iteration 23|reward:   31.0|last_reward_at:   18|Elapsed Time: 0:00:01||\n",
      "Episode 6|Iteration 25|reward:   31.0|last_reward_at:   18|Elapsed Time: 0:00:01||\n",
      "Episode 6|Iteration 26|reward:   37.0|last_reward_at:   18|Elapsed Time: 0:00:01||\n",
      "Episode 6|Iteration 26|reward:   37.0|last_reward_at:   26|Elapsed Time: 0:00:01||\n",
      "Episode 6|Iteration 29|reward:   37.0|last_reward_at:   26|Elapsed Time: 0:00:01||\n",
      "Episode 6|Iteration 31|reward:   37.0|last_reward_at:   26|Elapsed Time: 0:00:01||\n",
      "Episode 6|Iteration 33|reward:   37.0|last_reward_at:   26|Elapsed Time: 0:00:02||\n",
      "Episode 6|Iteration 35|reward:   37.0|last_reward_at:   26|Elapsed Time: 0:00:02||\n",
      "Episode 6|Iteration 37|reward:   37.0|last_reward_at:   26|Elapsed Time: 0:00:02||\n",
      "Episode 6|Iteration 39|reward:   37.0|last_reward_at:   26|Elapsed Time: 0:00:02||\n",
      "Episode 6|Iteration 40|reward:   43.0|last_reward_at:   26|Elapsed Time: 0:00:02||\n",
      "Episode 6|Iteration 40|reward:   43.0|last_reward_at:   40|Elapsed Time: 0:00:02||\n",
      "Episode 6|Iteration 43|reward:   43.0|last_reward_at:   40|Elapsed Time: 0:00:02||\n",
      "Episode 6|Iteration 43|reward:   49.0|last_reward_at:   40|Elapsed Time: 0:00:02||\n",
      "Episode 6|Iteration 43|reward:   49.0|last_reward_at:   43|Elapsed Time: 0:00:02||\n",
      "Episode 6|Iteration 44|reward:   55.0|last_reward_at:   43|Elapsed Time: 0:00:02||\n",
      "Episode 6|Iteration 44|reward:   55.0|last_reward_at:   44|Elapsed Time: 0:00:02||\n",
      "Episode 6|Iteration 46|reward:   61.0|last_reward_at:   44|Elapsed Time: 0:00:02||\n",
      "Episode 6|Iteration 46|reward:   61.0|last_reward_at:   46|Elapsed Time: 0:00:02||\n",
      "Episode 6|Iteration 49|reward:   61.0|last_reward_at:   46|Elapsed Time: 0:00:02||\n",
      "Episode 6|Iteration 50|reward:   67.0|last_reward_at:   46|Elapsed Time: 0:00:02||\n",
      "Episode 6|Iteration 50|reward:   67.0|last_reward_at:   50|Elapsed Time: 0:00:02||\n",
      "Episode 6|Iteration 50|reward:   67.0|last_reward_at:   50|Elapsed Time: 0:00:02||\n"
     ]
    },
    {
     "name": "stdout",
     "output_type": "stream",
     "text": [
      "  Episode 6 stopped at t=50 \n",
      "  Breakdown [Reward/NoReward (Success rate)]\n",
      "    explore-local: 5/8 (0.38)\n",
      "    explore-remote: 0/18 (0.00)\n",
      "    explore-connect: 0/13 (0.00)\n",
      "    exploit-local: 3/0 (1.00)\n",
      "    exploit-remote: 0/0 (NaN)\n",
      "    exploit-connect: 3/0 (1.00)\n",
      "  exploit deflected to exploration: 0\n",
      "  ## Episode: 7/20 'DQL' ϵ=0.8952, γ=0.015, lr=0.01, replaymemory=10000,\n",
      "batch=512, target_update=5\n"
     ]
    },
    {
     "name": "stderr",
     "output_type": "stream",
     "text": [
      "Episode 7|Iteration 0|reward: ------|last_reward_at: ----|Elapsed Time: 0:00:00||\n",
      "Episode 7|Iteration 1|reward:   18.0|last_reward_at: ----|Elapsed Time: 0:00:00||\n",
      "Episode 7|Iteration 1|reward:   18.0|last_reward_at:    1|Elapsed Time: 0:00:00||\n",
      "Episode 7|Iteration 4|reward:   18.0|last_reward_at:    1|Elapsed Time: 0:00:00||\n",
      "Episode 7|Iteration 6|reward:   18.0|last_reward_at:    1|Elapsed Time: 0:00:00||\n",
      "Episode 7|Iteration 6|reward:   23.0|last_reward_at:    1|Elapsed Time: 0:00:00||\n",
      "Episode 7|Iteration 6|reward:   23.0|last_reward_at:    6|Elapsed Time: 0:00:00||\n",
      "Episode 7|Iteration 9|reward:   23.0|last_reward_at:    6|Elapsed Time: 0:00:00||\n",
      "Episode 7|Iteration 10|reward:   29.0|last_reward_at:    6|Elapsed Time: 0:00:00||\n",
      "Episode 7|Iteration 10|reward:   29.0|last_reward_at:   10|Elapsed Time: 0:00:00||\n",
      "Episode 7|Iteration 12|reward:   29.0|last_reward_at:   10|Elapsed Time: 0:00:00||\n",
      "Episode 7|Iteration 13|reward:   30.0|last_reward_at:   10|Elapsed Time: 0:00:00||\n",
      "Episode 7|Iteration 13|reward:   30.0|last_reward_at:   13|Elapsed Time: 0:00:00||\n",
      "Episode 7|Iteration 14|reward:   31.0|last_reward_at:   13|Elapsed Time: 0:00:00||\n",
      "Episode 7|Iteration 14|reward:   31.0|last_reward_at:   14|Elapsed Time: 0:00:00||\n",
      "Episode 7|Iteration 16|reward:   31.0|last_reward_at:   14|Elapsed Time: 0:00:00||\n",
      "Episode 7|Iteration 17|reward:   31.0|last_reward_at:   14|Elapsed Time: 0:00:00||\n",
      "Episode 7|Iteration 19|reward:   31.0|last_reward_at:   14|Elapsed Time: 0:00:00||\n",
      "Episode 7|Iteration 21|reward:   31.0|last_reward_at:   14|Elapsed Time: 0:00:00||\n",
      "Episode 7|Iteration 21|reward:   37.0|last_reward_at:   14|Elapsed Time: 0:00:00||\n",
      "Episode 7|Iteration 21|reward:   37.0|last_reward_at:   21|Elapsed Time: 0:00:00||\n",
      "Episode 7|Iteration 22|reward:   43.0|last_reward_at:   21|Elapsed Time: 0:00:00||\n",
      "Episode 7|Iteration 22|reward:   43.0|last_reward_at:   22|Elapsed Time: 0:00:00||\n",
      "Episode 7|Iteration 24|reward:   43.0|last_reward_at:   22|Elapsed Time: 0:00:01||\n",
      "Episode 7|Iteration 25|reward:   43.0|last_reward_at:   22|Elapsed Time: 0:00:01||\n",
      "Episode 7|Iteration 26|reward:   43.0|last_reward_at:   22|Elapsed Time: 0:00:01||\n",
      "Episode 7|Iteration 27|reward:   49.0|last_reward_at:   22|Elapsed Time: 0:00:01||\n",
      "Episode 7|Iteration 27|reward:   49.0|last_reward_at:   27|Elapsed Time: 0:00:01||\n",
      "Episode 7|Iteration 30|reward:   49.0|last_reward_at:   27|Elapsed Time: 0:00:01||\n",
      "Episode 7|Iteration 30|reward:   55.0|last_reward_at:   27|Elapsed Time: 0:00:01||\n",
      "Episode 7|Iteration 30|reward:   55.0|last_reward_at:   30|Elapsed Time: 0:00:01||\n",
      "Episode 7|Iteration 31|reward:   61.0|last_reward_at:   30|Elapsed Time: 0:00:01||\n",
      "Episode 7|Iteration 31|reward:   61.0|last_reward_at:   31|Elapsed Time: 0:00:01||\n",
      "Episode 7|Iteration 33|reward:   61.0|last_reward_at:   31|Elapsed Time: 0:00:01||\n",
      "Episode 7|Iteration 34|reward:   61.0|last_reward_at:   31|Elapsed Time: 0:00:01||\n",
      "Episode 7|Iteration 35|reward:   61.0|last_reward_at:   31|Elapsed Time: 0:00:01||\n",
      "Episode 7|Iteration 35|reward:   70.0|last_reward_at:   31|Elapsed Time: 0:00:01||\n",
      "Episode 7|Iteration 35|reward:   70.0|last_reward_at:   35|Elapsed Time: 0:00:01||\n",
      "Episode 7|Iteration 38|reward:   70.0|last_reward_at:   35|Elapsed Time: 0:00:01||\n",
      "Episode 7|Iteration 39|reward:   70.0|last_reward_at:   35|Elapsed Time: 0:00:01||\n",
      "Episode 7|Iteration 39|reward:   76.0|last_reward_at:   35|Elapsed Time: 0:00:01||\n",
      "Episode 7|Iteration 39|reward:   76.0|last_reward_at:   39|Elapsed Time: 0:00:01||\n",
      "Episode 7|Iteration 41|reward:  176.0|last_reward_at:   39|Elapsed Time: 0:00:02||\n",
      "Episode 7|Iteration 41|reward:  176.0|last_reward_at:   41|Elapsed Time: 0:00:02||\n",
      "Episode 7|Iteration 44|reward:  176.0|last_reward_at:   41|Elapsed Time: 0:00:02||\n",
      "Episode 7|Iteration 44|reward:  182.0|last_reward_at:   41|Elapsed Time: 0:00:02||\n",
      "Episode 7|Iteration 44|reward:  182.0|last_reward_at:   44|Elapsed Time: 0:00:02||\n",
      "Episode 7|Iteration 47|reward:  182.0|last_reward_at:   44|Elapsed Time: 0:00:02||\n",
      "Episode 7|Iteration 48|reward:  443.0|last_reward_at:   44|Elapsed Time: 0:00:02||\n",
      "Episode 7|Iteration 48|reward:  443.0|last_reward_at:   48|Elapsed Time: 0:00:02||\n",
      "Episode 7|Iteration 49|reward:  449.0|last_reward_at:   48|Elapsed Time: 0:00:02||\n",
      "Episode 7|Iteration 49|reward:  449.0|last_reward_at:   49|Elapsed Time: 0:00:02||\n",
      "Episode 7|Iteration 50|reward:  449.0|last_reward_at:   49|Elapsed Time: 0:00:02||\n"
     ]
    },
    {
     "name": "stdout",
     "output_type": "stream",
     "text": [
      "  Episode 7 stopped at t=50 \n",
      "  Breakdown [Reward/NoReward (Success rate)]\n",
      "    explore-local: 7/7 (0.50)\n",
      "    explore-remote: 0/14 (0.00)\n",
      "    explore-connect: 2/13 (0.13)\n",
      "    exploit-local: 5/0 (1.00)\n",
      "    exploit-remote: 0/0 (NaN)\n",
      "    exploit-connect: 2/0 (1.00)\n",
      "  exploit deflected to exploration: 0\n",
      "  ## Episode: 8/20 'DQL' ϵ=0.8944, γ=0.015, lr=0.01, replaymemory=10000,\n",
      "batch=512, target_update=5\n"
     ]
    },
    {
     "name": "stderr",
     "output_type": "stream",
     "text": [
      "Episode 8|Iteration 0|reward: ------|last_reward_at: ----|Elapsed Time: 0:00:00||\n",
      "Episode 8|Iteration 1|reward:   18.0|last_reward_at: ----|Elapsed Time: 0:00:00||\n",
      "Episode 8|Iteration 1|reward:   18.0|last_reward_at:    1|Elapsed Time: 0:00:00||\n",
      "Episode 8|Iteration 2|reward:   19.0|last_reward_at:    1|Elapsed Time: 0:00:00||\n",
      "Episode 8|Iteration 2|reward:   19.0|last_reward_at:    2|Elapsed Time: 0:00:00||\n",
      "Episode 8|Iteration 3|reward:   25.0|last_reward_at:    2|Elapsed Time: 0:00:00||\n",
      "Episode 8|Iteration 3|reward:   25.0|last_reward_at:    3|Elapsed Time: 0:00:00||\n",
      "Episode 8|Iteration 5|reward:   30.0|last_reward_at:    3|Elapsed Time: 0:00:00||\n",
      "Episode 8|Iteration 5|reward:   30.0|last_reward_at:    5|Elapsed Time: 0:00:00||\n",
      "Episode 8|Iteration 8|reward:   30.0|last_reward_at:    5|Elapsed Time: 0:00:00||\n",
      "Episode 8|Iteration 8|reward:   39.0|last_reward_at:    5|Elapsed Time: 0:00:00||\n",
      "Episode 8|Iteration 8|reward:   39.0|last_reward_at:    8|Elapsed Time: 0:00:00||\n",
      "Episode 8|Iteration 11|reward:   39.0|last_reward_at:    8|Elapsed Time: 0:00:00||\n",
      "Episode 8|Iteration 13|reward:   39.0|last_reward_at:    8|Elapsed Time: 0:00:00||\n",
      "Episode 8|Iteration 14|reward:   45.0|last_reward_at:    8|Elapsed Time: 0:00:00||\n",
      "Episode 8|Iteration 14|reward:   45.0|last_reward_at:   14|Elapsed Time: 0:00:00||\n",
      "Episode 8|Iteration 15|reward:  145.0|last_reward_at:   14|Elapsed Time: 0:00:00||\n",
      "Episode 8|Iteration 15|reward:  145.0|last_reward_at:   15|Elapsed Time: 0:00:00||\n",
      "Episode 8|Iteration 18|reward:  145.0|last_reward_at:   15|Elapsed Time: 0:00:00||\n",
      "Episode 8|Iteration 20|reward:  145.0|last_reward_at:   15|Elapsed Time: 0:00:00||\n",
      "Episode 8|Iteration 22|reward:  145.0|last_reward_at:   15|Elapsed Time: 0:00:00||\n",
      "Episode 8|Iteration 23|reward:  151.0|last_reward_at:   15|Elapsed Time: 0:00:00||\n",
      "Episode 8|Iteration 23|reward:  151.0|last_reward_at:   23|Elapsed Time: 0:00:00||\n",
      "Episode 8|Iteration 24|reward:  157.0|last_reward_at:   23|Elapsed Time: 0:00:00||\n",
      "Episode 8|Iteration 24|reward:  157.0|last_reward_at:   24|Elapsed Time: 0:00:00||\n",
      "Episode 8|Iteration 26|reward:  163.0|last_reward_at:   24|Elapsed Time: 0:00:01||\n",
      "Episode 8|Iteration 26|reward:  163.0|last_reward_at:   26|Elapsed Time: 0:00:01||\n",
      "Episode 8|Iteration 28|reward:  169.0|last_reward_at:   26|Elapsed Time: 0:00:01||\n",
      "Episode 8|Iteration 28|reward:  169.0|last_reward_at:   28|Elapsed Time: 0:00:01||\n",
      "Episode 8|Iteration 30|reward:  175.0|last_reward_at:   28|Elapsed Time: 0:00:01||\n",
      "Episode 8|Iteration 30|reward:  175.0|last_reward_at:   30|Elapsed Time: 0:00:01||\n",
      "Episode 8|Iteration 33|reward:  175.0|last_reward_at:   30|Elapsed Time: 0:00:01||\n",
      "Episode 8|Iteration 34|reward:  175.0|last_reward_at:   30|Elapsed Time: 0:00:01||\n",
      "Episode 8|Iteration 35|reward:  175.0|last_reward_at:   30|Elapsed Time: 0:00:01||\n",
      "Episode 8|Iteration 37|reward:  175.0|last_reward_at:   30|Elapsed Time: 0:00:01||\n",
      "Episode 8|Iteration 39|reward:  175.0|last_reward_at:   30|Elapsed Time: 0:00:01||\n",
      "Episode 8|Iteration 40|reward:  175.0|last_reward_at:   30|Elapsed Time: 0:00:01||\n",
      "Episode 8|Iteration 43|reward:  175.0|last_reward_at:   30|Elapsed Time: 0:00:01||\n",
      "Episode 8|Iteration 45|reward:  175.0|last_reward_at:   30|Elapsed Time: 0:00:01||\n",
      "Episode 8|Iteration 45|reward:  176.0|last_reward_at:   30|Elapsed Time: 0:00:01||\n",
      "Episode 8|Iteration 45|reward:  176.0|last_reward_at:   45|Elapsed Time: 0:00:01||\n",
      "Episode 8|Iteration 48|reward:  176.0|last_reward_at:   45|Elapsed Time: 0:00:02||\n",
      "Episode 8|Iteration 50|reward:  176.0|last_reward_at:   45|Elapsed Time: 0:00:02||\n",
      "Episode 8|Iteration 50|reward:  182.0|last_reward_at:   45|Elapsed Time: 0:00:02||\n",
      "Episode 8|Iteration 50|reward:  182.0|last_reward_at:   50|Elapsed Time: 0:00:02||\n",
      "Episode 8|Iteration 50|reward:  182.0|last_reward_at:   50|Elapsed Time: 0:00:02||\n"
     ]
    },
    {
     "name": "stdout",
     "output_type": "stream",
     "text": [
      "  Episode 8 stopped at t=50 \n",
      "  Breakdown [Reward/NoReward (Success rate)]\n",
      "    explore-local: 8/8 (0.50)\n",
      "    explore-remote: 0/17 (0.00)\n",
      "    explore-connect: 0/11 (0.00)\n",
      "    exploit-local: 2/0 (1.00)\n",
      "    exploit-remote: 0/0 (NaN)\n",
      "    exploit-connect: 4/0 (1.00)\n",
      "  exploit deflected to exploration: 0\n",
      "  ## Episode: 9/20 'DQL' ϵ=0.8936, γ=0.015, lr=0.01, replaymemory=10000,\n",
      "batch=512, target_update=5\n"
     ]
    },
    {
     "name": "stderr",
     "output_type": "stream",
     "text": [
      "Episode 9|Iteration 0|reward: ------|last_reward_at: ----|Elapsed Time: 0:00:00||\n",
      "Episode 9|Iteration 1|reward:    6.0|last_reward_at: ----|Elapsed Time: 0:00:00||\n",
      "Episode 9|Iteration 1|reward:    6.0|last_reward_at:    1|Elapsed Time: 0:00:00||\n",
      "Episode 9|Iteration 2|reward:   24.0|last_reward_at:    1|Elapsed Time: 0:00:00||\n",
      "Episode 9|Iteration 2|reward:   24.0|last_reward_at:    2|Elapsed Time: 0:00:00||\n",
      "Episode 9|Iteration 5|reward:   24.0|last_reward_at:    2|Elapsed Time: 0:00:00||\n",
      "Episode 9|Iteration 5|reward:   30.0|last_reward_at:    2|Elapsed Time: 0:00:00||\n",
      "Episode 9|Iteration 5|reward:   30.0|last_reward_at:    5|Elapsed Time: 0:00:00||\n",
      "Episode 9|Iteration 6|reward:   36.0|last_reward_at:    5|Elapsed Time: 0:00:00||\n",
      "Episode 9|Iteration 6|reward:   36.0|last_reward_at:    6|Elapsed Time: 0:00:00||\n",
      "Episode 9|Iteration 8|reward:   36.0|last_reward_at:    6|Elapsed Time: 0:00:00||\n",
      "Episode 9|Iteration 9|reward:   36.0|last_reward_at:    6|Elapsed Time: 0:00:00||\n",
      "Episode 9|Iteration 10|reward:   36.0|last_reward_at:    6|Elapsed Time: 0:00:00||\n",
      "Episode 9|Iteration 11|reward:   36.0|last_reward_at:    6|Elapsed Time: 0:00:00||\n",
      "Episode 9|Iteration 12|reward:   36.0|last_reward_at:    6|Elapsed Time: 0:00:00||\n",
      "Episode 9|Iteration 14|reward:   36.0|last_reward_at:    6|Elapsed Time: 0:00:00||\n",
      "Episode 9|Iteration 16|reward:   36.0|last_reward_at:    6|Elapsed Time: 0:00:00||\n",
      "Episode 9|Iteration 16|reward:   37.0|last_reward_at:    6|Elapsed Time: 0:00:00||\n",
      "Episode 9|Iteration 16|reward:   37.0|last_reward_at:   16|Elapsed Time: 0:00:00||\n",
      "Episode 9|Iteration 18|reward:   38.0|last_reward_at:   16|Elapsed Time: 0:00:01||\n",
      "Episode 9|Iteration 18|reward:   38.0|last_reward_at:   18|Elapsed Time: 0:00:01||\n",
      "Episode 9|Iteration 21|reward:   38.0|last_reward_at:   18|Elapsed Time: 0:00:01||\n",
      "Episode 9|Iteration 23|reward:   38.0|last_reward_at:   18|Elapsed Time: 0:00:01||\n",
      "Episode 9|Iteration 24|reward:   43.0|last_reward_at:   18|Elapsed Time: 0:00:01||\n",
      "Episode 9|Iteration 24|reward:   43.0|last_reward_at:   24|Elapsed Time: 0:00:01||\n",
      "Episode 9|Iteration 26|reward:   49.0|last_reward_at:   24|Elapsed Time: 0:00:01||\n",
      "Episode 9|Iteration 26|reward:   49.0|last_reward_at:   26|Elapsed Time: 0:00:01||\n",
      "Episode 9|Iteration 27|reward:   58.0|last_reward_at:   26|Elapsed Time: 0:00:01||\n",
      "Episode 9|Iteration 27|reward:   58.0|last_reward_at:   27|Elapsed Time: 0:00:01||\n",
      "Episode 9|Iteration 29|reward:   58.0|last_reward_at:   27|Elapsed Time: 0:00:01||\n",
      "Episode 9|Iteration 31|reward:   58.0|last_reward_at:   27|Elapsed Time: 0:00:01||\n",
      "Episode 9|Iteration 33|reward:   58.0|last_reward_at:   27|Elapsed Time: 0:00:01||\n",
      "Episode 9|Iteration 33|reward:  158.0|last_reward_at:   27|Elapsed Time: 0:00:01||\n",
      "Episode 9|Iteration 33|reward:  158.0|last_reward_at:   33|Elapsed Time: 0:00:01||\n",
      "Episode 9|Iteration 34|reward:  419.0|last_reward_at:   33|Elapsed Time: 0:00:01||\n",
      "Episode 9|Iteration 34|reward:  419.0|last_reward_at:   34|Elapsed Time: 0:00:01||\n",
      "Episode 9|Iteration 37|reward:  419.0|last_reward_at:   34|Elapsed Time: 0:00:01||\n",
      "Episode 9|Iteration 39|reward:  419.0|last_reward_at:   34|Elapsed Time: 0:00:01||\n",
      "Episode 9|Iteration 41|reward:  419.0|last_reward_at:   34|Elapsed Time: 0:00:02||\n",
      "Episode 9|Iteration 43|reward:  419.0|last_reward_at:   34|Elapsed Time: 0:00:02||\n",
      "Episode 9|Iteration 45|reward:  419.0|last_reward_at:   34|Elapsed Time: 0:00:02||\n",
      "Episode 9|Iteration 46|reward:  419.0|last_reward_at:   34|Elapsed Time: 0:00:02||\n",
      "Episode 9|Iteration 48|reward:  419.0|last_reward_at:   34|Elapsed Time: 0:00:02||\n",
      "Episode 9|Iteration 49|reward:  419.0|last_reward_at:   34|Elapsed Time: 0:00:02||\n",
      "Episode 9|Iteration 50|reward:  419.0|last_reward_at:   34|Elapsed Time: 0:00:02||\n",
      "Episode 9|Iteration 50|reward:  419.0|last_reward_at:   34|Elapsed Time: 0:00:02||\n"
     ]
    },
    {
     "name": "stdout",
     "output_type": "stream",
     "text": [
      "  Episode 9 stopped at t=50 \n",
      "  Breakdown [Reward/NoReward (Success rate)]\n",
      "    explore-local: 5/7 (0.42)\n",
      "    explore-remote: 0/16 (0.00)\n",
      "    explore-connect: 2/14 (0.12)\n",
      "    exploit-local: 2/0 (1.00)\n",
      "    exploit-remote: 0/0 (NaN)\n",
      "    exploit-connect: 2/2 (0.50)\n",
      "  exploit deflected to exploration: 0\n",
      "  ## Episode: 10/20 'DQL' ϵ=0.8928, γ=0.015, lr=0.01, replaymemory=10000,\n",
      "batch=512, target_update=5\n"
     ]
    },
    {
     "name": "stderr",
     "output_type": "stream",
     "text": [
      "Episode 10|Iteration 0|reward: ------|last_reward_at: ----|Elapsed Time: 0:00:00||\n",
      "Episode 10|Iteration 1|reward:    0.0|last_reward_at: ----|Elapsed Time: 0:00:00||\n",
      "Episode 10|Iteration 2|reward:   18.0|last_reward_at: ----|Elapsed Time: 0:00:00||\n",
      "Episode 10|Iteration 2|reward:   18.0|last_reward_at:    2|Elapsed Time: 0:00:00||\n",
      "Episode 10|Iteration 4|reward:   24.0|last_reward_at:    2|Elapsed Time: 0:00:00||\n",
      "Episode 10|Iteration 4|reward:   24.0|last_reward_at:    4|Elapsed Time: 0:00:00||\n",
      "Episode 10|Iteration 7|reward:   24.0|last_reward_at:    4|Elapsed Time: 0:00:00||\n",
      "Episode 10|Iteration 9|reward:   24.0|last_reward_at:    4|Elapsed Time: 0:00:00||\n",
      "Episode 10|Iteration 10|reward:   30.0|last_reward_at:    4|Elapsed Time: 0:00:00||\n",
      "Episode 10|Iteration 10|reward:   30.0|last_reward_at:   10|Elapsed Time: 0:00:00||\n",
      "Episode 10|Iteration 11|reward:   31.0|last_reward_at:   10|Elapsed Time: 0:00:00||\n",
      "Episode 10|Iteration 11|reward:   31.0|last_reward_at:   11|Elapsed Time: 0:00:00||\n",
      "Episode 10|Iteration 13|reward:   31.0|last_reward_at:   11|Elapsed Time: 0:00:00||\n",
      "Episode 10|Iteration 14|reward:   31.0|last_reward_at:   11|Elapsed Time: 0:00:00||\n",
      "Episode 10|Iteration 15|reward:   31.0|last_reward_at:   11|Elapsed Time: 0:00:00||\n",
      "Episode 10|Iteration 15|reward:   36.0|last_reward_at:   11|Elapsed Time: 0:00:00||\n",
      "Episode 10|Iteration 15|reward:   36.0|last_reward_at:   15|Elapsed Time: 0:00:00||\n",
      "Episode 10|Iteration 17|reward:   36.0|last_reward_at:   15|Elapsed Time: 0:00:00||\n",
      "Episode 10|Iteration 18|reward:   36.0|last_reward_at:   15|Elapsed Time: 0:00:00||\n",
      "Episode 10|Iteration 18|reward:   42.0|last_reward_at:   15|Elapsed Time: 0:00:00||\n",
      "Episode 10|Iteration 18|reward:   42.0|last_reward_at:   18|Elapsed Time: 0:00:00||\n",
      "Episode 10|Iteration 20|reward:   42.0|last_reward_at:   18|Elapsed Time: 0:00:00||\n",
      "Episode 10|Iteration 22|reward:   42.0|last_reward_at:   18|Elapsed Time: 0:00:01||\n",
      "Episode 10|Iteration 24|reward:   42.0|last_reward_at:   18|Elapsed Time: 0:00:01||\n",
      "Episode 10|Iteration 25|reward:   48.0|last_reward_at:   18|Elapsed Time: 0:00:01||\n",
      "Episode 10|Iteration 25|reward:   48.0|last_reward_at:   25|Elapsed Time: 0:00:01||\n",
      "Episode 10|Iteration 27|reward:   49.0|last_reward_at:   25|Elapsed Time: 0:00:01||\n",
      "Episode 10|Iteration 27|reward:   49.0|last_reward_at:   27|Elapsed Time: 0:00:01||\n",
      "Episode 10|Iteration 30|reward:   49.0|last_reward_at:   27|Elapsed Time: 0:00:01||\n",
      "Episode 10|Iteration 30|reward:   55.0|last_reward_at:   27|Elapsed Time: 0:00:01||\n",
      "Episode 10|Iteration 30|reward:   55.0|last_reward_at:   30|Elapsed Time: 0:00:01||\n",
      "Episode 10|Iteration 31|reward:   61.0|last_reward_at:   30|Elapsed Time: 0:00:01||\n",
      "Episode 10|Iteration 31|reward:   61.0|last_reward_at:   31|Elapsed Time: 0:00:01||\n",
      "Episode 10|Iteration 34|reward:   61.0|last_reward_at:   31|Elapsed Time: 0:00:01||\n",
      "Episode 10|Iteration 36|reward:   61.0|last_reward_at:   31|Elapsed Time: 0:00:01||\n",
      "Episode 10|Iteration 38|reward:   61.0|last_reward_at:   31|Elapsed Time: 0:00:01||\n",
      "Episode 10|Iteration 38|reward:   67.0|last_reward_at:   31|Elapsed Time: 0:00:01||\n",
      "Episode 10|Iteration 38|reward:   67.0|last_reward_at:   38|Elapsed Time: 0:00:01||\n",
      "Episode 10|Iteration 41|reward:   67.0|last_reward_at:   38|Elapsed Time: 0:00:01||\n",
      "Episode 10|Iteration 43|reward:   67.0|last_reward_at:   38|Elapsed Time: 0:00:01||\n",
      "Episode 10|Iteration 45|reward:   67.0|last_reward_at:   38|Elapsed Time: 0:00:01||\n",
      "Episode 10|Iteration 47|reward:   67.0|last_reward_at:   38|Elapsed Time: 0:00:01||\n",
      "Episode 10|Iteration 49|reward:   67.0|last_reward_at:   38|Elapsed Time: 0:00:02||\n",
      "Episode 10|Iteration 50|reward:   67.0|last_reward_at:   38|Elapsed Time: 0:00:02||\n"
     ]
    },
    {
     "name": "stdout",
     "output_type": "stream",
     "text": [
      "  Episode 10 stopped at t=50 \n",
      "  Breakdown [Reward/NoReward (Success rate)]\n",
      "    explore-local: 8/7 (0.53)\n",
      "    explore-remote: 0/12 (0.00)\n",
      "    explore-connect: 0/20 (0.00)\n",
      "    exploit-local: 0/0 (NaN)\n",
      "    exploit-remote: 0/0 (NaN)\n",
      "    exploit-connect: 3/0 (1.00)\n",
      "  exploit deflected to exploration: 0\n",
      "  ## Episode: 11/20 'DQL' ϵ=0.8921, γ=0.015, lr=0.01, replaymemory=10000,\n",
      "batch=512, target_update=5\n"
     ]
    },
    {
     "name": "stderr",
     "output_type": "stream",
     "text": [
      "Episode 11|Iteration 0|reward: ------|last_reward_at: ----|Elapsed Time: 0:00:00||\n",
      "Episode 11|Iteration 1|reward:    6.0|last_reward_at: ----|Elapsed Time: 0:00:00||\n",
      "Episode 11|Iteration 1|reward:    6.0|last_reward_at:    1|Elapsed Time: 0:00:00||\n",
      "Episode 11|Iteration 2|reward:   12.0|last_reward_at:    1|Elapsed Time: 0:00:00||\n",
      "Episode 11|Iteration 2|reward:   12.0|last_reward_at:    2|Elapsed Time: 0:00:00||\n",
      "Episode 11|Iteration 3|reward:   30.0|last_reward_at:    2|Elapsed Time: 0:00:00||\n",
      "Episode 11|Iteration 3|reward:   30.0|last_reward_at:    3|Elapsed Time: 0:00:00||\n",
      "Episode 11|Iteration 6|reward:   30.0|last_reward_at:    3|Elapsed Time: 0:00:00||\n",
      "Episode 11|Iteration 6|reward:   31.0|last_reward_at:    3|Elapsed Time: 0:00:00||\n",
      "Episode 11|Iteration 6|reward:   31.0|last_reward_at:    6|Elapsed Time: 0:00:00||\n",
      "Episode 11|Iteration 7|reward:   36.0|last_reward_at:    6|Elapsed Time: 0:00:00||\n",
      "Episode 11|Iteration 7|reward:   36.0|last_reward_at:    7|Elapsed Time: 0:00:00||\n",
      "Episode 11|Iteration 8|reward:   42.0|last_reward_at:    7|Elapsed Time: 0:00:00||\n",
      "Episode 11|Iteration 8|reward:   42.0|last_reward_at:    8|Elapsed Time: 0:00:00||\n",
      "Episode 11|Iteration 10|reward:   43.0|last_reward_at:    8|Elapsed Time: 0:00:00||\n",
      "Episode 11|Iteration 10|reward:   43.0|last_reward_at:   10|Elapsed Time: 0:00:00||\n",
      "Episode 11|Iteration 11|reward:   49.0|last_reward_at:   10|Elapsed Time: 0:00:00||\n",
      "Episode 11|Iteration 11|reward:   49.0|last_reward_at:   11|Elapsed Time: 0:00:00||\n",
      "Episode 11|Iteration 14|reward:   49.0|last_reward_at:   11|Elapsed Time: 0:00:00||\n",
      "Episode 11|Iteration 16|reward:   49.0|last_reward_at:   11|Elapsed Time: 0:00:00||\n",
      "Episode 11|Iteration 17|reward:   49.0|last_reward_at:   11|Elapsed Time: 0:00:00||\n",
      "Episode 11|Iteration 19|reward:   49.0|last_reward_at:   11|Elapsed Time: 0:00:00||\n",
      "Episode 11|Iteration 20|reward:   55.0|last_reward_at:   11|Elapsed Time: 0:00:00||\n",
      "Episode 11|Iteration 20|reward:   55.0|last_reward_at:   20|Elapsed Time: 0:00:00||\n",
      "Episode 11|Iteration 23|reward:   55.0|last_reward_at:   20|Elapsed Time: 0:00:00||\n",
      "Episode 11|Iteration 24|reward:   55.0|last_reward_at:   20|Elapsed Time: 0:00:00||\n",
      "Episode 11|Iteration 25|reward:   61.0|last_reward_at:   20|Elapsed Time: 0:00:01||\n",
      "Episode 11|Iteration 25|reward:   61.0|last_reward_at:   25|Elapsed Time: 0:00:01||\n",
      "Episode 11|Iteration 26|reward:   67.0|last_reward_at:   25|Elapsed Time: 0:00:01||\n",
      "Episode 11|Iteration 26|reward:   67.0|last_reward_at:   26|Elapsed Time: 0:00:01||\n",
      "Episode 11|Iteration 27|reward:   73.0|last_reward_at:   26|Elapsed Time: 0:00:01||\n",
      "Episode 11|Iteration 27|reward:   73.0|last_reward_at:   27|Elapsed Time: 0:00:01||\n",
      "Episode 11|Iteration 30|reward:   73.0|last_reward_at:   27|Elapsed Time: 0:00:01||\n",
      "Episode 11|Iteration 32|reward:   73.0|last_reward_at:   27|Elapsed Time: 0:00:01||\n",
      "Episode 11|Iteration 33|reward:   73.0|last_reward_at:   27|Elapsed Time: 0:00:01||\n",
      "Episode 11|Iteration 35|reward:   73.0|last_reward_at:   27|Elapsed Time: 0:00:01||\n",
      "Episode 11|Iteration 37|reward:   73.0|last_reward_at:   27|Elapsed Time: 0:00:01||\n",
      "Episode 11|Iteration 39|reward:   73.0|last_reward_at:   27|Elapsed Time: 0:00:01||\n",
      "Episode 11|Iteration 41|reward:   73.0|last_reward_at:   27|Elapsed Time: 0:00:01||\n",
      "Episode 11|Iteration 43|reward:   73.0|last_reward_at:   27|Elapsed Time: 0:00:01||\n",
      "Episode 11|Iteration 45|reward:   73.0|last_reward_at:   27|Elapsed Time: 0:00:01||\n",
      "Episode 11|Iteration 47|reward:   73.0|last_reward_at:   27|Elapsed Time: 0:00:01||\n",
      "Episode 11|Iteration 49|reward:   73.0|last_reward_at:   27|Elapsed Time: 0:00:01||\n",
      "Episode 11|Iteration 50|reward:   73.0|last_reward_at:   27|Elapsed Time: 0:00:02||\n"
     ]
    },
    {
     "name": "stdout",
     "output_type": "stream",
     "text": [
      "  Episode 11 stopped at t=50 \n",
      "  Breakdown [Reward/NoReward (Success rate)]\n",
      "    explore-local: 7/11 (0.39)\n",
      "    explore-remote: 0/14 (0.00)\n",
      "    explore-connect: 1/13 (0.07)\n",
      "    exploit-local: 2/0 (1.00)\n",
      "    exploit-remote: 0/0 (NaN)\n",
      "    exploit-connect: 2/0 (1.00)\n",
      "  exploit deflected to exploration: 0\n",
      "  ## Episode: 12/20 'DQL' ϵ=0.8913, γ=0.015, lr=0.01, replaymemory=10000,\n",
      "batch=512, target_update=5\n"
     ]
    },
    {
     "name": "stderr",
     "output_type": "stream",
     "text": [
      "Episode 12|Iteration 0|reward: ------|last_reward_at: ----|Elapsed Time: 0:00:00||\n",
      "Episode 12|Iteration 1|reward:   18.0|last_reward_at: ----|Elapsed Time: 0:00:00||\n",
      "Episode 12|Iteration 1|reward:   18.0|last_reward_at:    1|Elapsed Time: 0:00:00||\n",
      "Episode 12|Iteration 3|reward:   19.0|last_reward_at:    1|Elapsed Time: 0:00:00||\n",
      "Episode 12|Iteration 3|reward:   19.0|last_reward_at:    3|Elapsed Time: 0:00:00||\n",
      "Episode 12|Iteration 4|reward:   25.0|last_reward_at:    3|Elapsed Time: 0:00:00||\n",
      "Episode 12|Iteration 4|reward:   25.0|last_reward_at:    4|Elapsed Time: 0:00:00||\n",
      "Episode 12|Iteration 5|reward:   31.0|last_reward_at:    4|Elapsed Time: 0:00:00||\n",
      "Episode 12|Iteration 5|reward:   31.0|last_reward_at:    5|Elapsed Time: 0:00:00||\n",
      "Episode 12|Iteration 8|reward:   31.0|last_reward_at:    5|Elapsed Time: 0:00:00||\n",
      "Episode 12|Iteration 8|reward:   36.0|last_reward_at:    5|Elapsed Time: 0:00:00||\n",
      "Episode 12|Iteration 8|reward:   36.0|last_reward_at:    8|Elapsed Time: 0:00:00||\n",
      "Episode 12|Iteration 11|reward:   36.0|last_reward_at:    8|Elapsed Time: 0:00:00||\n",
      "Episode 12|Iteration 11|reward:   42.0|last_reward_at:    8|Elapsed Time: 0:00:00||\n",
      "Episode 12|Iteration 11|reward:   42.0|last_reward_at:   11|Elapsed Time: 0:00:00||\n",
      "Episode 12|Iteration 13|reward:   43.0|last_reward_at:   11|Elapsed Time: 0:00:00||\n",
      "Episode 12|Iteration 13|reward:   43.0|last_reward_at:   13|Elapsed Time: 0:00:00||\n",
      "Episode 12|Iteration 16|reward:   43.0|last_reward_at:   13|Elapsed Time: 0:00:00||\n",
      "Episode 12|Iteration 18|reward:   43.0|last_reward_at:   13|Elapsed Time: 0:00:00||\n",
      "Episode 12|Iteration 19|reward:   49.0|last_reward_at:   13|Elapsed Time: 0:00:00||\n",
      "Episode 12|Iteration 19|reward:   49.0|last_reward_at:   19|Elapsed Time: 0:00:00||\n",
      "Episode 12|Iteration 22|reward:   49.0|last_reward_at:   19|Elapsed Time: 0:00:00||\n",
      "Episode 12|Iteration 24|reward:   49.0|last_reward_at:   19|Elapsed Time: 0:00:00||\n",
      "Episode 12|Iteration 25|reward:   55.0|last_reward_at:   19|Elapsed Time: 0:00:01||\n",
      "Episode 12|Iteration 25|reward:   55.0|last_reward_at:   25|Elapsed Time: 0:00:01||\n",
      "Episode 12|Iteration 28|reward:   55.0|last_reward_at:   25|Elapsed Time: 0:00:01||\n",
      "Episode 12|Iteration 29|reward:   61.0|last_reward_at:   25|Elapsed Time: 0:00:01||\n",
      "Episode 12|Iteration 29|reward:   61.0|last_reward_at:   29|Elapsed Time: 0:00:01||\n",
      "Episode 12|Iteration 32|reward:   61.0|last_reward_at:   29|Elapsed Time: 0:00:01||\n",
      "Episode 12|Iteration 34|reward:   61.0|last_reward_at:   29|Elapsed Time: 0:00:01||\n",
      "Episode 12|Iteration 35|reward:   67.0|last_reward_at:   29|Elapsed Time: 0:00:01||\n",
      "Episode 12|Iteration 35|reward:   67.0|last_reward_at:   35|Elapsed Time: 0:00:01||\n",
      "Episode 12|Iteration 38|reward:   67.0|last_reward_at:   35|Elapsed Time: 0:00:01||\n",
      "Episode 12|Iteration 40|reward:   67.0|last_reward_at:   35|Elapsed Time: 0:00:01||\n",
      "Episode 12|Iteration 42|reward:   67.0|last_reward_at:   35|Elapsed Time: 0:00:01||\n",
      "Episode 12|Iteration 44|reward:   67.0|last_reward_at:   35|Elapsed Time: 0:00:01||\n",
      "Episode 12|Iteration 46|reward:   67.0|last_reward_at:   35|Elapsed Time: 0:00:01||\n",
      "Episode 12|Iteration 48|reward:   67.0|last_reward_at:   35|Elapsed Time: 0:00:01||\n",
      "Episode 12|Iteration 50|reward:   67.0|last_reward_at:   35|Elapsed Time: 0:00:01||\n",
      "Episode 12|Iteration 50|reward:   67.0|last_reward_at:   35|Elapsed Time: 0:00:01||\n"
     ]
    },
    {
     "name": "stdout",
     "output_type": "stream",
     "text": [
      "  Episode 12 stopped at t=50 \n",
      "  Breakdown [Reward/NoReward (Success rate)]\n",
      "    explore-local: 5/6 (0.45)\n",
      "    explore-remote: 0/21 (0.00)\n",
      "    explore-connect: 1/12 (0.08)\n",
      "    exploit-local: 3/0 (1.00)\n",
      "    exploit-remote: 0/0 (NaN)\n",
      "    exploit-connect: 2/0 (1.00)\n",
      "  exploit deflected to exploration: 0\n",
      "  ## Episode: 13/20 'DQL' ϵ=0.8905, γ=0.015, lr=0.01, replaymemory=10000,\n",
      "batch=512, target_update=5\n"
     ]
    },
    {
     "name": "stderr",
     "output_type": "stream",
     "text": [
      "Episode 13|Iteration 0|reward: ------|last_reward_at: ----|Elapsed Time: 0:00:00||\n",
      "Episode 13|Iteration 1|reward:    0.0|last_reward_at: ----|Elapsed Time: 0:00:00||\n",
      "Episode 13|Iteration 2|reward:    6.0|last_reward_at: ----|Elapsed Time: 0:00:00||\n",
      "Episode 13|Iteration 2|reward:    6.0|last_reward_at:    2|Elapsed Time: 0:00:00||\n",
      "Episode 13|Iteration 4|reward:    6.0|last_reward_at:    2|Elapsed Time: 0:00:00||\n",
      "Episode 13|Iteration 4|reward:   24.0|last_reward_at:    2|Elapsed Time: 0:00:00||\n",
      "Episode 13|Iteration 4|reward:   24.0|last_reward_at:    4|Elapsed Time: 0:00:00||\n",
      "Episode 13|Iteration 6|reward:   25.0|last_reward_at:    4|Elapsed Time: 0:00:00||\n",
      "Episode 13|Iteration 6|reward:   25.0|last_reward_at:    6|Elapsed Time: 0:00:00||\n",
      "Episode 13|Iteration 7|reward:   31.0|last_reward_at:    6|Elapsed Time: 0:00:00||\n",
      "Episode 13|Iteration 7|reward:   31.0|last_reward_at:    7|Elapsed Time: 0:00:00||\n",
      "Episode 13|Iteration 8|reward:   31.0|last_reward_at:    7|Elapsed Time: 0:00:00||\n",
      "Episode 13|Iteration 10|reward:   31.0|last_reward_at:    7|Elapsed Time: 0:00:00||\n",
      "Episode 13|Iteration 10|reward:   31.0|last_reward_at:    7|Elapsed Time: 0:00:00||\n",
      "Episode 13|Iteration 11|reward:   31.0|last_reward_at:    7|Elapsed Time: 0:00:00||\n",
      "Episode 13|Iteration 12|reward:   37.0|last_reward_at:    7|Elapsed Time: 0:00:01||\n",
      "Episode 13|Iteration 12|reward:   37.0|last_reward_at:   12|Elapsed Time: 0:00:01||\n",
      "Episode 13|Iteration 13|reward:   37.0|last_reward_at:   12|Elapsed Time: 0:00:01||\n",
      "Episode 13|Iteration 15|reward:   37.0|last_reward_at:   12|Elapsed Time: 0:00:01||\n",
      "Episode 13|Iteration 15|reward:   37.0|last_reward_at:   12|Elapsed Time: 0:00:01||\n",
      "Episode 13|Iteration 16|reward:   37.0|last_reward_at:   12|Elapsed Time: 0:00:01||\n",
      "Episode 13|Iteration 17|reward:   43.0|last_reward_at:   12|Elapsed Time: 0:00:01||\n",
      "Episode 13|Iteration 17|reward:   43.0|last_reward_at:   17|Elapsed Time: 0:00:01||\n",
      "Episode 13|Iteration 18|reward:   43.0|last_reward_at:   17|Elapsed Time: 0:00:01||\n",
      "Episode 13|Iteration 20|reward:   43.0|last_reward_at:   17|Elapsed Time: 0:00:01||\n",
      "Episode 13|Iteration 21|reward:   43.0|last_reward_at:   17|Elapsed Time: 0:00:01||\n",
      "Episode 13|Iteration 22|reward:   43.0|last_reward_at:   17|Elapsed Time: 0:00:01||\n",
      "Episode 13|Iteration 22|reward:   48.0|last_reward_at:   17|Elapsed Time: 0:00:01||\n",
      "Episode 13|Iteration 22|reward:   48.0|last_reward_at:   22|Elapsed Time: 0:00:01||\n",
      "Episode 13|Iteration 24|reward:   48.0|last_reward_at:   22|Elapsed Time: 0:00:02||\n",
      "Episode 13|Iteration 25|reward:   48.0|last_reward_at:   22|Elapsed Time: 0:00:02||\n",
      "Episode 13|Iteration 26|reward:   54.0|last_reward_at:   22|Elapsed Time: 0:00:02||\n",
      "Episode 13|Iteration 26|reward:   54.0|last_reward_at:   26|Elapsed Time: 0:00:02||\n",
      "Episode 13|Iteration 27|reward:   54.0|last_reward_at:   26|Elapsed Time: 0:00:02||\n",
      "Episode 13|Iteration 30|reward:   54.0|last_reward_at:   26|Elapsed Time: 0:00:02||\n",
      "Episode 13|Iteration 31|reward:   54.0|last_reward_at:   26|Elapsed Time: 0:00:02||\n",
      "Episode 13|Iteration 31|reward:   54.0|last_reward_at:   26|Elapsed Time: 0:00:02||\n",
      "Episode 13|Iteration 32|reward:   60.0|last_reward_at:   26|Elapsed Time: 0:00:02||\n",
      "Episode 13|Iteration 32|reward:   60.0|last_reward_at:   32|Elapsed Time: 0:00:02||\n",
      "Episode 13|Iteration 33|reward:   61.0|last_reward_at:   32|Elapsed Time: 0:00:02||\n",
      "Episode 13|Iteration 33|reward:   61.0|last_reward_at:   33|Elapsed Time: 0:00:02||\n",
      "Episode 13|Iteration 36|reward:   61.0|last_reward_at:   33|Elapsed Time: 0:00:02||\n",
      "Episode 13|Iteration 37|reward:   61.0|last_reward_at:   33|Elapsed Time: 0:00:02||\n",
      "Episode 13|Iteration 39|reward:   61.0|last_reward_at:   33|Elapsed Time: 0:00:03||\n",
      "Episode 13|Iteration 41|reward:   61.0|last_reward_at:   33|Elapsed Time: 0:00:03||\n",
      "Episode 13|Iteration 42|reward:   70.0|last_reward_at:   33|Elapsed Time: 0:00:03||\n",
      "Episode 13|Iteration 42|reward:   70.0|last_reward_at:   42|Elapsed Time: 0:00:03||\n",
      "Episode 13|Iteration 44|reward:  170.0|last_reward_at:   42|Elapsed Time: 0:00:03||\n",
      "Episode 13|Iteration 44|reward:  170.0|last_reward_at:   44|Elapsed Time: 0:00:03||\n",
      "Episode 13|Iteration 47|reward:  170.0|last_reward_at:   44|Elapsed Time: 0:00:03||\n",
      "Episode 13|Iteration 49|reward:  170.0|last_reward_at:   44|Elapsed Time: 0:00:03||\n",
      "Episode 13|Iteration 50|reward:  431.0|last_reward_at:   44|Elapsed Time: 0:00:03||\n",
      "Episode 13|Iteration 50|reward:  431.0|last_reward_at:   50|Elapsed Time: 0:00:03||\n",
      "Episode 13|Iteration 50|reward:  431.0|last_reward_at:   50|Elapsed Time: 0:00:03||\n"
     ]
    },
    {
     "name": "stdout",
     "output_type": "stream",
     "text": [
      "  Episode 13 stopped at t=50 \n",
      "  Breakdown [Reward/NoReward (Success rate)]\n",
      "    explore-local: 8/8 (0.50)\n",
      "    explore-remote: 0/16 (0.00)\n",
      "    explore-connect: 0/13 (0.00)\n",
      "    exploit-local: 1/0 (1.00)\n",
      "    exploit-remote: 0/0 (NaN)\n",
      "    exploit-connect: 4/0 (1.00)\n",
      "  exploit deflected to exploration: 0\n",
      "  ## Episode: 14/20 'DQL' ϵ=0.8897, γ=0.015, lr=0.01, replaymemory=10000,\n",
      "batch=512, target_update=5\n"
     ]
    },
    {
     "name": "stderr",
     "output_type": "stream",
     "text": [
      "Episode 14|Iteration 0|reward: ------|last_reward_at: ----|Elapsed Time: 0:00:00||\n",
      "Episode 14|Iteration 1|reward:   18.0|last_reward_at: ----|Elapsed Time: 0:00:00||\n",
      "Episode 14|Iteration 1|reward:   18.0|last_reward_at:    1|Elapsed Time: 0:00:00||\n",
      "Episode 14|Iteration 2|reward:   18.0|last_reward_at:    1|Elapsed Time: 0:00:00||\n",
      "Episode 14|Iteration 5|reward:   18.0|last_reward_at:    1|Elapsed Time: 0:00:00||\n",
      "Episode 14|Iteration 7|reward:   18.0|last_reward_at:    1|Elapsed Time: 0:00:00||\n",
      "Episode 14|Iteration 9|reward:   18.0|last_reward_at:    1|Elapsed Time: 0:00:00||\n",
      "Episode 14|Iteration 10|reward:   24.0|last_reward_at:    1|Elapsed Time: 0:00:00||\n",
      "Episode 14|Iteration 10|reward:   24.0|last_reward_at:   10|Elapsed Time: 0:00:00||\n",
      "Episode 14|Iteration 12|reward:   24.0|last_reward_at:   10|Elapsed Time: 0:00:00||\n",
      "Episode 14|Iteration 12|reward:   24.0|last_reward_at:   10|Elapsed Time: 0:00:00||\n",
      "Episode 14|Iteration 13|reward:   30.0|last_reward_at:   10|Elapsed Time: 0:00:00||\n",
      "Episode 14|Iteration 13|reward:   30.0|last_reward_at:   13|Elapsed Time: 0:00:00||\n",
      "Episode 14|Iteration 15|reward:   30.0|last_reward_at:   13|Elapsed Time: 0:00:00||\n",
      "Episode 14|Iteration 17|reward:   30.0|last_reward_at:   13|Elapsed Time: 0:00:00||\n",
      "Episode 14|Iteration 17|reward:   36.0|last_reward_at:   13|Elapsed Time: 0:00:00||\n",
      "Episode 14|Iteration 17|reward:   36.0|last_reward_at:   17|Elapsed Time: 0:00:00||\n",
      "Episode 14|Iteration 18|reward:   41.0|last_reward_at:   17|Elapsed Time: 0:00:01||\n",
      "Episode 14|Iteration 18|reward:   41.0|last_reward_at:   18|Elapsed Time: 0:00:01||\n",
      "Episode 14|Iteration 20|reward:   42.0|last_reward_at:   18|Elapsed Time: 0:00:01||\n",
      "Episode 14|Iteration 20|reward:   42.0|last_reward_at:   20|Elapsed Time: 0:00:01||\n",
      "Episode 14|Iteration 23|reward:   42.0|last_reward_at:   20|Elapsed Time: 0:00:01||\n",
      "Episode 14|Iteration 23|reward:   43.0|last_reward_at:   20|Elapsed Time: 0:00:01||\n",
      "Episode 14|Iteration 23|reward:   43.0|last_reward_at:   23|Elapsed Time: 0:00:01||\n",
      "Episode 14|Iteration 26|reward:   43.0|last_reward_at:   23|Elapsed Time: 0:00:01||\n",
      "Episode 14|Iteration 28|reward:   43.0|last_reward_at:   23|Elapsed Time: 0:00:01||\n",
      "Episode 14|Iteration 30|reward:   43.0|last_reward_at:   23|Elapsed Time: 0:00:01||\n",
      "Episode 14|Iteration 32|reward:   43.0|last_reward_at:   23|Elapsed Time: 0:00:01||\n",
      "Episode 14|Iteration 32|reward:   49.0|last_reward_at:   23|Elapsed Time: 0:00:01||\n",
      "Episode 14|Iteration 32|reward:   49.0|last_reward_at:   32|Elapsed Time: 0:00:01||\n",
      "Episode 14|Iteration 35|reward:   49.0|last_reward_at:   32|Elapsed Time: 0:00:01||\n",
      "Episode 14|Iteration 37|reward:   49.0|last_reward_at:   32|Elapsed Time: 0:00:01||\n",
      "Episode 14|Iteration 37|reward:   55.0|last_reward_at:   32|Elapsed Time: 0:00:01||\n",
      "Episode 14|Iteration 37|reward:   55.0|last_reward_at:   37|Elapsed Time: 0:00:01||\n",
      "Episode 14|Iteration 40|reward:   55.0|last_reward_at:   37|Elapsed Time: 0:00:01||\n",
      "Episode 14|Iteration 42|reward:   55.0|last_reward_at:   37|Elapsed Time: 0:00:01||\n",
      "Episode 14|Iteration 43|reward:   61.0|last_reward_at:   37|Elapsed Time: 0:00:01||\n",
      "Episode 14|Iteration 43|reward:   61.0|last_reward_at:   43|Elapsed Time: 0:00:01||\n",
      "Episode 14|Iteration 45|reward:   67.0|last_reward_at:   43|Elapsed Time: 0:00:01||\n",
      "Episode 14|Iteration 45|reward:   67.0|last_reward_at:   45|Elapsed Time: 0:00:01||\n",
      "Episode 14|Iteration 48|reward:   67.0|last_reward_at:   45|Elapsed Time: 0:00:02||\n",
      "Episode 14|Iteration 49|reward:   73.0|last_reward_at:   45|Elapsed Time: 0:00:02||\n",
      "Episode 14|Iteration 49|reward:   73.0|last_reward_at:   49|Elapsed Time: 0:00:02||\n",
      "Episode 14|Iteration 50|reward:   73.0|last_reward_at:   49|Elapsed Time: 0:00:02||\n"
     ]
    },
    {
     "name": "stdout",
     "output_type": "stream",
     "text": [
      "  Episode 14 stopped at t=50 \n",
      "  Breakdown [Reward/NoReward (Success rate)]\n",
      "    explore-local: 6/9 (0.40)\n",
      "    explore-remote: 0/17 (0.00)\n",
      "    explore-connect: 0/12 (0.00)\n",
      "    exploit-local: 3/0 (1.00)\n",
      "    exploit-remote: 0/0 (NaN)\n",
      "    exploit-connect: 3/0 (1.00)\n",
      "  exploit deflected to exploration: 0\n",
      "  ## Episode: 15/20 'DQL' ϵ=0.8889, γ=0.015, lr=0.01, replaymemory=10000,\n",
      "batch=512, target_update=5\n"
     ]
    },
    {
     "name": "stderr",
     "output_type": "stream",
     "text": [
      "Episode 15|Iteration 0|reward: ------|last_reward_at: ----|Elapsed Time: 0:00:00||\n",
      "Episode 15|Iteration 1|reward:    0.0|last_reward_at: ----|Elapsed Time: 0:00:00||\n",
      "Episode 15|Iteration 3|reward:    6.0|last_reward_at: ----|Elapsed Time: 0:00:00||\n",
      "Episode 15|Iteration 3|reward:    6.0|last_reward_at:    3|Elapsed Time: 0:00:00||\n",
      "Episode 15|Iteration 6|reward:    6.0|last_reward_at:    3|Elapsed Time: 0:00:00||\n",
      "Episode 15|Iteration 6|reward:   24.0|last_reward_at:    3|Elapsed Time: 0:00:00||\n",
      "Episode 15|Iteration 6|reward:   24.0|last_reward_at:    6|Elapsed Time: 0:00:00||\n",
      "Episode 15|Iteration 7|reward:   29.0|last_reward_at:    6|Elapsed Time: 0:00:00||\n",
      "Episode 15|Iteration 7|reward:   29.0|last_reward_at:    7|Elapsed Time: 0:00:00||\n",
      "Episode 15|Iteration 10|reward:   29.0|last_reward_at:    7|Elapsed Time: 0:00:00||\n",
      "Episode 15|Iteration 12|reward:   29.0|last_reward_at:    7|Elapsed Time: 0:00:00||\n",
      "Episode 15|Iteration 13|reward:   30.0|last_reward_at:    7|Elapsed Time: 0:00:00||\n",
      "Episode 15|Iteration 13|reward:   30.0|last_reward_at:   13|Elapsed Time: 0:00:00||\n",
      "Episode 15|Iteration 16|reward:   30.0|last_reward_at:   13|Elapsed Time: 0:00:00||\n",
      "Episode 15|Iteration 17|reward:   31.0|last_reward_at:   13|Elapsed Time: 0:00:00||\n",
      "Episode 15|Iteration 17|reward:   31.0|last_reward_at:   17|Elapsed Time: 0:00:00||\n",
      "Episode 15|Iteration 19|reward:   40.0|last_reward_at:   17|Elapsed Time: 0:00:00||\n",
      "Episode 15|Iteration 19|reward:   40.0|last_reward_at:   19|Elapsed Time: 0:00:00||\n",
      "Episode 15|Iteration 20|reward:   46.0|last_reward_at:   19|Elapsed Time: 0:00:00||\n",
      "Episode 15|Iteration 20|reward:   46.0|last_reward_at:   20|Elapsed Time: 0:00:00||\n",
      "Episode 15|Iteration 22|reward:   52.0|last_reward_at:   20|Elapsed Time: 0:00:00||\n",
      "Episode 15|Iteration 22|reward:   52.0|last_reward_at:   22|Elapsed Time: 0:00:00||\n",
      "Episode 15|Iteration 25|reward:   52.0|last_reward_at:   22|Elapsed Time: 0:00:00||\n",
      "Episode 15|Iteration 27|reward:   52.0|last_reward_at:   22|Elapsed Time: 0:00:00||\n",
      "Episode 15|Iteration 27|reward:  152.0|last_reward_at:   22|Elapsed Time: 0:00:00||\n",
      "Episode 15|Iteration 27|reward:  152.0|last_reward_at:   27|Elapsed Time: 0:00:00||\n",
      "Episode 15|Iteration 30|reward:  152.0|last_reward_at:   27|Elapsed Time: 0:00:01||\n",
      "Episode 15|Iteration 31|reward:  413.0|last_reward_at:   27|Elapsed Time: 0:00:01||\n",
      "Episode 15|Iteration 31|reward:  413.0|last_reward_at:   31|Elapsed Time: 0:00:01||\n",
      "Episode 15|Iteration 34|reward:  413.0|last_reward_at:   31|Elapsed Time: 0:00:01||\n",
      "Episode 15|Iteration 36|reward:  413.0|last_reward_at:   31|Elapsed Time: 0:00:01||\n",
      "Episode 15|Iteration 38|reward:  413.0|last_reward_at:   31|Elapsed Time: 0:00:01||\n",
      "Episode 15|Iteration 40|reward:  413.0|last_reward_at:   31|Elapsed Time: 0:00:01||\n",
      "Episode 15|Iteration 42|reward:  413.0|last_reward_at:   31|Elapsed Time: 0:00:01||\n",
      "Episode 15|Iteration 44|reward:  413.0|last_reward_at:   31|Elapsed Time: 0:00:01||\n",
      "Episode 15|Iteration 45|reward:  419.0|last_reward_at:   31|Elapsed Time: 0:00:01||\n",
      "Episode 15|Iteration 45|reward:  419.0|last_reward_at:   45|Elapsed Time: 0:00:01||\n",
      "Episode 15|Iteration 48|reward:  419.0|last_reward_at:   45|Elapsed Time: 0:00:01||\n",
      "Episode 15|Iteration 49|reward:  425.0|last_reward_at:   45|Elapsed Time: 0:00:01||\n",
      "Episode 15|Iteration 49|reward:  425.0|last_reward_at:   49|Elapsed Time: 0:00:01||\n",
      "Episode 15|Iteration 50|reward:  425.0|last_reward_at:   49|Elapsed Time: 0:00:01||\n"
     ]
    },
    {
     "name": "stdout",
     "output_type": "stream",
     "text": [
      "  Episode 15 stopped at t=50 \n",
      "  Breakdown [Reward/NoReward (Success rate)]\n",
      "    explore-local: 7/3 (0.70)\n",
      "    explore-remote: 0/19 (0.00)\n",
      "    explore-connect: 0/15 (0.00)\n",
      "    exploit-local: 1/0 (1.00)\n",
      "    exploit-remote: 0/0 (NaN)\n",
      "    exploit-connect: 4/1 (0.80)\n",
      "  exploit deflected to exploration: 0\n",
      "  ## Episode: 16/20 'DQL' ϵ=0.8881, γ=0.015, lr=0.01, replaymemory=10000,\n",
      "batch=512, target_update=5\n"
     ]
    },
    {
     "name": "stderr",
     "output_type": "stream",
     "text": [
      "Episode 16|Iteration 0|reward: ------|last_reward_at: ----|Elapsed Time: 0:00:00||\n",
      "Episode 16|Iteration 1|reward:    0.0|last_reward_at: ----|Elapsed Time: 0:00:00||\n",
      "Episode 16|Iteration 2|reward:   18.0|last_reward_at: ----|Elapsed Time: 0:00:00||\n",
      "Episode 16|Iteration 2|reward:   18.0|last_reward_at:    2|Elapsed Time: 0:00:00||\n",
      "Episode 16|Iteration 3|reward:   24.0|last_reward_at:    2|Elapsed Time: 0:00:00||\n",
      "Episode 16|Iteration 3|reward:   24.0|last_reward_at:    3|Elapsed Time: 0:00:00||\n",
      "Episode 16|Iteration 4|reward:   29.0|last_reward_at:    3|Elapsed Time: 0:00:00||\n",
      "Episode 16|Iteration 4|reward:   29.0|last_reward_at:    4|Elapsed Time: 0:00:00||\n",
      "Episode 16|Iteration 7|reward:   29.0|last_reward_at:    4|Elapsed Time: 0:00:00||\n",
      "Episode 16|Iteration 8|reward:   30.0|last_reward_at:    4|Elapsed Time: 0:00:00||\n",
      "Episode 16|Iteration 8|reward:   30.0|last_reward_at:    8|Elapsed Time: 0:00:00||\n",
      "Episode 16|Iteration 11|reward:   30.0|last_reward_at:    8|Elapsed Time: 0:00:00||\n",
      "Episode 16|Iteration 11|reward:   31.0|last_reward_at:    8|Elapsed Time: 0:00:00||\n",
      "Episode 16|Iteration 11|reward:   31.0|last_reward_at:   11|Elapsed Time: 0:00:00||\n",
      "Episode 16|Iteration 14|reward:   31.0|last_reward_at:   11|Elapsed Time: 0:00:00||\n",
      "Episode 16|Iteration 16|reward:   31.0|last_reward_at:   11|Elapsed Time: 0:00:00||\n",
      "Episode 16|Iteration 17|reward:   40.0|last_reward_at:   11|Elapsed Time: 0:00:00||\n",
      "Episode 16|Iteration 17|reward:   40.0|last_reward_at:   17|Elapsed Time: 0:00:00||\n",
      "Episode 16|Iteration 19|reward:  140.0|last_reward_at:   17|Elapsed Time: 0:00:00||\n",
      "Episode 16|Iteration 19|reward:  140.0|last_reward_at:   19|Elapsed Time: 0:00:00||\n",
      "Episode 16|Iteration 22|reward:  140.0|last_reward_at:   19|Elapsed Time: 0:00:00||\n",
      "Episode 16|Iteration 22|reward:  401.0|last_reward_at:   19|Elapsed Time: 0:00:00||\n",
      "Episode 16|Iteration 22|reward:  401.0|last_reward_at:   22|Elapsed Time: 0:00:00||\n",
      "Episode 16|Iteration 25|reward:  401.0|last_reward_at:   22|Elapsed Time: 0:00:00||\n",
      "Episode 16|Iteration 27|reward:  401.0|last_reward_at:   22|Elapsed Time: 0:00:01||\n",
      "Episode 16|Iteration 29|reward:  401.0|last_reward_at:   22|Elapsed Time: 0:00:01||\n",
      "Episode 16|Iteration 31|reward:  401.0|last_reward_at:   22|Elapsed Time: 0:00:01||\n",
      "Episode 16|Iteration 31|reward:  407.0|last_reward_at:   22|Elapsed Time: 0:00:01||\n",
      "Episode 16|Iteration 31|reward:  407.0|last_reward_at:   31|Elapsed Time: 0:00:01||\n",
      "Episode 16|Iteration 34|reward:  407.0|last_reward_at:   31|Elapsed Time: 0:00:01||\n",
      "Episode 16|Iteration 36|reward:  407.0|last_reward_at:   31|Elapsed Time: 0:00:01||\n",
      "Episode 16|Iteration 38|reward:  407.0|last_reward_at:   31|Elapsed Time: 0:00:01||\n",
      "Episode 16|Iteration 40|reward:  407.0|last_reward_at:   31|Elapsed Time: 0:00:01||\n",
      "Episode 16|Iteration 42|reward:  407.0|last_reward_at:   31|Elapsed Time: 0:00:01||\n",
      "Episode 16|Iteration 43|reward:  413.0|last_reward_at:   31|Elapsed Time: 0:00:01||\n",
      "Episode 16|Iteration 43|reward:  413.0|last_reward_at:   43|Elapsed Time: 0:00:01||\n",
      "Episode 16|Iteration 46|reward:  413.0|last_reward_at:   43|Elapsed Time: 0:00:01||\n",
      "Episode 16|Iteration 48|reward:  413.0|last_reward_at:   43|Elapsed Time: 0:00:01||\n",
      "Episode 16|Iteration 50|reward:  413.0|last_reward_at:   43|Elapsed Time: 0:00:01||\n",
      "Episode 16|Iteration 50|reward:  413.0|last_reward_at:   43|Elapsed Time: 0:00:01||\n"
     ]
    },
    {
     "name": "stdout",
     "output_type": "stream",
     "text": [
      "  Episode 16 stopped at t=50 \n",
      "  Breakdown [Reward/NoReward (Success rate)]\n",
      "    explore-local: 3/6 (0.33)\n",
      "    explore-remote: 0/20 (0.00)\n",
      "    explore-connect: 1/10 (0.09)\n",
      "    exploit-local: 3/0 (1.00)\n",
      "    exploit-remote: 0/0 (NaN)\n",
      "    exploit-connect: 3/4 (0.43)\n",
      "  exploit deflected to exploration: 0\n",
      "  ## Episode: 17/20 'DQL' ϵ=0.8873, γ=0.015, lr=0.01, replaymemory=10000,\n",
      "batch=512, target_update=5\n"
     ]
    },
    {
     "name": "stderr",
     "output_type": "stream",
     "text": [
      "Episode 17|Iteration 0|reward: ------|last_reward_at: ----|Elapsed Time: 0:00:00||\n",
      "Episode 17|Iteration 1|reward:    0.0|last_reward_at: ----|Elapsed Time: 0:00:00||\n",
      "Episode 17|Iteration 2|reward:    6.0|last_reward_at: ----|Elapsed Time: 0:00:00||\n",
      "Episode 17|Iteration 2|reward:    6.0|last_reward_at:    2|Elapsed Time: 0:00:00||\n",
      "Episode 17|Iteration 4|reward:    6.0|last_reward_at:    2|Elapsed Time: 0:00:00||\n",
      "Episode 17|Iteration 4|reward:   24.0|last_reward_at:    2|Elapsed Time: 0:00:00||\n",
      "Episode 17|Iteration 4|reward:   24.0|last_reward_at:    4|Elapsed Time: 0:00:00||\n",
      "Episode 17|Iteration 5|reward:   25.0|last_reward_at:    4|Elapsed Time: 0:00:00||\n",
      "Episode 17|Iteration 5|reward:   25.0|last_reward_at:    5|Elapsed Time: 0:00:00||\n",
      "Episode 17|Iteration 8|reward:   25.0|last_reward_at:    5|Elapsed Time: 0:00:00||\n",
      "Episode 17|Iteration 8|reward:   30.0|last_reward_at:    5|Elapsed Time: 0:00:00||\n",
      "Episode 17|Iteration 8|reward:   30.0|last_reward_at:    8|Elapsed Time: 0:00:00||\n",
      "Episode 17|Iteration 9|reward:   36.0|last_reward_at:    8|Elapsed Time: 0:00:00||\n",
      "Episode 17|Iteration 9|reward:   36.0|last_reward_at:    9|Elapsed Time: 0:00:00||\n",
      "Episode 17|Iteration 10|reward:   42.0|last_reward_at:    9|Elapsed Time: 0:00:00||\n",
      "Episode 17|Iteration 10|reward:   42.0|last_reward_at:   10|Elapsed Time: 0:00:00||\n",
      "Episode 17|Iteration 13|reward:   42.0|last_reward_at:   10|Elapsed Time: 0:00:00||\n",
      "Episode 17|Iteration 15|reward:   42.0|last_reward_at:   10|Elapsed Time: 0:00:00||\n",
      "Episode 17|Iteration 17|reward:   42.0|last_reward_at:   10|Elapsed Time: 0:00:00||\n",
      "Episode 17|Iteration 18|reward:   48.0|last_reward_at:   10|Elapsed Time: 0:00:00||\n",
      "Episode 17|Iteration 18|reward:   48.0|last_reward_at:   18|Elapsed Time: 0:00:00||\n",
      "Episode 17|Iteration 19|reward:   57.0|last_reward_at:   18|Elapsed Time: 0:00:00||\n",
      "Episode 17|Iteration 19|reward:   57.0|last_reward_at:   19|Elapsed Time: 0:00:00||\n",
      "Episode 17|Iteration 20|reward:   63.0|last_reward_at:   19|Elapsed Time: 0:00:00||\n",
      "Episode 17|Iteration 20|reward:   63.0|last_reward_at:   20|Elapsed Time: 0:00:00||\n",
      "Episode 17|Iteration 23|reward:   63.0|last_reward_at:   20|Elapsed Time: 0:00:00||\n",
      "Episode 17|Iteration 24|reward:   64.0|last_reward_at:   20|Elapsed Time: 0:00:01||\n",
      "Episode 17|Iteration 24|reward:   64.0|last_reward_at:   24|Elapsed Time: 0:00:01||\n",
      "Episode 17|Iteration 25|reward:  164.0|last_reward_at:   24|Elapsed Time: 0:00:01||\n",
      "Episode 17|Iteration 25|reward:  164.0|last_reward_at:   25|Elapsed Time: 0:00:01||\n",
      "Episode 17|Iteration 28|reward:  164.0|last_reward_at:   25|Elapsed Time: 0:00:01||\n",
      "Episode 17|Iteration 30|reward:  164.0|last_reward_at:   25|Elapsed Time: 0:00:01||\n",
      "Episode 17|Iteration 32|reward:  164.0|last_reward_at:   25|Elapsed Time: 0:00:01||\n",
      "Episode 17|Iteration 34|reward:  164.0|last_reward_at:   25|Elapsed Time: 0:00:01||\n",
      "Episode 17|Iteration 36|reward:  164.0|last_reward_at:   25|Elapsed Time: 0:00:01||\n",
      "Episode 17|Iteration 38|reward:  164.0|last_reward_at:   25|Elapsed Time: 0:00:01||\n",
      "Episode 17|Iteration 40|reward:  164.0|last_reward_at:   25|Elapsed Time: 0:00:01||\n",
      "Episode 17|Iteration 40|reward:  425.0|last_reward_at:   25|Elapsed Time: 0:00:01||\n",
      "Episode 17|Iteration 40|reward:  425.0|last_reward_at:   40|Elapsed Time: 0:00:01||\n",
      "Episode 17|Iteration 43|reward:  425.0|last_reward_at:   40|Elapsed Time: 0:00:01||\n",
      "Episode 17|Iteration 45|reward:  425.0|last_reward_at:   40|Elapsed Time: 0:00:01||\n",
      "Episode 17|Iteration 45|reward:  431.0|last_reward_at:   40|Elapsed Time: 0:00:01||\n",
      "Episode 17|Iteration 45|reward:  431.0|last_reward_at:   45|Elapsed Time: 0:00:01||\n",
      "Episode 17|Iteration 46|reward:  431.0|last_reward_at:   45|Elapsed Time: 0:00:01||\n",
      "Episode 17|Iteration 49|reward:  431.0|last_reward_at:   45|Elapsed Time: 0:00:02||\n",
      "Episode 17|Iteration 49|reward:  432.0|last_reward_at:   45|Elapsed Time: 0:00:02||\n",
      "Episode 17|Iteration 49|reward:  432.0|last_reward_at:   49|Elapsed Time: 0:00:02||\n",
      "Episode 17|Iteration 50|reward:  438.0|last_reward_at:   49|Elapsed Time: 0:00:02||\n",
      "Episode 17|Iteration 50|reward:  438.0|last_reward_at:   50|Elapsed Time: 0:00:02||\n",
      "Episode 17|Iteration 50|reward:  438.0|last_reward_at:   50|Elapsed Time: 0:00:02||\n"
     ]
    },
    {
     "name": "stdout",
     "output_type": "stream",
     "text": [
      "  Episode 17 stopped at t=50 \n",
      "  Breakdown [Reward/NoReward (Success rate)]\n",
      "    explore-local: 8/7 (0.53)\n",
      "    explore-remote: 0/15 (0.00)\n",
      "    explore-connect: 0/12 (0.00)\n",
      "    exploit-local: 2/0 (1.00)\n",
      "    exploit-remote: 0/0 (NaN)\n",
      "    exploit-connect: 5/1 (0.83)\n",
      "  exploit deflected to exploration: 0\n",
      "  ## Episode: 18/20 'DQL' ϵ=0.8865, γ=0.015, lr=0.01, replaymemory=10000,\n",
      "batch=512, target_update=5\n"
     ]
    },
    {
     "name": "stderr",
     "output_type": "stream",
     "text": [
      "Episode 18|Iteration 0|reward: ------|last_reward_at: ----|Elapsed Time: 0:00:00||\n",
      "Episode 18|Iteration 1|reward:    6.0|last_reward_at: ----|Elapsed Time: 0:00:00||\n",
      "Episode 18|Iteration 1|reward:    6.0|last_reward_at:    1|Elapsed Time: 0:00:00||\n",
      "Episode 18|Iteration 2|reward:   24.0|last_reward_at:    1|Elapsed Time: 0:00:00||\n",
      "Episode 18|Iteration 2|reward:   24.0|last_reward_at:    2|Elapsed Time: 0:00:00||\n",
      "Episode 18|Iteration 5|reward:   24.0|last_reward_at:    2|Elapsed Time: 0:00:00||\n",
      "Episode 18|Iteration 7|reward:   24.0|last_reward_at:    2|Elapsed Time: 0:00:00||\n",
      "Episode 18|Iteration 9|reward:   24.0|last_reward_at:    2|Elapsed Time: 0:00:00||\n",
      "Episode 18|Iteration 11|reward:   24.0|last_reward_at:    2|Elapsed Time: 0:00:00||\n",
      "Episode 18|Iteration 13|reward:   24.0|last_reward_at:    2|Elapsed Time: 0:00:00||\n",
      "Episode 18|Iteration 13|reward:   25.0|last_reward_at:    2|Elapsed Time: 0:00:00||\n",
      "Episode 18|Iteration 13|reward:   25.0|last_reward_at:   13|Elapsed Time: 0:00:00||\n",
      "Episode 18|Iteration 16|reward:   25.0|last_reward_at:   13|Elapsed Time: 0:00:00||\n",
      "Episode 18|Iteration 18|reward:   25.0|last_reward_at:   13|Elapsed Time: 0:00:00||\n",
      "Episode 18|Iteration 20|reward:   25.0|last_reward_at:   13|Elapsed Time: 0:00:00||\n",
      "Episode 18|Iteration 20|reward:   30.0|last_reward_at:   13|Elapsed Time: 0:00:00||\n",
      "Episode 18|Iteration 20|reward:   30.0|last_reward_at:   20|Elapsed Time: 0:00:00||\n",
      "Episode 18|Iteration 23|reward:   30.0|last_reward_at:   20|Elapsed Time: 0:00:00||\n",
      "Episode 18|Iteration 23|reward:   31.0|last_reward_at:   20|Elapsed Time: 0:00:00||\n",
      "Episode 18|Iteration 23|reward:   31.0|last_reward_at:   23|Elapsed Time: 0:00:00||\n",
      "Episode 18|Iteration 26|reward:   31.0|last_reward_at:   23|Elapsed Time: 0:00:00||\n",
      "Episode 18|Iteration 28|reward:   31.0|last_reward_at:   23|Elapsed Time: 0:00:01||\n",
      "Episode 18|Iteration 28|reward:   37.0|last_reward_at:   23|Elapsed Time: 0:00:01||\n",
      "Episode 18|Iteration 28|reward:   37.0|last_reward_at:   28|Elapsed Time: 0:00:01||\n",
      "Episode 18|Iteration 31|reward:   37.0|last_reward_at:   28|Elapsed Time: 0:00:01||\n",
      "Episode 18|Iteration 32|reward:   43.0|last_reward_at:   28|Elapsed Time: 0:00:01||\n",
      "Episode 18|Iteration 32|reward:   43.0|last_reward_at:   32|Elapsed Time: 0:00:01||\n",
      "Episode 18|Iteration 35|reward:   43.0|last_reward_at:   32|Elapsed Time: 0:00:01||\n",
      "Episode 18|Iteration 37|reward:   43.0|last_reward_at:   32|Elapsed Time: 0:00:01||\n",
      "Episode 18|Iteration 39|reward:   43.0|last_reward_at:   32|Elapsed Time: 0:00:01||\n",
      "Episode 18|Iteration 39|reward:   49.0|last_reward_at:   32|Elapsed Time: 0:00:01||\n",
      "Episode 18|Iteration 39|reward:   49.0|last_reward_at:   39|Elapsed Time: 0:00:01||\n",
      "Episode 18|Iteration 42|reward:   49.0|last_reward_at:   39|Elapsed Time: 0:00:01||\n",
      "Episode 18|Iteration 42|reward:   55.0|last_reward_at:   39|Elapsed Time: 0:00:01||\n",
      "Episode 18|Iteration 42|reward:   55.0|last_reward_at:   42|Elapsed Time: 0:00:01||\n",
      "Episode 18|Iteration 44|reward:   61.0|last_reward_at:   42|Elapsed Time: 0:00:01||\n",
      "Episode 18|Iteration 44|reward:   61.0|last_reward_at:   44|Elapsed Time: 0:00:01||\n",
      "Episode 18|Iteration 45|reward:   67.0|last_reward_at:   44|Elapsed Time: 0:00:01||\n",
      "Episode 18|Iteration 45|reward:   67.0|last_reward_at:   45|Elapsed Time: 0:00:01||\n",
      "Episode 18|Iteration 48|reward:   67.0|last_reward_at:   45|Elapsed Time: 0:00:01||\n",
      "Episode 18|Iteration 48|reward:   73.0|last_reward_at:   45|Elapsed Time: 0:00:02||\n",
      "Episode 18|Iteration 48|reward:   73.0|last_reward_at:   48|Elapsed Time: 0:00:02||\n",
      "Episode 18|Iteration 50|reward:   73.0|last_reward_at:   48|Elapsed Time: 0:00:02||\n",
      "Episode 18|Iteration 50|reward:   73.0|last_reward_at:   48|Elapsed Time: 0:00:02||\n"
     ]
    },
    {
     "name": "stdout",
     "output_type": "stream",
     "text": [
      "  Episode 18 stopped at t=50 \n",
      "  Breakdown [Reward/NoReward (Success rate)]\n",
      "    explore-local: 2/5 (0.29)\n",
      "    explore-remote: 0/15 (0.00)\n",
      "    explore-connect: 0/18 (0.00)\n",
      "    exploit-local: 7/0 (1.00)\n",
      "    exploit-remote: 0/0 (NaN)\n",
      "    exploit-connect: 3/0 (1.00)\n",
      "  exploit deflected to exploration: 0\n",
      "  ## Episode: 19/20 'DQL' ϵ=0.8857, γ=0.015, lr=0.01, replaymemory=10000,\n",
      "batch=512, target_update=5\n"
     ]
    },
    {
     "name": "stderr",
     "output_type": "stream",
     "text": [
      "Episode 19|Iteration 0|reward: ------|last_reward_at: ----|Elapsed Time: 0:00:00||\n",
      "Episode 19|Iteration 1|reward:    0.0|last_reward_at: ----|Elapsed Time: 0:00:00||\n",
      "Episode 19|Iteration 4|reward:    0.0|last_reward_at: ----|Elapsed Time: 0:00:00||\n",
      "Episode 19|Iteration 4|reward:    6.0|last_reward_at: ----|Elapsed Time: 0:00:00||\n",
      "Episode 19|Iteration 4|reward:    6.0|last_reward_at:    4|Elapsed Time: 0:00:00||\n",
      "Episode 19|Iteration 7|reward:    6.0|last_reward_at:    4|Elapsed Time: 0:00:00||\n",
      "Episode 19|Iteration 9|reward:    6.0|last_reward_at:    4|Elapsed Time: 0:00:00||\n",
      "Episode 19|Iteration 11|reward:    6.0|last_reward_at:    4|Elapsed Time: 0:00:00||\n",
      "Episode 19|Iteration 13|reward:    6.0|last_reward_at:    4|Elapsed Time: 0:00:00||\n",
      "Episode 19|Iteration 15|reward:    6.0|last_reward_at:    4|Elapsed Time: 0:00:00||\n",
      "Episode 19|Iteration 17|reward:    6.0|last_reward_at:    4|Elapsed Time: 0:00:00||\n",
      "Episode 19|Iteration 18|reward:   24.0|last_reward_at:    4|Elapsed Time: 0:00:00||\n",
      "Episode 19|Iteration 18|reward:   24.0|last_reward_at:   18|Elapsed Time: 0:00:00||\n",
      "Episode 19|Iteration 20|reward:   24.0|last_reward_at:   18|Elapsed Time: 0:00:00||\n",
      "Episode 19|Iteration 22|reward:   24.0|last_reward_at:   18|Elapsed Time: 0:00:00||\n",
      "Episode 19|Iteration 24|reward:   24.0|last_reward_at:   18|Elapsed Time: 0:00:00||\n",
      "Episode 19|Iteration 26|reward:   24.0|last_reward_at:   18|Elapsed Time: 0:00:01||\n",
      "Episode 19|Iteration 28|reward:   24.0|last_reward_at:   18|Elapsed Time: 0:00:01||\n",
      "Episode 19|Iteration 28|reward:   29.0|last_reward_at:   18|Elapsed Time: 0:00:01||\n",
      "Episode 19|Iteration 28|reward:   29.0|last_reward_at:   28|Elapsed Time: 0:00:01||\n",
      "Episode 19|Iteration 31|reward:   29.0|last_reward_at:   28|Elapsed Time: 0:00:01||\n",
      "Episode 19|Iteration 32|reward:   29.0|last_reward_at:   28|Elapsed Time: 0:00:01||\n",
      "Episode 19|Iteration 35|reward:   29.0|last_reward_at:   28|Elapsed Time: 0:00:01||\n",
      "Episode 19|Iteration 37|reward:   29.0|last_reward_at:   28|Elapsed Time: 0:00:01||\n",
      "Episode 19|Iteration 37|reward:   30.0|last_reward_at:   28|Elapsed Time: 0:00:01||\n",
      "Episode 19|Iteration 37|reward:   30.0|last_reward_at:   37|Elapsed Time: 0:00:01||\n",
      "Episode 19|Iteration 39|reward:   31.0|last_reward_at:   37|Elapsed Time: 0:00:01||\n",
      "Episode 19|Iteration 39|reward:   31.0|last_reward_at:   39|Elapsed Time: 0:00:01||\n",
      "Episode 19|Iteration 42|reward:   31.0|last_reward_at:   39|Elapsed Time: 0:00:01||\n",
      "Episode 19|Iteration 44|reward:   31.0|last_reward_at:   39|Elapsed Time: 0:00:01||\n",
      "Episode 19|Iteration 44|reward:   37.0|last_reward_at:   39|Elapsed Time: 0:00:01||\n",
      "Episode 19|Iteration 44|reward:   37.0|last_reward_at:   44|Elapsed Time: 0:00:01||\n",
      "Episode 19|Iteration 46|reward:   43.0|last_reward_at:   44|Elapsed Time: 0:00:01||\n",
      "Episode 19|Iteration 46|reward:   43.0|last_reward_at:   46|Elapsed Time: 0:00:01||\n",
      "Episode 19|Iteration 47|reward:   49.0|last_reward_at:   46|Elapsed Time: 0:00:01||\n",
      "Episode 19|Iteration 47|reward:   49.0|last_reward_at:   47|Elapsed Time: 0:00:01||\n",
      "Episode 19|Iteration 50|reward:   49.0|last_reward_at:   47|Elapsed Time: 0:00:01||\n",
      "Episode 19|Iteration 50|reward:   49.0|last_reward_at:   47|Elapsed Time: 0:00:01||\n"
     ]
    },
    {
     "name": "stdout",
     "output_type": "stream",
     "text": [
      "  Episode 19 stopped at t=50 \n",
      "  Breakdown [Reward/NoReward (Success rate)]\n",
      "    explore-local: 2/6 (0.25)\n",
      "    explore-remote: 0/29 (0.00)\n",
      "    explore-connect: 1/7 (0.12)\n",
      "    exploit-local: 3/0 (1.00)\n",
      "    exploit-remote: 0/0 (NaN)\n",
      "    exploit-connect: 2/0 (1.00)\n",
      "  exploit deflected to exploration: 0\n",
      "  ## Episode: 20/20 'DQL' ϵ=0.8850, γ=0.015, lr=0.01, replaymemory=10000,\n",
      "batch=512, target_update=5\n"
     ]
    },
    {
     "name": "stderr",
     "output_type": "stream",
     "text": [
      "Episode 20|Iteration 0|reward: ------|last_reward_at: ----|Elapsed Time: 0:00:00||\n",
      "Episode 20|Iteration 1|reward:    6.0|last_reward_at: ----|Elapsed Time: 0:00:00||\n",
      "Episode 20|Iteration 1|reward:    6.0|last_reward_at:    1|Elapsed Time: 0:00:00||\n",
      "Episode 20|Iteration 2|reward:   24.0|last_reward_at:    1|Elapsed Time: 0:00:00||\n",
      "Episode 20|Iteration 2|reward:   24.0|last_reward_at:    2|Elapsed Time: 0:00:00||\n",
      "Episode 20|Iteration 5|reward:   24.0|last_reward_at:    2|Elapsed Time: 0:00:00||\n",
      "Episode 20|Iteration 6|reward:   30.0|last_reward_at:    2|Elapsed Time: 0:00:00||\n",
      "Episode 20|Iteration 6|reward:   30.0|last_reward_at:    6|Elapsed Time: 0:00:00||\n",
      "Episode 20|Iteration 9|reward:   30.0|last_reward_at:    6|Elapsed Time: 0:00:00||\n",
      "Episode 20|Iteration 11|reward:   30.0|last_reward_at:    6|Elapsed Time: 0:00:00||\n",
      "Episode 20|Iteration 13|reward:   30.0|last_reward_at:    6|Elapsed Time: 0:00:00||\n",
      "Episode 20|Iteration 13|reward:   31.0|last_reward_at:    6|Elapsed Time: 0:00:00||\n",
      "Episode 20|Iteration 13|reward:   31.0|last_reward_at:   13|Elapsed Time: 0:00:00||\n",
      "Episode 20|Iteration 16|reward:   31.0|last_reward_at:   13|Elapsed Time: 0:00:00||\n",
      "Episode 20|Iteration 16|reward:   36.0|last_reward_at:   13|Elapsed Time: 0:00:00||\n",
      "Episode 20|Iteration 16|reward:   36.0|last_reward_at:   16|Elapsed Time: 0:00:00||\n",
      "Episode 20|Iteration 19|reward:   36.0|last_reward_at:   16|Elapsed Time: 0:00:00||\n",
      "Episode 20|Iteration 19|reward:   37.0|last_reward_at:   16|Elapsed Time: 0:00:00||\n",
      "Episode 20|Iteration 19|reward:   37.0|last_reward_at:   19|Elapsed Time: 0:00:00||\n",
      "Episode 20|Iteration 20|reward:   43.0|last_reward_at:   19|Elapsed Time: 0:00:00||\n",
      "Episode 20|Iteration 20|reward:   43.0|last_reward_at:   20|Elapsed Time: 0:00:00||\n",
      "Episode 20|Iteration 23|reward:   43.0|last_reward_at:   20|Elapsed Time: 0:00:00||\n",
      "Episode 20|Iteration 24|reward:   43.0|last_reward_at:   20|Elapsed Time: 0:00:01||\n",
      "Episode 20|Iteration 27|reward:   43.0|last_reward_at:   20|Elapsed Time: 0:00:01||\n",
      "Episode 20|Iteration 29|reward:   43.0|last_reward_at:   20|Elapsed Time: 0:00:01||\n",
      "Episode 20|Iteration 29|reward:   49.0|last_reward_at:   20|Elapsed Time: 0:00:01||\n",
      "Episode 20|Iteration 29|reward:   49.0|last_reward_at:   29|Elapsed Time: 0:00:01||\n",
      "Episode 20|Iteration 32|reward:   49.0|last_reward_at:   29|Elapsed Time: 0:00:01||\n",
      "Episode 20|Iteration 32|reward:   55.0|last_reward_at:   29|Elapsed Time: 0:00:01||\n",
      "Episode 20|Iteration 32|reward:   55.0|last_reward_at:   32|Elapsed Time: 0:00:01||\n",
      "Episode 20|Iteration 33|reward:   61.0|last_reward_at:   32|Elapsed Time: 0:00:01||\n",
      "Episode 20|Iteration 33|reward:   61.0|last_reward_at:   33|Elapsed Time: 0:00:01||\n",
      "Episode 20|Iteration 36|reward:   61.0|last_reward_at:   33|Elapsed Time: 0:00:01||\n",
      "Episode 20|Iteration 38|reward:   61.0|last_reward_at:   33|Elapsed Time: 0:00:01||\n",
      "Episode 20|Iteration 40|reward:   61.0|last_reward_at:   33|Elapsed Time: 0:00:01||\n",
      "Episode 20|Iteration 42|reward:   61.0|last_reward_at:   33|Elapsed Time: 0:00:01||\n",
      "Episode 20|Iteration 42|reward:   67.0|last_reward_at:   33|Elapsed Time: 0:00:01||\n",
      "Episode 20|Iteration 42|reward:   67.0|last_reward_at:   42|Elapsed Time: 0:00:01||\n",
      "Episode 20|Iteration 45|reward:   67.0|last_reward_at:   42|Elapsed Time: 0:00:01||\n",
      "Episode 20|Iteration 47|reward:   67.0|last_reward_at:   42|Elapsed Time: 0:00:01||\n",
      "Episode 20|Iteration 48|reward:   67.0|last_reward_at:   42|Elapsed Time: 0:00:01||\n",
      "Episode 20|Iteration 49|reward:   67.0|last_reward_at:   42|Elapsed Time: 0:00:01||\n",
      "Episode 20|Iteration 50|reward:   67.0|last_reward_at:   42|Elapsed Time: 0:00:02||\n",
      "Episode 20|Iteration 50|reward:   67.0|last_reward_at:   42|Elapsed Time: 0:00:02||\n"
     ]
    },
    {
     "name": "stdout",
     "output_type": "stream",
     "text": [
      "  Episode 20 stopped at t=50 \n",
      "  Breakdown [Reward/NoReward (Success rate)]\n",
      "    explore-local: 4/8 (0.33)\n",
      "    explore-remote: 0/16 (0.00)\n",
      "    explore-connect: 0/14 (0.00)\n",
      "    exploit-local: 4/1 (0.80)\n",
      "    exploit-remote: 0/0 (NaN)\n",
      "    exploit-connect: 3/0 (1.00)\n",
      "  exploit deflected to exploration: 0\n",
      "simulation ended\n"
     ]
    }
   ],
   "source": [
    "# Evaluate the Deep Q-learning agent for each env using transfer learning\n",
    "l = dqla.DeepQLearnerPolicy(\n",
    "    ep=ep,\n",
    "    gamma=0.015,\n",
    "    replay_memory_size=10000,\n",
    "    target_update=5,\n",
    "    batch_size=512,\n",
    "    learning_rate=0.01  # torch default learning rate is 1e-2\n",
    ")\n",
    "for env in envs:\n",
    "    dqn_learning_run = learner.epsilon_greedy_search(\n",
    "        cyberbattle_gym_env=env,\n",
    "        environment_properties=ep,\n",
    "        learner=l,\n",
    "        episode_count=training_episode_count,\n",
    "    iteration_count=iteration_count,\n",
    "        epsilon=0.90,\n",
    "        epsilon_exponential_decay=50000,\n",
    "        epsilon_minimum=0.10,\n",
    "        verbosity=Verbosity.Quiet,\n",
    "        render=False,\n",
    "        plot_episodes_length=False,\n",
    "        title=\"DQL\"\n",
    "    )\n",
    "    l = dqn_learning_run[\"learner\"]\n"
   ]
  },
  {
   "cell_type": "code",
   "execution_count": 18,
   "metadata": {},
   "outputs": [
    {
     "data": {
      "text/html": [
       "<div>\n",
       "<style scoped>\n",
       "    .dataframe tbody tr th:only-of-type {\n",
       "        vertical-align: middle;\n",
       "    }\n",
       "\n",
       "    .dataframe tbody tr th {\n",
       "        vertical-align: top;\n",
       "    }\n",
       "\n",
       "    .dataframe thead th {\n",
       "        text-align: right;\n",
       "    }\n",
       "</style>\n",
       "<table border=\"1\" class=\"dataframe\">\n",
       "  <thead>\n",
       "    <tr style=\"text-align: right;\">\n",
       "      <th></th>\n",
       "      <th>id</th>\n",
       "      <th>status</th>\n",
       "      <th>properties</th>\n",
       "      <th>local_attacks</th>\n",
       "      <th>remote_attacks</th>\n",
       "    </tr>\n",
       "  </thead>\n",
       "  <tbody>\n",
       "    <tr>\n",
       "      <th>0</th>\n",
       "      <td>workstation_0</td>\n",
       "      <td>owned</td>\n",
       "      <td>[breach_node]</td>\n",
       "      <td>[FindDomainControllers, AuthorizationSpoofAndC...</td>\n",
       "      <td>[]</td>\n",
       "    </tr>\n",
       "    <tr>\n",
       "      <th>1</th>\n",
       "      <td>workstation_1</td>\n",
       "      <td>owned</td>\n",
       "      <td>[admin]</td>\n",
       "      <td>[FindDomainControllers, ScanForCreds, Enumerat...</td>\n",
       "      <td>[]</td>\n",
       "    </tr>\n",
       "    <tr>\n",
       "      <th>2</th>\n",
       "      <td>domain_controller_1</td>\n",
       "      <td>owned</td>\n",
       "      <td>[domain_controller]</td>\n",
       "      <td>[FindDomainControllers, DumpNTDS, EnumerateFil...</td>\n",
       "      <td>[]</td>\n",
       "    </tr>\n",
       "  </tbody>\n",
       "</table>\n",
       "</div>"
      ],
      "text/plain": [
       "                    id status           properties  \\\n",
       "0        workstation_0  owned        [breach_node]   \n",
       "1        workstation_1  owned              [admin]   \n",
       "2  domain_controller_1  owned  [domain_controller]   \n",
       "\n",
       "                                       local_attacks remote_attacks  \n",
       "0  [FindDomainControllers, AuthorizationSpoofAndC...             []  \n",
       "1  [FindDomainControllers, ScanForCreds, Enumerat...             []  \n",
       "2  [FindDomainControllers, DumpNTDS, EnumerateFil...             []  "
      ]
     },
     "metadata": {},
     "output_type": "display_data"
    },
    {
     "data": {
      "application/vnd.plotly.v1+json": {
       "config": {
        "plotlyServerURL": "https://plot.ly"
       },
       "data": [
        {
         "name": "cumulative reward",
         "type": "scatter",
         "xaxis": "x",
         "y": [
          9,
          10,
          16,
          22,
          28,
          34,
          43,
          5043
         ],
         "yaxis": "y"
        },
        {
         "line": {
          "color": "gray"
         },
         "mode": "lines",
         "name": "KNOWS",
         "type": "scatter",
         "x": [
          0
         ],
         "xaxis": "x2",
         "y": [
          0
         ],
         "yaxis": "y2"
        },
        {
         "line": {
          "color": "orange"
         },
         "mode": "lines",
         "name": "REMOTE_EXPLOIT",
         "type": "scatter",
         "x": [
          0
         ],
         "xaxis": "x2",
         "y": [
          0
         ],
         "yaxis": "y2"
        },
        {
         "line": {
          "color": "red"
         },
         "mode": "lines",
         "name": "LATERAL_MOVE",
         "type": "scatter",
         "x": [
          0
         ],
         "xaxis": "x2",
         "y": [
          0
         ],
         "yaxis": "y2"
        },
        {
         "hoverinfo": "text",
         "marker": {
          "color": "#D32F2E",
          "line": {
           "color": "rgb(255,0,0)",
           "width": 8
          },
          "size": 5,
          "symbol": "circle-dot"
         },
         "mode": "markers+text",
         "name": "owned",
         "text": [
          "workstation_0",
          "workstation_1",
          "domain_controller_1"
         ],
         "textposition": "bottom center",
         "type": "scatter",
         "x": [
          0,
          0.5,
          -0.5
         ],
         "xaxis": "x2",
         "y": [
          0,
          2.1855694143368964e-8,
          -2.1855694143368964e-8
         ],
         "yaxis": "y2"
        },
        {
         "hoverinfo": "text",
         "marker": {
          "color": "#0e9d00",
          "line": {
           "color": "rgb(0,255,0)",
           "width": 8
          },
          "size": 5,
          "symbol": "circle-dot"
         },
         "mode": "markers+text",
         "name": "discovered",
         "text": [],
         "textposition": "bottom center",
         "type": "scatter",
         "x": [],
         "xaxis": "x2",
         "y": [],
         "yaxis": "y2"
        }
       ],
       "layout": {
        "annotations": [
         {
          "align": "center",
          "arrowcolor": "red",
          "arrowhead": 1,
          "arrowsize": 1,
          "arrowwidth": 1,
          "ax": 0,
          "axref": "x2",
          "ay": 0,
          "ayref": "y2",
          "hovertext": "LATERAL_MOVE",
          "opacity": 1,
          "showarrow": true,
          "standoff": 10,
          "startstandoff": 10,
          "x": 0.5,
          "xref": "x2",
          "y": 2.1855694143368964e-8,
          "yref": "y2"
         },
         {
          "align": "center",
          "arrowcolor": "red",
          "arrowhead": 1,
          "arrowsize": 1,
          "arrowwidth": 1,
          "ax": 0.5,
          "axref": "x2",
          "ay": 2.1855694143368964e-8,
          "ayref": "y2",
          "hovertext": "LATERAL_MOVE",
          "opacity": 1,
          "showarrow": true,
          "standoff": 10,
          "startstandoff": 10,
          "x": -0.5,
          "xref": "x2",
          "y": -2.1855694143368964e-8,
          "yref": "y2"
         }
        ],
        "autosize": false,
        "font": {
         "size": 10
        },
        "height": 400,
        "hovermode": "closest",
        "margin": {
         "b": 15,
         "l": 2,
         "r": 2,
         "t": 35
        },
        "showlegend": true,
        "template": {
         "data": {
          "bar": [
           {
            "error_x": {
             "color": "#2a3f5f"
            },
            "error_y": {
             "color": "#2a3f5f"
            },
            "marker": {
             "line": {
              "color": "#E5ECF6",
              "width": 0.5
             }
            },
            "type": "bar"
           }
          ],
          "barpolar": [
           {
            "marker": {
             "line": {
              "color": "#E5ECF6",
              "width": 0.5
             }
            },
            "type": "barpolar"
           }
          ],
          "carpet": [
           {
            "aaxis": {
             "endlinecolor": "#2a3f5f",
             "gridcolor": "white",
             "linecolor": "white",
             "minorgridcolor": "white",
             "startlinecolor": "#2a3f5f"
            },
            "baxis": {
             "endlinecolor": "#2a3f5f",
             "gridcolor": "white",
             "linecolor": "white",
             "minorgridcolor": "white",
             "startlinecolor": "#2a3f5f"
            },
            "type": "carpet"
           }
          ],
          "choropleth": [
           {
            "colorbar": {
             "outlinewidth": 0,
             "ticks": ""
            },
            "type": "choropleth"
           }
          ],
          "contour": [
           {
            "colorbar": {
             "outlinewidth": 0,
             "ticks": ""
            },
            "colorscale": [
             [
              0,
              "#0d0887"
             ],
             [
              0.1111111111111111,
              "#46039f"
             ],
             [
              0.2222222222222222,
              "#7201a8"
             ],
             [
              0.3333333333333333,
              "#9c179e"
             ],
             [
              0.4444444444444444,
              "#bd3786"
             ],
             [
              0.5555555555555556,
              "#d8576b"
             ],
             [
              0.6666666666666666,
              "#ed7953"
             ],
             [
              0.7777777777777778,
              "#fb9f3a"
             ],
             [
              0.8888888888888888,
              "#fdca26"
             ],
             [
              1,
              "#f0f921"
             ]
            ],
            "type": "contour"
           }
          ],
          "contourcarpet": [
           {
            "colorbar": {
             "outlinewidth": 0,
             "ticks": ""
            },
            "type": "contourcarpet"
           }
          ],
          "heatmap": [
           {
            "colorbar": {
             "outlinewidth": 0,
             "ticks": ""
            },
            "colorscale": [
             [
              0,
              "#0d0887"
             ],
             [
              0.1111111111111111,
              "#46039f"
             ],
             [
              0.2222222222222222,
              "#7201a8"
             ],
             [
              0.3333333333333333,
              "#9c179e"
             ],
             [
              0.4444444444444444,
              "#bd3786"
             ],
             [
              0.5555555555555556,
              "#d8576b"
             ],
             [
              0.6666666666666666,
              "#ed7953"
             ],
             [
              0.7777777777777778,
              "#fb9f3a"
             ],
             [
              0.8888888888888888,
              "#fdca26"
             ],
             [
              1,
              "#f0f921"
             ]
            ],
            "type": "heatmap"
           }
          ],
          "heatmapgl": [
           {
            "colorbar": {
             "outlinewidth": 0,
             "ticks": ""
            },
            "colorscale": [
             [
              0,
              "#0d0887"
             ],
             [
              0.1111111111111111,
              "#46039f"
             ],
             [
              0.2222222222222222,
              "#7201a8"
             ],
             [
              0.3333333333333333,
              "#9c179e"
             ],
             [
              0.4444444444444444,
              "#bd3786"
             ],
             [
              0.5555555555555556,
              "#d8576b"
             ],
             [
              0.6666666666666666,
              "#ed7953"
             ],
             [
              0.7777777777777778,
              "#fb9f3a"
             ],
             [
              0.8888888888888888,
              "#fdca26"
             ],
             [
              1,
              "#f0f921"
             ]
            ],
            "type": "heatmapgl"
           }
          ],
          "histogram": [
           {
            "marker": {
             "colorbar": {
              "outlinewidth": 0,
              "ticks": ""
             }
            },
            "type": "histogram"
           }
          ],
          "histogram2d": [
           {
            "colorbar": {
             "outlinewidth": 0,
             "ticks": ""
            },
            "colorscale": [
             [
              0,
              "#0d0887"
             ],
             [
              0.1111111111111111,
              "#46039f"
             ],
             [
              0.2222222222222222,
              "#7201a8"
             ],
             [
              0.3333333333333333,
              "#9c179e"
             ],
             [
              0.4444444444444444,
              "#bd3786"
             ],
             [
              0.5555555555555556,
              "#d8576b"
             ],
             [
              0.6666666666666666,
              "#ed7953"
             ],
             [
              0.7777777777777778,
              "#fb9f3a"
             ],
             [
              0.8888888888888888,
              "#fdca26"
             ],
             [
              1,
              "#f0f921"
             ]
            ],
            "type": "histogram2d"
           }
          ],
          "histogram2dcontour": [
           {
            "colorbar": {
             "outlinewidth": 0,
             "ticks": ""
            },
            "colorscale": [
             [
              0,
              "#0d0887"
             ],
             [
              0.1111111111111111,
              "#46039f"
             ],
             [
              0.2222222222222222,
              "#7201a8"
             ],
             [
              0.3333333333333333,
              "#9c179e"
             ],
             [
              0.4444444444444444,
              "#bd3786"
             ],
             [
              0.5555555555555556,
              "#d8576b"
             ],
             [
              0.6666666666666666,
              "#ed7953"
             ],
             [
              0.7777777777777778,
              "#fb9f3a"
             ],
             [
              0.8888888888888888,
              "#fdca26"
             ],
             [
              1,
              "#f0f921"
             ]
            ],
            "type": "histogram2dcontour"
           }
          ],
          "mesh3d": [
           {
            "colorbar": {
             "outlinewidth": 0,
             "ticks": ""
            },
            "type": "mesh3d"
           }
          ],
          "parcoords": [
           {
            "line": {
             "colorbar": {
              "outlinewidth": 0,
              "ticks": ""
             }
            },
            "type": "parcoords"
           }
          ],
          "pie": [
           {
            "automargin": true,
            "type": "pie"
           }
          ],
          "scatter": [
           {
            "marker": {
             "colorbar": {
              "outlinewidth": 0,
              "ticks": ""
             }
            },
            "type": "scatter"
           }
          ],
          "scatter3d": [
           {
            "line": {
             "colorbar": {
              "outlinewidth": 0,
              "ticks": ""
             }
            },
            "marker": {
             "colorbar": {
              "outlinewidth": 0,
              "ticks": ""
             }
            },
            "type": "scatter3d"
           }
          ],
          "scattercarpet": [
           {
            "marker": {
             "colorbar": {
              "outlinewidth": 0,
              "ticks": ""
             }
            },
            "type": "scattercarpet"
           }
          ],
          "scattergeo": [
           {
            "marker": {
             "colorbar": {
              "outlinewidth": 0,
              "ticks": ""
             }
            },
            "type": "scattergeo"
           }
          ],
          "scattergl": [
           {
            "marker": {
             "colorbar": {
              "outlinewidth": 0,
              "ticks": ""
             }
            },
            "type": "scattergl"
           }
          ],
          "scattermapbox": [
           {
            "marker": {
             "colorbar": {
              "outlinewidth": 0,
              "ticks": ""
             }
            },
            "type": "scattermapbox"
           }
          ],
          "scatterpolar": [
           {
            "marker": {
             "colorbar": {
              "outlinewidth": 0,
              "ticks": ""
             }
            },
            "type": "scatterpolar"
           }
          ],
          "scatterpolargl": [
           {
            "marker": {
             "colorbar": {
              "outlinewidth": 0,
              "ticks": ""
             }
            },
            "type": "scatterpolargl"
           }
          ],
          "scatterternary": [
           {
            "marker": {
             "colorbar": {
              "outlinewidth": 0,
              "ticks": ""
             }
            },
            "type": "scatterternary"
           }
          ],
          "surface": [
           {
            "colorbar": {
             "outlinewidth": 0,
             "ticks": ""
            },
            "colorscale": [
             [
              0,
              "#0d0887"
             ],
             [
              0.1111111111111111,
              "#46039f"
             ],
             [
              0.2222222222222222,
              "#7201a8"
             ],
             [
              0.3333333333333333,
              "#9c179e"
             ],
             [
              0.4444444444444444,
              "#bd3786"
             ],
             [
              0.5555555555555556,
              "#d8576b"
             ],
             [
              0.6666666666666666,
              "#ed7953"
             ],
             [
              0.7777777777777778,
              "#fb9f3a"
             ],
             [
              0.8888888888888888,
              "#fdca26"
             ],
             [
              1,
              "#f0f921"
             ]
            ],
            "type": "surface"
           }
          ],
          "table": [
           {
            "cells": {
             "fill": {
              "color": "#EBF0F8"
             },
             "line": {
              "color": "white"
             }
            },
            "header": {
             "fill": {
              "color": "#C8D4E3"
             },
             "line": {
              "color": "white"
             }
            },
            "type": "table"
           }
          ]
         },
         "layout": {
          "annotationdefaults": {
           "arrowcolor": "#2a3f5f",
           "arrowhead": 0,
           "arrowwidth": 1
          },
          "coloraxis": {
           "colorbar": {
            "outlinewidth": 0,
            "ticks": ""
           }
          },
          "colorscale": {
           "diverging": [
            [
             0,
             "#8e0152"
            ],
            [
             0.1,
             "#c51b7d"
            ],
            [
             0.2,
             "#de77ae"
            ],
            [
             0.3,
             "#f1b6da"
            ],
            [
             0.4,
             "#fde0ef"
            ],
            [
             0.5,
             "#f7f7f7"
            ],
            [
             0.6,
             "#e6f5d0"
            ],
            [
             0.7,
             "#b8e186"
            ],
            [
             0.8,
             "#7fbc41"
            ],
            [
             0.9,
             "#4d9221"
            ],
            [
             1,
             "#276419"
            ]
           ],
           "sequential": [
            [
             0,
             "#0d0887"
            ],
            [
             0.1111111111111111,
             "#46039f"
            ],
            [
             0.2222222222222222,
             "#7201a8"
            ],
            [
             0.3333333333333333,
             "#9c179e"
            ],
            [
             0.4444444444444444,
             "#bd3786"
            ],
            [
             0.5555555555555556,
             "#d8576b"
            ],
            [
             0.6666666666666666,
             "#ed7953"
            ],
            [
             0.7777777777777778,
             "#fb9f3a"
            ],
            [
             0.8888888888888888,
             "#fdca26"
            ],
            [
             1,
             "#f0f921"
            ]
           ],
           "sequentialminus": [
            [
             0,
             "#0d0887"
            ],
            [
             0.1111111111111111,
             "#46039f"
            ],
            [
             0.2222222222222222,
             "#7201a8"
            ],
            [
             0.3333333333333333,
             "#9c179e"
            ],
            [
             0.4444444444444444,
             "#bd3786"
            ],
            [
             0.5555555555555556,
             "#d8576b"
            ],
            [
             0.6666666666666666,
             "#ed7953"
            ],
            [
             0.7777777777777778,
             "#fb9f3a"
            ],
            [
             0.8888888888888888,
             "#fdca26"
            ],
            [
             1,
             "#f0f921"
            ]
           ]
          },
          "colorway": [
           "#636efa",
           "#EF553B",
           "#00cc96",
           "#ab63fa",
           "#FFA15A",
           "#19d3f3",
           "#FF6692",
           "#B6E880",
           "#FF97FF",
           "#FECB52"
          ],
          "font": {
           "color": "#2a3f5f"
          },
          "geo": {
           "bgcolor": "white",
           "lakecolor": "white",
           "landcolor": "#E5ECF6",
           "showlakes": true,
           "showland": true,
           "subunitcolor": "white"
          },
          "hoverlabel": {
           "align": "left"
          },
          "hovermode": "closest",
          "mapbox": {
           "style": "light"
          },
          "paper_bgcolor": "white",
          "plot_bgcolor": "#E5ECF6",
          "polar": {
           "angularaxis": {
            "gridcolor": "white",
            "linecolor": "white",
            "ticks": ""
           },
           "bgcolor": "#E5ECF6",
           "radialaxis": {
            "gridcolor": "white",
            "linecolor": "white",
            "ticks": ""
           }
          },
          "scene": {
           "xaxis": {
            "backgroundcolor": "#E5ECF6",
            "gridcolor": "white",
            "gridwidth": 2,
            "linecolor": "white",
            "showbackground": true,
            "ticks": "",
            "zerolinecolor": "white"
           },
           "yaxis": {
            "backgroundcolor": "#E5ECF6",
            "gridcolor": "white",
            "gridwidth": 2,
            "linecolor": "white",
            "showbackground": true,
            "ticks": "",
            "zerolinecolor": "white"
           },
           "zaxis": {
            "backgroundcolor": "#E5ECF6",
            "gridcolor": "white",
            "gridwidth": 2,
            "linecolor": "white",
            "showbackground": true,
            "ticks": "",
            "zerolinecolor": "white"
           }
          },
          "shapedefaults": {
           "line": {
            "color": "#2a3f5f"
           }
          },
          "ternary": {
           "aaxis": {
            "gridcolor": "white",
            "linecolor": "white",
            "ticks": ""
           },
           "baxis": {
            "gridcolor": "white",
            "linecolor": "white",
            "ticks": ""
           },
           "bgcolor": "#E5ECF6",
           "caxis": {
            "gridcolor": "white",
            "linecolor": "white",
            "ticks": ""
           }
          },
          "title": {
           "x": 0.05
          },
          "xaxis": {
           "automargin": true,
           "gridcolor": "white",
           "linecolor": "white",
           "ticks": "",
           "title": {
            "standoff": 15
           },
           "zerolinecolor": "white",
           "zerolinewidth": 2
          },
          "yaxis": {
           "automargin": true,
           "gridcolor": "white",
           "linecolor": "white",
           "ticks": "",
           "title": {
            "standoff": 15
           },
           "zerolinecolor": "white",
           "zerolinewidth": 2
          }
         }
        },
        "title": {
         "text": "CyberBattle simulation"
        },
        "width": 800,
        "xaxis": {
         "anchor": "y",
         "domain": [
          0,
          0.45
         ]
        },
        "xaxis2": {
         "anchor": "y2",
         "domain": [
          0.55,
          1
         ]
        },
        "yaxis": {
         "anchor": "x",
         "domain": [
          0,
          1
         ]
        },
        "yaxis2": {
         "anchor": "x2",
         "domain": [
          0,
          1
         ]
        }
       }
      },
      "text/html": [
       "<div>                            <div id=\"2c4cdc27-5bb4-489d-acb5-114aadec33ed\" class=\"plotly-graph-div\" style=\"height:400px; width:800px;\"></div>            <script type=\"text/javascript\">                require([\"plotly\"], function(Plotly) {                    window.PLOTLYENV=window.PLOTLYENV || {};                                    if (document.getElementById(\"2c4cdc27-5bb4-489d-acb5-114aadec33ed\")) {                    Plotly.newPlot(                        \"2c4cdc27-5bb4-489d-acb5-114aadec33ed\",                        [{\"name\": \"cumulative reward\", \"type\": \"scatter\", \"xaxis\": \"x\", \"y\": [9.0, 10.0, 16.0, 22.0, 28.0, 34.0, 43.0, 5043.0], \"yaxis\": \"y\"}, {\"line\": {\"color\": \"gray\"}, \"mode\": \"lines\", \"name\": \"KNOWS\", \"type\": \"scatter\", \"x\": [0], \"xaxis\": \"x2\", \"y\": [0], \"yaxis\": \"y2\"}, {\"line\": {\"color\": \"orange\"}, \"mode\": \"lines\", \"name\": \"REMOTE_EXPLOIT\", \"type\": \"scatter\", \"x\": [0], \"xaxis\": \"x2\", \"y\": [0], \"yaxis\": \"y2\"}, {\"line\": {\"color\": \"red\"}, \"mode\": \"lines\", \"name\": \"LATERAL_MOVE\", \"type\": \"scatter\", \"x\": [0], \"xaxis\": \"x2\", \"y\": [0], \"yaxis\": \"y2\"}, {\"hoverinfo\": \"text\", \"marker\": {\"color\": \"#D32F2E\", \"line\": {\"color\": \"rgb(255,0,0)\", \"width\": 8}, \"size\": 5, \"symbol\": \"circle-dot\"}, \"mode\": \"markers+text\", \"name\": \"owned\", \"text\": [\"workstation_0\", \"workstation_1\", \"domain_controller_1\"], \"textposition\": \"bottom center\", \"type\": \"scatter\", \"x\": [0.0, 0.5, -0.5], \"xaxis\": \"x2\", \"y\": [0.0, 2.1855694143368964e-08, -2.1855694143368964e-08], \"yaxis\": \"y2\"}, {\"hoverinfo\": \"text\", \"marker\": {\"color\": \"#0e9d00\", \"line\": {\"color\": \"rgb(0,255,0)\", \"width\": 8}, \"size\": 5, \"symbol\": \"circle-dot\"}, \"mode\": \"markers+text\", \"name\": \"discovered\", \"text\": [], \"textposition\": \"bottom center\", \"type\": \"scatter\", \"x\": [], \"xaxis\": \"x2\", \"y\": [], \"yaxis\": \"y2\"}],                        {\"annotations\": [{\"align\": \"center\", \"arrowcolor\": \"red\", \"arrowhead\": 1, \"arrowsize\": 1, \"arrowwidth\": 1, \"ax\": 0.0, \"axref\": \"x2\", \"ay\": 0.0, \"ayref\": \"y2\", \"hovertext\": \"LATERAL_MOVE\", \"opacity\": 1, \"showarrow\": true, \"standoff\": 10, \"startstandoff\": 10, \"x\": 0.5, \"xref\": \"x2\", \"y\": 2.1855694143368964e-08, \"yref\": \"y2\"}, {\"align\": \"center\", \"arrowcolor\": \"red\", \"arrowhead\": 1, \"arrowsize\": 1, \"arrowwidth\": 1, \"ax\": 0.5, \"axref\": \"x2\", \"ay\": 2.1855694143368964e-08, \"ayref\": \"y2\", \"hovertext\": \"LATERAL_MOVE\", \"opacity\": 1, \"showarrow\": true, \"standoff\": 10, \"startstandoff\": 10, \"x\": -0.5, \"xref\": \"x2\", \"y\": -2.1855694143368964e-08, \"yref\": \"y2\"}], \"autosize\": false, \"font\": {\"size\": 10}, \"height\": 400, \"hovermode\": \"closest\", \"margin\": {\"b\": 15, \"l\": 2, \"r\": 2, \"t\": 35}, \"showlegend\": true, \"template\": {\"data\": {\"bar\": [{\"error_x\": {\"color\": \"#2a3f5f\"}, \"error_y\": {\"color\": \"#2a3f5f\"}, \"marker\": {\"line\": {\"color\": \"#E5ECF6\", \"width\": 0.5}}, \"type\": \"bar\"}], \"barpolar\": [{\"marker\": {\"line\": {\"color\": \"#E5ECF6\", \"width\": 0.5}}, \"type\": \"barpolar\"}], \"carpet\": [{\"aaxis\": {\"endlinecolor\": \"#2a3f5f\", \"gridcolor\": \"white\", \"linecolor\": \"white\", \"minorgridcolor\": \"white\", \"startlinecolor\": \"#2a3f5f\"}, \"baxis\": {\"endlinecolor\": \"#2a3f5f\", \"gridcolor\": \"white\", \"linecolor\": \"white\", \"minorgridcolor\": \"white\", \"startlinecolor\": \"#2a3f5f\"}, \"type\": \"carpet\"}], \"choropleth\": [{\"colorbar\": {\"outlinewidth\": 0, \"ticks\": \"\"}, \"type\": \"choropleth\"}], \"contour\": [{\"colorbar\": {\"outlinewidth\": 0, \"ticks\": \"\"}, \"colorscale\": [[0.0, \"#0d0887\"], [0.1111111111111111, \"#46039f\"], [0.2222222222222222, \"#7201a8\"], [0.3333333333333333, \"#9c179e\"], [0.4444444444444444, \"#bd3786\"], [0.5555555555555556, \"#d8576b\"], [0.6666666666666666, \"#ed7953\"], [0.7777777777777778, \"#fb9f3a\"], [0.8888888888888888, \"#fdca26\"], [1.0, \"#f0f921\"]], \"type\": \"contour\"}], \"contourcarpet\": [{\"colorbar\": {\"outlinewidth\": 0, \"ticks\": \"\"}, \"type\": \"contourcarpet\"}], \"heatmap\": [{\"colorbar\": {\"outlinewidth\": 0, \"ticks\": \"\"}, \"colorscale\": [[0.0, \"#0d0887\"], [0.1111111111111111, \"#46039f\"], [0.2222222222222222, \"#7201a8\"], [0.3333333333333333, \"#9c179e\"], [0.4444444444444444, \"#bd3786\"], [0.5555555555555556, \"#d8576b\"], [0.6666666666666666, \"#ed7953\"], [0.7777777777777778, \"#fb9f3a\"], [0.8888888888888888, \"#fdca26\"], [1.0, \"#f0f921\"]], \"type\": \"heatmap\"}], \"heatmapgl\": [{\"colorbar\": {\"outlinewidth\": 0, \"ticks\": \"\"}, \"colorscale\": [[0.0, \"#0d0887\"], [0.1111111111111111, \"#46039f\"], [0.2222222222222222, \"#7201a8\"], [0.3333333333333333, \"#9c179e\"], [0.4444444444444444, \"#bd3786\"], [0.5555555555555556, \"#d8576b\"], [0.6666666666666666, \"#ed7953\"], [0.7777777777777778, \"#fb9f3a\"], [0.8888888888888888, \"#fdca26\"], [1.0, \"#f0f921\"]], \"type\": \"heatmapgl\"}], \"histogram\": [{\"marker\": {\"colorbar\": {\"outlinewidth\": 0, \"ticks\": \"\"}}, \"type\": \"histogram\"}], \"histogram2d\": [{\"colorbar\": {\"outlinewidth\": 0, \"ticks\": \"\"}, \"colorscale\": [[0.0, \"#0d0887\"], [0.1111111111111111, \"#46039f\"], [0.2222222222222222, \"#7201a8\"], [0.3333333333333333, \"#9c179e\"], [0.4444444444444444, \"#bd3786\"], [0.5555555555555556, \"#d8576b\"], [0.6666666666666666, \"#ed7953\"], [0.7777777777777778, \"#fb9f3a\"], [0.8888888888888888, \"#fdca26\"], [1.0, \"#f0f921\"]], \"type\": \"histogram2d\"}], \"histogram2dcontour\": [{\"colorbar\": {\"outlinewidth\": 0, \"ticks\": \"\"}, \"colorscale\": [[0.0, \"#0d0887\"], [0.1111111111111111, \"#46039f\"], [0.2222222222222222, \"#7201a8\"], [0.3333333333333333, \"#9c179e\"], [0.4444444444444444, \"#bd3786\"], [0.5555555555555556, \"#d8576b\"], [0.6666666666666666, \"#ed7953\"], [0.7777777777777778, \"#fb9f3a\"], [0.8888888888888888, \"#fdca26\"], [1.0, \"#f0f921\"]], \"type\": \"histogram2dcontour\"}], \"mesh3d\": [{\"colorbar\": {\"outlinewidth\": 0, \"ticks\": \"\"}, \"type\": \"mesh3d\"}], \"parcoords\": [{\"line\": {\"colorbar\": {\"outlinewidth\": 0, \"ticks\": \"\"}}, \"type\": \"parcoords\"}], \"pie\": [{\"automargin\": true, \"type\": \"pie\"}], \"scatter\": [{\"marker\": {\"colorbar\": {\"outlinewidth\": 0, \"ticks\": \"\"}}, \"type\": \"scatter\"}], \"scatter3d\": [{\"line\": {\"colorbar\": {\"outlinewidth\": 0, \"ticks\": \"\"}}, \"marker\": {\"colorbar\": {\"outlinewidth\": 0, \"ticks\": \"\"}}, \"type\": \"scatter3d\"}], \"scattercarpet\": [{\"marker\": {\"colorbar\": {\"outlinewidth\": 0, \"ticks\": \"\"}}, \"type\": \"scattercarpet\"}], \"scattergeo\": [{\"marker\": {\"colorbar\": {\"outlinewidth\": 0, \"ticks\": \"\"}}, \"type\": \"scattergeo\"}], \"scattergl\": [{\"marker\": {\"colorbar\": {\"outlinewidth\": 0, \"ticks\": \"\"}}, \"type\": \"scattergl\"}], \"scattermapbox\": [{\"marker\": {\"colorbar\": {\"outlinewidth\": 0, \"ticks\": \"\"}}, \"type\": \"scattermapbox\"}], \"scatterpolar\": [{\"marker\": {\"colorbar\": {\"outlinewidth\": 0, \"ticks\": \"\"}}, \"type\": \"scatterpolar\"}], \"scatterpolargl\": [{\"marker\": {\"colorbar\": {\"outlinewidth\": 0, \"ticks\": \"\"}}, \"type\": \"scatterpolargl\"}], \"scatterternary\": [{\"marker\": {\"colorbar\": {\"outlinewidth\": 0, \"ticks\": \"\"}}, \"type\": \"scatterternary\"}], \"surface\": [{\"colorbar\": {\"outlinewidth\": 0, \"ticks\": \"\"}, \"colorscale\": [[0.0, \"#0d0887\"], [0.1111111111111111, \"#46039f\"], [0.2222222222222222, \"#7201a8\"], [0.3333333333333333, \"#9c179e\"], [0.4444444444444444, \"#bd3786\"], [0.5555555555555556, \"#d8576b\"], [0.6666666666666666, \"#ed7953\"], [0.7777777777777778, \"#fb9f3a\"], [0.8888888888888888, \"#fdca26\"], [1.0, \"#f0f921\"]], \"type\": \"surface\"}], \"table\": [{\"cells\": {\"fill\": {\"color\": \"#EBF0F8\"}, \"line\": {\"color\": \"white\"}}, \"header\": {\"fill\": {\"color\": \"#C8D4E3\"}, \"line\": {\"color\": \"white\"}}, \"type\": \"table\"}]}, \"layout\": {\"annotationdefaults\": {\"arrowcolor\": \"#2a3f5f\", \"arrowhead\": 0, \"arrowwidth\": 1}, \"coloraxis\": {\"colorbar\": {\"outlinewidth\": 0, \"ticks\": \"\"}}, \"colorscale\": {\"diverging\": [[0, \"#8e0152\"], [0.1, \"#c51b7d\"], [0.2, \"#de77ae\"], [0.3, \"#f1b6da\"], [0.4, \"#fde0ef\"], [0.5, \"#f7f7f7\"], [0.6, \"#e6f5d0\"], [0.7, \"#b8e186\"], [0.8, \"#7fbc41\"], [0.9, \"#4d9221\"], [1, \"#276419\"]], \"sequential\": [[0.0, \"#0d0887\"], [0.1111111111111111, \"#46039f\"], [0.2222222222222222, \"#7201a8\"], [0.3333333333333333, \"#9c179e\"], [0.4444444444444444, \"#bd3786\"], [0.5555555555555556, \"#d8576b\"], [0.6666666666666666, \"#ed7953\"], [0.7777777777777778, \"#fb9f3a\"], [0.8888888888888888, \"#fdca26\"], [1.0, \"#f0f921\"]], \"sequentialminus\": [[0.0, \"#0d0887\"], [0.1111111111111111, \"#46039f\"], [0.2222222222222222, \"#7201a8\"], [0.3333333333333333, \"#9c179e\"], [0.4444444444444444, \"#bd3786\"], [0.5555555555555556, \"#d8576b\"], [0.6666666666666666, \"#ed7953\"], [0.7777777777777778, \"#fb9f3a\"], [0.8888888888888888, \"#fdca26\"], [1.0, \"#f0f921\"]]}, \"colorway\": [\"#636efa\", \"#EF553B\", \"#00cc96\", \"#ab63fa\", \"#FFA15A\", \"#19d3f3\", \"#FF6692\", \"#B6E880\", \"#FF97FF\", \"#FECB52\"], \"font\": {\"color\": \"#2a3f5f\"}, \"geo\": {\"bgcolor\": \"white\", \"lakecolor\": \"white\", \"landcolor\": \"#E5ECF6\", \"showlakes\": true, \"showland\": true, \"subunitcolor\": \"white\"}, \"hoverlabel\": {\"align\": \"left\"}, \"hovermode\": \"closest\", \"mapbox\": {\"style\": \"light\"}, \"paper_bgcolor\": \"white\", \"plot_bgcolor\": \"#E5ECF6\", \"polar\": {\"angularaxis\": {\"gridcolor\": \"white\", \"linecolor\": \"white\", \"ticks\": \"\"}, \"bgcolor\": \"#E5ECF6\", \"radialaxis\": {\"gridcolor\": \"white\", \"linecolor\": \"white\", \"ticks\": \"\"}}, \"scene\": {\"xaxis\": {\"backgroundcolor\": \"#E5ECF6\", \"gridcolor\": \"white\", \"gridwidth\": 2, \"linecolor\": \"white\", \"showbackground\": true, \"ticks\": \"\", \"zerolinecolor\": \"white\"}, \"yaxis\": {\"backgroundcolor\": \"#E5ECF6\", \"gridcolor\": \"white\", \"gridwidth\": 2, \"linecolor\": \"white\", \"showbackground\": true, \"ticks\": \"\", \"zerolinecolor\": \"white\"}, \"zaxis\": {\"backgroundcolor\": \"#E5ECF6\", \"gridcolor\": \"white\", \"gridwidth\": 2, \"linecolor\": \"white\", \"showbackground\": true, \"ticks\": \"\", \"zerolinecolor\": \"white\"}}, \"shapedefaults\": {\"line\": {\"color\": \"#2a3f5f\"}}, \"ternary\": {\"aaxis\": {\"gridcolor\": \"white\", \"linecolor\": \"white\", \"ticks\": \"\"}, \"baxis\": {\"gridcolor\": \"white\", \"linecolor\": \"white\", \"ticks\": \"\"}, \"bgcolor\": \"#E5ECF6\", \"caxis\": {\"gridcolor\": \"white\", \"linecolor\": \"white\", \"ticks\": \"\"}}, \"title\": {\"x\": 0.05}, \"xaxis\": {\"automargin\": true, \"gridcolor\": \"white\", \"linecolor\": \"white\", \"ticks\": \"\", \"title\": {\"standoff\": 15}, \"zerolinecolor\": \"white\", \"zerolinewidth\": 2}, \"yaxis\": {\"automargin\": true, \"gridcolor\": \"white\", \"linecolor\": \"white\", \"ticks\": \"\", \"title\": {\"standoff\": 15}, \"zerolinecolor\": \"white\", \"zerolinewidth\": 2}}}, \"title\": {\"text\": \"CyberBattle simulation\"}, \"width\": 800, \"xaxis\": {\"anchor\": \"y\", \"domain\": [0.0, 0.45]}, \"xaxis2\": {\"anchor\": \"y2\", \"domain\": [0.55, 1.0]}, \"yaxis\": {\"anchor\": \"x\", \"domain\": [0.0, 1.0]}, \"yaxis2\": {\"anchor\": \"x2\", \"domain\": [0.0, 1.0]}},                        {\"responsive\": true}                    ).then(function(){\n",
       "                            \n",
       "var gd = document.getElementById('2c4cdc27-5bb4-489d-acb5-114aadec33ed');\n",
       "var x = new MutationObserver(function (mutations, observer) {{\n",
       "        var display = window.getComputedStyle(gd).display;\n",
       "        if (!display || display === 'none') {{\n",
       "            console.log([gd, 'removed!']);\n",
       "            Plotly.purge(gd);\n",
       "            observer.disconnect();\n",
       "        }}\n",
       "}});\n",
       "\n",
       "// Listen for the removal of the full notebook cells\n",
       "var notebookContainer = gd.closest('#notebook-container');\n",
       "if (notebookContainer) {{\n",
       "    x.observe(notebookContainer, {childList: true});\n",
       "}}\n",
       "\n",
       "// Listen for the clearing of the current output cell\n",
       "var outputEl = gd.closest('.output');\n",
       "if (outputEl) {{\n",
       "    x.observe(outputEl, {childList: true});\n",
       "}}\n",
       "\n",
       "                        })                };                });            </script>        </div>"
      ]
     },
     "metadata": {},
     "output_type": "display_data"
    }
   ],
   "source": [
    "tiny = gym.make('ActiveDirectoryTiny-v0')\n",
    "current_o = tiny.reset()\n",
    "wrapped_env = AgentWrapper(tiny, ActionTrackingStateAugmentation(ep, current_o))\n",
    "# Use the trained agent to run the steps one by one\n",
    "max_steps = 8\n",
    "# next action suggested by DQL agent\n",
    "h = []\n",
    "for i in range(max_steps):\n",
    "    # run the suggested action\n",
    "    _, next_action, _ = l.exploit(wrapped_env, current_o)\n",
    "    h.append((tiny.get_explored_network_node_properties_bitmap_as_numpy(current_o), next_action))\n",
    "    if next_action is None:\n",
    "        break\n",
    "    current_o, _, _, _ = wrapped_env.step(next_action)\n",
    "tiny.render()\n"
   ]
  }
 ],
 "metadata": {
  "interpreter": {
   "hash": "e058ec2e3b470619b92cc5524c0ff741c2bf67cc7202442deb057afc83e799d0"
  },
  "kernelspec": {
   "display_name": "Python 3.8.10 ('venv': venv)",
   "language": "python",
   "name": "python3"
  },
  "language_info": {
   "codemirror_mode": {
    "name": "ipython",
    "version": 3
   },
   "file_extension": ".py",
   "mimetype": "text/x-python",
   "name": "python",
   "nbconvert_exporter": "python",
   "pygments_lexer": "ipython3",
   "version": "3.8.10"
  },
  "orig_nbformat": 4
 },
 "nbformat": 4,
 "nbformat_minor": 2
}
