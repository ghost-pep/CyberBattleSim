{
 "cells": [
  {
   "cell_type": "markdown",
   "metadata": {},
   "source": [
    "# DQL agent running on the Active Directory sample environment"
   ]
  },
  {
   "cell_type": "code",
   "execution_count": 1,
   "metadata": {},
   "outputs": [],
   "source": [
    "from cyberbattle.simulation.model import *\n",
    "import logging, sys, gym\n",
    "import cyberbattle.agents.baseline.learner as learner\n",
    "import cyberbattle.agents.baseline.agent_wrapper as w\n",
    "import cyberbattle.agents.baseline.agent_dql as dqla\n",
    "from cyberbattle.agents.baseline.agent_wrapper import ActionTrackingStateAugmentation, AgentWrapper, Verbosity\n",
    "logging.basicConfig(stream=sys.stdout, level=logging.ERROR, format=\"%(levelname)s: %(message)s\")\n"
   ]
  },
  {
   "cell_type": "code",
   "execution_count": 2,
   "metadata": {},
   "outputs": [],
   "source": [
    "gymids = [f\"ActiveDirectory-v{i}\" for i in range(0, 3)]\n",
    "iteration_count = 50\n",
    "training_episode_count = 20"
   ]
  },
  {
   "cell_type": "code",
   "execution_count": 3,
   "metadata": {},
   "outputs": [],
   "source": [
    "envs = [gym.make(gymid) for gymid in gymids]\n",
    "ep = w.EnvironmentBounds.of_identifiers(\n",
    "    maximum_node_count=30,\n",
    "    maximum_total_credentials=50000,\n",
    "    identifiers=envs[0].identifiers\n",
    ")\n"
   ]
  },
  {
   "cell_type": "code",
   "execution_count": 4,
   "metadata": {},
   "outputs": [
    {
     "name": "stdout",
     "output_type": "stream",
     "text": [
      "###### DQL\n",
      "Learning with: episode_count=20,iteration_count=50,ϵ=0.9,ϵ_min=0.1, ϵ_expdecay=50000,γ=0.015, lr=0.01, replaymemory=10000,\n",
      "batch=512, target_update=5\n",
      "  ## Episode: 1/20 'DQL' ϵ=0.9000, γ=0.015, lr=0.01, replaymemory=10000,\n",
      "batch=512, target_update=5\n"
     ]
    },
    {
     "name": "stderr",
     "output_type": "stream",
     "text": [
      "Episode 1|Iteration 0|reward: ------|last_reward_at: ----|Elapsed Time: 0:00:00||\n",
      "Episode 1|Iteration 1|reward:   27.0|last_reward_at: ----|Elapsed Time: 0:00:00||\n",
      "Episode 1|Iteration 1|reward:   27.0|last_reward_at:    1|Elapsed Time: 0:00:00||\n",
      "Episode 1|Iteration 4|reward:   33.0|last_reward_at:    1|Elapsed Time: 0:00:00||\n",
      "Episode 1|Iteration 4|reward:   33.0|last_reward_at:    4|Elapsed Time: 0:00:00||\n",
      "Episode 1|Iteration 5|reward:   39.0|last_reward_at:    4|Elapsed Time: 0:00:00||\n",
      "Episode 1|Iteration 5|reward:   39.0|last_reward_at:    5|Elapsed Time: 0:00:00||\n",
      "Episode 1|Iteration 7|reward:   40.0|last_reward_at:    5|Elapsed Time: 0:00:00||\n",
      "Episode 1|Iteration 7|reward:   40.0|last_reward_at:    7|Elapsed Time: 0:00:00||\n",
      "Episode 1|Iteration 8|reward:   41.0|last_reward_at:    7|Elapsed Time: 0:00:00||\n",
      "Episode 1|Iteration 8|reward:   41.0|last_reward_at:    8|Elapsed Time: 0:00:00||\n",
      "Episode 1|Iteration 14|reward:   46.0|last_reward_at:    8|Elapsed Time: 0:00:00||\n",
      "Episode 1|Iteration 14|reward:   46.0|last_reward_at:   14|Elapsed Time: 0:00:00||\n",
      "Episode 1|Iteration 16|reward:   47.0|last_reward_at:   14|Elapsed Time: 0:00:00||\n",
      "Episode 1|Iteration 16|reward:   47.0|last_reward_at:   16|Elapsed Time: 0:00:00||\n",
      "Episode 1|Iteration 17|reward:   48.0|last_reward_at:   16|Elapsed Time: 0:00:00||\n",
      "Episode 1|Iteration 17|reward:   48.0|last_reward_at:   17|Elapsed Time: 0:00:00||\n",
      "Episode 1|Iteration 19|reward:   54.0|last_reward_at:   17|Elapsed Time: 0:00:00||\n",
      "Episode 1|Iteration 19|reward:   54.0|last_reward_at:   19|Elapsed Time: 0:00:00||\n",
      "Episode 1|Iteration 20|reward:   60.0|last_reward_at:   19|Elapsed Time: 0:00:00||\n",
      "Episode 1|Iteration 20|reward:   60.0|last_reward_at:   20|Elapsed Time: 0:00:00||\n",
      "Episode 1|Iteration 26|reward:   69.0|last_reward_at:   20|Elapsed Time: 0:00:00||\n",
      "Episode 1|Iteration 26|reward:   69.0|last_reward_at:   26|Elapsed Time: 0:00:00||\n",
      "Episode 1|Iteration 29|reward:  169.0|last_reward_at:   26|Elapsed Time: 0:00:00||\n",
      "Episode 1|Iteration 29|reward:  169.0|last_reward_at:   29|Elapsed Time: 0:00:00||\n",
      "Episode 1|Iteration 30|reward:  170.0|last_reward_at:   29|Elapsed Time: 0:00:00||\n",
      "Episode 1|Iteration 30|reward:  170.0|last_reward_at:   30|Elapsed Time: 0:00:00||\n",
      "Episode 1|Iteration 33|reward:  176.0|last_reward_at:   30|Elapsed Time: 0:00:00||\n",
      "Episode 1|Iteration 33|reward:  176.0|last_reward_at:   33|Elapsed Time: 0:00:00||\n",
      "Episode 1|Iteration 37|reward:  176.0|last_reward_at:   33|Elapsed Time: 0:00:00||\n",
      "Episode 1|Iteration 42|reward:  176.0|last_reward_at:   33|Elapsed Time: 0:00:00||\n",
      "Episode 1|Iteration 45|reward:  176.0|last_reward_at:   33|Elapsed Time: 0:00:00||\n",
      "Episode 1|Iteration 49|reward:  182.0|last_reward_at:   33|Elapsed Time: 0:00:00||\n",
      "Episode 1|Iteration 49|reward:  182.0|last_reward_at:   49|Elapsed Time: 0:00:00||\n",
      "Episode 1|Iteration 50|reward:  182.0|last_reward_at:   49|Elapsed Time: 0:00:00||\n"
     ]
    },
    {
     "name": "stdout",
     "output_type": "stream",
     "text": [
      "  Episode 1 stopped at t=50 \n",
      "  Breakdown [Reward/NoReward (Success rate)]\n",
      "    explore-local: 8/5 (0.62)\n",
      "    explore-remote: 0/14 (0.00)\n",
      "    explore-connect: 0/15 (0.00)\n",
      "    exploit-local: 0/0 (NaN)\n",
      "    exploit-remote: 0/1 (0.00)\n",
      "    exploit-connect: 7/0 (1.00)\n",
      "  exploit deflected to exploration: 2\n",
      "  ## Episode: 2/20 'DQL' ϵ=0.8992, γ=0.015, lr=0.01, replaymemory=10000,\n",
      "batch=512, target_update=5\n"
     ]
    },
    {
     "name": "stderr",
     "output_type": "stream",
     "text": [
      "Episode 2|Iteration 0|reward: ------|last_reward_at: ----|Elapsed Time: 0:00:00||\n",
      "Episode 2|Iteration 1|reward:    0.0|last_reward_at: ----|Elapsed Time: 0:00:00||\n",
      "Episode 2|Iteration 4|reward:    6.0|last_reward_at: ----|Elapsed Time: 0:00:00||\n",
      "Episode 2|Iteration 4|reward:    6.0|last_reward_at:    4|Elapsed Time: 0:00:00||\n",
      "Episode 2|Iteration 11|reward:   33.0|last_reward_at:    4|Elapsed Time: 0:00:00||\n",
      "Episode 2|Iteration 11|reward:   33.0|last_reward_at:   11|Elapsed Time: 0:00:00||\n",
      "Episode 2|Iteration 19|reward:   39.0|last_reward_at:   11|Elapsed Time: 0:00:00||\n",
      "Episode 2|Iteration 19|reward:   39.0|last_reward_at:   19|Elapsed Time: 0:00:00||\n",
      "Episode 2|Iteration 20|reward:   45.0|last_reward_at:   19|Elapsed Time: 0:00:00||\n",
      "Episode 2|Iteration 20|reward:   45.0|last_reward_at:   20|Elapsed Time: 0:00:00||\n",
      "Episode 2|Iteration 23|reward:   46.0|last_reward_at:   20|Elapsed Time: 0:00:00||\n",
      "Episode 2|Iteration 23|reward:   46.0|last_reward_at:   23|Elapsed Time: 0:00:00||\n",
      "Episode 2|Iteration 25|reward:   47.0|last_reward_at:   23|Elapsed Time: 0:00:00||\n",
      "Episode 2|Iteration 25|reward:   47.0|last_reward_at:   25|Elapsed Time: 0:00:00||\n",
      "Episode 2|Iteration 26|reward:   52.0|last_reward_at:   25|Elapsed Time: 0:00:00||\n",
      "Episode 2|Iteration 26|reward:   52.0|last_reward_at:   26|Elapsed Time: 0:00:00||\n",
      "Episode 2|Iteration 30|reward:   58.0|last_reward_at:   26|Elapsed Time: 0:00:00||\n",
      "Episode 2|Iteration 30|reward:   58.0|last_reward_at:   30|Elapsed Time: 0:00:00||\n",
      "Episode 2|Iteration 32|reward:   59.0|last_reward_at:   30|Elapsed Time: 0:00:00||\n",
      "Episode 2|Iteration 32|reward:   59.0|last_reward_at:   32|Elapsed Time: 0:00:00||\n",
      "Episode 2|Iteration 35|reward:   65.0|last_reward_at:   32|Elapsed Time: 0:00:00||\n",
      "Episode 2|Iteration 35|reward:   65.0|last_reward_at:   35|Elapsed Time: 0:00:00||\n",
      "Episode 2|Iteration 39|reward:   65.0|last_reward_at:   35|Elapsed Time: 0:00:00||\n",
      "Episode 2|Iteration 39|reward:   71.0|last_reward_at:   35|Elapsed Time: 0:00:00||\n",
      "Episode 2|Iteration 39|reward:   71.0|last_reward_at:   39|Elapsed Time: 0:00:00||\n",
      "Episode 2|Iteration 41|reward:   72.0|last_reward_at:   39|Elapsed Time: 0:00:00||\n",
      "Episode 2|Iteration 41|reward:   72.0|last_reward_at:   41|Elapsed Time: 0:00:00||\n",
      "Episode 2|Iteration 43|reward:   73.0|last_reward_at:   41|Elapsed Time: 0:00:00||\n",
      "Episode 2|Iteration 43|reward:   73.0|last_reward_at:   43|Elapsed Time: 0:00:00||\n",
      "Episode 2|Iteration 46|reward:   73.0|last_reward_at:   43|Elapsed Time: 0:00:00||\n",
      "Episode 2|Iteration 47|reward:   79.0|last_reward_at:   43|Elapsed Time: 0:00:00||\n",
      "Episode 2|Iteration 47|reward:   79.0|last_reward_at:   47|Elapsed Time: 0:00:00||\n",
      "Episode 2|Iteration 50|reward:   79.0|last_reward_at:   47|Elapsed Time: 0:00:00||\n"
     ]
    },
    {
     "name": "stdout",
     "output_type": "stream",
     "text": [
      "  Episode 2 stopped at t=50 \n",
      "  Breakdown [Reward/NoReward (Success rate)]\n",
      "    explore-local: 8/5 (0.62)\n",
      "    explore-remote: 0/15 (0.00)\n",
      "    explore-connect: 0/16 (0.00)\n",
      "    exploit-local: 0/0 (NaN)\n",
      "    exploit-remote: 0/0 (NaN)\n",
      "    exploit-connect: 6/0 (1.00)\n",
      "  exploit deflected to exploration: 4\n",
      "  ## Episode: 3/20 'DQL' ϵ=0.8984, γ=0.015, lr=0.01, replaymemory=10000,\n",
      "batch=512, target_update=5\n"
     ]
    },
    {
     "name": "stderr",
     "output_type": "stream",
     "text": [
      "Episode 3|Iteration 0|reward: ------|last_reward_at: ----|Elapsed Time: 0:00:00||\n",
      "Episode 3|Iteration 1|reward:    0.0|last_reward_at: ----|Elapsed Time: 0:00:00||\n",
      "Episode 3|Iteration 3|reward:    6.0|last_reward_at: ----|Elapsed Time: 0:00:00||\n",
      "Episode 3|Iteration 3|reward:    6.0|last_reward_at:    3|Elapsed Time: 0:00:00||\n",
      "Episode 3|Iteration 9|reward:   12.0|last_reward_at:    3|Elapsed Time: 0:00:00||\n",
      "Episode 3|Iteration 9|reward:   12.0|last_reward_at:    9|Elapsed Time: 0:00:00||\n",
      "Episode 3|Iteration 10|reward:   39.0|last_reward_at:    9|Elapsed Time: 0:00:00||\n",
      "Episode 3|Iteration 10|reward:   39.0|last_reward_at:   10|Elapsed Time: 0:00:00||\n",
      "Episode 3|Iteration 16|reward:   40.0|last_reward_at:   10|Elapsed Time: 0:00:00||\n",
      "Episode 3|Iteration 16|reward:   40.0|last_reward_at:   16|Elapsed Time: 0:00:00||\n",
      "Episode 3|Iteration 22|reward:   41.0|last_reward_at:   16|Elapsed Time: 0:00:00||\n",
      "Episode 3|Iteration 22|reward:   41.0|last_reward_at:   22|Elapsed Time: 0:00:00||\n",
      "Episode 3|Iteration 29|reward:   41.0|last_reward_at:   22|Elapsed Time: 0:00:00||\n",
      "Episode 3|Iteration 29|reward:   50.0|last_reward_at:   22|Elapsed Time: 0:00:00||\n",
      "Episode 3|Iteration 29|reward:   50.0|last_reward_at:   29|Elapsed Time: 0:00:00||\n",
      "Episode 3|Iteration 34|reward:   51.0|last_reward_at:   29|Elapsed Time: 0:00:00||\n",
      "Episode 3|Iteration 34|reward:   51.0|last_reward_at:   34|Elapsed Time: 0:00:00||\n",
      "Episode 3|Iteration 35|reward:   57.0|last_reward_at:   34|Elapsed Time: 0:00:00||\n",
      "Episode 3|Iteration 35|reward:   57.0|last_reward_at:   35|Elapsed Time: 0:00:00||\n",
      "Episode 3|Iteration 36|reward:   63.0|last_reward_at:   35|Elapsed Time: 0:00:00||\n",
      "Episode 3|Iteration 36|reward:   63.0|last_reward_at:   36|Elapsed Time: 0:00:00||\n",
      "Episode 3|Iteration 40|reward:   69.0|last_reward_at:   36|Elapsed Time: 0:00:00||\n",
      "Episode 3|Iteration 40|reward:   69.0|last_reward_at:   40|Elapsed Time: 0:00:00||\n",
      "Episode 3|Iteration 43|reward:   74.0|last_reward_at:   40|Elapsed Time: 0:00:00||\n",
      "Episode 3|Iteration 43|reward:   74.0|last_reward_at:   43|Elapsed Time: 0:00:00||\n",
      "Episode 3|Iteration 50|reward:   74.0|last_reward_at:   43|Elapsed Time: 0:00:00||\n"
     ]
    },
    {
     "name": "stdout",
     "output_type": "stream",
     "text": [
      "  Episode 3 stopped at t=50 \n",
      "  Breakdown [Reward/NoReward (Success rate)]\n",
      "    explore-local: 7/6 (0.54)\n",
      "    explore-remote: 0/16 (0.00)\n",
      "    explore-connect: 2/17 (0.11)\n",
      "    exploit-local: 0/0 (NaN)\n",
      "    exploit-remote: 0/0 (NaN)\n",
      "    exploit-connect: 2/0 (1.00)\n",
      "  exploit deflected to exploration: 0\n",
      "  ## Episode: 4/20 'DQL' ϵ=0.8976, γ=0.015, lr=0.01, replaymemory=10000,\n",
      "batch=512, target_update=5\n"
     ]
    },
    {
     "name": "stderr",
     "output_type": "stream",
     "text": [
      "Episode 4|Iteration 0|reward: ------|last_reward_at: ----|Elapsed Time: 0:00:00||\n",
      "Episode 4|Iteration 1|reward:    0.0|last_reward_at: ----|Elapsed Time: 0:00:00||\n",
      "Episode 4|Iteration 7|reward:    6.0|last_reward_at: ----|Elapsed Time: 0:00:00||\n",
      "Episode 4|Iteration 7|reward:    6.0|last_reward_at:    7|Elapsed Time: 0:00:00||\n",
      "Episode 4|Iteration 8|reward:   33.0|last_reward_at:    7|Elapsed Time: 0:00:00||\n",
      "Episode 4|Iteration 8|reward:   33.0|last_reward_at:    8|Elapsed Time: 0:00:00||\n",
      "Episode 4|Iteration 10|reward:   34.0|last_reward_at:    8|Elapsed Time: 0:00:00||\n",
      "Episode 4|Iteration 10|reward:   34.0|last_reward_at:   10|Elapsed Time: 0:00:00||\n",
      "Episode 4|Iteration 13|reward:   43.0|last_reward_at:   10|Elapsed Time: 0:00:00||\n",
      "Episode 4|Iteration 13|reward:   43.0|last_reward_at:   13|Elapsed Time: 0:00:00||\n",
      "Episode 4|Iteration 15|reward:   44.0|last_reward_at:   13|Elapsed Time: 0:00:00||\n",
      "Episode 4|Iteration 15|reward:   44.0|last_reward_at:   15|Elapsed Time: 0:00:00||\n",
      "Episode 4|Iteration 17|reward:   45.0|last_reward_at:   15|Elapsed Time: 0:00:00||\n",
      "Episode 4|Iteration 17|reward:   45.0|last_reward_at:   17|Elapsed Time: 0:00:00||\n",
      "Episode 4|Iteration 20|reward:   51.0|last_reward_at:   17|Elapsed Time: 0:00:00||\n",
      "Episode 4|Iteration 20|reward:   51.0|last_reward_at:   20|Elapsed Time: 0:00:00||\n",
      "Episode 4|Iteration 26|reward:   52.0|last_reward_at:   20|Elapsed Time: 0:00:00||\n",
      "Episode 4|Iteration 26|reward:   52.0|last_reward_at:   26|Elapsed Time: 0:00:00||\n",
      "Episode 4|Iteration 32|reward:   58.0|last_reward_at:   26|Elapsed Time: 0:00:00||\n",
      "Episode 4|Iteration 32|reward:   58.0|last_reward_at:   32|Elapsed Time: 0:00:00||\n",
      "Episode 4|Iteration 33|reward:   64.0|last_reward_at:   32|Elapsed Time: 0:00:00||\n",
      "Episode 4|Iteration 33|reward:   64.0|last_reward_at:   33|Elapsed Time: 0:00:00||\n",
      "Episode 4|Iteration 35|reward:   69.0|last_reward_at:   33|Elapsed Time: 0:00:00||\n",
      "Episode 4|Iteration 35|reward:   69.0|last_reward_at:   35|Elapsed Time: 0:00:00||\n",
      "Episode 4|Iteration 36|reward:  169.0|last_reward_at:   35|Elapsed Time: 0:00:00||\n",
      "Episode 4|Iteration 36|reward:  169.0|last_reward_at:   36|Elapsed Time: 0:00:00||\n",
      "Episode 4|Iteration 42|reward:  170.0|last_reward_at:   36|Elapsed Time: 0:00:00||\n",
      "Episode 4|Iteration 42|reward:  170.0|last_reward_at:   42|Elapsed Time: 0:00:00||\n",
      "Episode 4|Iteration 48|reward:  170.0|last_reward_at:   42|Elapsed Time: 0:00:00||\n",
      "Episode 4|Iteration 50|reward:  170.0|last_reward_at:   42|Elapsed Time: 0:00:00||\n"
     ]
    },
    {
     "name": "stdout",
     "output_type": "stream",
     "text": [
      "  Episode 4 stopped at t=50 \n",
      "  Breakdown [Reward/NoReward (Success rate)]\n",
      "    explore-local: 6/1 (0.86)\n",
      "    explore-remote: 0/26 (0.00)\n",
      "    explore-connect: 1/10 (0.09)\n",
      "    exploit-local: 0/0 (NaN)\n",
      "    exploit-remote: 0/0 (NaN)\n",
      "    exploit-connect: 6/0 (1.00)\n",
      "  exploit deflected to exploration: 1\n",
      "  ## Episode: 5/20 'DQL' ϵ=0.8968, γ=0.015, lr=0.01, replaymemory=10000,\n",
      "batch=512, target_update=5\n"
     ]
    },
    {
     "name": "stderr",
     "output_type": "stream",
     "text": [
      "Episode 5|Iteration 0|reward: ------|last_reward_at: ----|Elapsed Time: 0:00:00||\n",
      "Episode 5|Iteration 1|reward:   27.0|last_reward_at: ----|Elapsed Time: 0:00:00||\n",
      "Episode 5|Iteration 1|reward:   27.0|last_reward_at:    1|Elapsed Time: 0:00:00||\n",
      "Episode 5|Iteration 2|reward:   33.0|last_reward_at:    1|Elapsed Time: 0:00:00||\n",
      "Episode 5|Iteration 2|reward:   33.0|last_reward_at:    2|Elapsed Time: 0:00:00||\n",
      "Episode 5|Iteration 4|reward:   39.0|last_reward_at:    2|Elapsed Time: 0:00:00||\n",
      "Episode 5|Iteration 4|reward:   39.0|last_reward_at:    4|Elapsed Time: 0:00:00||\n",
      "Episode 5|Iteration 9|reward:   45.0|last_reward_at:    4|Elapsed Time: 0:00:00||\n",
      "Episode 5|Iteration 9|reward:   45.0|last_reward_at:    9|Elapsed Time: 0:00:00||\n",
      "Episode 5|Iteration 17|reward:   50.0|last_reward_at:    9|Elapsed Time: 0:00:00||\n",
      "Episode 5|Iteration 17|reward:   50.0|last_reward_at:   17|Elapsed Time: 0:00:00||\n",
      "Episode 5|Iteration 28|reward:   50.0|last_reward_at:   17|Elapsed Time: 0:00:00||\n",
      "Episode 5|Iteration 34|reward:   51.0|last_reward_at:   17|Elapsed Time: 0:00:00||\n",
      "Episode 5|Iteration 34|reward:   51.0|last_reward_at:   34|Elapsed Time: 0:00:00||\n",
      "Episode 5|Iteration 41|reward:   52.0|last_reward_at:   34|Elapsed Time: 0:00:00||\n",
      "Episode 5|Iteration 41|reward:   52.0|last_reward_at:   41|Elapsed Time: 0:00:00||\n",
      "Episode 5|Iteration 45|reward:   58.0|last_reward_at:   41|Elapsed Time: 0:00:00||\n",
      "Episode 5|Iteration 45|reward:   58.0|last_reward_at:   45|Elapsed Time: 0:00:00||\n",
      "Episode 5|Iteration 46|reward:   59.0|last_reward_at:   45|Elapsed Time: 0:00:00||\n",
      "Episode 5|Iteration 46|reward:   59.0|last_reward_at:   46|Elapsed Time: 0:00:00||\n",
      "Episode 5|Iteration 47|reward:   60.0|last_reward_at:   46|Elapsed Time: 0:00:00||\n",
      "Episode 5|Iteration 47|reward:   60.0|last_reward_at:   47|Elapsed Time: 0:00:00||\n",
      "Episode 5|Iteration 48|reward:   61.0|last_reward_at:   47|Elapsed Time: 0:00:00||\n",
      "Episode 5|Iteration 48|reward:   61.0|last_reward_at:   48|Elapsed Time: 0:00:00||\n",
      "Episode 5|Iteration 49|reward:   67.0|last_reward_at:   48|Elapsed Time: 0:00:00||\n",
      "Episode 5|Iteration 49|reward:   67.0|last_reward_at:   49|Elapsed Time: 0:00:00||\n",
      "Episode 5|Iteration 50|reward:   67.0|last_reward_at:   49|Elapsed Time: 0:00:00||\n"
     ]
    },
    {
     "name": "stdout",
     "output_type": "stream",
     "text": [
      "  Episode 5 stopped at t=50 \n",
      "  Breakdown [Reward/NoReward (Success rate)]\n",
      "    explore-local: 6/9 (0.40)\n",
      "    explore-remote: 0/17 (0.00)\n",
      "    explore-connect: 1/12 (0.08)\n",
      "    exploit-local: 0/0 (NaN)\n",
      "    exploit-remote: 0/0 (NaN)\n",
      "    exploit-connect: 5/0 (1.00)\n",
      "  exploit deflected to exploration: 0\n",
      "  ## Episode: 6/20 'DQL' ϵ=0.8960, γ=0.015, lr=0.01, replaymemory=10000,\n",
      "batch=512, target_update=5\n"
     ]
    },
    {
     "name": "stderr",
     "output_type": "stream",
     "text": [
      "Episode 6|Iteration 0|reward: ------|last_reward_at: ----|Elapsed Time: 0:00:00||\n",
      "Episode 6|Iteration 1|reward:    6.0|last_reward_at: ----|Elapsed Time: 0:00:00||\n",
      "Episode 6|Iteration 1|reward:    6.0|last_reward_at:    1|Elapsed Time: 0:00:00||\n",
      "Episode 6|Iteration 7|reward:   12.0|last_reward_at:    1|Elapsed Time: 0:00:00||\n",
      "Episode 6|Iteration 7|reward:   12.0|last_reward_at:    7|Elapsed Time: 0:00:00||\n",
      "Episode 6|Iteration 10|reward:   18.0|last_reward_at:    7|Elapsed Time: 0:00:00||\n",
      "Episode 6|Iteration 10|reward:   18.0|last_reward_at:   10|Elapsed Time: 0:00:00||\n",
      "Episode 6|Iteration 25|reward:   45.0|last_reward_at:   10|Elapsed Time: 0:00:00||\n",
      "Episode 6|Iteration 25|reward:   45.0|last_reward_at:   25|Elapsed Time: 0:00:00||\n",
      "Episode 6|Iteration 26|reward:   46.0|last_reward_at:   25|Elapsed Time: 0:00:00||\n",
      "Episode 6|Iteration 26|reward:   46.0|last_reward_at:   26|Elapsed Time: 0:00:00||\n",
      "Episode 6|Iteration 28|reward:   51.0|last_reward_at:   26|Elapsed Time: 0:00:00||\n",
      "Episode 6|Iteration 28|reward:   51.0|last_reward_at:   28|Elapsed Time: 0:00:00||\n",
      "Episode 6|Iteration 30|reward:   57.0|last_reward_at:   28|Elapsed Time: 0:00:00||\n",
      "Episode 6|Iteration 30|reward:   57.0|last_reward_at:   30|Elapsed Time: 0:00:00||\n",
      "Episode 6|Iteration 32|reward:   63.0|last_reward_at:   30|Elapsed Time: 0:00:00||\n",
      "Episode 6|Iteration 32|reward:   63.0|last_reward_at:   32|Elapsed Time: 0:00:00||\n",
      "Episode 6|Iteration 33|reward:   64.0|last_reward_at:   32|Elapsed Time: 0:00:00||\n",
      "Episode 6|Iteration 33|reward:   64.0|last_reward_at:   33|Elapsed Time: 0:00:00||\n",
      "Episode 6|Iteration 36|reward:   65.0|last_reward_at:   33|Elapsed Time: 0:00:00||\n",
      "Episode 6|Iteration 36|reward:   65.0|last_reward_at:   36|Elapsed Time: 0:00:00||\n",
      "Episode 6|Iteration 41|reward:   71.0|last_reward_at:   36|Elapsed Time: 0:00:00||\n",
      "Episode 6|Iteration 41|reward:   71.0|last_reward_at:   41|Elapsed Time: 0:00:00||\n",
      "Episode 6|Iteration 43|reward:   72.0|last_reward_at:   41|Elapsed Time: 0:00:00||\n",
      "Episode 6|Iteration 43|reward:   72.0|last_reward_at:   43|Elapsed Time: 0:00:00||\n",
      "Episode 6|Iteration 44|reward:   78.0|last_reward_at:   43|Elapsed Time: 0:00:00||\n",
      "Episode 6|Iteration 44|reward:   78.0|last_reward_at:   44|Elapsed Time: 0:00:00||\n",
      "Episode 6|Iteration 45|reward:   87.0|last_reward_at:   44|Elapsed Time: 0:00:00||\n",
      "Episode 6|Iteration 45|reward:   87.0|last_reward_at:   45|Elapsed Time: 0:00:00||\n",
      "Episode 6|Iteration 47|reward:   93.0|last_reward_at:   45|Elapsed Time: 0:00:00||\n",
      "Episode 6|Iteration 47|reward:   93.0|last_reward_at:   47|Elapsed Time: 0:00:00||\n",
      "Episode 6|Iteration 50|reward:   93.0|last_reward_at:   47|Elapsed Time: 0:00:00||\n"
     ]
    },
    {
     "name": "stdout",
     "output_type": "stream",
     "text": [
      "  Episode 6 stopped at t=50 \n",
      "  Breakdown [Reward/NoReward (Success rate)]\n",
      "    explore-local: 10/11 (0.48)\n",
      "    explore-remote: 0/19 (0.00)\n",
      "    explore-connect: 0/5 (0.00)\n",
      "    exploit-local: 0/0 (NaN)\n",
      "    exploit-remote: 0/0 (NaN)\n",
      "    exploit-connect: 5/0 (1.00)\n",
      "  exploit deflected to exploration: 0\n",
      "  ## Episode: 7/20 'DQL' ϵ=0.8952, γ=0.015, lr=0.01, replaymemory=10000,\n",
      "batch=512, target_update=5\n"
     ]
    },
    {
     "name": "stderr",
     "output_type": "stream",
     "text": [
      "Episode 7|Iteration 0|reward: ------|last_reward_at: ----|Elapsed Time: 0:00:00||\n",
      "Episode 7|Iteration 1|reward:    6.0|last_reward_at: ----|Elapsed Time: 0:00:00||\n",
      "Episode 7|Iteration 1|reward:    6.0|last_reward_at:    1|Elapsed Time: 0:00:00||\n",
      "Episode 7|Iteration 3|reward:   12.0|last_reward_at:    1|Elapsed Time: 0:00:00||\n",
      "Episode 7|Iteration 3|reward:   12.0|last_reward_at:    3|Elapsed Time: 0:00:00||\n",
      "Episode 7|Iteration 18|reward:   39.0|last_reward_at:    3|Elapsed Time: 0:00:00||\n",
      "Episode 7|Iteration 18|reward:   39.0|last_reward_at:   18|Elapsed Time: 0:00:00||\n",
      "Episode 7|Iteration 20|reward:   45.0|last_reward_at:   18|Elapsed Time: 0:00:00||\n",
      "Episode 7|Iteration 20|reward:   45.0|last_reward_at:   20|Elapsed Time: 0:00:00||\n",
      "Episode 7|Iteration 27|reward:   46.0|last_reward_at:   20|Elapsed Time: 0:00:00||\n",
      "Episode 7|Iteration 27|reward:   46.0|last_reward_at:   27|Elapsed Time: 0:00:00||\n",
      "Episode 7|Iteration 29|reward:   47.0|last_reward_at:   27|Elapsed Time: 0:00:00||\n",
      "Episode 7|Iteration 29|reward:   47.0|last_reward_at:   29|Elapsed Time: 0:00:00||\n",
      "Episode 7|Iteration 30|reward:   56.0|last_reward_at:   29|Elapsed Time: 0:00:00||\n",
      "Episode 7|Iteration 30|reward:   56.0|last_reward_at:   30|Elapsed Time: 0:00:00||\n",
      "Episode 7|Iteration 31|reward:  156.0|last_reward_at:   30|Elapsed Time: 0:00:00||\n",
      "Episode 7|Iteration 31|reward:  156.0|last_reward_at:   31|Elapsed Time: 0:00:00||\n",
      "Episode 7|Iteration 32|reward:  162.0|last_reward_at:   31|Elapsed Time: 0:00:00||\n",
      "Episode 7|Iteration 32|reward:  162.0|last_reward_at:   32|Elapsed Time: 0:00:00||\n",
      "Episode 7|Iteration 39|reward:  168.0|last_reward_at:   32|Elapsed Time: 0:00:00||\n",
      "Episode 7|Iteration 39|reward:  168.0|last_reward_at:   39|Elapsed Time: 0:00:00||\n",
      "Episode 7|Iteration 42|reward:  174.0|last_reward_at:   39|Elapsed Time: 0:00:00||\n",
      "Episode 7|Iteration 42|reward:  174.0|last_reward_at:   42|Elapsed Time: 0:00:00||\n",
      "Episode 7|Iteration 45|reward:  179.0|last_reward_at:   42|Elapsed Time: 0:00:00||\n",
      "Episode 7|Iteration 45|reward:  179.0|last_reward_at:   45|Elapsed Time: 0:00:00||\n",
      "Episode 7|Iteration 48|reward:  185.0|last_reward_at:   45|Elapsed Time: 0:00:00||\n",
      "Episode 7|Iteration 48|reward:  185.0|last_reward_at:   48|Elapsed Time: 0:00:00||\n",
      "Episode 7|Iteration 50|reward:  185.0|last_reward_at:   48|Elapsed Time: 0:00:00||\n"
     ]
    },
    {
     "name": "stdout",
     "output_type": "stream",
     "text": [
      "  Episode 7 stopped at t=50 \n",
      "  Breakdown [Reward/NoReward (Success rate)]\n",
      "    explore-local: 9/9 (0.50)\n",
      "    explore-remote: 0/19 (0.00)\n",
      "    explore-connect: 2/9 (0.18)\n",
      "    exploit-local: 0/0 (NaN)\n",
      "    exploit-remote: 0/0 (NaN)\n",
      "    exploit-connect: 2/0 (1.00)\n",
      "  exploit deflected to exploration: 2\n",
      "  ## Episode: 8/20 'DQL' ϵ=0.8944, γ=0.015, lr=0.01, replaymemory=10000,\n",
      "batch=512, target_update=5\n"
     ]
    },
    {
     "name": "stderr",
     "output_type": "stream",
     "text": [
      "Episode 8|Iteration 0|reward: ------|last_reward_at: ----|Elapsed Time: 0:00:00||\n",
      "Episode 8|Iteration 1|reward:    0.0|last_reward_at: ----|Elapsed Time: 0:00:00||\n",
      "Episode 8|Iteration 7|reward:    6.0|last_reward_at: ----|Elapsed Time: 0:00:00||\n",
      "Episode 8|Iteration 7|reward:    6.0|last_reward_at:    7|Elapsed Time: 0:00:00||\n",
      "Episode 8|Iteration 11|reward:   12.0|last_reward_at:    7|Elapsed Time: 0:00:00||\n",
      "Episode 8|Iteration 11|reward:   12.0|last_reward_at:   11|Elapsed Time: 0:00:00||\n",
      "Episode 8|Iteration 12|reward:   39.0|last_reward_at:   11|Elapsed Time: 0:00:00||\n",
      "Episode 8|Iteration 12|reward:   39.0|last_reward_at:   12|Elapsed Time: 0:00:00||\n",
      "Episode 8|Iteration 14|reward:   44.0|last_reward_at:   12|Elapsed Time: 0:00:00||\n",
      "Episode 8|Iteration 14|reward:   44.0|last_reward_at:   14|Elapsed Time: 0:00:00||\n",
      "Episode 8|Iteration 23|reward:   44.0|last_reward_at:   14|Elapsed Time: 0:00:00||\n",
      "Episode 8|Iteration 27|reward:   50.0|last_reward_at:   14|Elapsed Time: 0:00:00||\n",
      "Episode 8|Iteration 27|reward:   50.0|last_reward_at:   27|Elapsed Time: 0:00:00||\n",
      "Episode 8|Iteration 34|reward:   51.0|last_reward_at:   27|Elapsed Time: 0:00:00||\n",
      "Episode 8|Iteration 34|reward:   51.0|last_reward_at:   34|Elapsed Time: 0:00:00||\n",
      "Episode 8|Iteration 35|reward:   52.0|last_reward_at:   34|Elapsed Time: 0:00:00||\n",
      "Episode 8|Iteration 35|reward:   52.0|last_reward_at:   35|Elapsed Time: 0:00:00||\n",
      "Episode 8|Iteration 41|reward:   52.0|last_reward_at:   35|Elapsed Time: 0:00:00||\n",
      "Episode 8|Iteration 42|reward:   53.0|last_reward_at:   35|Elapsed Time: 0:00:00||\n",
      "Episode 8|Iteration 42|reward:   53.0|last_reward_at:   42|Elapsed Time: 0:00:00||\n",
      "Episode 8|Iteration 43|reward:   59.0|last_reward_at:   42|Elapsed Time: 0:00:00||\n",
      "Episode 8|Iteration 43|reward:   59.0|last_reward_at:   43|Elapsed Time: 0:00:00||\n",
      "Episode 8|Iteration 45|reward:   65.0|last_reward_at:   43|Elapsed Time: 0:00:00||\n",
      "Episode 8|Iteration 45|reward:   65.0|last_reward_at:   45|Elapsed Time: 0:00:00||\n",
      "Episode 8|Iteration 50|reward:   65.0|last_reward_at:   45|Elapsed Time: 0:00:00||\n",
      "Episode 8|Iteration 50|reward:   65.0|last_reward_at:   45|Elapsed Time: 0:00:00||\n"
     ]
    },
    {
     "name": "stdout",
     "output_type": "stream",
     "text": [
      "  Episode 8 stopped at t=50 \n",
      "  Breakdown [Reward/NoReward (Success rate)]\n",
      "    explore-local: 6/4 (0.60)\n",
      "    explore-remote: 0/21 (0.00)\n",
      "    explore-connect: 1/15 (0.06)\n",
      "    exploit-local: 0/0 (NaN)\n",
      "    exploit-remote: 0/0 (NaN)\n",
      "    exploit-connect: 3/0 (1.00)\n",
      "  exploit deflected to exploration: 1\n",
      "  ## Episode: 9/20 'DQL' ϵ=0.8936, γ=0.015, lr=0.01, replaymemory=10000,\n",
      "batch=512, target_update=5\n"
     ]
    },
    {
     "name": "stderr",
     "output_type": "stream",
     "text": [
      "Episode 9|Iteration 0|reward: ------|last_reward_at: ----|Elapsed Time: 0:00:00||\n",
      "Episode 9|Iteration 1|reward:    0.0|last_reward_at: ----|Elapsed Time: 0:00:00||\n",
      "Episode 9|Iteration 5|reward:    6.0|last_reward_at: ----|Elapsed Time: 0:00:00||\n",
      "Episode 9|Iteration 5|reward:    6.0|last_reward_at:    5|Elapsed Time: 0:00:00||\n",
      "Episode 9|Iteration 6|reward:   12.0|last_reward_at:    5|Elapsed Time: 0:00:00||\n",
      "Episode 9|Iteration 6|reward:   12.0|last_reward_at:    6|Elapsed Time: 0:00:00||\n",
      "Episode 9|Iteration 14|reward:   18.0|last_reward_at:    6|Elapsed Time: 0:00:00||\n",
      "Episode 9|Iteration 14|reward:   18.0|last_reward_at:   14|Elapsed Time: 0:00:00||\n",
      "Episode 9|Iteration 27|reward:   45.0|last_reward_at:   14|Elapsed Time: 0:00:00||\n",
      "Episode 9|Iteration 27|reward:   45.0|last_reward_at:   27|Elapsed Time: 0:00:00||\n",
      "Episode 9|Iteration 31|reward:   46.0|last_reward_at:   27|Elapsed Time: 0:00:00||\n",
      "Episode 9|Iteration 31|reward:   46.0|last_reward_at:   31|Elapsed Time: 0:00:00||\n",
      "Episode 9|Iteration 37|reward:   51.0|last_reward_at:   31|Elapsed Time: 0:00:00||\n",
      "Episode 9|Iteration 37|reward:   51.0|last_reward_at:   37|Elapsed Time: 0:00:00||\n",
      "Episode 9|Iteration 38|reward:   52.0|last_reward_at:   37|Elapsed Time: 0:00:00||\n",
      "Episode 9|Iteration 38|reward:   52.0|last_reward_at:   38|Elapsed Time: 0:00:00||\n",
      "Episode 9|Iteration 44|reward:   58.0|last_reward_at:   38|Elapsed Time: 0:00:00||\n",
      "Episode 9|Iteration 44|reward:   58.0|last_reward_at:   44|Elapsed Time: 0:00:00||\n",
      "Episode 9|Iteration 50|reward:   59.0|last_reward_at:   44|Elapsed Time: 0:00:00||\n",
      "Episode 9|Iteration 50|reward:   59.0|last_reward_at:   50|Elapsed Time: 0:00:00||\n",
      "Episode 9|Iteration 50|reward:   59.0|last_reward_at:   50|Elapsed Time: 0:00:00||\n"
     ]
    },
    {
     "name": "stdout",
     "output_type": "stream",
     "text": [
      "  Episode 9 stopped at t=50 \n",
      "  Breakdown [Reward/NoReward (Success rate)]\n",
      "    explore-local: 5/11 (0.31)\n",
      "    explore-remote: 0/20 (0.00)\n",
      "    explore-connect: 1/8 (0.11)\n",
      "    exploit-local: 0/2 (0.00)\n",
      "    exploit-remote: 0/0 (NaN)\n",
      "    exploit-connect: 3/0 (1.00)\n",
      "  exploit deflected to exploration: 3\n",
      "  ## Episode: 10/20 'DQL' ϵ=0.8928, γ=0.015, lr=0.01, replaymemory=10000,\n",
      "batch=512, target_update=5\n"
     ]
    },
    {
     "name": "stderr",
     "output_type": "stream",
     "text": [
      "Episode 10|Iteration 0|reward: ------|last_reward_at: ----|Elapsed Time: 0:00:00||\n",
      "Episode 10|Iteration 1|reward:    0.0|last_reward_at: ----|Elapsed Time: 0:00:00||\n",
      "Episode 10|Iteration 3|reward:   27.0|last_reward_at: ----|Elapsed Time: 0:00:00||\n",
      "Episode 10|Iteration 3|reward:   27.0|last_reward_at:    3|Elapsed Time: 0:00:00||\n",
      "Episode 10|Iteration 10|reward:   32.0|last_reward_at:    3|Elapsed Time: 0:00:00||\n",
      "Episode 10|Iteration 10|reward:   32.0|last_reward_at:   10|Elapsed Time: 0:00:00||\n",
      "Episode 10|Iteration 16|reward:   32.0|last_reward_at:   10|Elapsed Time: 0:00:00||\n",
      "Episode 10|Iteration 17|reward:   33.0|last_reward_at:   10|Elapsed Time: 0:00:00||\n",
      "Episode 10|Iteration 17|reward:   33.0|last_reward_at:   17|Elapsed Time: 0:00:00||\n",
      "Episode 10|Iteration 18|reward:   34.0|last_reward_at:   17|Elapsed Time: 0:00:00||\n",
      "Episode 10|Iteration 18|reward:   34.0|last_reward_at:   18|Elapsed Time: 0:00:00||\n",
      "Episode 10|Iteration 22|reward:   34.0|last_reward_at:   18|Elapsed Time: 0:00:00||\n",
      "Episode 10|Iteration 22|reward:   40.0|last_reward_at:   18|Elapsed Time: 0:00:00||\n",
      "Episode 10|Iteration 22|reward:   40.0|last_reward_at:   22|Elapsed Time: 0:00:00||\n",
      "Episode 10|Iteration 25|reward:   41.0|last_reward_at:   22|Elapsed Time: 0:00:00||\n",
      "Episode 10|Iteration 25|reward:   41.0|last_reward_at:   25|Elapsed Time: 0:00:00||\n",
      "Episode 10|Iteration 26|reward:   47.0|last_reward_at:   25|Elapsed Time: 0:00:00||\n",
      "Episode 10|Iteration 26|reward:   47.0|last_reward_at:   26|Elapsed Time: 0:00:00||\n",
      "Episode 10|Iteration 30|reward:   47.0|last_reward_at:   26|Elapsed Time: 0:00:00||\n",
      "Episode 10|Iteration 30|reward:   48.0|last_reward_at:   26|Elapsed Time: 0:00:00||\n",
      "Episode 10|Iteration 30|reward:   48.0|last_reward_at:   30|Elapsed Time: 0:00:00||\n",
      "Episode 10|Iteration 31|reward:   49.0|last_reward_at:   30|Elapsed Time: 0:00:00||\n",
      "Episode 10|Iteration 31|reward:   49.0|last_reward_at:   31|Elapsed Time: 0:00:00||\n",
      "Episode 10|Iteration 33|reward:   55.0|last_reward_at:   31|Elapsed Time: 0:00:00||\n",
      "Episode 10|Iteration 33|reward:   55.0|last_reward_at:   33|Elapsed Time: 0:00:00||\n",
      "Episode 10|Iteration 34|reward:   61.0|last_reward_at:   33|Elapsed Time: 0:00:00||\n",
      "Episode 10|Iteration 34|reward:   61.0|last_reward_at:   34|Elapsed Time: 0:00:00||\n",
      "Episode 10|Iteration 36|reward:   67.0|last_reward_at:   34|Elapsed Time: 0:00:00||\n",
      "Episode 10|Iteration 36|reward:   67.0|last_reward_at:   36|Elapsed Time: 0:00:00||\n",
      "Episode 10|Iteration 39|reward:   73.0|last_reward_at:   36|Elapsed Time: 0:00:00||\n",
      "Episode 10|Iteration 39|reward:   73.0|last_reward_at:   39|Elapsed Time: 0:00:00||\n",
      "Episode 10|Iteration 41|reward:   79.0|last_reward_at:   39|Elapsed Time: 0:00:00||\n",
      "Episode 10|Iteration 41|reward:   79.0|last_reward_at:   41|Elapsed Time: 0:00:00||\n",
      "Episode 10|Iteration 42|reward:   85.0|last_reward_at:   41|Elapsed Time: 0:00:00||\n",
      "Episode 10|Iteration 42|reward:   85.0|last_reward_at:   42|Elapsed Time: 0:00:00||\n",
      "Episode 10|Iteration 43|reward:   91.0|last_reward_at:   42|Elapsed Time: 0:00:00||\n",
      "Episode 10|Iteration 43|reward:   91.0|last_reward_at:   43|Elapsed Time: 0:00:00||\n",
      "Episode 10|Iteration 47|reward:   91.0|last_reward_at:   43|Elapsed Time: 0:00:00||\n",
      "Episode 10|Iteration 50|reward:   91.0|last_reward_at:   43|Elapsed Time: 0:00:00||\n",
      "Episode 10|Iteration 50|reward:   97.0|last_reward_at:   43|Elapsed Time: 0:00:00||\n",
      "Episode 10|Iteration 50|reward:   97.0|last_reward_at:   50|Elapsed Time: 0:00:00||\n",
      "Episode 10|Iteration 50|reward:   97.0|last_reward_at:   50|Elapsed Time: 0:00:00||\n"
     ]
    },
    {
     "name": "stdout",
     "output_type": "stream",
     "text": [
      "  Episode 10 stopped at t=50 \n",
      "  Breakdown [Reward/NoReward (Success rate)]\n",
      "    explore-local: 9/5 (0.64)\n",
      "    explore-remote: 0/17 (0.00)\n",
      "    explore-connect: 1/11 (0.08)\n",
      "    exploit-local: 2/0 (1.00)\n",
      "    exploit-remote: 0/0 (NaN)\n",
      "    exploit-connect: 5/0 (1.00)\n",
      "  exploit deflected to exploration: 0\n",
      "  ## Episode: 11/20 'DQL' ϵ=0.8921, γ=0.015, lr=0.01, replaymemory=10000,\n",
      "batch=512, target_update=5\n"
     ]
    },
    {
     "name": "stderr",
     "output_type": "stream",
     "text": [
      "Episode 11|Iteration 0|reward: ------|last_reward_at: ----|Elapsed Time: 0:00:00||\n",
      "Episode 11|Iteration 1|reward:    0.0|last_reward_at: ----|Elapsed Time: 0:00:00||\n",
      "Episode 11|Iteration 2|reward:   27.0|last_reward_at: ----|Elapsed Time: 0:00:00||\n",
      "Episode 11|Iteration 2|reward:   27.0|last_reward_at:    2|Elapsed Time: 0:00:00||\n",
      "Episode 11|Iteration 4|reward:   33.0|last_reward_at:    2|Elapsed Time: 0:00:00||\n",
      "Episode 11|Iteration 4|reward:   33.0|last_reward_at:    4|Elapsed Time: 0:00:00||\n",
      "Episode 11|Iteration 5|reward:   34.0|last_reward_at:    4|Elapsed Time: 0:00:00||\n",
      "Episode 11|Iteration 5|reward:   34.0|last_reward_at:    5|Elapsed Time: 0:00:00||\n",
      "Episode 11|Iteration 8|reward:   40.0|last_reward_at:    5|Elapsed Time: 0:00:00||\n",
      "Episode 11|Iteration 8|reward:   40.0|last_reward_at:    8|Elapsed Time: 0:00:00||\n",
      "Episode 11|Iteration 12|reward:   40.0|last_reward_at:    8|Elapsed Time: 0:00:00||\n",
      "Episode 11|Iteration 12|reward:   49.0|last_reward_at:    8|Elapsed Time: 0:00:00||\n",
      "Episode 11|Iteration 12|reward:   49.0|last_reward_at:   12|Elapsed Time: 0:00:00||\n",
      "Episode 11|Iteration 14|reward:   55.0|last_reward_at:   12|Elapsed Time: 0:00:00||\n",
      "Episode 11|Iteration 14|reward:   55.0|last_reward_at:   14|Elapsed Time: 0:00:00||\n",
      "Episode 11|Iteration 16|reward:   60.0|last_reward_at:   14|Elapsed Time: 0:00:00||\n",
      "Episode 11|Iteration 16|reward:   60.0|last_reward_at:   16|Elapsed Time: 0:00:00||\n",
      "Episode 11|Iteration 17|reward:   61.0|last_reward_at:   16|Elapsed Time: 0:00:00||\n",
      "Episode 11|Iteration 17|reward:   61.0|last_reward_at:   17|Elapsed Time: 0:00:00||\n",
      "Episode 11|Iteration 18|reward:   62.0|last_reward_at:   17|Elapsed Time: 0:00:00||\n",
      "Episode 11|Iteration 18|reward:   62.0|last_reward_at:   18|Elapsed Time: 0:00:00||\n",
      "Episode 11|Iteration 23|reward:   62.0|last_reward_at:   18|Elapsed Time: 0:00:00||\n",
      "Episode 11|Iteration 25|reward:   68.0|last_reward_at:   18|Elapsed Time: 0:00:00||\n",
      "Episode 11|Iteration 25|reward:   68.0|last_reward_at:   25|Elapsed Time: 0:00:00||\n",
      "Episode 11|Iteration 29|reward:   68.0|last_reward_at:   25|Elapsed Time: 0:00:00||\n",
      "Episode 11|Iteration 32|reward:   68.0|last_reward_at:   25|Elapsed Time: 0:00:00||\n",
      "Episode 11|Iteration 32|reward:   69.0|last_reward_at:   25|Elapsed Time: 0:00:00||\n",
      "Episode 11|Iteration 32|reward:   69.0|last_reward_at:   32|Elapsed Time: 0:00:00||\n",
      "Episode 11|Iteration 35|reward:   75.0|last_reward_at:   32|Elapsed Time: 0:00:00||\n",
      "Episode 11|Iteration 35|reward:   75.0|last_reward_at:   35|Elapsed Time: 0:00:00||\n",
      "Episode 11|Iteration 36|reward:   81.0|last_reward_at:   35|Elapsed Time: 0:00:00||\n",
      "Episode 11|Iteration 36|reward:   81.0|last_reward_at:   36|Elapsed Time: 0:00:00||\n",
      "Episode 11|Iteration 41|reward:   81.0|last_reward_at:   36|Elapsed Time: 0:00:00||\n",
      "Episode 11|Iteration 41|reward:  181.0|last_reward_at:   36|Elapsed Time: 0:00:00||\n",
      "Episode 11|Iteration 41|reward:  181.0|last_reward_at:   41|Elapsed Time: 0:00:00||\n",
      "Episode 11|Iteration 42|reward:  187.0|last_reward_at:   41|Elapsed Time: 0:00:00||\n",
      "Episode 11|Iteration 42|reward:  187.0|last_reward_at:   42|Elapsed Time: 0:00:00||\n",
      "Episode 11|Iteration 45|reward:  188.0|last_reward_at:   42|Elapsed Time: 0:00:00||\n",
      "Episode 11|Iteration 45|reward:  188.0|last_reward_at:   45|Elapsed Time: 0:00:00||\n",
      "Episode 11|Iteration 47|reward:  194.0|last_reward_at:   45|Elapsed Time: 0:00:00||\n",
      "Episode 11|Iteration 47|reward:  194.0|last_reward_at:   47|Elapsed Time: 0:00:00||\n",
      "Episode 11|Iteration 49|reward:  200.0|last_reward_at:   47|Elapsed Time: 0:00:00||\n",
      "Episode 11|Iteration 49|reward:  200.0|last_reward_at:   49|Elapsed Time: 0:00:00||\n",
      "Episode 11|Iteration 50|reward:  200.0|last_reward_at:   49|Elapsed Time: 0:00:00||\n"
     ]
    },
    {
     "name": "stdout",
     "output_type": "stream",
     "text": [
      "  Episode 11 stopped at t=50 \n",
      "  Breakdown [Reward/NoReward (Success rate)]\n",
      "    explore-local: 10/1 (0.91)\n",
      "    explore-remote: 0/20 (0.00)\n",
      "    explore-connect: 1/11 (0.08)\n",
      "    exploit-local: 1/0 (1.00)\n",
      "    exploit-remote: 0/0 (NaN)\n",
      "    exploit-connect: 6/0 (1.00)\n",
      "  exploit deflected to exploration: 0\n",
      "  ## Episode: 12/20 'DQL' ϵ=0.8913, γ=0.015, lr=0.01, replaymemory=10000,\n",
      "batch=512, target_update=5\n"
     ]
    },
    {
     "name": "stderr",
     "output_type": "stream",
     "text": [
      "Episode 12|Iteration 0|reward: ------|last_reward_at: ----|Elapsed Time: 0:00:00||\n",
      "Episode 12|Iteration 1|reward:    6.0|last_reward_at: ----|Elapsed Time: 0:00:00||\n",
      "Episode 12|Iteration 1|reward:    6.0|last_reward_at:    1|Elapsed Time: 0:00:00||\n",
      "Episode 12|Iteration 2|reward:   33.0|last_reward_at:    1|Elapsed Time: 0:00:00||\n",
      "Episode 12|Iteration 2|reward:   33.0|last_reward_at:    2|Elapsed Time: 0:00:00||\n",
      "Episode 12|Iteration 7|reward:   33.0|last_reward_at:    2|Elapsed Time: 0:00:00||\n",
      "Episode 12|Iteration 11|reward:   33.0|last_reward_at:    2|Elapsed Time: 0:00:00||\n",
      "Episode 12|Iteration 12|reward:   34.0|last_reward_at:    2|Elapsed Time: 0:00:00||\n",
      "Episode 12|Iteration 12|reward:   34.0|last_reward_at:   12|Elapsed Time: 0:00:00||\n",
      "Episode 12|Iteration 13|reward:   40.0|last_reward_at:   12|Elapsed Time: 0:00:00||\n",
      "Episode 12|Iteration 13|reward:   40.0|last_reward_at:   13|Elapsed Time: 0:00:00||\n",
      "Episode 12|Iteration 14|reward:   41.0|last_reward_at:   13|Elapsed Time: 0:00:00||\n",
      "Episode 12|Iteration 14|reward:   41.0|last_reward_at:   14|Elapsed Time: 0:00:00||\n",
      "Episode 12|Iteration 17|reward:   41.0|last_reward_at:   14|Elapsed Time: 0:00:00||\n",
      "Episode 12|Iteration 18|reward:   46.0|last_reward_at:   14|Elapsed Time: 0:00:00||\n",
      "Episode 12|Iteration 18|reward:   46.0|last_reward_at:   18|Elapsed Time: 0:00:00||\n",
      "Episode 12|Iteration 21|reward:   47.0|last_reward_at:   18|Elapsed Time: 0:00:00||\n",
      "Episode 12|Iteration 21|reward:   47.0|last_reward_at:   21|Elapsed Time: 0:00:00||\n",
      "Episode 12|Iteration 22|reward:   48.0|last_reward_at:   21|Elapsed Time: 0:00:00||\n",
      "Episode 12|Iteration 22|reward:   48.0|last_reward_at:   22|Elapsed Time: 0:00:00||\n",
      "Episode 12|Iteration 25|reward:   54.0|last_reward_at:   22|Elapsed Time: 0:00:00||\n",
      "Episode 12|Iteration 25|reward:   54.0|last_reward_at:   25|Elapsed Time: 0:00:00||\n",
      "Episode 12|Iteration 26|reward:   60.0|last_reward_at:   25|Elapsed Time: 0:00:00||\n",
      "Episode 12|Iteration 26|reward:   60.0|last_reward_at:   26|Elapsed Time: 0:00:00||\n",
      "Episode 12|Iteration 27|reward:   61.0|last_reward_at:   26|Elapsed Time: 0:00:00||\n",
      "Episode 12|Iteration 27|reward:   61.0|last_reward_at:   27|Elapsed Time: 0:00:00||\n",
      "Episode 12|Iteration 31|reward:   61.0|last_reward_at:   27|Elapsed Time: 0:00:00||\n",
      "Episode 12|Iteration 32|reward:   67.0|last_reward_at:   27|Elapsed Time: 0:00:00||\n",
      "Episode 12|Iteration 32|reward:   67.0|last_reward_at:   32|Elapsed Time: 0:00:00||\n",
      "Episode 12|Iteration 33|reward:   73.0|last_reward_at:   32|Elapsed Time: 0:00:00||\n",
      "Episode 12|Iteration 33|reward:   73.0|last_reward_at:   33|Elapsed Time: 0:00:00||\n",
      "Episode 12|Iteration 35|reward:   79.0|last_reward_at:   33|Elapsed Time: 0:00:00||\n",
      "Episode 12|Iteration 35|reward:   79.0|last_reward_at:   35|Elapsed Time: 0:00:00||\n",
      "Episode 12|Iteration 37|reward:   85.0|last_reward_at:   35|Elapsed Time: 0:00:00||\n",
      "Episode 12|Iteration 37|reward:   85.0|last_reward_at:   37|Elapsed Time: 0:00:00||\n",
      "Episode 12|Iteration 40|reward:   91.0|last_reward_at:   37|Elapsed Time: 0:00:00||\n",
      "Episode 12|Iteration 40|reward:   91.0|last_reward_at:   40|Elapsed Time: 0:00:00||\n",
      "Episode 12|Iteration 44|reward:   91.0|last_reward_at:   40|Elapsed Time: 0:00:00||\n",
      "Episode 12|Iteration 46|reward:   97.0|last_reward_at:   40|Elapsed Time: 0:00:00||\n",
      "Episode 12|Iteration 46|reward:   97.0|last_reward_at:   46|Elapsed Time: 0:00:00||\n",
      "Episode 12|Iteration 50|reward:   97.0|last_reward_at:   46|Elapsed Time: 0:00:00||\n",
      "Episode 12|Iteration 50|reward:  103.0|last_reward_at:   46|Elapsed Time: 0:00:00||\n",
      "Episode 12|Iteration 50|reward:  103.0|last_reward_at:   50|Elapsed Time: 0:00:00||\n",
      "Episode 12|Iteration 50|reward:  103.0|last_reward_at:   50|Elapsed Time: 0:00:00||\n"
     ]
    },
    {
     "name": "stdout",
     "output_type": "stream",
     "text": [
      "  Episode 12 stopped at t=50 \n",
      "  Breakdown [Reward/NoReward (Success rate)]\n",
      "    explore-local: 10/4 (0.71)\n",
      "    explore-remote: 0/13 (0.00)\n",
      "    explore-connect: 1/15 (0.06)\n",
      "    exploit-local: 2/0 (1.00)\n",
      "    exploit-remote: 0/0 (NaN)\n",
      "    exploit-connect: 5/0 (1.00)\n",
      "  exploit deflected to exploration: 0\n",
      "  ## Episode: 13/20 'DQL' ϵ=0.8905, γ=0.015, lr=0.01, replaymemory=10000,\n",
      "batch=512, target_update=5\n"
     ]
    },
    {
     "name": "stderr",
     "output_type": "stream",
     "text": [
      "Episode 13|Iteration 0|reward: ------|last_reward_at: ----|Elapsed Time: 0:00:00||\n",
      "Episode 13|Iteration 1|reward:   27.0|last_reward_at: ----|Elapsed Time: 0:00:00||\n",
      "Episode 13|Iteration 1|reward:   27.0|last_reward_at:    1|Elapsed Time: 0:00:00||\n",
      "Episode 13|Iteration 5|reward:   33.0|last_reward_at:    1|Elapsed Time: 0:00:00||\n",
      "Episode 13|Iteration 5|reward:   33.0|last_reward_at:    5|Elapsed Time: 0:00:00||\n",
      "Episode 13|Iteration 7|reward:   39.0|last_reward_at:    5|Elapsed Time: 0:00:00||\n",
      "Episode 13|Iteration 7|reward:   39.0|last_reward_at:    7|Elapsed Time: 0:00:00||\n",
      "Episode 13|Iteration 8|reward:   40.0|last_reward_at:    7|Elapsed Time: 0:00:00||\n",
      "Episode 13|Iteration 8|reward:   40.0|last_reward_at:    8|Elapsed Time: 0:00:00||\n",
      "Episode 13|Iteration 9|reward:   46.0|last_reward_at:    8|Elapsed Time: 0:00:00||\n",
      "Episode 13|Iteration 9|reward:   46.0|last_reward_at:    9|Elapsed Time: 0:00:00||\n",
      "Episode 13|Iteration 13|reward:   47.0|last_reward_at:    9|Elapsed Time: 0:00:00||\n",
      "Episode 13|Iteration 13|reward:   47.0|last_reward_at:   13|Elapsed Time: 0:00:00||\n",
      "Episode 13|Iteration 17|reward:   53.0|last_reward_at:   13|Elapsed Time: 0:00:00||\n",
      "Episode 13|Iteration 17|reward:   53.0|last_reward_at:   17|Elapsed Time: 0:00:00||\n",
      "Episode 13|Iteration 19|reward:   62.0|last_reward_at:   17|Elapsed Time: 0:00:00||\n",
      "Episode 13|Iteration 19|reward:   62.0|last_reward_at:   19|Elapsed Time: 0:00:00||\n",
      "Episode 13|Iteration 23|reward:   67.0|last_reward_at:   19|Elapsed Time: 0:00:00||\n",
      "Episode 13|Iteration 23|reward:   67.0|last_reward_at:   23|Elapsed Time: 0:00:00||\n",
      "Episode 13|Iteration 28|reward:   67.0|last_reward_at:   23|Elapsed Time: 0:00:00||\n",
      "Episode 13|Iteration 30|reward:   68.0|last_reward_at:   23|Elapsed Time: 0:00:00||\n",
      "Episode 13|Iteration 30|reward:   68.0|last_reward_at:   30|Elapsed Time: 0:00:00||\n",
      "Episode 13|Iteration 31|reward:   74.0|last_reward_at:   30|Elapsed Time: 0:00:00||\n",
      "Episode 13|Iteration 31|reward:   74.0|last_reward_at:   31|Elapsed Time: 0:00:00||\n",
      "Episode 13|Iteration 33|reward:   75.0|last_reward_at:   31|Elapsed Time: 0:00:00||\n",
      "Episode 13|Iteration 33|reward:   75.0|last_reward_at:   33|Elapsed Time: 0:00:00||\n",
      "Episode 13|Iteration 34|reward:   81.0|last_reward_at:   33|Elapsed Time: 0:00:00||\n",
      "Episode 13|Iteration 34|reward:   81.0|last_reward_at:   34|Elapsed Time: 0:00:00||\n",
      "Episode 13|Iteration 38|reward:   81.0|last_reward_at:   34|Elapsed Time: 0:00:00||\n",
      "Episode 13|Iteration 39|reward:  181.0|last_reward_at:   34|Elapsed Time: 0:00:00||\n",
      "Episode 13|Iteration 39|reward:  181.0|last_reward_at:   39|Elapsed Time: 0:00:00||\n",
      "Episode 13|Iteration 42|reward:  376.0|last_reward_at:   39|Elapsed Time: 0:00:00||\n",
      "Episode 13|Iteration 42|reward:  376.0|last_reward_at:   42|Elapsed Time: 0:00:00||\n",
      "Episode 13|Iteration 46|reward:  376.0|last_reward_at:   42|Elapsed Time: 0:00:00||\n",
      "Episode 13|Iteration 48|reward:  376.0|last_reward_at:   42|Elapsed Time: 0:00:00||\n",
      "Episode 13|Iteration 49|reward:  377.0|last_reward_at:   42|Elapsed Time: 0:00:00||\n",
      "Episode 13|Iteration 49|reward:  377.0|last_reward_at:   49|Elapsed Time: 0:00:00||\n",
      "Episode 13|Iteration 50|reward:  377.0|last_reward_at:   49|Elapsed Time: 0:00:00||\n"
     ]
    },
    {
     "name": "stdout",
     "output_type": "stream",
     "text": [
      "  Episode 13 stopped at t=50 \n",
      "  Breakdown [Reward/NoReward (Success rate)]\n",
      "    explore-local: 9/4 (0.69)\n",
      "    explore-remote: 0/11 (0.00)\n",
      "    explore-connect: 0/18 (0.00)\n",
      "    exploit-local: 0/0 (NaN)\n",
      "    exploit-remote: 0/0 (NaN)\n",
      "    exploit-connect: 7/1 (0.88)\n",
      "  exploit deflected to exploration: 0\n",
      "  ## Episode: 14/20 'DQL' ϵ=0.8897, γ=0.015, lr=0.01, replaymemory=10000,\n",
      "batch=512, target_update=5\n"
     ]
    },
    {
     "name": "stderr",
     "output_type": "stream",
     "text": [
      "Episode 14|Iteration 0|reward: ------|last_reward_at: ----|Elapsed Time: 0:00:00||\n",
      "Episode 14|Iteration 1|reward:    0.0|last_reward_at: ----|Elapsed Time: 0:00:00||\n",
      "Episode 14|Iteration 4|reward:    6.0|last_reward_at: ----|Elapsed Time: 0:00:00||\n",
      "Episode 14|Iteration 4|reward:    6.0|last_reward_at:    4|Elapsed Time: 0:00:00||\n",
      "Episode 14|Iteration 5|reward:   33.0|last_reward_at:    4|Elapsed Time: 0:00:00||\n",
      "Episode 14|Iteration 5|reward:   33.0|last_reward_at:    5|Elapsed Time: 0:00:00||\n",
      "Episode 14|Iteration 9|reward:   38.0|last_reward_at:    5|Elapsed Time: 0:00:00||\n",
      "Episode 14|Iteration 9|reward:   38.0|last_reward_at:    9|Elapsed Time: 0:00:00||\n",
      "Episode 14|Iteration 10|reward:   39.0|last_reward_at:    9|Elapsed Time: 0:00:00||\n",
      "Episode 14|Iteration 10|reward:   39.0|last_reward_at:   10|Elapsed Time: 0:00:00||\n",
      "Episode 14|Iteration 14|reward:   40.0|last_reward_at:   10|Elapsed Time: 0:00:00||\n",
      "Episode 14|Iteration 14|reward:   40.0|last_reward_at:   14|Elapsed Time: 0:00:00||\n",
      "Episode 14|Iteration 15|reward:   49.0|last_reward_at:   14|Elapsed Time: 0:00:00||\n",
      "Episode 14|Iteration 15|reward:   49.0|last_reward_at:   15|Elapsed Time: 0:00:00||\n",
      "Episode 14|Iteration 18|reward:   49.0|last_reward_at:   15|Elapsed Time: 0:00:00||\n",
      "Episode 14|Iteration 18|reward:   55.0|last_reward_at:   15|Elapsed Time: 0:00:00||\n",
      "Episode 14|Iteration 18|reward:   55.0|last_reward_at:   18|Elapsed Time: 0:00:00||\n",
      "Episode 14|Iteration 19|reward:   61.0|last_reward_at:   18|Elapsed Time: 0:00:00||\n",
      "Episode 14|Iteration 19|reward:   61.0|last_reward_at:   19|Elapsed Time: 0:00:00||\n",
      "Episode 14|Iteration 22|reward:   62.0|last_reward_at:   19|Elapsed Time: 0:00:00||\n",
      "Episode 14|Iteration 22|reward:   62.0|last_reward_at:   22|Elapsed Time: 0:00:00||\n",
      "Episode 14|Iteration 26|reward:   62.0|last_reward_at:   22|Elapsed Time: 0:00:00||\n",
      "Episode 14|Iteration 28|reward:   63.0|last_reward_at:   22|Elapsed Time: 0:00:00||\n",
      "Episode 14|Iteration 28|reward:   63.0|last_reward_at:   28|Elapsed Time: 0:00:00||\n",
      "Episode 14|Iteration 29|reward:   69.0|last_reward_at:   28|Elapsed Time: 0:00:00||\n",
      "Episode 14|Iteration 29|reward:   69.0|last_reward_at:   29|Elapsed Time: 0:00:00||\n",
      "Episode 14|Iteration 33|reward:   75.0|last_reward_at:   29|Elapsed Time: 0:00:00||\n",
      "Episode 14|Iteration 33|reward:   75.0|last_reward_at:   33|Elapsed Time: 0:00:00||\n",
      "Episode 14|Iteration 34|reward:  175.0|last_reward_at:   33|Elapsed Time: 0:00:00||\n",
      "Episode 14|Iteration 34|reward:  175.0|last_reward_at:   34|Elapsed Time: 0:00:00||\n",
      "Episode 14|Iteration 38|reward:  175.0|last_reward_at:   34|Elapsed Time: 0:00:00||\n",
      "Episode 14|Iteration 38|reward:  181.0|last_reward_at:   34|Elapsed Time: 0:00:00||\n",
      "Episode 14|Iteration 38|reward:  181.0|last_reward_at:   38|Elapsed Time: 0:00:00||\n",
      "Episode 14|Iteration 42|reward:  181.0|last_reward_at:   38|Elapsed Time: 0:00:00||\n",
      "Episode 14|Iteration 45|reward:  181.0|last_reward_at:   38|Elapsed Time: 0:00:00||\n",
      "Episode 14|Iteration 48|reward:  181.0|last_reward_at:   38|Elapsed Time: 0:00:00||\n",
      "Episode 14|Iteration 50|reward:  181.0|last_reward_at:   38|Elapsed Time: 0:00:00||\n"
     ]
    },
    {
     "name": "stdout",
     "output_type": "stream",
     "text": [
      "  Episode 14 stopped at t=50 \n",
      "  Breakdown [Reward/NoReward (Success rate)]\n",
      "    explore-local: 7/5 (0.58)\n",
      "    explore-remote: 0/17 (0.00)\n",
      "    explore-connect: 0/14 (0.00)\n",
      "    exploit-local: 1/0 (1.00)\n",
      "    exploit-remote: 0/0 (NaN)\n",
      "    exploit-connect: 6/0 (1.00)\n",
      "  exploit deflected to exploration: 0\n",
      "  ## Episode: 15/20 'DQL' ϵ=0.8889, γ=0.015, lr=0.01, replaymemory=10000,\n",
      "batch=512, target_update=5\n"
     ]
    },
    {
     "name": "stderr",
     "output_type": "stream",
     "text": [
      "Episode 15|Iteration 0|reward: ------|last_reward_at: ----|Elapsed Time: 0:00:00||\n",
      "Episode 15|Iteration 1|reward:    6.0|last_reward_at: ----|Elapsed Time: 0:00:00||\n",
      "Episode 15|Iteration 1|reward:    6.0|last_reward_at:    1|Elapsed Time: 0:00:00||\n",
      "Episode 15|Iteration 3|reward:   33.0|last_reward_at:    1|Elapsed Time: 0:00:00||\n",
      "Episode 15|Iteration 3|reward:   33.0|last_reward_at:    3|Elapsed Time: 0:00:00||\n",
      "Episode 15|Iteration 7|reward:   38.0|last_reward_at:    3|Elapsed Time: 0:00:00||\n",
      "Episode 15|Iteration 7|reward:   38.0|last_reward_at:    7|Elapsed Time: 0:00:00||\n",
      "Episode 15|Iteration 12|reward:   38.0|last_reward_at:    7|Elapsed Time: 0:00:00||\n",
      "Episode 15|Iteration 12|reward:   39.0|last_reward_at:    7|Elapsed Time: 0:00:00||\n",
      "Episode 15|Iteration 12|reward:   39.0|last_reward_at:   12|Elapsed Time: 0:00:00||\n",
      "Episode 15|Iteration 17|reward:   39.0|last_reward_at:   12|Elapsed Time: 0:00:00||\n",
      "Episode 15|Iteration 20|reward:   45.0|last_reward_at:   12|Elapsed Time: 0:00:00||\n",
      "Episode 15|Iteration 20|reward:   45.0|last_reward_at:   20|Elapsed Time: 0:00:00||\n",
      "Episode 15|Iteration 22|reward:   51.0|last_reward_at:   20|Elapsed Time: 0:00:00||\n",
      "Episode 15|Iteration 22|reward:   51.0|last_reward_at:   22|Elapsed Time: 0:00:00||\n",
      "Episode 15|Iteration 26|reward:   51.0|last_reward_at:   22|Elapsed Time: 0:00:00||\n",
      "Episode 15|Iteration 26|reward:   52.0|last_reward_at:   22|Elapsed Time: 0:00:00||\n",
      "Episode 15|Iteration 26|reward:   52.0|last_reward_at:   26|Elapsed Time: 0:00:00||\n",
      "Episode 15|Iteration 29|reward:   53.0|last_reward_at:   26|Elapsed Time: 0:00:00||\n",
      "Episode 15|Iteration 29|reward:   53.0|last_reward_at:   29|Elapsed Time: 0:00:00||\n",
      "Episode 15|Iteration 31|reward:   59.0|last_reward_at:   29|Elapsed Time: 0:00:00||\n",
      "Episode 15|Iteration 31|reward:   59.0|last_reward_at:   31|Elapsed Time: 0:00:00||\n",
      "Episode 15|Iteration 36|reward:   59.0|last_reward_at:   31|Elapsed Time: 0:00:00||\n",
      "Episode 15|Iteration 36|reward:   65.0|last_reward_at:   31|Elapsed Time: 0:00:00||\n",
      "Episode 15|Iteration 36|reward:   65.0|last_reward_at:   36|Elapsed Time: 0:00:00||\n",
      "Episode 15|Iteration 37|reward:   71.0|last_reward_at:   36|Elapsed Time: 0:00:00||\n",
      "Episode 15|Iteration 37|reward:   71.0|last_reward_at:   37|Elapsed Time: 0:00:00||\n",
      "Episode 15|Iteration 38|reward:   77.0|last_reward_at:   37|Elapsed Time: 0:00:00||\n",
      "Episode 15|Iteration 38|reward:   77.0|last_reward_at:   38|Elapsed Time: 0:00:00||\n",
      "Episode 15|Iteration 40|reward:   78.0|last_reward_at:   38|Elapsed Time: 0:00:00||\n",
      "Episode 15|Iteration 40|reward:   78.0|last_reward_at:   40|Elapsed Time: 0:00:00||\n",
      "Episode 15|Iteration 43|reward:   87.0|last_reward_at:   40|Elapsed Time: 0:00:00||\n",
      "Episode 15|Iteration 43|reward:   87.0|last_reward_at:   43|Elapsed Time: 0:00:00||\n",
      "Episode 15|Iteration 47|reward:   87.0|last_reward_at:   43|Elapsed Time: 0:00:00||\n",
      "Episode 15|Iteration 50|reward:   87.0|last_reward_at:   43|Elapsed Time: 0:00:00||\n",
      "Episode 15|Iteration 50|reward:  187.0|last_reward_at:   43|Elapsed Time: 0:00:00||\n",
      "Episode 15|Iteration 50|reward:  187.0|last_reward_at:   50|Elapsed Time: 0:00:00||\n",
      "Episode 15|Iteration 50|reward:  187.0|last_reward_at:   50|Elapsed Time: 0:00:00||\n"
     ]
    },
    {
     "name": "stdout",
     "output_type": "stream",
     "text": [
      "  Episode 15 stopped at t=50 \n",
      "  Breakdown [Reward/NoReward (Success rate)]\n",
      "    explore-local: 9/4 (0.69)\n",
      "    explore-remote: 0/20 (0.00)\n",
      "    explore-connect: 0/11 (0.00)\n",
      "    exploit-local: 0/0 (NaN)\n",
      "    exploit-remote: 0/0 (NaN)\n",
      "    exploit-connect: 6/0 (1.00)\n",
      "  exploit deflected to exploration: 0\n",
      "  ## Episode: 16/20 'DQL' ϵ=0.8881, γ=0.015, lr=0.01, replaymemory=10000,\n",
      "batch=512, target_update=5\n"
     ]
    },
    {
     "name": "stderr",
     "output_type": "stream",
     "text": [
      "Episode 16|Iteration 0|reward: ------|last_reward_at: ----|Elapsed Time: 0:00:00||\n",
      "Episode 16|Iteration 1|reward:    6.0|last_reward_at: ----|Elapsed Time: 0:00:00||\n",
      "Episode 16|Iteration 1|reward:    6.0|last_reward_at:    1|Elapsed Time: 0:00:00||\n",
      "Episode 16|Iteration 6|reward:    6.0|last_reward_at:    1|Elapsed Time: 0:00:00||\n",
      "Episode 16|Iteration 7|reward:   33.0|last_reward_at:    1|Elapsed Time: 0:00:00||\n",
      "Episode 16|Iteration 7|reward:   33.0|last_reward_at:    7|Elapsed Time: 0:00:00||\n",
      "Episode 16|Iteration 8|reward:   38.0|last_reward_at:    7|Elapsed Time: 0:00:00||\n",
      "Episode 16|Iteration 8|reward:   38.0|last_reward_at:    8|Elapsed Time: 0:00:00||\n",
      "Episode 16|Iteration 13|reward:   38.0|last_reward_at:    8|Elapsed Time: 0:00:00||\n",
      "Episode 16|Iteration 14|reward:   44.0|last_reward_at:    8|Elapsed Time: 0:00:00||\n",
      "Episode 16|Iteration 14|reward:   44.0|last_reward_at:   14|Elapsed Time: 0:00:00||\n",
      "Episode 16|Iteration 19|reward:   44.0|last_reward_at:   14|Elapsed Time: 0:00:00||\n",
      "Episode 16|Iteration 19|reward:   45.0|last_reward_at:   14|Elapsed Time: 0:00:00||\n",
      "Episode 16|Iteration 19|reward:   45.0|last_reward_at:   19|Elapsed Time: 0:00:00||\n",
      "Episode 16|Iteration 24|reward:   45.0|last_reward_at:   19|Elapsed Time: 0:00:00||\n",
      "Episode 16|Iteration 28|reward:   45.0|last_reward_at:   19|Elapsed Time: 0:00:00||\n",
      "Episode 16|Iteration 30|reward:   46.0|last_reward_at:   19|Elapsed Time: 0:00:00||\n",
      "Episode 16|Iteration 30|reward:   46.0|last_reward_at:   30|Elapsed Time: 0:00:00||\n",
      "Episode 16|Iteration 32|reward:   55.0|last_reward_at:   30|Elapsed Time: 0:00:00||\n",
      "Episode 16|Iteration 32|reward:   55.0|last_reward_at:   32|Elapsed Time: 0:00:00||\n",
      "Episode 16|Iteration 37|reward:   55.0|last_reward_at:   32|Elapsed Time: 0:00:00||\n",
      "Episode 16|Iteration 39|reward:  155.0|last_reward_at:   32|Elapsed Time: 0:00:00||\n",
      "Episode 16|Iteration 39|reward:  155.0|last_reward_at:   39|Elapsed Time: 0:00:00||\n",
      "Episode 16|Iteration 42|reward:  161.0|last_reward_at:   39|Elapsed Time: 0:00:00||\n",
      "Episode 16|Iteration 42|reward:  161.0|last_reward_at:   42|Elapsed Time: 0:00:00||\n",
      "Episode 16|Iteration 46|reward:  161.0|last_reward_at:   42|Elapsed Time: 0:00:00||\n",
      "Episode 16|Iteration 46|reward:  167.0|last_reward_at:   42|Elapsed Time: 0:00:00||\n",
      "Episode 16|Iteration 46|reward:  167.0|last_reward_at:   46|Elapsed Time: 0:00:00||\n",
      "Episode 16|Iteration 50|reward:  167.0|last_reward_at:   46|Elapsed Time: 0:00:00||\n",
      "Episode 16|Iteration 50|reward:  167.0|last_reward_at:   46|Elapsed Time: 0:00:00||\n"
     ]
    },
    {
     "name": "stdout",
     "output_type": "stream",
     "text": [
      "  Episode 16 stopped at t=50 \n",
      "  Breakdown [Reward/NoReward (Success rate)]\n",
      "    explore-local: 6/5 (0.55)\n",
      "    explore-remote: 0/19 (0.00)\n",
      "    explore-connect: 1/16 (0.06)\n",
      "    exploit-local: 0/0 (NaN)\n",
      "    exploit-remote: 0/0 (NaN)\n",
      "    exploit-connect: 3/0 (1.00)\n",
      "  exploit deflected to exploration: 0\n",
      "  ## Episode: 17/20 'DQL' ϵ=0.8873, γ=0.015, lr=0.01, replaymemory=10000,\n",
      "batch=512, target_update=5\n"
     ]
    },
    {
     "name": "stderr",
     "output_type": "stream",
     "text": [
      "Episode 17|Iteration 0|reward: ------|last_reward_at: ----|Elapsed Time: 0:00:00||\n",
      "Episode 17|Iteration 1|reward:    0.0|last_reward_at: ----|Elapsed Time: 0:00:00||\n",
      "Episode 17|Iteration 3|reward:    6.0|last_reward_at: ----|Elapsed Time: 0:00:00||\n",
      "Episode 17|Iteration 3|reward:    6.0|last_reward_at:    3|Elapsed Time: 0:00:00||\n",
      "Episode 17|Iteration 6|reward:   12.0|last_reward_at:    3|Elapsed Time: 0:00:00||\n",
      "Episode 17|Iteration 6|reward:   12.0|last_reward_at:    6|Elapsed Time: 0:00:00||\n",
      "Episode 17|Iteration 11|reward:   12.0|last_reward_at:    6|Elapsed Time: 0:00:00||\n",
      "Episode 17|Iteration 13|reward:   39.0|last_reward_at:    6|Elapsed Time: 0:00:00||\n",
      "Episode 17|Iteration 13|reward:   39.0|last_reward_at:   13|Elapsed Time: 0:00:00||\n",
      "Episode 17|Iteration 17|reward:   45.0|last_reward_at:   13|Elapsed Time: 0:00:00||\n",
      "Episode 17|Iteration 17|reward:   45.0|last_reward_at:   17|Elapsed Time: 0:00:00||\n",
      "Episode 17|Iteration 18|reward:   50.0|last_reward_at:   17|Elapsed Time: 0:00:00||\n",
      "Episode 17|Iteration 18|reward:   50.0|last_reward_at:   18|Elapsed Time: 0:00:00||\n",
      "Episode 17|Iteration 22|reward:   56.0|last_reward_at:   18|Elapsed Time: 0:00:00||\n",
      "Episode 17|Iteration 22|reward:   56.0|last_reward_at:   22|Elapsed Time: 0:00:00||\n",
      "Episode 17|Iteration 27|reward:   56.0|last_reward_at:   22|Elapsed Time: 0:00:00||\n",
      "Episode 17|Iteration 27|reward:   57.0|last_reward_at:   22|Elapsed Time: 0:00:00||\n",
      "Episode 17|Iteration 27|reward:   57.0|last_reward_at:   27|Elapsed Time: 0:00:00||\n",
      "Episode 17|Iteration 32|reward:   57.0|last_reward_at:   27|Elapsed Time: 0:00:00||\n",
      "Episode 17|Iteration 32|reward:   58.0|last_reward_at:   27|Elapsed Time: 0:00:00||\n",
      "Episode 17|Iteration 32|reward:   58.0|last_reward_at:   32|Elapsed Time: 0:00:00||\n",
      "Episode 17|Iteration 36|reward:   58.0|last_reward_at:   32|Elapsed Time: 0:00:00||\n",
      "Episode 17|Iteration 37|reward:   64.0|last_reward_at:   32|Elapsed Time: 0:00:00||\n",
      "Episode 17|Iteration 37|reward:   64.0|last_reward_at:   37|Elapsed Time: 0:00:00||\n",
      "Episode 17|Iteration 41|reward:   70.0|last_reward_at:   37|Elapsed Time: 0:00:00||\n",
      "Episode 17|Iteration 41|reward:   70.0|last_reward_at:   41|Elapsed Time: 0:00:00||\n",
      "Episode 17|Iteration 44|reward:   79.0|last_reward_at:   41|Elapsed Time: 0:00:00||\n",
      "Episode 17|Iteration 44|reward:   79.0|last_reward_at:   44|Elapsed Time: 0:00:00||\n",
      "Episode 17|Iteration 49|reward:   79.0|last_reward_at:   44|Elapsed Time: 0:00:00||\n",
      "Episode 17|Iteration 50|reward:   85.0|last_reward_at:   44|Elapsed Time: 0:00:00||\n",
      "Episode 17|Iteration 50|reward:   85.0|last_reward_at:   50|Elapsed Time: 0:00:00||\n",
      "Episode 17|Iteration 50|reward:   85.0|last_reward_at:   50|Elapsed Time: 0:00:00||\n"
     ]
    },
    {
     "name": "stdout",
     "output_type": "stream",
     "text": [
      "  Episode 17 stopped at t=50 \n",
      "  Breakdown [Reward/NoReward (Success rate)]\n",
      "    explore-local: 8/3 (0.73)\n",
      "    explore-remote: 0/23 (0.00)\n",
      "    explore-connect: 0/12 (0.00)\n",
      "    exploit-local: 1/0 (1.00)\n",
      "    exploit-remote: 0/0 (NaN)\n",
      "    exploit-connect: 3/0 (1.00)\n",
      "  exploit deflected to exploration: 0\n",
      "  ## Episode: 18/20 'DQL' ϵ=0.8865, γ=0.015, lr=0.01, replaymemory=10000,\n",
      "batch=512, target_update=5\n"
     ]
    },
    {
     "name": "stderr",
     "output_type": "stream",
     "text": [
      "Episode 18|Iteration 0|reward: ------|last_reward_at: ----|Elapsed Time: 0:00:00||\n",
      "Episode 18|Iteration 1|reward:    0.0|last_reward_at: ----|Elapsed Time: 0:00:00||\n",
      "Episode 18|Iteration 2|reward:   27.0|last_reward_at: ----|Elapsed Time: 0:00:00||\n",
      "Episode 18|Iteration 2|reward:   27.0|last_reward_at:    2|Elapsed Time: 0:00:00||\n",
      "Episode 18|Iteration 3|reward:   33.0|last_reward_at:    2|Elapsed Time: 0:00:00||\n",
      "Episode 18|Iteration 3|reward:   33.0|last_reward_at:    3|Elapsed Time: 0:00:00||\n",
      "Episode 18|Iteration 4|reward:   39.0|last_reward_at:    3|Elapsed Time: 0:00:00||\n",
      "Episode 18|Iteration 4|reward:   39.0|last_reward_at:    4|Elapsed Time: 0:00:00||\n",
      "Episode 18|Iteration 9|reward:   39.0|last_reward_at:    4|Elapsed Time: 0:00:00||\n",
      "Episode 18|Iteration 13|reward:   39.0|last_reward_at:    4|Elapsed Time: 0:00:00||\n",
      "Episode 18|Iteration 14|reward:   45.0|last_reward_at:    4|Elapsed Time: 0:00:00||\n",
      "Episode 18|Iteration 14|reward:   45.0|last_reward_at:   14|Elapsed Time: 0:00:00||\n",
      "Episode 18|Iteration 19|reward:   45.0|last_reward_at:   14|Elapsed Time: 0:00:00||\n",
      "Episode 18|Iteration 19|reward:   46.0|last_reward_at:   14|Elapsed Time: 0:00:00||\n",
      "Episode 18|Iteration 19|reward:   46.0|last_reward_at:   19|Elapsed Time: 0:00:00||\n",
      "Episode 18|Iteration 22|reward:   52.0|last_reward_at:   19|Elapsed Time: 0:00:00||\n",
      "Episode 18|Iteration 22|reward:   52.0|last_reward_at:   22|Elapsed Time: 0:00:00||\n",
      "Episode 18|Iteration 24|reward:   53.0|last_reward_at:   22|Elapsed Time: 0:00:00||\n",
      "Episode 18|Iteration 24|reward:   53.0|last_reward_at:   24|Elapsed Time: 0:00:00||\n",
      "Episode 18|Iteration 28|reward:   58.0|last_reward_at:   24|Elapsed Time: 0:00:00||\n",
      "Episode 18|Iteration 28|reward:   58.0|last_reward_at:   28|Elapsed Time: 0:00:00||\n",
      "Episode 18|Iteration 32|reward:   59.0|last_reward_at:   28|Elapsed Time: 0:00:00||\n",
      "Episode 18|Iteration 32|reward:   59.0|last_reward_at:   32|Elapsed Time: 0:00:00||\n",
      "Episode 18|Iteration 36|reward:   65.0|last_reward_at:   32|Elapsed Time: 0:00:00||\n",
      "Episode 18|Iteration 36|reward:   65.0|last_reward_at:   36|Elapsed Time: 0:00:00||\n",
      "Episode 18|Iteration 38|reward:   66.0|last_reward_at:   36|Elapsed Time: 0:00:00||\n",
      "Episode 18|Iteration 38|reward:   66.0|last_reward_at:   38|Elapsed Time: 0:00:00||\n",
      "Episode 18|Iteration 39|reward:   67.0|last_reward_at:   38|Elapsed Time: 0:00:00||\n",
      "Episode 18|Iteration 39|reward:   67.0|last_reward_at:   39|Elapsed Time: 0:00:00||\n",
      "Episode 18|Iteration 41|reward:   73.0|last_reward_at:   39|Elapsed Time: 0:00:00||\n",
      "Episode 18|Iteration 41|reward:   73.0|last_reward_at:   41|Elapsed Time: 0:00:00||\n",
      "Episode 18|Iteration 45|reward:   73.0|last_reward_at:   41|Elapsed Time: 0:00:00||\n",
      "Episode 18|Iteration 48|reward:   73.0|last_reward_at:   41|Elapsed Time: 0:00:00||\n",
      "Episode 18|Iteration 49|reward:   79.0|last_reward_at:   41|Elapsed Time: 0:00:00||\n",
      "Episode 18|Iteration 49|reward:   79.0|last_reward_at:   49|Elapsed Time: 0:00:00||\n",
      "Episode 18|Iteration 50|reward:   79.0|last_reward_at:   49|Elapsed Time: 0:00:00||\n"
     ]
    },
    {
     "name": "stdout",
     "output_type": "stream",
     "text": [
      "  Episode 18 stopped at t=50 \n",
      "  Breakdown [Reward/NoReward (Success rate)]\n",
      "    explore-local: 6/7 (0.46)\n",
      "    explore-remote: 0/13 (0.00)\n",
      "    explore-connect: 2/15 (0.12)\n",
      "    exploit-local: 2/1 (0.67)\n",
      "    exploit-remote: 0/0 (NaN)\n",
      "    exploit-connect: 4/0 (1.00)\n",
      "  exploit deflected to exploration: 0\n",
      "  ## Episode: 19/20 'DQL' ϵ=0.8857, γ=0.015, lr=0.01, replaymemory=10000,\n",
      "batch=512, target_update=5\n"
     ]
    },
    {
     "name": "stderr",
     "output_type": "stream",
     "text": [
      "Episode 19|Iteration 0|reward: ------|last_reward_at: ----|Elapsed Time: 0:00:00||\n",
      "Episode 19|Iteration 1|reward:    0.0|last_reward_at: ----|Elapsed Time: 0:00:00||\n",
      "Episode 19|Iteration 4|reward:    6.0|last_reward_at: ----|Elapsed Time: 0:00:00||\n",
      "Episode 19|Iteration 4|reward:    6.0|last_reward_at:    4|Elapsed Time: 0:00:00||\n",
      "Episode 19|Iteration 7|reward:   33.0|last_reward_at:    4|Elapsed Time: 0:00:00||\n",
      "Episode 19|Iteration 7|reward:   33.0|last_reward_at:    7|Elapsed Time: 0:00:00||\n",
      "Episode 19|Iteration 12|reward:   33.0|last_reward_at:    7|Elapsed Time: 0:00:00||\n",
      "Episode 19|Iteration 13|reward:   39.0|last_reward_at:    7|Elapsed Time: 0:00:00||\n",
      "Episode 19|Iteration 13|reward:   39.0|last_reward_at:   13|Elapsed Time: 0:00:00||\n",
      "Episode 19|Iteration 18|reward:   39.0|last_reward_at:   13|Elapsed Time: 0:00:00||\n",
      "Episode 19|Iteration 22|reward:   39.0|last_reward_at:   13|Elapsed Time: 0:00:00||\n",
      "Episode 19|Iteration 22|reward:   45.0|last_reward_at:   13|Elapsed Time: 0:00:00||\n",
      "Episode 19|Iteration 22|reward:   45.0|last_reward_at:   22|Elapsed Time: 0:00:00||\n",
      "Episode 19|Iteration 27|reward:   45.0|last_reward_at:   22|Elapsed Time: 0:00:00||\n",
      "Episode 19|Iteration 30|reward:   45.0|last_reward_at:   22|Elapsed Time: 0:00:00||\n",
      "Episode 19|Iteration 33|reward:   46.0|last_reward_at:   22|Elapsed Time: 0:00:00||\n",
      "Episode 19|Iteration 33|reward:   46.0|last_reward_at:   33|Elapsed Time: 0:00:00||\n",
      "Episode 19|Iteration 38|reward:   46.0|last_reward_at:   33|Elapsed Time: 0:00:00||\n",
      "Episode 19|Iteration 39|reward:   51.0|last_reward_at:   33|Elapsed Time: 0:00:00||\n",
      "Episode 19|Iteration 39|reward:   51.0|last_reward_at:   39|Elapsed Time: 0:00:00||\n",
      "Episode 19|Iteration 40|reward:   52.0|last_reward_at:   39|Elapsed Time: 0:00:00||\n",
      "Episode 19|Iteration 40|reward:   52.0|last_reward_at:   40|Elapsed Time: 0:00:00||\n",
      "Episode 19|Iteration 42|reward:   61.0|last_reward_at:   40|Elapsed Time: 0:00:00||\n",
      "Episode 19|Iteration 42|reward:   61.0|last_reward_at:   42|Elapsed Time: 0:00:00||\n",
      "Episode 19|Iteration 43|reward:   62.0|last_reward_at:   42|Elapsed Time: 0:00:00||\n",
      "Episode 19|Iteration 43|reward:   62.0|last_reward_at:   43|Elapsed Time: 0:00:00||\n",
      "Episode 19|Iteration 45|reward:   68.0|last_reward_at:   43|Elapsed Time: 0:00:00||\n",
      "Episode 19|Iteration 45|reward:   68.0|last_reward_at:   45|Elapsed Time: 0:00:00||\n",
      "Episode 19|Iteration 47|reward:  168.0|last_reward_at:   45|Elapsed Time: 0:00:00||\n",
      "Episode 19|Iteration 47|reward:  168.0|last_reward_at:   47|Elapsed Time: 0:00:00||\n",
      "Episode 19|Iteration 50|reward:  168.0|last_reward_at:   47|Elapsed Time: 0:00:00||\n"
     ]
    },
    {
     "name": "stdout",
     "output_type": "stream",
     "text": [
      "  Episode 19 stopped at t=50 \n",
      "  Breakdown [Reward/NoReward (Success rate)]\n",
      "    explore-local: 6/12 (0.33)\n",
      "    explore-remote: 0/10 (0.00)\n",
      "    explore-connect: 0/17 (0.00)\n",
      "    exploit-local: 0/0 (NaN)\n",
      "    exploit-remote: 0/0 (NaN)\n",
      "    exploit-connect: 5/0 (1.00)\n",
      "  exploit deflected to exploration: 0\n",
      "  ## Episode: 20/20 'DQL' ϵ=0.8850, γ=0.015, lr=0.01, replaymemory=10000,\n",
      "batch=512, target_update=5\n"
     ]
    },
    {
     "name": "stderr",
     "output_type": "stream",
     "text": [
      "Episode 20|Iteration 0|reward: ------|last_reward_at: ----|Elapsed Time: 0:00:00||\n",
      "Episode 20|Iteration 1|reward:   27.0|last_reward_at: ----|Elapsed Time: 0:00:00||\n",
      "Episode 20|Iteration 1|reward:   27.0|last_reward_at:    1|Elapsed Time: 0:00:00||\n",
      "Episode 20|Iteration 2|reward:   32.0|last_reward_at:    1|Elapsed Time: 0:00:00||\n",
      "Episode 20|Iteration 2|reward:   32.0|last_reward_at:    2|Elapsed Time: 0:00:00||\n",
      "Episode 20|Iteration 7|reward:   32.0|last_reward_at:    2|Elapsed Time: 0:00:00||\n",
      "Episode 20|Iteration 8|reward:   33.0|last_reward_at:    2|Elapsed Time: 0:00:00||\n",
      "Episode 20|Iteration 8|reward:   33.0|last_reward_at:    8|Elapsed Time: 0:00:00||\n",
      "Episode 20|Iteration 9|reward:   34.0|last_reward_at:    8|Elapsed Time: 0:00:00||\n",
      "Episode 20|Iteration 9|reward:   34.0|last_reward_at:    9|Elapsed Time: 0:00:00||\n",
      "Episode 20|Iteration 14|reward:   34.0|last_reward_at:    9|Elapsed Time: 0:00:00||\n",
      "Episode 20|Iteration 17|reward:   35.0|last_reward_at:    9|Elapsed Time: 0:00:00||\n",
      "Episode 20|Iteration 17|reward:   35.0|last_reward_at:   17|Elapsed Time: 0:00:00||\n",
      "Episode 20|Iteration 20|reward:   44.0|last_reward_at:   17|Elapsed Time: 0:00:00||\n",
      "Episode 20|Iteration 20|reward:   44.0|last_reward_at:   20|Elapsed Time: 0:00:00||\n",
      "Episode 20|Iteration 23|reward:   50.0|last_reward_at:   20|Elapsed Time: 0:00:00||\n",
      "Episode 20|Iteration 23|reward:   50.0|last_reward_at:   23|Elapsed Time: 0:00:00||\n",
      "Episode 20|Iteration 26|reward:   51.0|last_reward_at:   23|Elapsed Time: 0:00:00||\n",
      "Episode 20|Iteration 26|reward:   51.0|last_reward_at:   26|Elapsed Time: 0:00:00||\n",
      "Episode 20|Iteration 28|reward:   52.0|last_reward_at:   26|Elapsed Time: 0:00:00||\n",
      "Episode 20|Iteration 28|reward:   52.0|last_reward_at:   28|Elapsed Time: 0:00:00||\n",
      "Episode 20|Iteration 32|reward:   52.0|last_reward_at:   28|Elapsed Time: 0:00:00||\n",
      "Episode 20|Iteration 32|reward:  152.0|last_reward_at:   28|Elapsed Time: 0:00:00||\n",
      "Episode 20|Iteration 32|reward:  152.0|last_reward_at:   32|Elapsed Time: 0:00:00||\n",
      "Episode 20|Iteration 35|reward:  152.0|last_reward_at:   32|Elapsed Time: 0:00:00||\n",
      "Episode 20|Iteration 37|reward:  152.0|last_reward_at:   32|Elapsed Time: 0:00:00||\n",
      "Episode 20|Iteration 40|reward:  152.0|last_reward_at:   32|Elapsed Time: 0:00:00||\n",
      "Episode 20|Iteration 41|reward:  158.0|last_reward_at:   32|Elapsed Time: 0:00:00||\n",
      "Episode 20|Iteration 41|reward:  158.0|last_reward_at:   41|Elapsed Time: 0:00:00||\n",
      "Episode 20|Iteration 45|reward:  158.0|last_reward_at:   41|Elapsed Time: 0:00:00||\n",
      "Episode 20|Iteration 48|reward:  158.0|last_reward_at:   41|Elapsed Time: 0:00:00||\n",
      "Episode 20|Iteration 48|reward:  353.0|last_reward_at:   41|Elapsed Time: 0:00:00||\n",
      "Episode 20|Iteration 48|reward:  353.0|last_reward_at:   48|Elapsed Time: 0:00:00||\n",
      "Episode 20|Iteration 49|reward:  359.0|last_reward_at:   48|Elapsed Time: 0:00:01||\n",
      "Episode 20|Iteration 49|reward:  359.0|last_reward_at:   49|Elapsed Time: 0:00:01||\n",
      "Episode 20|Iteration 50|reward:  359.0|last_reward_at:   49|Elapsed Time: 0:00:01||\n"
     ]
    },
    {
     "name": "stdout",
     "output_type": "stream",
     "text": [
      "  Episode 20 stopped at t=50 \n",
      "  Breakdown [Reward/NoReward (Success rate)]\n",
      "    explore-local: 4/1 (0.80)\n",
      "    explore-remote: 0/17 (0.00)\n",
      "    explore-connect: 1/19 (0.05)\n",
      "    exploit-local: 2/0 (1.00)\n",
      "    exploit-remote: 0/0 (NaN)\n",
      "    exploit-connect: 6/0 (1.00)\n",
      "  exploit deflected to exploration: 0\n",
      "simulation ended\n",
      "###### DQL\n",
      "Learning with: episode_count=20,iteration_count=50,ϵ=0.9,ϵ_min=0.1, ϵ_expdecay=50000,γ=0.015, lr=0.01, replaymemory=10000,\n",
      "batch=512, target_update=5\n",
      "  ## Episode: 1/20 'DQL' ϵ=0.9000, γ=0.015, lr=0.01, replaymemory=10000,\n",
      "batch=512, target_update=5\n"
     ]
    },
    {
     "name": "stderr",
     "output_type": "stream",
     "text": [
      "Episode 1|Iteration 0|reward: ------|last_reward_at: ----|Elapsed Time: 0:00:00||\n",
      "Episode 1|Iteration 1|reward:    0.0|last_reward_at: ----|Elapsed Time: 0:00:00||\n",
      "Episode 1|Iteration 2|reward:    6.0|last_reward_at: ----|Elapsed Time: 0:00:00||\n",
      "Episode 1|Iteration 2|reward:    6.0|last_reward_at:    2|Elapsed Time: 0:00:00||\n",
      "Episode 1|Iteration 6|reward:   24.0|last_reward_at:    2|Elapsed Time: 0:00:00||\n",
      "Episode 1|Iteration 6|reward:   24.0|last_reward_at:    6|Elapsed Time: 0:00:00||\n",
      "Episode 1|Iteration 9|reward:   30.0|last_reward_at:    6|Elapsed Time: 0:00:00||\n",
      "Episode 1|Iteration 9|reward:   30.0|last_reward_at:    9|Elapsed Time: 0:00:00||\n",
      "Episode 1|Iteration 13|reward:   30.0|last_reward_at:    9|Elapsed Time: 0:00:00||\n",
      "Episode 1|Iteration 14|reward:   31.0|last_reward_at:    9|Elapsed Time: 0:00:00||\n",
      "Episode 1|Iteration 14|reward:   31.0|last_reward_at:   14|Elapsed Time: 0:00:00||\n",
      "Episode 1|Iteration 19|reward:   31.0|last_reward_at:   14|Elapsed Time: 0:00:00||\n",
      "Episode 1|Iteration 22|reward:   32.0|last_reward_at:   14|Elapsed Time: 0:00:00||\n",
      "Episode 1|Iteration 22|reward:   32.0|last_reward_at:   22|Elapsed Time: 0:00:00||\n",
      "Episode 1|Iteration 23|reward:   37.0|last_reward_at:   22|Elapsed Time: 0:00:00||\n",
      "Episode 1|Iteration 23|reward:   37.0|last_reward_at:   23|Elapsed Time: 0:00:00||\n",
      "Episode 1|Iteration 26|reward:   37.0|last_reward_at:   23|Elapsed Time: 0:00:00||\n",
      "Episode 1|Iteration 26|reward:   43.0|last_reward_at:   23|Elapsed Time: 0:00:00||\n",
      "Episode 1|Iteration 26|reward:   43.0|last_reward_at:   26|Elapsed Time: 0:00:00||\n",
      "Episode 1|Iteration 27|reward:   49.0|last_reward_at:   26|Elapsed Time: 0:00:00||\n",
      "Episode 1|Iteration 27|reward:   49.0|last_reward_at:   27|Elapsed Time: 0:00:00||\n",
      "Episode 1|Iteration 30|reward:   58.0|last_reward_at:   27|Elapsed Time: 0:00:00||\n",
      "Episode 1|Iteration 30|reward:   58.0|last_reward_at:   30|Elapsed Time: 0:00:00||\n",
      "Episode 1|Iteration 31|reward:   64.0|last_reward_at:   30|Elapsed Time: 0:00:00||\n",
      "Episode 1|Iteration 31|reward:   64.0|last_reward_at:   31|Elapsed Time: 0:00:00||\n",
      "Episode 1|Iteration 35|reward:   64.0|last_reward_at:   31|Elapsed Time: 0:00:00||\n",
      "Episode 1|Iteration 35|reward:  164.0|last_reward_at:   31|Elapsed Time: 0:00:00||\n",
      "Episode 1|Iteration 35|reward:  164.0|last_reward_at:   35|Elapsed Time: 0:00:00||\n",
      "Episode 1|Iteration 38|reward:  164.0|last_reward_at:   35|Elapsed Time: 0:00:00||\n",
      "Episode 1|Iteration 39|reward:  422.0|last_reward_at:   35|Elapsed Time: 0:00:00||\n",
      "Episode 1|Iteration 39|reward:  422.0|last_reward_at:   39|Elapsed Time: 0:00:00||\n",
      "Episode 1|Iteration 43|reward:  428.0|last_reward_at:   39|Elapsed Time: 0:00:00||\n",
      "Episode 1|Iteration 43|reward:  428.0|last_reward_at:   43|Elapsed Time: 0:00:00||\n",
      "Episode 1|Iteration 47|reward:  428.0|last_reward_at:   43|Elapsed Time: 0:00:00||\n",
      "Episode 1|Iteration 50|reward:  428.0|last_reward_at:   43|Elapsed Time: 0:00:00||\n",
      "Episode 1|Iteration 50|reward:  428.0|last_reward_at:   43|Elapsed Time: 0:00:00||\n"
     ]
    },
    {
     "name": "stdout",
     "output_type": "stream",
     "text": [
      "  Episode 1 stopped at t=50 \n",
      "  Breakdown [Reward/NoReward (Success rate)]\n",
      "    explore-local: 7/3 (0.70)\n",
      "    explore-remote: 0/17 (0.00)\n",
      "    explore-connect: 1/15 (0.06)\n",
      "    exploit-local: 2/0 (1.00)\n",
      "    exploit-remote: 0/0 (NaN)\n",
      "    exploit-connect: 3/2 (0.60)\n",
      "  exploit deflected to exploration: 0\n",
      "  ## Episode: 2/20 'DQL' ϵ=0.8992, γ=0.015, lr=0.01, replaymemory=10000,\n",
      "batch=512, target_update=5\n"
     ]
    },
    {
     "name": "stderr",
     "output_type": "stream",
     "text": [
      "Episode 2|Iteration 0|reward: ------|last_reward_at: ----|Elapsed Time: 0:00:00||\n",
      "Episode 2|Iteration 1|reward:    6.0|last_reward_at: ----|Elapsed Time: 0:00:00||\n",
      "Episode 2|Iteration 1|reward:    6.0|last_reward_at:    1|Elapsed Time: 0:00:00||\n",
      "Episode 2|Iteration 3|reward:   24.0|last_reward_at:    1|Elapsed Time: 0:00:00||\n",
      "Episode 2|Iteration 3|reward:   24.0|last_reward_at:    3|Elapsed Time: 0:00:00||\n",
      "Episode 2|Iteration 4|reward:   30.0|last_reward_at:    3|Elapsed Time: 0:00:00||\n",
      "Episode 2|Iteration 4|reward:   30.0|last_reward_at:    4|Elapsed Time: 0:00:00||\n",
      "Episode 2|Iteration 9|reward:   30.0|last_reward_at:    4|Elapsed Time: 0:00:00||\n",
      "Episode 2|Iteration 11|reward:   31.0|last_reward_at:    4|Elapsed Time: 0:00:00||\n",
      "Episode 2|Iteration 11|reward:   31.0|last_reward_at:   11|Elapsed Time: 0:00:00||\n",
      "Episode 2|Iteration 15|reward:   31.0|last_reward_at:   11|Elapsed Time: 0:00:00||\n",
      "Episode 2|Iteration 16|reward:   40.0|last_reward_at:   11|Elapsed Time: 0:00:00||\n",
      "Episode 2|Iteration 16|reward:   40.0|last_reward_at:   16|Elapsed Time: 0:00:00||\n",
      "Episode 2|Iteration 18|reward:   46.0|last_reward_at:   16|Elapsed Time: 0:00:00||\n",
      "Episode 2|Iteration 18|reward:   46.0|last_reward_at:   18|Elapsed Time: 0:00:00||\n",
      "Episode 2|Iteration 19|reward:  146.0|last_reward_at:   18|Elapsed Time: 0:00:00||\n",
      "Episode 2|Iteration 19|reward:  146.0|last_reward_at:   19|Elapsed Time: 0:00:00||\n",
      "Episode 2|Iteration 24|reward:  146.0|last_reward_at:   19|Elapsed Time: 0:00:00||\n",
      "Episode 2|Iteration 28|reward:  146.0|last_reward_at:   19|Elapsed Time: 0:00:00||\n",
      "Episode 2|Iteration 31|reward:  152.0|last_reward_at:   19|Elapsed Time: 0:00:00||\n",
      "Episode 2|Iteration 31|reward:  152.0|last_reward_at:   31|Elapsed Time: 0:00:00||\n",
      "Episode 2|Iteration 36|reward:  152.0|last_reward_at:   31|Elapsed Time: 0:00:00||\n",
      "Episode 2|Iteration 37|reward:  157.0|last_reward_at:   31|Elapsed Time: 0:00:00||\n",
      "Episode 2|Iteration 37|reward:  157.0|last_reward_at:   37|Elapsed Time: 0:00:00||\n",
      "Episode 2|Iteration 42|reward:  157.0|last_reward_at:   37|Elapsed Time: 0:00:00||\n",
      "Episode 2|Iteration 42|reward:  163.0|last_reward_at:   37|Elapsed Time: 0:00:00||\n",
      "Episode 2|Iteration 42|reward:  163.0|last_reward_at:   42|Elapsed Time: 0:00:00||\n",
      "Episode 2|Iteration 43|reward:  164.0|last_reward_at:   42|Elapsed Time: 0:00:00||\n",
      "Episode 2|Iteration 43|reward:  164.0|last_reward_at:   43|Elapsed Time: 0:00:00||\n",
      "Episode 2|Iteration 47|reward:  164.0|last_reward_at:   43|Elapsed Time: 0:00:00||\n",
      "Episode 2|Iteration 50|reward:  164.0|last_reward_at:   43|Elapsed Time: 0:00:00||\n",
      "Episode 2|Iteration 50|reward:  164.0|last_reward_at:   43|Elapsed Time: 0:00:00||\n"
     ]
    },
    {
     "name": "stdout",
     "output_type": "stream",
     "text": [
      "  Episode 2 stopped at t=50 \n",
      "  Breakdown [Reward/NoReward (Success rate)]\n",
      "    explore-local: 6/7 (0.46)\n",
      "    explore-remote: 0/15 (0.00)\n",
      "    explore-connect: 1/17 (0.06)\n",
      "    exploit-local: 1/0 (1.00)\n",
      "    exploit-remote: 0/0 (NaN)\n",
      "    exploit-connect: 3/0 (1.00)\n",
      "  exploit deflected to exploration: 0\n",
      "  ## Episode: 3/20 'DQL' ϵ=0.8984, γ=0.015, lr=0.01, replaymemory=10000,\n",
      "batch=512, target_update=5\n"
     ]
    },
    {
     "name": "stderr",
     "output_type": "stream",
     "text": [
      "Episode 3|Iteration 0|reward: ------|last_reward_at: ----|Elapsed Time: 0:00:00||\n",
      "Episode 3|Iteration 1|reward:   18.0|last_reward_at: ----|Elapsed Time: 0:00:00||\n",
      "Episode 3|Iteration 1|reward:   18.0|last_reward_at:    1|Elapsed Time: 0:00:00||\n",
      "Episode 3|Iteration 3|reward:   19.0|last_reward_at:    1|Elapsed Time: 0:00:00||\n",
      "Episode 3|Iteration 3|reward:   19.0|last_reward_at:    3|Elapsed Time: 0:00:00||\n",
      "Episode 3|Iteration 4|reward:   25.0|last_reward_at:    3|Elapsed Time: 0:00:00||\n",
      "Episode 3|Iteration 4|reward:   25.0|last_reward_at:    4|Elapsed Time: 0:00:00||\n",
      "Episode 3|Iteration 8|reward:   25.0|last_reward_at:    4|Elapsed Time: 0:00:00||\n",
      "Episode 3|Iteration 10|reward:   26.0|last_reward_at:    4|Elapsed Time: 0:00:00||\n",
      "Episode 3|Iteration 10|reward:   26.0|last_reward_at:   10|Elapsed Time: 0:00:00||\n",
      "Episode 3|Iteration 12|reward:   32.0|last_reward_at:   10|Elapsed Time: 0:00:00||\n",
      "Episode 3|Iteration 12|reward:   32.0|last_reward_at:   12|Elapsed Time: 0:00:00||\n",
      "Episode 3|Iteration 13|reward:   41.0|last_reward_at:   12|Elapsed Time: 0:00:00||\n",
      "Episode 3|Iteration 13|reward:   41.0|last_reward_at:   13|Elapsed Time: 0:00:00||\n",
      "Episode 3|Iteration 14|reward:   46.0|last_reward_at:   13|Elapsed Time: 0:00:00||\n",
      "Episode 3|Iteration 14|reward:   46.0|last_reward_at:   14|Elapsed Time: 0:00:00||\n",
      "Episode 3|Iteration 18|reward:   46.0|last_reward_at:   14|Elapsed Time: 0:00:00||\n",
      "Episode 3|Iteration 22|reward:   46.0|last_reward_at:   14|Elapsed Time: 0:00:00||\n",
      "Episode 3|Iteration 23|reward:  146.0|last_reward_at:   14|Elapsed Time: 0:00:00||\n",
      "Episode 3|Iteration 23|reward:  146.0|last_reward_at:   23|Elapsed Time: 0:00:00||\n",
      "Episode 3|Iteration 26|reward:  152.0|last_reward_at:   23|Elapsed Time: 0:00:00||\n",
      "Episode 3|Iteration 26|reward:  152.0|last_reward_at:   26|Elapsed Time: 0:00:00||\n",
      "Episode 3|Iteration 27|reward:  410.0|last_reward_at:   26|Elapsed Time: 0:00:00||\n",
      "Episode 3|Iteration 27|reward:  410.0|last_reward_at:   27|Elapsed Time: 0:00:00||\n",
      "Episode 3|Iteration 30|reward:  416.0|last_reward_at:   27|Elapsed Time: 0:00:00||\n",
      "Episode 3|Iteration 30|reward:  416.0|last_reward_at:   30|Elapsed Time: 0:00:00||\n",
      "Episode 3|Iteration 34|reward:  416.0|last_reward_at:   30|Elapsed Time: 0:00:00||\n",
      "Episode 3|Iteration 37|reward:  416.0|last_reward_at:   30|Elapsed Time: 0:00:00||\n",
      "Episode 3|Iteration 40|reward:  416.0|last_reward_at:   30|Elapsed Time: 0:00:00||\n",
      "Episode 3|Iteration 43|reward:  416.0|last_reward_at:   30|Elapsed Time: 0:00:00||\n",
      "Episode 3|Iteration 45|reward:  417.0|last_reward_at:   30|Elapsed Time: 0:00:00||\n",
      "Episode 3|Iteration 45|reward:  417.0|last_reward_at:   45|Elapsed Time: 0:00:00||\n",
      "Episode 3|Iteration 49|reward:  417.0|last_reward_at:   45|Elapsed Time: 0:00:00||\n",
      "Episode 3|Iteration 50|reward:  417.0|last_reward_at:   45|Elapsed Time: 0:00:00||\n"
     ]
    },
    {
     "name": "stdout",
     "output_type": "stream",
     "text": [
      "  Episode 3 stopped at t=50 \n",
      "  Breakdown [Reward/NoReward (Success rate)]\n",
      "    explore-local: 6/3 (0.67)\n",
      "    explore-remote: 0/18 (0.00)\n",
      "    explore-connect: 0/15 (0.00)\n",
      "    exploit-local: 1/0 (1.00)\n",
      "    exploit-remote: 0/0 (NaN)\n",
      "    exploit-connect: 5/2 (0.71)\n",
      "  exploit deflected to exploration: 0\n",
      "  ## Episode: 4/20 'DQL' ϵ=0.8976, γ=0.015, lr=0.01, replaymemory=10000,\n",
      "batch=512, target_update=5\n"
     ]
    },
    {
     "name": "stderr",
     "output_type": "stream",
     "text": [
      "Episode 4|Iteration 0|reward: ------|last_reward_at: ----|Elapsed Time: 0:00:00||\n",
      "Episode 4|Iteration 1|reward:    6.0|last_reward_at: ----|Elapsed Time: 0:00:00||\n",
      "Episode 4|Iteration 1|reward:    6.0|last_reward_at:    1|Elapsed Time: 0:00:00||\n",
      "Episode 4|Iteration 5|reward:   24.0|last_reward_at:    1|Elapsed Time: 0:00:00||\n",
      "Episode 4|Iteration 5|reward:   24.0|last_reward_at:    5|Elapsed Time: 0:00:00||\n",
      "Episode 4|Iteration 6|reward:   30.0|last_reward_at:    5|Elapsed Time: 0:00:00||\n",
      "Episode 4|Iteration 6|reward:   30.0|last_reward_at:    6|Elapsed Time: 0:00:00||\n",
      "Episode 4|Iteration 8|reward:   35.0|last_reward_at:    6|Elapsed Time: 0:00:00||\n",
      "Episode 4|Iteration 8|reward:   35.0|last_reward_at:    8|Elapsed Time: 0:00:00||\n",
      "Episode 4|Iteration 9|reward:   36.0|last_reward_at:    8|Elapsed Time: 0:00:00||\n",
      "Episode 4|Iteration 9|reward:   36.0|last_reward_at:    9|Elapsed Time: 0:00:00||\n",
      "Episode 4|Iteration 13|reward:   42.0|last_reward_at:    9|Elapsed Time: 0:00:00||\n",
      "Episode 4|Iteration 13|reward:   42.0|last_reward_at:   13|Elapsed Time: 0:00:00||\n",
      "Episode 4|Iteration 17|reward:   48.0|last_reward_at:   13|Elapsed Time: 0:00:00||\n",
      "Episode 4|Iteration 17|reward:   48.0|last_reward_at:   17|Elapsed Time: 0:00:00||\n",
      "Episode 4|Iteration 21|reward:   49.0|last_reward_at:   17|Elapsed Time: 0:00:00||\n",
      "Episode 4|Iteration 21|reward:   49.0|last_reward_at:   21|Elapsed Time: 0:00:00||\n",
      "Episode 4|Iteration 26|reward:   49.0|last_reward_at:   21|Elapsed Time: 0:00:00||\n",
      "Episode 4|Iteration 29|reward:   55.0|last_reward_at:   21|Elapsed Time: 0:00:00||\n",
      "Episode 4|Iteration 29|reward:   55.0|last_reward_at:   29|Elapsed Time: 0:00:00||\n",
      "Episode 4|Iteration 32|reward:   61.0|last_reward_at:   29|Elapsed Time: 0:00:00||\n",
      "Episode 4|Iteration 32|reward:   61.0|last_reward_at:   32|Elapsed Time: 0:00:00||\n",
      "Episode 4|Iteration 37|reward:   61.0|last_reward_at:   32|Elapsed Time: 0:00:00||\n",
      "Episode 4|Iteration 39|reward:   67.0|last_reward_at:   32|Elapsed Time: 0:00:00||\n",
      "Episode 4|Iteration 39|reward:   67.0|last_reward_at:   39|Elapsed Time: 0:00:00||\n",
      "Episode 4|Iteration 42|reward:   73.0|last_reward_at:   39|Elapsed Time: 0:00:00||\n",
      "Episode 4|Iteration 42|reward:   73.0|last_reward_at:   42|Elapsed Time: 0:00:00||\n",
      "Episode 4|Iteration 44|reward:   79.0|last_reward_at:   42|Elapsed Time: 0:00:00||\n",
      "Episode 4|Iteration 44|reward:   79.0|last_reward_at:   44|Elapsed Time: 0:00:00||\n",
      "Episode 4|Iteration 49|reward:   79.0|last_reward_at:   44|Elapsed Time: 0:00:00||\n",
      "Episode 4|Iteration 50|reward:   79.0|last_reward_at:   44|Elapsed Time: 0:00:00||\n"
     ]
    },
    {
     "name": "stdout",
     "output_type": "stream",
     "text": [
      "  Episode 4 stopped at t=50 \n",
      "  Breakdown [Reward/NoReward (Success rate)]\n",
      "    explore-local: 9/5 (0.64)\n",
      "    explore-remote: 0/19 (0.00)\n",
      "    explore-connect: 0/12 (0.00)\n",
      "    exploit-local: 1/1 (0.50)\n",
      "    exploit-remote: 0/0 (NaN)\n",
      "    exploit-connect: 3/0 (1.00)\n",
      "  exploit deflected to exploration: 0\n",
      "  ## Episode: 5/20 'DQL' ϵ=0.8968, γ=0.015, lr=0.01, replaymemory=10000,\n",
      "batch=512, target_update=5\n"
     ]
    },
    {
     "name": "stderr",
     "output_type": "stream",
     "text": [
      "Episode 5|Iteration 0|reward: ------|last_reward_at: ----|Elapsed Time: 0:00:00||\n",
      "Episode 5|Iteration 1|reward:    0.0|last_reward_at: ----|Elapsed Time: 0:00:00||\n",
      "Episode 5|Iteration 5|reward:    0.0|last_reward_at: ----|Elapsed Time: 0:00:00||\n",
      "Episode 5|Iteration 6|reward:    6.0|last_reward_at: ----|Elapsed Time: 0:00:00||\n",
      "Episode 5|Iteration 6|reward:    6.0|last_reward_at:    6|Elapsed Time: 0:00:00||\n",
      "Episode 5|Iteration 8|reward:   24.0|last_reward_at:    6|Elapsed Time: 0:00:00||\n",
      "Episode 5|Iteration 8|reward:   24.0|last_reward_at:    8|Elapsed Time: 0:00:00||\n",
      "Episode 5|Iteration 11|reward:   29.0|last_reward_at:    8|Elapsed Time: 0:00:00||\n",
      "Episode 5|Iteration 11|reward:   29.0|last_reward_at:   11|Elapsed Time: 0:00:00||\n",
      "Episode 5|Iteration 14|reward:   35.0|last_reward_at:   11|Elapsed Time: 0:00:00||\n",
      "Episode 5|Iteration 14|reward:   35.0|last_reward_at:   14|Elapsed Time: 0:00:00||\n",
      "Episode 5|Iteration 19|reward:   35.0|last_reward_at:   14|Elapsed Time: 0:00:00||\n",
      "Episode 5|Iteration 23|reward:   35.0|last_reward_at:   14|Elapsed Time: 0:00:00||\n",
      "Episode 5|Iteration 23|reward:   36.0|last_reward_at:   14|Elapsed Time: 0:00:00||\n",
      "Episode 5|Iteration 23|reward:   36.0|last_reward_at:   23|Elapsed Time: 0:00:00||\n",
      "Episode 5|Iteration 27|reward:   45.0|last_reward_at:   23|Elapsed Time: 0:00:00||\n",
      "Episode 5|Iteration 27|reward:   45.0|last_reward_at:   27|Elapsed Time: 0:00:00||\n",
      "Episode 5|Iteration 28|reward:   46.0|last_reward_at:   27|Elapsed Time: 0:00:00||\n",
      "Episode 5|Iteration 28|reward:   46.0|last_reward_at:   28|Elapsed Time: 0:00:00||\n",
      "Episode 5|Iteration 33|reward:   46.0|last_reward_at:   28|Elapsed Time: 0:00:00||\n",
      "Episode 5|Iteration 36|reward:   46.0|last_reward_at:   28|Elapsed Time: 0:00:00||\n",
      "Episode 5|Iteration 37|reward:   52.0|last_reward_at:   28|Elapsed Time: 0:00:00||\n",
      "Episode 5|Iteration 37|reward:   52.0|last_reward_at:   37|Elapsed Time: 0:00:00||\n",
      "Episode 5|Iteration 42|reward:   52.0|last_reward_at:   37|Elapsed Time: 0:00:00||\n",
      "Episode 5|Iteration 42|reward:   58.0|last_reward_at:   37|Elapsed Time: 0:00:00||\n",
      "Episode 5|Iteration 42|reward:   58.0|last_reward_at:   42|Elapsed Time: 0:00:00||\n",
      "Episode 5|Iteration 43|reward:   64.0|last_reward_at:   42|Elapsed Time: 0:00:00||\n",
      "Episode 5|Iteration 43|reward:   64.0|last_reward_at:   43|Elapsed Time: 0:00:00||\n",
      "Episode 5|Iteration 47|reward:   70.0|last_reward_at:   43|Elapsed Time: 0:00:00||\n",
      "Episode 5|Iteration 47|reward:   70.0|last_reward_at:   47|Elapsed Time: 0:00:00||\n",
      "Episode 5|Iteration 50|reward:   70.0|last_reward_at:   47|Elapsed Time: 0:00:00||\n"
     ]
    },
    {
     "name": "stdout",
     "output_type": "stream",
     "text": [
      "  Episode 5 stopped at t=50 \n",
      "  Breakdown [Reward/NoReward (Success rate)]\n",
      "    explore-local: 8/5 (0.62)\n",
      "    explore-remote: 0/22 (0.00)\n",
      "    explore-connect: 0/12 (0.00)\n",
      "    exploit-local: 0/0 (NaN)\n",
      "    exploit-remote: 0/0 (NaN)\n",
      "    exploit-connect: 3/0 (1.00)\n",
      "  exploit deflected to exploration: 0\n",
      "  ## Episode: 6/20 'DQL' ϵ=0.8960, γ=0.015, lr=0.01, replaymemory=10000,\n",
      "batch=512, target_update=5\n"
     ]
    },
    {
     "name": "stderr",
     "output_type": "stream",
     "text": [
      "Episode 6|Iteration 0|reward: ------|last_reward_at: ----|Elapsed Time: 0:00:00||\n",
      "Episode 6|Iteration 1|reward:    0.0|last_reward_at: ----|Elapsed Time: 0:00:00||\n",
      "Episode 6|Iteration 2|reward:   18.0|last_reward_at: ----|Elapsed Time: 0:00:00||\n",
      "Episode 6|Iteration 2|reward:   18.0|last_reward_at:    2|Elapsed Time: 0:00:00||\n",
      "Episode 6|Iteration 6|reward:   18.0|last_reward_at:    2|Elapsed Time: 0:00:00||\n",
      "Episode 6|Iteration 10|reward:   18.0|last_reward_at:    2|Elapsed Time: 0:00:00||\n",
      "Episode 6|Iteration 13|reward:   18.0|last_reward_at:    2|Elapsed Time: 0:00:00||\n",
      "Episode 6|Iteration 14|reward:   19.0|last_reward_at:    2|Elapsed Time: 0:00:00||\n",
      "Episode 6|Iteration 14|reward:   19.0|last_reward_at:   14|Elapsed Time: 0:00:00||\n",
      "Episode 6|Iteration 16|reward:   28.0|last_reward_at:   14|Elapsed Time: 0:00:00||\n",
      "Episode 6|Iteration 16|reward:   28.0|last_reward_at:   16|Elapsed Time: 0:00:00||\n",
      "Episode 6|Iteration 17|reward:   33.0|last_reward_at:   16|Elapsed Time: 0:00:00||\n",
      "Episode 6|Iteration 17|reward:   33.0|last_reward_at:   17|Elapsed Time: 0:00:00||\n",
      "Episode 6|Iteration 18|reward:  133.0|last_reward_at:   17|Elapsed Time: 0:00:00||\n",
      "Episode 6|Iteration 18|reward:  133.0|last_reward_at:   18|Elapsed Time: 0:00:00||\n",
      "Episode 6|Iteration 22|reward:  134.0|last_reward_at:   18|Elapsed Time: 0:00:00||\n",
      "Episode 6|Iteration 22|reward:  134.0|last_reward_at:   22|Elapsed Time: 0:00:00||\n",
      "Episode 6|Iteration 26|reward:  134.0|last_reward_at:   22|Elapsed Time: 0:00:00||\n",
      "Episode 6|Iteration 27|reward:  392.0|last_reward_at:   22|Elapsed Time: 0:00:00||\n",
      "Episode 6|Iteration 27|reward:  392.0|last_reward_at:   27|Elapsed Time: 0:00:00||\n",
      "Episode 6|Iteration 31|reward:  392.0|last_reward_at:   27|Elapsed Time: 0:00:00||\n",
      "Episode 6|Iteration 33|reward:  398.0|last_reward_at:   27|Elapsed Time: 0:00:00||\n",
      "Episode 6|Iteration 33|reward:  398.0|last_reward_at:   33|Elapsed Time: 0:00:00||\n",
      "Episode 6|Iteration 37|reward:  398.0|last_reward_at:   33|Elapsed Time: 0:00:00||\n",
      "Episode 6|Iteration 37|reward:  399.0|last_reward_at:   33|Elapsed Time: 0:00:00||\n",
      "Episode 6|Iteration 37|reward:  399.0|last_reward_at:   37|Elapsed Time: 0:00:00||\n",
      "Episode 6|Iteration 41|reward:  399.0|last_reward_at:   37|Elapsed Time: 0:00:00||\n",
      "Episode 6|Iteration 44|reward:  399.0|last_reward_at:   37|Elapsed Time: 0:00:00||\n",
      "Episode 6|Iteration 48|reward:  399.0|last_reward_at:   37|Elapsed Time: 0:00:00||\n",
      "Episode 6|Iteration 50|reward:  399.0|last_reward_at:   37|Elapsed Time: 0:00:00||\n"
     ]
    },
    {
     "name": "stdout",
     "output_type": "stream",
     "text": [
      "  Episode 6 stopped at t=50 \n",
      "  Breakdown [Reward/NoReward (Success rate)]\n",
      "    explore-local: 2/6 (0.25)\n",
      "    explore-remote: 0/18 (0.00)\n",
      "    explore-connect: 0/15 (0.00)\n",
      "    exploit-local: 2/0 (1.00)\n",
      "    exploit-remote: 0/0 (NaN)\n",
      "    exploit-connect: 5/2 (0.71)\n",
      "  exploit deflected to exploration: 0\n",
      "  ## Episode: 7/20 'DQL' ϵ=0.8952, γ=0.015, lr=0.01, replaymemory=10000,\n",
      "batch=512, target_update=5\n"
     ]
    },
    {
     "name": "stderr",
     "output_type": "stream",
     "text": [
      "Episode 7|Iteration 0|reward: ------|last_reward_at: ----|Elapsed Time: 0:00:00||\n",
      "Episode 7|Iteration 1|reward:    0.0|last_reward_at: ----|Elapsed Time: 0:00:00||\n",
      "Episode 7|Iteration 2|reward:    6.0|last_reward_at: ----|Elapsed Time: 0:00:00||\n",
      "Episode 7|Iteration 2|reward:    6.0|last_reward_at:    2|Elapsed Time: 0:00:00||\n",
      "Episode 7|Iteration 3|reward:   12.0|last_reward_at:    2|Elapsed Time: 0:00:00||\n",
      "Episode 7|Iteration 3|reward:   12.0|last_reward_at:    3|Elapsed Time: 0:00:00||\n",
      "Episode 7|Iteration 8|reward:   12.0|last_reward_at:    3|Elapsed Time: 0:00:00||\n",
      "Episode 7|Iteration 12|reward:   12.0|last_reward_at:    3|Elapsed Time: 0:00:00||\n",
      "Episode 7|Iteration 14|reward:   30.0|last_reward_at:    3|Elapsed Time: 0:00:00||\n",
      "Episode 7|Iteration 14|reward:   30.0|last_reward_at:   14|Elapsed Time: 0:00:00||\n",
      "Episode 7|Iteration 16|reward:   36.0|last_reward_at:   14|Elapsed Time: 0:00:00||\n",
      "Episode 7|Iteration 16|reward:   36.0|last_reward_at:   16|Elapsed Time: 0:00:00||\n",
      "Episode 7|Iteration 21|reward:   36.0|last_reward_at:   16|Elapsed Time: 0:00:00||\n",
      "Episode 7|Iteration 25|reward:   36.0|last_reward_at:   16|Elapsed Time: 0:00:00||\n",
      "Episode 7|Iteration 27|reward:   37.0|last_reward_at:   16|Elapsed Time: 0:00:00||\n",
      "Episode 7|Iteration 27|reward:   37.0|last_reward_at:   27|Elapsed Time: 0:00:00||\n",
      "Episode 7|Iteration 32|reward:   37.0|last_reward_at:   27|Elapsed Time: 0:00:00||\n",
      "Episode 7|Iteration 35|reward:   43.0|last_reward_at:   27|Elapsed Time: 0:00:00||\n",
      "Episode 7|Iteration 35|reward:   43.0|last_reward_at:   35|Elapsed Time: 0:00:00||\n",
      "Episode 7|Iteration 37|reward:   49.0|last_reward_at:   35|Elapsed Time: 0:00:00||\n",
      "Episode 7|Iteration 37|reward:   49.0|last_reward_at:   37|Elapsed Time: 0:00:00||\n",
      "Episode 7|Iteration 41|reward:   58.0|last_reward_at:   37|Elapsed Time: 0:00:00||\n",
      "Episode 7|Iteration 41|reward:   58.0|last_reward_at:   41|Elapsed Time: 0:00:00||\n",
      "Episode 7|Iteration 42|reward:   63.0|last_reward_at:   41|Elapsed Time: 0:00:00||\n",
      "Episode 7|Iteration 42|reward:   63.0|last_reward_at:   42|Elapsed Time: 0:00:00||\n",
      "Episode 7|Iteration 44|reward:   64.0|last_reward_at:   42|Elapsed Time: 0:00:00||\n",
      "Episode 7|Iteration 44|reward:   64.0|last_reward_at:   44|Elapsed Time: 0:00:00||\n",
      "Episode 7|Iteration 45|reward:  164.0|last_reward_at:   44|Elapsed Time: 0:00:00||\n",
      "Episode 7|Iteration 45|reward:  164.0|last_reward_at:   45|Elapsed Time: 0:00:00||\n",
      "Episode 7|Iteration 46|reward:  422.0|last_reward_at:   45|Elapsed Time: 0:00:00||\n",
      "Episode 7|Iteration 46|reward:  422.0|last_reward_at:   46|Elapsed Time: 0:00:00||\n",
      "Episode 7|Iteration 50|reward:  422.0|last_reward_at:   46|Elapsed Time: 0:00:00||\n",
      "Episode 7|Iteration 50|reward:  422.0|last_reward_at:   46|Elapsed Time: 0:00:00||\n"
     ]
    },
    {
     "name": "stdout",
     "output_type": "stream",
     "text": [
      "  Episode 7 stopped at t=50 \n",
      "  Breakdown [Reward/NoReward (Success rate)]\n",
      "    explore-local: 6/6 (0.50)\n",
      "    explore-remote: 0/24 (0.00)\n",
      "    explore-connect: 0/7 (0.00)\n",
      "    exploit-local: 2/0 (1.00)\n",
      "    exploit-remote: 0/0 (NaN)\n",
      "    exploit-connect: 4/1 (0.80)\n",
      "  exploit deflected to exploration: 0\n",
      "  ## Episode: 8/20 'DQL' ϵ=0.8944, γ=0.015, lr=0.01, replaymemory=10000,\n",
      "batch=512, target_update=5\n"
     ]
    },
    {
     "name": "stderr",
     "output_type": "stream",
     "text": [
      "Episode 8|Iteration 0|reward: ------|last_reward_at: ----|Elapsed Time: 0:00:00||\n",
      "Episode 8|Iteration 1|reward:    0.0|last_reward_at: ----|Elapsed Time: 0:00:00||\n",
      "Episode 8|Iteration 2|reward:    6.0|last_reward_at: ----|Elapsed Time: 0:00:00||\n",
      "Episode 8|Iteration 2|reward:    6.0|last_reward_at:    2|Elapsed Time: 0:00:00||\n",
      "Episode 8|Iteration 6|reward:    6.0|last_reward_at:    2|Elapsed Time: 0:00:00||\n",
      "Episode 8|Iteration 6|reward:   12.0|last_reward_at:    2|Elapsed Time: 0:00:00||\n",
      "Episode 8|Iteration 6|reward:   12.0|last_reward_at:    6|Elapsed Time: 0:00:00||\n",
      "Episode 8|Iteration 8|reward:   30.0|last_reward_at:    6|Elapsed Time: 0:00:00||\n",
      "Episode 8|Iteration 8|reward:   30.0|last_reward_at:    8|Elapsed Time: 0:00:00||\n",
      "Episode 8|Iteration 12|reward:   36.0|last_reward_at:    8|Elapsed Time: 0:00:00||\n",
      "Episode 8|Iteration 12|reward:   36.0|last_reward_at:   12|Elapsed Time: 0:00:00||\n",
      "Episode 8|Iteration 13|reward:   37.0|last_reward_at:   12|Elapsed Time: 0:00:00||\n",
      "Episode 8|Iteration 13|reward:   37.0|last_reward_at:   13|Elapsed Time: 0:00:00||\n",
      "Episode 8|Iteration 17|reward:   38.0|last_reward_at:   13|Elapsed Time: 0:00:00||\n",
      "Episode 8|Iteration 17|reward:   38.0|last_reward_at:   17|Elapsed Time: 0:00:00||\n",
      "Episode 8|Iteration 18|reward:   43.0|last_reward_at:   17|Elapsed Time: 0:00:00||\n",
      "Episode 8|Iteration 18|reward:   43.0|last_reward_at:   18|Elapsed Time: 0:00:00||\n",
      "Episode 8|Iteration 23|reward:   43.0|last_reward_at:   18|Elapsed Time: 0:00:00||\n",
      "Episode 8|Iteration 26|reward:   52.0|last_reward_at:   18|Elapsed Time: 0:00:00||\n",
      "Episode 8|Iteration 26|reward:   52.0|last_reward_at:   26|Elapsed Time: 0:00:00||\n",
      "Episode 8|Iteration 28|reward:   58.0|last_reward_at:   26|Elapsed Time: 0:00:00||\n",
      "Episode 8|Iteration 28|reward:   58.0|last_reward_at:   28|Elapsed Time: 0:00:00||\n",
      "Episode 8|Iteration 33|reward:   58.0|last_reward_at:   28|Elapsed Time: 0:00:00||\n",
      "Episode 8|Iteration 34|reward:  158.0|last_reward_at:   28|Elapsed Time: 0:00:00||\n",
      "Episode 8|Iteration 34|reward:  158.0|last_reward_at:   34|Elapsed Time: 0:00:00||\n",
      "Episode 8|Iteration 36|reward:  164.0|last_reward_at:   34|Elapsed Time: 0:00:00||\n",
      "Episode 8|Iteration 36|reward:  164.0|last_reward_at:   36|Elapsed Time: 0:00:00||\n",
      "Episode 8|Iteration 40|reward:  164.0|last_reward_at:   36|Elapsed Time: 0:00:00||\n",
      "Episode 8|Iteration 40|reward:  170.0|last_reward_at:   36|Elapsed Time: 0:00:00||\n",
      "Episode 8|Iteration 40|reward:  170.0|last_reward_at:   40|Elapsed Time: 0:00:00||\n",
      "Episode 8|Iteration 43|reward:  176.0|last_reward_at:   40|Elapsed Time: 0:00:00||\n",
      "Episode 8|Iteration 43|reward:  176.0|last_reward_at:   43|Elapsed Time: 0:00:00||\n",
      "Episode 8|Iteration 45|reward:  434.0|last_reward_at:   43|Elapsed Time: 0:00:00||\n",
      "Episode 8|Iteration 45|reward:  434.0|last_reward_at:   45|Elapsed Time: 0:00:00||\n",
      "Episode 8|Iteration 49|reward:  434.0|last_reward_at:   45|Elapsed Time: 0:00:00||\n",
      "Episode 8|Iteration 50|reward:  434.0|last_reward_at:   45|Elapsed Time: 0:00:00||\n"
     ]
    },
    {
     "name": "stdout",
     "output_type": "stream",
     "text": [
      "  Episode 8 stopped at t=50 \n",
      "  Breakdown [Reward/NoReward (Success rate)]\n",
      "    explore-local: 8/7 (0.53)\n",
      "    explore-remote: 0/18 (0.00)\n",
      "    explore-connect: 1/11 (0.08)\n",
      "    exploit-local: 2/0 (1.00)\n",
      "    exploit-remote: 0/0 (NaN)\n",
      "    exploit-connect: 3/0 (1.00)\n",
      "  exploit deflected to exploration: 0\n",
      "  ## Episode: 9/20 'DQL' ϵ=0.8936, γ=0.015, lr=0.01, replaymemory=10000,\n",
      "batch=512, target_update=5\n"
     ]
    },
    {
     "name": "stderr",
     "output_type": "stream",
     "text": [
      "Episode 9|Iteration 0|reward: ------|last_reward_at: ----|Elapsed Time: 0:00:00||\n",
      "Episode 9|Iteration 1|reward:    0.0|last_reward_at: ----|Elapsed Time: 0:00:00||\n",
      "Episode 9|Iteration 2|reward:   18.0|last_reward_at: ----|Elapsed Time: 0:00:00||\n",
      "Episode 9|Iteration 2|reward:   18.0|last_reward_at:    2|Elapsed Time: 0:00:00||\n",
      "Episode 9|Iteration 5|reward:   24.0|last_reward_at:    2|Elapsed Time: 0:00:00||\n",
      "Episode 9|Iteration 5|reward:   24.0|last_reward_at:    5|Elapsed Time: 0:00:00||\n",
      "Episode 9|Iteration 6|reward:   25.0|last_reward_at:    5|Elapsed Time: 0:00:00||\n",
      "Episode 9|Iteration 6|reward:   25.0|last_reward_at:    6|Elapsed Time: 0:00:00||\n",
      "Episode 9|Iteration 11|reward:   25.0|last_reward_at:    6|Elapsed Time: 0:00:00||\n",
      "Episode 9|Iteration 15|reward:   25.0|last_reward_at:    6|Elapsed Time: 0:00:00||\n",
      "Episode 9|Iteration 19|reward:   25.0|last_reward_at:    6|Elapsed Time: 0:00:00||\n",
      "Episode 9|Iteration 20|reward:   31.0|last_reward_at:    6|Elapsed Time: 0:00:00||\n",
      "Episode 9|Iteration 20|reward:   31.0|last_reward_at:   20|Elapsed Time: 0:00:00||\n",
      "Episode 9|Iteration 21|reward:   37.0|last_reward_at:   20|Elapsed Time: 0:00:00||\n",
      "Episode 9|Iteration 21|reward:   37.0|last_reward_at:   21|Elapsed Time: 0:00:00||\n",
      "Episode 9|Iteration 25|reward:   37.0|last_reward_at:   21|Elapsed Time: 0:00:00||\n",
      "Episode 9|Iteration 29|reward:   37.0|last_reward_at:   21|Elapsed Time: 0:00:00||\n",
      "Episode 9|Iteration 33|reward:   37.0|last_reward_at:   21|Elapsed Time: 0:00:00||\n",
      "Episode 9|Iteration 37|reward:   37.0|last_reward_at:   21|Elapsed Time: 0:00:00||\n",
      "Episode 9|Iteration 38|reward:   42.0|last_reward_at:   21|Elapsed Time: 0:00:00||\n",
      "Episode 9|Iteration 38|reward:   42.0|last_reward_at:   38|Elapsed Time: 0:00:00||\n",
      "Episode 9|Iteration 41|reward:   43.0|last_reward_at:   38|Elapsed Time: 0:00:00||\n",
      "Episode 9|Iteration 41|reward:   43.0|last_reward_at:   41|Elapsed Time: 0:00:00||\n",
      "Episode 9|Iteration 43|reward:   49.0|last_reward_at:   41|Elapsed Time: 0:00:00||\n",
      "Episode 9|Iteration 43|reward:   49.0|last_reward_at:   43|Elapsed Time: 0:00:00||\n",
      "Episode 9|Iteration 45|reward:   55.0|last_reward_at:   43|Elapsed Time: 0:00:00||\n",
      "Episode 9|Iteration 45|reward:   55.0|last_reward_at:   45|Elapsed Time: 0:00:00||\n",
      "Episode 9|Iteration 47|reward:   61.0|last_reward_at:   45|Elapsed Time: 0:00:00||\n",
      "Episode 9|Iteration 47|reward:   61.0|last_reward_at:   47|Elapsed Time: 0:00:00||\n",
      "Episode 9|Iteration 50|reward:   61.0|last_reward_at:   47|Elapsed Time: 0:00:00||\n"
     ]
    },
    {
     "name": "stdout",
     "output_type": "stream",
     "text": [
      "  Episode 9 stopped at t=50 \n",
      "  Breakdown [Reward/NoReward (Success rate)]\n",
      "    explore-local: 5/8 (0.38)\n",
      "    explore-remote: 0/16 (0.00)\n",
      "    explore-connect: 1/16 (0.06)\n",
      "    exploit-local: 2/0 (1.00)\n",
      "    exploit-remote: 0/0 (NaN)\n",
      "    exploit-connect: 2/0 (1.00)\n",
      "  exploit deflected to exploration: 0\n",
      "  ## Episode: 10/20 'DQL' ϵ=0.8928, γ=0.015, lr=0.01, replaymemory=10000,\n",
      "batch=512, target_update=5\n"
     ]
    },
    {
     "name": "stderr",
     "output_type": "stream",
     "text": [
      "Episode 10|Iteration 0|reward: ------|last_reward_at: ----|Elapsed Time: 0:00:00||\n",
      "Episode 10|Iteration 1|reward:   18.0|last_reward_at: ----|Elapsed Time: 0:00:00||\n",
      "Episode 10|Iteration 1|reward:   18.0|last_reward_at:    1|Elapsed Time: 0:00:00||\n",
      "Episode 10|Iteration 4|reward:   19.0|last_reward_at:    1|Elapsed Time: 0:00:00||\n",
      "Episode 10|Iteration 4|reward:   19.0|last_reward_at:    4|Elapsed Time: 0:00:00||\n",
      "Episode 10|Iteration 6|reward:   20.0|last_reward_at:    4|Elapsed Time: 0:00:00||\n",
      "Episode 10|Iteration 6|reward:   20.0|last_reward_at:    6|Elapsed Time: 0:00:00||\n",
      "Episode 10|Iteration 8|reward:   26.0|last_reward_at:    6|Elapsed Time: 0:00:00||\n",
      "Episode 10|Iteration 8|reward:   26.0|last_reward_at:    8|Elapsed Time: 0:00:00||\n",
      "Episode 10|Iteration 12|reward:   26.0|last_reward_at:    8|Elapsed Time: 0:00:00||\n",
      "Episode 10|Iteration 14|reward:   31.0|last_reward_at:    8|Elapsed Time: 0:00:00||\n",
      "Episode 10|Iteration 14|reward:   31.0|last_reward_at:   14|Elapsed Time: 0:00:00||\n",
      "Episode 10|Iteration 18|reward:   31.0|last_reward_at:   14|Elapsed Time: 0:00:00||\n",
      "Episode 10|Iteration 18|reward:   37.0|last_reward_at:   14|Elapsed Time: 0:00:00||\n",
      "Episode 10|Iteration 18|reward:   37.0|last_reward_at:   18|Elapsed Time: 0:00:00||\n",
      "Episode 10|Iteration 20|reward:   43.0|last_reward_at:   18|Elapsed Time: 0:00:00||\n",
      "Episode 10|Iteration 20|reward:   43.0|last_reward_at:   20|Elapsed Time: 0:00:00||\n",
      "Episode 10|Iteration 21|reward:   49.0|last_reward_at:   20|Elapsed Time: 0:00:00||\n",
      "Episode 10|Iteration 21|reward:   49.0|last_reward_at:   21|Elapsed Time: 0:00:00||\n",
      "Episode 10|Iteration 25|reward:   49.0|last_reward_at:   21|Elapsed Time: 0:00:00||\n",
      "Episode 10|Iteration 25|reward:   55.0|last_reward_at:   21|Elapsed Time: 0:00:00||\n",
      "Episode 10|Iteration 25|reward:   55.0|last_reward_at:   25|Elapsed Time: 0:00:00||\n",
      "Episode 10|Iteration 27|reward:   61.0|last_reward_at:   25|Elapsed Time: 0:00:00||\n",
      "Episode 10|Iteration 27|reward:   61.0|last_reward_at:   27|Elapsed Time: 0:00:00||\n",
      "Episode 10|Iteration 31|reward:   61.0|last_reward_at:   27|Elapsed Time: 0:00:00||\n",
      "Episode 10|Iteration 34|reward:   61.0|last_reward_at:   27|Elapsed Time: 0:00:00||\n",
      "Episode 10|Iteration 38|reward:   61.0|last_reward_at:   27|Elapsed Time: 0:00:00||\n",
      "Episode 10|Iteration 38|reward:   67.0|last_reward_at:   27|Elapsed Time: 0:00:00||\n",
      "Episode 10|Iteration 38|reward:   67.0|last_reward_at:   38|Elapsed Time: 0:00:00||\n",
      "Episode 10|Iteration 43|reward:   67.0|last_reward_at:   38|Elapsed Time: 0:00:00||\n",
      "Episode 10|Iteration 47|reward:   67.0|last_reward_at:   38|Elapsed Time: 0:00:00||\n",
      "Episode 10|Iteration 47|reward:   73.0|last_reward_at:   38|Elapsed Time: 0:00:00||\n",
      "Episode 10|Iteration 47|reward:   73.0|last_reward_at:   47|Elapsed Time: 0:00:00||\n",
      "Episode 10|Iteration 50|reward:   73.0|last_reward_at:   47|Elapsed Time: 0:00:00||\n"
     ]
    },
    {
     "name": "stdout",
     "output_type": "stream",
     "text": [
      "  Episode 10 stopped at t=50 \n",
      "  Breakdown [Reward/NoReward (Success rate)]\n",
      "    explore-local: 5/1 (0.83)\n",
      "    explore-remote: 0/20 (0.00)\n",
      "    explore-connect: 1/16 (0.06)\n",
      "    exploit-local: 4/1 (0.80)\n",
      "    exploit-remote: 0/0 (NaN)\n",
      "    exploit-connect: 2/0 (1.00)\n",
      "  exploit deflected to exploration: 0\n",
      "  ## Episode: 11/20 'DQL' ϵ=0.8921, γ=0.015, lr=0.01, replaymemory=10000,\n",
      "batch=512, target_update=5\n"
     ]
    },
    {
     "name": "stderr",
     "output_type": "stream",
     "text": [
      "Episode 11|Iteration 0|reward: ------|last_reward_at: ----|Elapsed Time: 0:00:00||\n",
      "Episode 11|Iteration 1|reward:    6.0|last_reward_at: ----|Elapsed Time: 0:00:00||\n",
      "Episode 11|Iteration 1|reward:    6.0|last_reward_at:    1|Elapsed Time: 0:00:00||\n",
      "Episode 11|Iteration 5|reward:   12.0|last_reward_at:    1|Elapsed Time: 0:00:00||\n",
      "Episode 11|Iteration 5|reward:   12.0|last_reward_at:    5|Elapsed Time: 0:00:00||\n",
      "Episode 11|Iteration 6|reward:   18.0|last_reward_at:    5|Elapsed Time: 0:00:00||\n",
      "Episode 11|Iteration 6|reward:   18.0|last_reward_at:    6|Elapsed Time: 0:00:00||\n",
      "Episode 11|Iteration 10|reward:   18.0|last_reward_at:    6|Elapsed Time: 0:00:00||\n",
      "Episode 11|Iteration 14|reward:   18.0|last_reward_at:    6|Elapsed Time: 0:00:00||\n",
      "Episode 11|Iteration 16|reward:   36.0|last_reward_at:    6|Elapsed Time: 0:00:00||\n",
      "Episode 11|Iteration 16|reward:   36.0|last_reward_at:   16|Elapsed Time: 0:00:00||\n",
      "Episode 11|Iteration 17|reward:   37.0|last_reward_at:   16|Elapsed Time: 0:00:00||\n",
      "Episode 11|Iteration 17|reward:   37.0|last_reward_at:   17|Elapsed Time: 0:00:00||\n",
      "Episode 11|Iteration 22|reward:   37.0|last_reward_at:   17|Elapsed Time: 0:00:00||\n",
      "Episode 11|Iteration 26|reward:   37.0|last_reward_at:   17|Elapsed Time: 0:00:00||\n",
      "Episode 11|Iteration 27|reward:   42.0|last_reward_at:   17|Elapsed Time: 0:00:00||\n",
      "Episode 11|Iteration 27|reward:   42.0|last_reward_at:   27|Elapsed Time: 0:00:00||\n",
      "Episode 11|Iteration 32|reward:   42.0|last_reward_at:   27|Elapsed Time: 0:00:00||\n",
      "Episode 11|Iteration 32|reward:   43.0|last_reward_at:   27|Elapsed Time: 0:00:00||\n",
      "Episode 11|Iteration 32|reward:   43.0|last_reward_at:   32|Elapsed Time: 0:00:00||\n",
      "Episode 11|Iteration 35|reward:   49.0|last_reward_at:   32|Elapsed Time: 0:00:00||\n",
      "Episode 11|Iteration 35|reward:   49.0|last_reward_at:   35|Elapsed Time: 0:00:00||\n",
      "Episode 11|Iteration 39|reward:   58.0|last_reward_at:   35|Elapsed Time: 0:00:00||\n",
      "Episode 11|Iteration 39|reward:   58.0|last_reward_at:   39|Elapsed Time: 0:00:00||\n",
      "Episode 11|Iteration 43|reward:   58.0|last_reward_at:   39|Elapsed Time: 0:00:00||\n",
      "Episode 11|Iteration 44|reward:  158.0|last_reward_at:   39|Elapsed Time: 0:00:00||\n",
      "Episode 11|Iteration 44|reward:  158.0|last_reward_at:   44|Elapsed Time: 0:00:00||\n",
      "Episode 11|Iteration 46|reward:  416.0|last_reward_at:   44|Elapsed Time: 0:00:00||\n",
      "Episode 11|Iteration 46|reward:  416.0|last_reward_at:   46|Elapsed Time: 0:00:00||\n",
      "Episode 11|Iteration 50|reward:  416.0|last_reward_at:   46|Elapsed Time: 0:00:00||\n",
      "Episode 11|Iteration 50|reward:  422.0|last_reward_at:   46|Elapsed Time: 0:00:00||\n",
      "Episode 11|Iteration 50|reward:  422.0|last_reward_at:   50|Elapsed Time: 0:00:00||\n",
      "Episode 11|Iteration 50|reward:  422.0|last_reward_at:   50|Elapsed Time: 0:00:00||\n"
     ]
    },
    {
     "name": "stdout",
     "output_type": "stream",
     "text": [
      "  Episode 11 stopped at t=50 \n",
      "  Breakdown [Reward/NoReward (Success rate)]\n",
      "    explore-local: 5/8 (0.38)\n",
      "    explore-remote: 0/17 (0.00)\n",
      "    explore-connect: 0/13 (0.00)\n",
      "    exploit-local: 3/0 (1.00)\n",
      "    exploit-remote: 0/0 (NaN)\n",
      "    exploit-connect: 4/0 (1.00)\n",
      "  exploit deflected to exploration: 0\n",
      "  ## Episode: 12/20 'DQL' ϵ=0.8913, γ=0.015, lr=0.01, replaymemory=10000,\n",
      "batch=512, target_update=5\n"
     ]
    },
    {
     "name": "stderr",
     "output_type": "stream",
     "text": [
      "Episode 12|Iteration 0|reward: ------|last_reward_at: ----|Elapsed Time: 0:00:00||\n",
      "Episode 12|Iteration 1|reward:   18.0|last_reward_at: ----|Elapsed Time: 0:00:00||\n",
      "Episode 12|Iteration 1|reward:   18.0|last_reward_at:    1|Elapsed Time: 0:00:00||\n",
      "Episode 12|Iteration 2|reward:   24.0|last_reward_at:    1|Elapsed Time: 0:00:00||\n",
      "Episode 12|Iteration 2|reward:   24.0|last_reward_at:    2|Elapsed Time: 0:00:00||\n",
      "Episode 12|Iteration 5|reward:   30.0|last_reward_at:    2|Elapsed Time: 0:00:00||\n",
      "Episode 12|Iteration 5|reward:   30.0|last_reward_at:    5|Elapsed Time: 0:00:00||\n",
      "Episode 12|Iteration 7|reward:   31.0|last_reward_at:    5|Elapsed Time: 0:00:00||\n",
      "Episode 12|Iteration 7|reward:   31.0|last_reward_at:    7|Elapsed Time: 0:00:00||\n",
      "Episode 12|Iteration 12|reward:   31.0|last_reward_at:    7|Elapsed Time: 0:00:00||\n",
      "Episode 12|Iteration 12|reward:   37.0|last_reward_at:    7|Elapsed Time: 0:00:00||\n",
      "Episode 12|Iteration 12|reward:   37.0|last_reward_at:   12|Elapsed Time: 0:00:00||\n",
      "Episode 12|Iteration 17|reward:   37.0|last_reward_at:   12|Elapsed Time: 0:00:00||\n",
      "Episode 12|Iteration 21|reward:   37.0|last_reward_at:   12|Elapsed Time: 0:00:00||\n",
      "Episode 12|Iteration 21|reward:   43.0|last_reward_at:   12|Elapsed Time: 0:00:00||\n",
      "Episode 12|Iteration 21|reward:   43.0|last_reward_at:   21|Elapsed Time: 0:00:00||\n",
      "Episode 12|Iteration 22|reward:   49.0|last_reward_at:   21|Elapsed Time: 0:00:00||\n",
      "Episode 12|Iteration 22|reward:   49.0|last_reward_at:   22|Elapsed Time: 0:00:00||\n",
      "Episode 12|Iteration 23|reward:   58.0|last_reward_at:   22|Elapsed Time: 0:00:00||\n",
      "Episode 12|Iteration 23|reward:   58.0|last_reward_at:   23|Elapsed Time: 0:00:00||\n",
      "Episode 12|Iteration 27|reward:   63.0|last_reward_at:   23|Elapsed Time: 0:00:00||\n",
      "Episode 12|Iteration 27|reward:   63.0|last_reward_at:   27|Elapsed Time: 0:00:00||\n",
      "Episode 12|Iteration 28|reward:   64.0|last_reward_at:   27|Elapsed Time: 0:00:00||\n",
      "Episode 12|Iteration 28|reward:   64.0|last_reward_at:   28|Elapsed Time: 0:00:00||\n",
      "Episode 12|Iteration 33|reward:   64.0|last_reward_at:   28|Elapsed Time: 0:00:00||\n",
      "Episode 12|Iteration 33|reward:  164.0|last_reward_at:   28|Elapsed Time: 0:00:00||\n",
      "Episode 12|Iteration 33|reward:  164.0|last_reward_at:   33|Elapsed Time: 0:00:00||\n",
      "Episode 12|Iteration 34|reward:  170.0|last_reward_at:   33|Elapsed Time: 0:00:00||\n",
      "Episode 12|Iteration 34|reward:  170.0|last_reward_at:   34|Elapsed Time: 0:00:00||\n",
      "Episode 12|Iteration 38|reward:  170.0|last_reward_at:   34|Elapsed Time: 0:00:00||\n",
      "Episode 12|Iteration 41|reward:  170.0|last_reward_at:   34|Elapsed Time: 0:00:00||\n",
      "Episode 12|Iteration 41|reward:  428.0|last_reward_at:   34|Elapsed Time: 0:00:00||\n",
      "Episode 12|Iteration 41|reward:  428.0|last_reward_at:   41|Elapsed Time: 0:00:00||\n",
      "Episode 12|Iteration 45|reward:  428.0|last_reward_at:   41|Elapsed Time: 0:00:00||\n",
      "Episode 12|Iteration 45|reward:  429.0|last_reward_at:   41|Elapsed Time: 0:00:00||\n",
      "Episode 12|Iteration 45|reward:  429.0|last_reward_at:   45|Elapsed Time: 0:00:00||\n",
      "Episode 12|Iteration 49|reward:  429.0|last_reward_at:   45|Elapsed Time: 0:00:00||\n",
      "Episode 12|Iteration 50|reward:  429.0|last_reward_at:   45|Elapsed Time: 0:00:00||\n"
     ]
    },
    {
     "name": "stdout",
     "output_type": "stream",
     "text": [
      "  Episode 12 stopped at t=50 \n",
      "  Breakdown [Reward/NoReward (Success rate)]\n",
      "    explore-local: 7/9 (0.44)\n",
      "    explore-remote: 0/19 (0.00)\n",
      "    explore-connect: 1/8 (0.11)\n",
      "    exploit-local: 2/0 (1.00)\n",
      "    exploit-remote: 0/0 (NaN)\n",
      "    exploit-connect: 4/0 (1.00)\n",
      "  exploit deflected to exploration: 0\n",
      "  ## Episode: 13/20 'DQL' ϵ=0.8905, γ=0.015, lr=0.01, replaymemory=10000,\n",
      "batch=512, target_update=5\n"
     ]
    },
    {
     "name": "stderr",
     "output_type": "stream",
     "text": [
      "Episode 13|Iteration 0|reward: ------|last_reward_at: ----|Elapsed Time: 0:00:00||\n",
      "Episode 13|Iteration 1|reward:    0.0|last_reward_at: ----|Elapsed Time: 0:00:00||\n",
      "Episode 13|Iteration 2|reward:   18.0|last_reward_at: ----|Elapsed Time: 0:00:00||\n",
      "Episode 13|Iteration 2|reward:   18.0|last_reward_at:    2|Elapsed Time: 0:00:00||\n",
      "Episode 13|Iteration 5|reward:   24.0|last_reward_at:    2|Elapsed Time: 0:00:00||\n",
      "Episode 13|Iteration 5|reward:   24.0|last_reward_at:    5|Elapsed Time: 0:00:00||\n",
      "Episode 13|Iteration 10|reward:   24.0|last_reward_at:    5|Elapsed Time: 0:00:00||\n",
      "Episode 13|Iteration 11|reward:   25.0|last_reward_at:    5|Elapsed Time: 0:00:00||\n",
      "Episode 13|Iteration 11|reward:   25.0|last_reward_at:   11|Elapsed Time: 0:00:00||\n",
      "Episode 13|Iteration 13|reward:   31.0|last_reward_at:   11|Elapsed Time: 0:00:00||\n",
      "Episode 13|Iteration 13|reward:   31.0|last_reward_at:   13|Elapsed Time: 0:00:00||\n",
      "Episode 13|Iteration 17|reward:   31.0|last_reward_at:   13|Elapsed Time: 0:00:00||\n",
      "Episode 13|Iteration 18|reward:   37.0|last_reward_at:   13|Elapsed Time: 0:00:00||\n",
      "Episode 13|Iteration 18|reward:   37.0|last_reward_at:   18|Elapsed Time: 0:00:00||\n",
      "Episode 13|Iteration 22|reward:   37.0|last_reward_at:   18|Elapsed Time: 0:00:00||\n",
      "Episode 13|Iteration 23|reward:   42.0|last_reward_at:   18|Elapsed Time: 0:00:00||\n",
      "Episode 13|Iteration 23|reward:   42.0|last_reward_at:   23|Elapsed Time: 0:00:00||\n",
      "Episode 13|Iteration 26|reward:   51.0|last_reward_at:   23|Elapsed Time: 0:00:00||\n",
      "Episode 13|Iteration 26|reward:   51.0|last_reward_at:   26|Elapsed Time: 0:00:00||\n",
      "Episode 13|Iteration 30|reward:   51.0|last_reward_at:   26|Elapsed Time: 0:00:00||\n",
      "Episode 13|Iteration 31|reward:  151.0|last_reward_at:   26|Elapsed Time: 0:00:00||\n",
      "Episode 13|Iteration 31|reward:  151.0|last_reward_at:   31|Elapsed Time: 0:00:00||\n",
      "Episode 13|Iteration 32|reward:  157.0|last_reward_at:   31|Elapsed Time: 0:00:00||\n",
      "Episode 13|Iteration 32|reward:  157.0|last_reward_at:   32|Elapsed Time: 0:00:00||\n",
      "Episode 13|Iteration 33|reward:  163.0|last_reward_at:   32|Elapsed Time: 0:00:00||\n",
      "Episode 13|Iteration 33|reward:  163.0|last_reward_at:   33|Elapsed Time: 0:00:00||\n",
      "Episode 13|Iteration 37|reward:  164.0|last_reward_at:   33|Elapsed Time: 0:00:00||\n",
      "Episode 13|Iteration 37|reward:  164.0|last_reward_at:   37|Elapsed Time: 0:00:00||\n",
      "Episode 13|Iteration 41|reward:  164.0|last_reward_at:   37|Elapsed Time: 0:00:00||\n",
      "Episode 13|Iteration 41|reward:  170.0|last_reward_at:   37|Elapsed Time: 0:00:00||\n",
      "Episode 13|Iteration 41|reward:  170.0|last_reward_at:   41|Elapsed Time: 0:00:00||\n",
      "Episode 13|Iteration 45|reward:  170.0|last_reward_at:   41|Elapsed Time: 0:00:00||\n",
      "Episode 13|Iteration 45|reward:  176.0|last_reward_at:   41|Elapsed Time: 0:00:00||\n",
      "Episode 13|Iteration 45|reward:  176.0|last_reward_at:   45|Elapsed Time: 0:00:00||\n",
      "Episode 13|Iteration 47|reward:  182.0|last_reward_at:   45|Elapsed Time: 0:00:00||\n",
      "Episode 13|Iteration 47|reward:  182.0|last_reward_at:   47|Elapsed Time: 0:00:00||\n",
      "Episode 13|Iteration 50|reward:  182.0|last_reward_at:   47|Elapsed Time: 0:00:00||\n"
     ]
    },
    {
     "name": "stdout",
     "output_type": "stream",
     "text": [
      "  Episode 13 stopped at t=50 \n",
      "  Breakdown [Reward/NoReward (Success rate)]\n",
      "    explore-local: 10/4 (0.71)\n",
      "    explore-remote: 0/18 (0.00)\n",
      "    explore-connect: 0/14 (0.00)\n",
      "    exploit-local: 0/0 (NaN)\n",
      "    exploit-remote: 0/0 (NaN)\n",
      "    exploit-connect: 4/0 (1.00)\n",
      "  exploit deflected to exploration: 0\n",
      "  ## Episode: 14/20 'DQL' ϵ=0.8897, γ=0.015, lr=0.01, replaymemory=10000,\n",
      "batch=512, target_update=5\n"
     ]
    },
    {
     "name": "stderr",
     "output_type": "stream",
     "text": [
      "Episode 14|Iteration 0|reward: ------|last_reward_at: ----|Elapsed Time: 0:00:00||\n",
      "Episode 14|Iteration 1|reward:    0.0|last_reward_at: ----|Elapsed Time: 0:00:00||\n",
      "Episode 14|Iteration 2|reward:    6.0|last_reward_at: ----|Elapsed Time: 0:00:00||\n",
      "Episode 14|Iteration 2|reward:    6.0|last_reward_at:    2|Elapsed Time: 0:00:00||\n",
      "Episode 14|Iteration 7|reward:    6.0|last_reward_at:    2|Elapsed Time: 0:00:00||\n",
      "Episode 14|Iteration 10|reward:   12.0|last_reward_at:    2|Elapsed Time: 0:00:00||\n",
      "Episode 14|Iteration 10|reward:   12.0|last_reward_at:   10|Elapsed Time: 0:00:00||\n",
      "Episode 14|Iteration 14|reward:   30.0|last_reward_at:   10|Elapsed Time: 0:00:00||\n",
      "Episode 14|Iteration 14|reward:   30.0|last_reward_at:   14|Elapsed Time: 0:00:00||\n",
      "Episode 14|Iteration 15|reward:   31.0|last_reward_at:   14|Elapsed Time: 0:00:00||\n",
      "Episode 14|Iteration 15|reward:   31.0|last_reward_at:   15|Elapsed Time: 0:00:00||\n",
      "Episode 14|Iteration 16|reward:   36.0|last_reward_at:   15|Elapsed Time: 0:00:00||\n",
      "Episode 14|Iteration 16|reward:   36.0|last_reward_at:   16|Elapsed Time: 0:00:00||\n",
      "Episode 14|Iteration 20|reward:   36.0|last_reward_at:   16|Elapsed Time: 0:00:00||\n",
      "Episode 14|Iteration 20|reward:   37.0|last_reward_at:   16|Elapsed Time: 0:00:00||\n",
      "Episode 14|Iteration 20|reward:   37.0|last_reward_at:   20|Elapsed Time: 0:00:00||\n",
      "Episode 14|Iteration 24|reward:   46.0|last_reward_at:   20|Elapsed Time: 0:00:00||\n",
      "Episode 14|Iteration 24|reward:   46.0|last_reward_at:   24|Elapsed Time: 0:00:00||\n",
      "Episode 14|Iteration 26|reward:   52.0|last_reward_at:   24|Elapsed Time: 0:00:00||\n",
      "Episode 14|Iteration 26|reward:   52.0|last_reward_at:   26|Elapsed Time: 0:00:00||\n",
      "Episode 14|Iteration 28|reward:   58.0|last_reward_at:   26|Elapsed Time: 0:00:00||\n",
      "Episode 14|Iteration 28|reward:   58.0|last_reward_at:   28|Elapsed Time: 0:00:00||\n",
      "Episode 14|Iteration 33|reward:   58.0|last_reward_at:   28|Elapsed Time: 0:00:00||\n",
      "Episode 14|Iteration 33|reward:   64.0|last_reward_at:   28|Elapsed Time: 0:00:00||\n",
      "Episode 14|Iteration 33|reward:   64.0|last_reward_at:   33|Elapsed Time: 0:00:00||\n",
      "Episode 14|Iteration 38|reward:   64.0|last_reward_at:   33|Elapsed Time: 0:00:00||\n",
      "Episode 14|Iteration 40|reward:  164.0|last_reward_at:   33|Elapsed Time: 0:00:00||\n",
      "Episode 14|Iteration 40|reward:  164.0|last_reward_at:   40|Elapsed Time: 0:00:00||\n",
      "Episode 14|Iteration 44|reward:  170.0|last_reward_at:   40|Elapsed Time: 0:00:00||\n",
      "Episode 14|Iteration 44|reward:  170.0|last_reward_at:   44|Elapsed Time: 0:00:00||\n",
      "Episode 14|Iteration 48|reward:  428.0|last_reward_at:   44|Elapsed Time: 0:00:00||\n",
      "Episode 14|Iteration 48|reward:  428.0|last_reward_at:   48|Elapsed Time: 0:00:00||\n",
      "Episode 14|Iteration 50|reward:  428.0|last_reward_at:   48|Elapsed Time: 0:00:00||\n"
     ]
    },
    {
     "name": "stdout",
     "output_type": "stream",
     "text": [
      "  Episode 14 stopped at t=50 \n",
      "  Breakdown [Reward/NoReward (Success rate)]\n",
      "    explore-local: 7/11 (0.39)\n",
      "    explore-remote: 0/17 (0.00)\n",
      "    explore-connect: 0/9 (0.00)\n",
      "    exploit-local: 2/0 (1.00)\n",
      "    exploit-remote: 0/0 (NaN)\n",
      "    exploit-connect: 4/0 (1.00)\n",
      "  exploit deflected to exploration: 0\n",
      "  ## Episode: 15/20 'DQL' ϵ=0.8889, γ=0.015, lr=0.01, replaymemory=10000,\n",
      "batch=512, target_update=5\n"
     ]
    },
    {
     "name": "stderr",
     "output_type": "stream",
     "text": [
      "Episode 15|Iteration 0|reward: ------|last_reward_at: ----|Elapsed Time: 0:00:00||\n",
      "Episode 15|Iteration 1|reward:    6.0|last_reward_at: ----|Elapsed Time: 0:00:00||\n",
      "Episode 15|Iteration 1|reward:    6.0|last_reward_at:    1|Elapsed Time: 0:00:00||\n",
      "Episode 15|Iteration 6|reward:    6.0|last_reward_at:    1|Elapsed Time: 0:00:00||\n",
      "Episode 15|Iteration 8|reward:   12.0|last_reward_at:    1|Elapsed Time: 0:00:00||\n",
      "Episode 15|Iteration 8|reward:   12.0|last_reward_at:    8|Elapsed Time: 0:00:00||\n",
      "Episode 15|Iteration 9|reward:   18.0|last_reward_at:    8|Elapsed Time: 0:00:00||\n",
      "Episode 15|Iteration 9|reward:   18.0|last_reward_at:    9|Elapsed Time: 0:00:00||\n",
      "Episode 15|Iteration 12|reward:   36.0|last_reward_at:    9|Elapsed Time: 0:00:00||\n",
      "Episode 15|Iteration 12|reward:   36.0|last_reward_at:   12|Elapsed Time: 0:00:00||\n",
      "Episode 15|Iteration 17|reward:   36.0|last_reward_at:   12|Elapsed Time: 0:00:00||\n",
      "Episode 15|Iteration 21|reward:   36.0|last_reward_at:   12|Elapsed Time: 0:00:00||\n",
      "Episode 15|Iteration 21|reward:   37.0|last_reward_at:   12|Elapsed Time: 0:00:00||\n",
      "Episode 15|Iteration 21|reward:   37.0|last_reward_at:   21|Elapsed Time: 0:00:00||\n",
      "Episode 15|Iteration 26|reward:   37.0|last_reward_at:   21|Elapsed Time: 0:00:00||\n",
      "Episode 15|Iteration 30|reward:   37.0|last_reward_at:   21|Elapsed Time: 0:00:00||\n",
      "Episode 15|Iteration 30|reward:   42.0|last_reward_at:   21|Elapsed Time: 0:00:00||\n",
      "Episode 15|Iteration 30|reward:   42.0|last_reward_at:   30|Elapsed Time: 0:00:00||\n",
      "Episode 15|Iteration 32|reward:   48.0|last_reward_at:   30|Elapsed Time: 0:00:00||\n",
      "Episode 15|Iteration 32|reward:   48.0|last_reward_at:   32|Elapsed Time: 0:00:00||\n",
      "Episode 15|Iteration 37|reward:   48.0|last_reward_at:   32|Elapsed Time: 0:00:00||\n",
      "Episode 15|Iteration 37|reward:   54.0|last_reward_at:   32|Elapsed Time: 0:00:00||\n",
      "Episode 15|Iteration 37|reward:   54.0|last_reward_at:   37|Elapsed Time: 0:00:00||\n",
      "Episode 15|Iteration 40|reward:   55.0|last_reward_at:   37|Elapsed Time: 0:00:00||\n",
      "Episode 15|Iteration 40|reward:   55.0|last_reward_at:   40|Elapsed Time: 0:00:00||\n",
      "Episode 15|Iteration 45|reward:   55.0|last_reward_at:   40|Elapsed Time: 0:00:00||\n",
      "Episode 15|Iteration 49|reward:   55.0|last_reward_at:   40|Elapsed Time: 0:00:00||\n",
      "Episode 15|Iteration 50|reward:   55.0|last_reward_at:   40|Elapsed Time: 0:00:00||\n"
     ]
    },
    {
     "name": "stdout",
     "output_type": "stream",
     "text": [
      "  Episode 15 stopped at t=50 \n",
      "  Breakdown [Reward/NoReward (Success rate)]\n",
      "    explore-local: 5/8 (0.38)\n",
      "    explore-remote: 0/19 (0.00)\n",
      "    explore-connect: 2/14 (0.12)\n",
      "    exploit-local: 1/0 (1.00)\n",
      "    exploit-remote: 0/0 (NaN)\n",
      "    exploit-connect: 1/0 (1.00)\n",
      "  exploit deflected to exploration: 0\n",
      "  ## Episode: 16/20 'DQL' ϵ=0.8881, γ=0.015, lr=0.01, replaymemory=10000,\n",
      "batch=512, target_update=5\n"
     ]
    },
    {
     "name": "stderr",
     "output_type": "stream",
     "text": [
      "Episode 16|Iteration 0|reward: ------|last_reward_at: ----|Elapsed Time: 0:00:00||\n",
      "Episode 16|Iteration 1|reward:    0.0|last_reward_at: ----|Elapsed Time: 0:00:00||\n",
      "Episode 16|Iteration 4|reward:    6.0|last_reward_at: ----|Elapsed Time: 0:00:00||\n",
      "Episode 16|Iteration 4|reward:    6.0|last_reward_at:    4|Elapsed Time: 0:00:00||\n",
      "Episode 16|Iteration 8|reward:    6.0|last_reward_at:    4|Elapsed Time: 0:00:00||\n",
      "Episode 16|Iteration 10|reward:   12.0|last_reward_at:    4|Elapsed Time: 0:00:00||\n",
      "Episode 16|Iteration 10|reward:   12.0|last_reward_at:   10|Elapsed Time: 0:00:00||\n",
      "Episode 16|Iteration 13|reward:   30.0|last_reward_at:   10|Elapsed Time: 0:00:00||\n",
      "Episode 16|Iteration 13|reward:   30.0|last_reward_at:   13|Elapsed Time: 0:00:00||\n",
      "Episode 16|Iteration 18|reward:   30.0|last_reward_at:   13|Elapsed Time: 0:00:00||\n",
      "Episode 16|Iteration 21|reward:   36.0|last_reward_at:   13|Elapsed Time: 0:00:00||\n",
      "Episode 16|Iteration 21|reward:   36.0|last_reward_at:   21|Elapsed Time: 0:00:00||\n",
      "Episode 16|Iteration 24|reward:   37.0|last_reward_at:   21|Elapsed Time: 0:00:00||\n",
      "Episode 16|Iteration 24|reward:   37.0|last_reward_at:   24|Elapsed Time: 0:00:00||\n",
      "Episode 16|Iteration 27|reward:   38.0|last_reward_at:   24|Elapsed Time: 0:00:00||\n",
      "Episode 16|Iteration 27|reward:   38.0|last_reward_at:   27|Elapsed Time: 0:00:00||\n",
      "Episode 16|Iteration 29|reward:   44.0|last_reward_at:   27|Elapsed Time: 0:00:00||\n",
      "Episode 16|Iteration 29|reward:   44.0|last_reward_at:   29|Elapsed Time: 0:00:00||\n",
      "Episode 16|Iteration 31|reward:   49.0|last_reward_at:   29|Elapsed Time: 0:00:00||\n",
      "Episode 16|Iteration 31|reward:   49.0|last_reward_at:   31|Elapsed Time: 0:00:00||\n",
      "Episode 16|Iteration 36|reward:   49.0|last_reward_at:   31|Elapsed Time: 0:00:00||\n",
      "Episode 16|Iteration 36|reward:   55.0|last_reward_at:   31|Elapsed Time: 0:00:00||\n",
      "Episode 16|Iteration 36|reward:   55.0|last_reward_at:   36|Elapsed Time: 0:00:00||\n",
      "Episode 16|Iteration 38|reward:   64.0|last_reward_at:   36|Elapsed Time: 0:00:00||\n",
      "Episode 16|Iteration 38|reward:   64.0|last_reward_at:   38|Elapsed Time: 0:00:00||\n",
      "Episode 16|Iteration 43|reward:   64.0|last_reward_at:   38|Elapsed Time: 0:00:00||\n",
      "Episode 16|Iteration 43|reward:   70.0|last_reward_at:   38|Elapsed Time: 0:00:00||\n",
      "Episode 16|Iteration 43|reward:   70.0|last_reward_at:   43|Elapsed Time: 0:00:00||\n",
      "Episode 16|Iteration 47|reward:  170.0|last_reward_at:   43|Elapsed Time: 0:00:00||\n",
      "Episode 16|Iteration 47|reward:  170.0|last_reward_at:   47|Elapsed Time: 0:00:00||\n",
      "Episode 16|Iteration 49|reward:  176.0|last_reward_at:   47|Elapsed Time: 0:00:00||\n",
      "Episode 16|Iteration 49|reward:  176.0|last_reward_at:   49|Elapsed Time: 0:00:00||\n",
      "Episode 16|Iteration 50|reward:  176.0|last_reward_at:   49|Elapsed Time: 0:00:00||\n"
     ]
    },
    {
     "name": "stdout",
     "output_type": "stream",
     "text": [
      "  Episode 16 stopped at t=50 \n",
      "  Breakdown [Reward/NoReward (Success rate)]\n",
      "    explore-local: 7/3 (0.70)\n",
      "    explore-remote: 0/22 (0.00)\n",
      "    explore-connect: 2/12 (0.14)\n",
      "    exploit-local: 2/0 (1.00)\n",
      "    exploit-remote: 0/0 (NaN)\n",
      "    exploit-connect: 2/0 (1.00)\n",
      "  exploit deflected to exploration: 0\n",
      "  ## Episode: 17/20 'DQL' ϵ=0.8873, γ=0.015, lr=0.01, replaymemory=10000,\n",
      "batch=512, target_update=5\n"
     ]
    },
    {
     "name": "stderr",
     "output_type": "stream",
     "text": [
      "Episode 17|Iteration 0|reward: ------|last_reward_at: ----|Elapsed Time: 0:00:00||\n",
      "Episode 17|Iteration 1|reward:    6.0|last_reward_at: ----|Elapsed Time: 0:00:00||\n",
      "Episode 17|Iteration 1|reward:    6.0|last_reward_at:    1|Elapsed Time: 0:00:00||\n",
      "Episode 17|Iteration 2|reward:   24.0|last_reward_at:    1|Elapsed Time: 0:00:00||\n",
      "Episode 17|Iteration 2|reward:   24.0|last_reward_at:    2|Elapsed Time: 0:00:00||\n",
      "Episode 17|Iteration 4|reward:   30.0|last_reward_at:    2|Elapsed Time: 0:00:00||\n",
      "Episode 17|Iteration 4|reward:   30.0|last_reward_at:    4|Elapsed Time: 0:00:00||\n",
      "Episode 17|Iteration 7|reward:   35.0|last_reward_at:    4|Elapsed Time: 0:00:00||\n",
      "Episode 17|Iteration 7|reward:   35.0|last_reward_at:    7|Elapsed Time: 0:00:00||\n",
      "Episode 17|Iteration 12|reward:   35.0|last_reward_at:    7|Elapsed Time: 0:00:00||\n",
      "Episode 17|Iteration 15|reward:   41.0|last_reward_at:    7|Elapsed Time: 0:00:00||\n",
      "Episode 17|Iteration 15|reward:   41.0|last_reward_at:   15|Elapsed Time: 0:00:00||\n",
      "Episode 17|Iteration 16|reward:   42.0|last_reward_at:   15|Elapsed Time: 0:00:00||\n",
      "Episode 17|Iteration 16|reward:   42.0|last_reward_at:   16|Elapsed Time: 0:00:00||\n",
      "Episode 17|Iteration 17|reward:   43.0|last_reward_at:   16|Elapsed Time: 0:00:00||\n",
      "Episode 17|Iteration 17|reward:   43.0|last_reward_at:   17|Elapsed Time: 0:00:00||\n",
      "Episode 17|Iteration 22|reward:   43.0|last_reward_at:   17|Elapsed Time: 0:00:00||\n",
      "Episode 17|Iteration 26|reward:   43.0|last_reward_at:   17|Elapsed Time: 0:00:00||\n",
      "Episode 17|Iteration 27|reward:   49.0|last_reward_at:   17|Elapsed Time: 0:00:00||\n",
      "Episode 17|Iteration 27|reward:   49.0|last_reward_at:   27|Elapsed Time: 0:00:00||\n",
      "Episode 17|Iteration 32|reward:   49.0|last_reward_at:   27|Elapsed Time: 0:00:00||\n",
      "Episode 17|Iteration 34|reward:   55.0|last_reward_at:   27|Elapsed Time: 0:00:00||\n",
      "Episode 17|Iteration 34|reward:   55.0|last_reward_at:   34|Elapsed Time: 0:00:00||\n",
      "Episode 17|Iteration 39|reward:   55.0|last_reward_at:   34|Elapsed Time: 0:00:00||\n",
      "Episode 17|Iteration 41|reward:   64.0|last_reward_at:   34|Elapsed Time: 0:00:00||\n",
      "Episode 17|Iteration 41|reward:   64.0|last_reward_at:   41|Elapsed Time: 0:00:00||\n",
      "Episode 17|Iteration 42|reward:   70.0|last_reward_at:   41|Elapsed Time: 0:00:00||\n",
      "Episode 17|Iteration 42|reward:   70.0|last_reward_at:   42|Elapsed Time: 0:00:00||\n",
      "Episode 17|Iteration 47|reward:   70.0|last_reward_at:   42|Elapsed Time: 0:00:00||\n",
      "Episode 17|Iteration 49|reward:   76.0|last_reward_at:   42|Elapsed Time: 0:00:00||\n",
      "Episode 17|Iteration 49|reward:   76.0|last_reward_at:   49|Elapsed Time: 0:00:00||\n",
      "Episode 17|Iteration 50|reward:   76.0|last_reward_at:   49|Elapsed Time: 0:00:00||\n"
     ]
    },
    {
     "name": "stdout",
     "output_type": "stream",
     "text": [
      "  Episode 17 stopped at t=50 \n",
      "  Breakdown [Reward/NoReward (Success rate)]\n",
      "    explore-local: 8/5 (0.62)\n",
      "    explore-remote: 0/15 (0.00)\n",
      "    explore-connect: 1/18 (0.05)\n",
      "    exploit-local: 1/0 (1.00)\n",
      "    exploit-remote: 0/0 (NaN)\n",
      "    exploit-connect: 2/0 (1.00)\n",
      "  exploit deflected to exploration: 0\n",
      "  ## Episode: 18/20 'DQL' ϵ=0.8865, γ=0.015, lr=0.01, replaymemory=10000,\n",
      "batch=512, target_update=5\n"
     ]
    },
    {
     "name": "stderr",
     "output_type": "stream",
     "text": [
      "Episode 18|Iteration 0|reward: ------|last_reward_at: ----|Elapsed Time: 0:00:00||\n",
      "Episode 18|Iteration 1|reward:    0.0|last_reward_at: ----|Elapsed Time: 0:00:00||\n",
      "Episode 18|Iteration 2|reward:    6.0|last_reward_at: ----|Elapsed Time: 0:00:00||\n",
      "Episode 18|Iteration 2|reward:    6.0|last_reward_at:    2|Elapsed Time: 0:00:00||\n",
      "Episode 18|Iteration 5|reward:   24.0|last_reward_at:    2|Elapsed Time: 0:00:00||\n",
      "Episode 18|Iteration 5|reward:   24.0|last_reward_at:    5|Elapsed Time: 0:00:00||\n",
      "Episode 18|Iteration 7|reward:   29.0|last_reward_at:    5|Elapsed Time: 0:00:00||\n",
      "Episode 18|Iteration 7|reward:   29.0|last_reward_at:    7|Elapsed Time: 0:00:00||\n",
      "Episode 18|Iteration 8|reward:   35.0|last_reward_at:    7|Elapsed Time: 0:00:00||\n",
      "Episode 18|Iteration 8|reward:   35.0|last_reward_at:    8|Elapsed Time: 0:00:00||\n",
      "Episode 18|Iteration 9|reward:   36.0|last_reward_at:    8|Elapsed Time: 0:00:00||\n",
      "Episode 18|Iteration 9|reward:   36.0|last_reward_at:    9|Elapsed Time: 0:00:00||\n",
      "Episode 18|Iteration 13|reward:   42.0|last_reward_at:    9|Elapsed Time: 0:00:00||\n",
      "Episode 18|Iteration 13|reward:   42.0|last_reward_at:   13|Elapsed Time: 0:00:00||\n",
      "Episode 18|Iteration 17|reward:   42.0|last_reward_at:   13|Elapsed Time: 0:00:00||\n",
      "Episode 18|Iteration 19|reward:   43.0|last_reward_at:   13|Elapsed Time: 0:00:00||\n",
      "Episode 18|Iteration 19|reward:   43.0|last_reward_at:   19|Elapsed Time: 0:00:00||\n",
      "Episode 18|Iteration 20|reward:   49.0|last_reward_at:   19|Elapsed Time: 0:00:00||\n",
      "Episode 18|Iteration 20|reward:   49.0|last_reward_at:   20|Elapsed Time: 0:00:00||\n",
      "Episode 18|Iteration 24|reward:   58.0|last_reward_at:   20|Elapsed Time: 0:00:00||\n",
      "Episode 18|Iteration 24|reward:   58.0|last_reward_at:   24|Elapsed Time: 0:00:00||\n",
      "Episode 18|Iteration 28|reward:   64.0|last_reward_at:   24|Elapsed Time: 0:00:00||\n",
      "Episode 18|Iteration 28|reward:   64.0|last_reward_at:   28|Elapsed Time: 0:00:00||\n",
      "Episode 18|Iteration 29|reward:   70.0|last_reward_at:   28|Elapsed Time: 0:00:00||\n",
      "Episode 18|Iteration 29|reward:   70.0|last_reward_at:   29|Elapsed Time: 0:00:00||\n",
      "Episode 18|Iteration 34|reward:   70.0|last_reward_at:   29|Elapsed Time: 0:00:00||\n",
      "Episode 18|Iteration 38|reward:   70.0|last_reward_at:   29|Elapsed Time: 0:00:00||\n",
      "Episode 18|Iteration 42|reward:   70.0|last_reward_at:   29|Elapsed Time: 0:00:00||\n",
      "Episode 18|Iteration 42|reward:   76.0|last_reward_at:   29|Elapsed Time: 0:00:00||\n",
      "Episode 18|Iteration 42|reward:   76.0|last_reward_at:   42|Elapsed Time: 0:00:00||\n",
      "Episode 18|Iteration 47|reward:   76.0|last_reward_at:   42|Elapsed Time: 0:00:00||\n",
      "Episode 18|Iteration 50|reward:   76.0|last_reward_at:   42|Elapsed Time: 0:00:00||\n",
      "Episode 18|Iteration 50|reward:   76.0|last_reward_at:   42|Elapsed Time: 0:00:00||\n"
     ]
    },
    {
     "name": "stdout",
     "output_type": "stream",
     "text": [
      "  Episode 18 stopped at t=50 \n",
      "  Breakdown [Reward/NoReward (Success rate)]\n",
      "    explore-local: 8/5 (0.62)\n",
      "    explore-remote: 0/13 (0.00)\n",
      "    explore-connect: 0/20 (0.00)\n",
      "    exploit-local: 1/0 (1.00)\n",
      "    exploit-remote: 0/0 (NaN)\n",
      "    exploit-connect: 3/0 (1.00)\n",
      "  exploit deflected to exploration: 0\n",
      "  ## Episode: 19/20 'DQL' ϵ=0.8857, γ=0.015, lr=0.01, replaymemory=10000,\n",
      "batch=512, target_update=5\n"
     ]
    },
    {
     "name": "stderr",
     "output_type": "stream",
     "text": [
      "Episode 19|Iteration 0|reward: ------|last_reward_at: ----|Elapsed Time: 0:00:00||\n",
      "Episode 19|Iteration 1|reward:    0.0|last_reward_at: ----|Elapsed Time: 0:00:00||\n",
      "Episode 19|Iteration 3|reward:    6.0|last_reward_at: ----|Elapsed Time: 0:00:00||\n",
      "Episode 19|Iteration 3|reward:    6.0|last_reward_at:    3|Elapsed Time: 0:00:00||\n",
      "Episode 19|Iteration 6|reward:   12.0|last_reward_at:    3|Elapsed Time: 0:00:00||\n",
      "Episode 19|Iteration 6|reward:   12.0|last_reward_at:    6|Elapsed Time: 0:00:00||\n",
      "Episode 19|Iteration 8|reward:   18.0|last_reward_at:    6|Elapsed Time: 0:00:00||\n",
      "Episode 19|Iteration 8|reward:   18.0|last_reward_at:    8|Elapsed Time: 0:00:00||\n",
      "Episode 19|Iteration 13|reward:   18.0|last_reward_at:    8|Elapsed Time: 0:00:00||\n",
      "Episode 19|Iteration 13|reward:   36.0|last_reward_at:    8|Elapsed Time: 0:00:00||\n",
      "Episode 19|Iteration 13|reward:   36.0|last_reward_at:   13|Elapsed Time: 0:00:00||\n",
      "Episode 19|Iteration 17|reward:   41.0|last_reward_at:   13|Elapsed Time: 0:00:00||\n",
      "Episode 19|Iteration 17|reward:   41.0|last_reward_at:   17|Elapsed Time: 0:00:00||\n",
      "Episode 19|Iteration 22|reward:   41.0|last_reward_at:   17|Elapsed Time: 0:00:00||\n",
      "Episode 19|Iteration 26|reward:   41.0|last_reward_at:   17|Elapsed Time: 0:00:00||\n",
      "Episode 19|Iteration 30|reward:   41.0|last_reward_at:   17|Elapsed Time: 0:00:00||\n",
      "Episode 19|Iteration 33|reward:   47.0|last_reward_at:   17|Elapsed Time: 0:00:00||\n",
      "Episode 19|Iteration 33|reward:   47.0|last_reward_at:   33|Elapsed Time: 0:00:00||\n",
      "Episode 19|Iteration 38|reward:   47.0|last_reward_at:   33|Elapsed Time: 0:00:00||\n",
      "Episode 19|Iteration 38|reward:   53.0|last_reward_at:   33|Elapsed Time: 0:00:00||\n",
      "Episode 19|Iteration 38|reward:   53.0|last_reward_at:   38|Elapsed Time: 0:00:00||\n",
      "Episode 19|Iteration 40|reward:   54.0|last_reward_at:   38|Elapsed Time: 0:00:00||\n",
      "Episode 19|Iteration 40|reward:   54.0|last_reward_at:   40|Elapsed Time: 0:00:00||\n",
      "Episode 19|Iteration 42|reward:   55.0|last_reward_at:   40|Elapsed Time: 0:00:00||\n",
      "Episode 19|Iteration 42|reward:   55.0|last_reward_at:   42|Elapsed Time: 0:00:00||\n",
      "Episode 19|Iteration 44|reward:   61.0|last_reward_at:   42|Elapsed Time: 0:00:00||\n",
      "Episode 19|Iteration 44|reward:   61.0|last_reward_at:   44|Elapsed Time: 0:00:00||\n",
      "Episode 19|Iteration 49|reward:   61.0|last_reward_at:   44|Elapsed Time: 0:00:00||\n",
      "Episode 19|Iteration 50|reward:   67.0|last_reward_at:   44|Elapsed Time: 0:00:00||\n",
      "Episode 19|Iteration 50|reward:   67.0|last_reward_at:   50|Elapsed Time: 0:00:00||\n",
      "Episode 19|Iteration 50|reward:   67.0|last_reward_at:   50|Elapsed Time: 0:00:00||\n"
     ]
    },
    {
     "name": "stdout",
     "output_type": "stream",
     "text": [
      "  Episode 19 stopped at t=50 \n",
      "  Breakdown [Reward/NoReward (Success rate)]\n",
      "    explore-local: 7/8 (0.47)\n",
      "    explore-remote: 0/19 (0.00)\n",
      "    explore-connect: 1/12 (0.08)\n",
      "    exploit-local: 1/0 (1.00)\n",
      "    exploit-remote: 0/0 (NaN)\n",
      "    exploit-connect: 2/0 (1.00)\n",
      "  exploit deflected to exploration: 0\n",
      "  ## Episode: 20/20 'DQL' ϵ=0.8850, γ=0.015, lr=0.01, replaymemory=10000,\n",
      "batch=512, target_update=5\n"
     ]
    },
    {
     "name": "stderr",
     "output_type": "stream",
     "text": [
      "Episode 20|Iteration 0|reward: ------|last_reward_at: ----|Elapsed Time: 0:00:00||\n",
      "Episode 20|Iteration 1|reward:    0.0|last_reward_at: ----|Elapsed Time: 0:00:00||\n",
      "Episode 20|Iteration 5|reward:    6.0|last_reward_at: ----|Elapsed Time: 0:00:00||\n",
      "Episode 20|Iteration 5|reward:    6.0|last_reward_at:    5|Elapsed Time: 0:00:00||\n",
      "Episode 20|Iteration 8|reward:   12.0|last_reward_at:    5|Elapsed Time: 0:00:00||\n",
      "Episode 20|Iteration 8|reward:   12.0|last_reward_at:    8|Elapsed Time: 0:00:00||\n",
      "Episode 20|Iteration 9|reward:   30.0|last_reward_at:    8|Elapsed Time: 0:00:00||\n",
      "Episode 20|Iteration 9|reward:   30.0|last_reward_at:    9|Elapsed Time: 0:00:00||\n",
      "Episode 20|Iteration 13|reward:   30.0|last_reward_at:    9|Elapsed Time: 0:00:00||\n",
      "Episode 20|Iteration 17|reward:   30.0|last_reward_at:    9|Elapsed Time: 0:00:00||\n",
      "Episode 20|Iteration 21|reward:   30.0|last_reward_at:    9|Elapsed Time: 0:00:00||\n",
      "Episode 20|Iteration 22|reward:   35.0|last_reward_at:    9|Elapsed Time: 0:00:00||\n",
      "Episode 20|Iteration 22|reward:   35.0|last_reward_at:   22|Elapsed Time: 0:00:00||\n",
      "Episode 20|Iteration 26|reward:   35.0|last_reward_at:   22|Elapsed Time: 0:00:00||\n",
      "Episode 20|Iteration 29|reward:   35.0|last_reward_at:   22|Elapsed Time: 0:00:00||\n",
      "Episode 20|Iteration 30|reward:   36.0|last_reward_at:   22|Elapsed Time: 0:00:00||\n",
      "Episode 20|Iteration 30|reward:   36.0|last_reward_at:   30|Elapsed Time: 0:00:00||\n",
      "Episode 20|Iteration 32|reward:   37.0|last_reward_at:   30|Elapsed Time: 0:00:00||\n",
      "Episode 20|Iteration 32|reward:   37.0|last_reward_at:   32|Elapsed Time: 0:00:00||\n",
      "Episode 20|Iteration 36|reward:   37.0|last_reward_at:   32|Elapsed Time: 0:00:00||\n",
      "Episode 20|Iteration 39|reward:   46.0|last_reward_at:   32|Elapsed Time: 0:00:00||\n",
      "Episode 20|Iteration 39|reward:   46.0|last_reward_at:   39|Elapsed Time: 0:00:00||\n",
      "Episode 20|Iteration 43|reward:   46.0|last_reward_at:   39|Elapsed Time: 0:00:00||\n",
      "Episode 20|Iteration 46|reward:  146.0|last_reward_at:   39|Elapsed Time: 0:00:00||\n",
      "Episode 20|Iteration 46|reward:  146.0|last_reward_at:   46|Elapsed Time: 0:00:00||\n",
      "Episode 20|Iteration 50|reward:  146.0|last_reward_at:   46|Elapsed Time: 0:00:00||\n",
      "Episode 20|Iteration 50|reward:  146.0|last_reward_at:   46|Elapsed Time: 0:00:00||\n"
     ]
    },
    {
     "name": "stdout",
     "output_type": "stream",
     "text": [
      "  Episode 20 stopped at t=50 \n",
      "  Breakdown [Reward/NoReward (Success rate)]\n",
      "    explore-local: 2/6 (0.25)\n",
      "    explore-remote: 0/25 (0.00)\n",
      "    explore-connect: 1/11 (0.08)\n",
      "    exploit-local: 2/0 (1.00)\n",
      "    exploit-remote: 0/0 (NaN)\n",
      "    exploit-connect: 3/0 (1.00)\n",
      "  exploit deflected to exploration: 0\n",
      "simulation ended\n",
      "###### DQL\n",
      "Learning with: episode_count=20,iteration_count=50,ϵ=0.9,ϵ_min=0.1, ϵ_expdecay=50000,γ=0.015, lr=0.01, replaymemory=10000,\n",
      "batch=512, target_update=5\n",
      "  ## Episode: 1/20 'DQL' ϵ=0.9000, γ=0.015, lr=0.01, replaymemory=10000,\n",
      "batch=512, target_update=5\n"
     ]
    },
    {
     "name": "stderr",
     "output_type": "stream",
     "text": [
      "Episode 1|Iteration 0|reward: ------|last_reward_at: ----|Elapsed Time: 0:00:00||\n",
      "Episode 1|Iteration 1|reward:    6.0|last_reward_at: ----|Elapsed Time: 0:00:00||\n",
      "Episode 1|Iteration 1|reward:    6.0|last_reward_at:    1|Elapsed Time: 0:00:00||\n",
      "Episode 1|Iteration 3|reward:   24.0|last_reward_at:    1|Elapsed Time: 0:00:00||\n",
      "Episode 1|Iteration 3|reward:   24.0|last_reward_at:    3|Elapsed Time: 0:00:00||\n",
      "Episode 1|Iteration 5|reward:   25.0|last_reward_at:    3|Elapsed Time: 0:00:00||\n",
      "Episode 1|Iteration 5|reward:   25.0|last_reward_at:    5|Elapsed Time: 0:00:00||\n",
      "Episode 1|Iteration 10|reward:   25.0|last_reward_at:    5|Elapsed Time: 0:00:00||\n",
      "Episode 1|Iteration 11|reward:   31.0|last_reward_at:    5|Elapsed Time: 0:00:00||\n",
      "Episode 1|Iteration 11|reward:   31.0|last_reward_at:   11|Elapsed Time: 0:00:00||\n",
      "Episode 1|Iteration 15|reward:   31.0|last_reward_at:   11|Elapsed Time: 0:00:00||\n",
      "Episode 1|Iteration 16|reward:   32.0|last_reward_at:   11|Elapsed Time: 0:00:00||\n",
      "Episode 1|Iteration 16|reward:   32.0|last_reward_at:   16|Elapsed Time: 0:00:00||\n",
      "Episode 1|Iteration 20|reward:   37.0|last_reward_at:   16|Elapsed Time: 0:00:00||\n",
      "Episode 1|Iteration 20|reward:   37.0|last_reward_at:   20|Elapsed Time: 0:00:00||\n",
      "Episode 1|Iteration 21|reward:   43.0|last_reward_at:   20|Elapsed Time: 0:00:00||\n",
      "Episode 1|Iteration 21|reward:   43.0|last_reward_at:   21|Elapsed Time: 0:00:00||\n",
      "Episode 1|Iteration 24|reward:   49.0|last_reward_at:   21|Elapsed Time: 0:00:00||\n",
      "Episode 1|Iteration 24|reward:   49.0|last_reward_at:   24|Elapsed Time: 0:00:00||\n",
      "Episode 1|Iteration 25|reward:   55.0|last_reward_at:   24|Elapsed Time: 0:00:00||\n",
      "Episode 1|Iteration 25|reward:   55.0|last_reward_at:   25|Elapsed Time: 0:00:00||\n",
      "Episode 1|Iteration 28|reward:   56.0|last_reward_at:   25|Elapsed Time: 0:00:00||\n",
      "Episode 1|Iteration 28|reward:   56.0|last_reward_at:   28|Elapsed Time: 0:00:00||\n",
      "Episode 1|Iteration 30|reward:   65.0|last_reward_at:   28|Elapsed Time: 0:00:00||\n",
      "Episode 1|Iteration 30|reward:   65.0|last_reward_at:   30|Elapsed Time: 0:00:00||\n",
      "Episode 1|Iteration 31|reward:   71.0|last_reward_at:   30|Elapsed Time: 0:00:00||\n",
      "Episode 1|Iteration 31|reward:   71.0|last_reward_at:   31|Elapsed Time: 0:00:00||\n",
      "Episode 1|Iteration 35|reward:   71.0|last_reward_at:   31|Elapsed Time: 0:00:00||\n",
      "Episode 1|Iteration 38|reward:   71.0|last_reward_at:   31|Elapsed Time: 0:00:00||\n",
      "Episode 1|Iteration 40|reward:  171.0|last_reward_at:   31|Elapsed Time: 0:00:00||\n",
      "Episode 1|Iteration 40|reward:  171.0|last_reward_at:   40|Elapsed Time: 0:00:00||\n",
      "Episode 1|Iteration 43|reward:  177.0|last_reward_at:   40|Elapsed Time: 0:00:00||\n",
      "Episode 1|Iteration 43|reward:  177.0|last_reward_at:   43|Elapsed Time: 0:00:00||\n",
      "Episode 1|Iteration 48|reward:  177.0|last_reward_at:   43|Elapsed Time: 0:00:00||\n",
      "Episode 1|Iteration 48|reward:  183.0|last_reward_at:   43|Elapsed Time: 0:00:00||\n",
      "Episode 1|Iteration 48|reward:  183.0|last_reward_at:   48|Elapsed Time: 0:00:00||\n",
      "Episode 1|Iteration 50|reward:  183.0|last_reward_at:   48|Elapsed Time: 0:00:00||\n"
     ]
    },
    {
     "name": "stdout",
     "output_type": "stream",
     "text": [
      "  Episode 1 stopped at t=50 \n",
      "  Breakdown [Reward/NoReward (Success rate)]\n",
      "    explore-local: 8/4 (0.67)\n",
      "    explore-remote: 0/20 (0.00)\n",
      "    explore-connect: 1/11 (0.08)\n",
      "    exploit-local: 2/0 (1.00)\n",
      "    exploit-remote: 0/0 (NaN)\n",
      "    exploit-connect: 4/0 (1.00)\n",
      "  exploit deflected to exploration: 0\n",
      "  ## Episode: 2/20 'DQL' ϵ=0.8992, γ=0.015, lr=0.01, replaymemory=10000,\n",
      "batch=512, target_update=5\n"
     ]
    },
    {
     "name": "stderr",
     "output_type": "stream",
     "text": [
      "Episode 2|Iteration 0|reward: ------|last_reward_at: ----|Elapsed Time: 0:00:00||\n",
      "Episode 2|Iteration 1|reward:    0.0|last_reward_at: ----|Elapsed Time: 0:00:00||\n",
      "Episode 2|Iteration 2|reward:   18.0|last_reward_at: ----|Elapsed Time: 0:00:00||\n",
      "Episode 2|Iteration 2|reward:   18.0|last_reward_at:    2|Elapsed Time: 0:00:00||\n",
      "Episode 2|Iteration 7|reward:   18.0|last_reward_at:    2|Elapsed Time: 0:00:00||\n",
      "Episode 2|Iteration 7|reward:   24.0|last_reward_at:    2|Elapsed Time: 0:00:00||\n",
      "Episode 2|Iteration 7|reward:   24.0|last_reward_at:    7|Elapsed Time: 0:00:00||\n",
      "Episode 2|Iteration 12|reward:   24.0|last_reward_at:    7|Elapsed Time: 0:00:00||\n",
      "Episode 2|Iteration 12|reward:   29.0|last_reward_at:    7|Elapsed Time: 0:00:00||\n",
      "Episode 2|Iteration 12|reward:   29.0|last_reward_at:   12|Elapsed Time: 0:00:00||\n",
      "Episode 2|Iteration 13|reward:   35.0|last_reward_at:   12|Elapsed Time: 0:00:00||\n",
      "Episode 2|Iteration 13|reward:   35.0|last_reward_at:   13|Elapsed Time: 0:00:00||\n",
      "Episode 2|Iteration 18|reward:   35.0|last_reward_at:   13|Elapsed Time: 0:00:00||\n",
      "Episode 2|Iteration 19|reward:   41.0|last_reward_at:   13|Elapsed Time: 0:00:00||\n",
      "Episode 2|Iteration 19|reward:   41.0|last_reward_at:   19|Elapsed Time: 0:00:00||\n",
      "Episode 2|Iteration 23|reward:   41.0|last_reward_at:   19|Elapsed Time: 0:00:00||\n",
      "Episode 2|Iteration 24|reward:   42.0|last_reward_at:   19|Elapsed Time: 0:00:00||\n",
      "Episode 2|Iteration 24|reward:   42.0|last_reward_at:   24|Elapsed Time: 0:00:00||\n",
      "Episode 2|Iteration 26|reward:   48.0|last_reward_at:   24|Elapsed Time: 0:00:00||\n",
      "Episode 2|Iteration 26|reward:   48.0|last_reward_at:   26|Elapsed Time: 0:00:00||\n",
      "Episode 2|Iteration 27|reward:   49.0|last_reward_at:   26|Elapsed Time: 0:00:00||\n",
      "Episode 2|Iteration 27|reward:   49.0|last_reward_at:   27|Elapsed Time: 0:00:00||\n",
      "Episode 2|Iteration 32|reward:   49.0|last_reward_at:   27|Elapsed Time: 0:00:00||\n",
      "Episode 2|Iteration 33|reward:   50.0|last_reward_at:   27|Elapsed Time: 0:00:00||\n",
      "Episode 2|Iteration 33|reward:   50.0|last_reward_at:   33|Elapsed Time: 0:00:00||\n",
      "Episode 2|Iteration 38|reward:   50.0|last_reward_at:   33|Elapsed Time: 0:00:00||\n",
      "Episode 2|Iteration 42|reward:   50.0|last_reward_at:   33|Elapsed Time: 0:00:00||\n",
      "Episode 2|Iteration 43|reward:   59.0|last_reward_at:   33|Elapsed Time: 0:00:00||\n",
      "Episode 2|Iteration 43|reward:   59.0|last_reward_at:   43|Elapsed Time: 0:00:00||\n",
      "Episode 2|Iteration 48|reward:   59.0|last_reward_at:   43|Elapsed Time: 0:00:00||\n",
      "Episode 2|Iteration 49|reward:  159.0|last_reward_at:   43|Elapsed Time: 0:00:00||\n",
      "Episode 2|Iteration 49|reward:  159.0|last_reward_at:   49|Elapsed Time: 0:00:00||\n",
      "Episode 2|Iteration 50|reward:  159.0|last_reward_at:   49|Elapsed Time: 0:00:00||\n"
     ]
    },
    {
     "name": "stdout",
     "output_type": "stream",
     "text": [
      "  Episode 2 stopped at t=50 \n",
      "  Breakdown [Reward/NoReward (Success rate)]\n",
      "    explore-local: 4/7 (0.36)\n",
      "    explore-remote: 0/21 (0.00)\n",
      "    explore-connect: 0/11 (0.00)\n",
      "    exploit-local: 2/0 (1.00)\n",
      "    exploit-remote: 0/0 (NaN)\n",
      "    exploit-connect: 5/0 (1.00)\n",
      "  exploit deflected to exploration: 0\n",
      "  ## Episode: 3/20 'DQL' ϵ=0.8984, γ=0.015, lr=0.01, replaymemory=10000,\n",
      "batch=512, target_update=5\n"
     ]
    },
    {
     "name": "stderr",
     "output_type": "stream",
     "text": [
      "Episode 3|Iteration 0|reward: ------|last_reward_at: ----|Elapsed Time: 0:00:00||\n",
      "Episode 3|Iteration 1|reward:    0.0|last_reward_at: ----|Elapsed Time: 0:00:00||\n",
      "Episode 3|Iteration 3|reward:   18.0|last_reward_at: ----|Elapsed Time: 0:00:00||\n",
      "Episode 3|Iteration 3|reward:   18.0|last_reward_at:    3|Elapsed Time: 0:00:00||\n",
      "Episode 3|Iteration 5|reward:   23.0|last_reward_at:    3|Elapsed Time: 0:00:00||\n",
      "Episode 3|Iteration 5|reward:   23.0|last_reward_at:    5|Elapsed Time: 0:00:00||\n",
      "Episode 3|Iteration 6|reward:   24.0|last_reward_at:    5|Elapsed Time: 0:00:00||\n",
      "Episode 3|Iteration 6|reward:   24.0|last_reward_at:    6|Elapsed Time: 0:00:00||\n",
      "Episode 3|Iteration 8|reward:   30.0|last_reward_at:    6|Elapsed Time: 0:00:00||\n",
      "Episode 3|Iteration 8|reward:   30.0|last_reward_at:    8|Elapsed Time: 0:00:00||\n",
      "Episode 3|Iteration 13|reward:   30.0|last_reward_at:    8|Elapsed Time: 0:00:00||\n",
      "Episode 3|Iteration 13|reward:   36.0|last_reward_at:    8|Elapsed Time: 0:00:00||\n",
      "Episode 3|Iteration 13|reward:   36.0|last_reward_at:   13|Elapsed Time: 0:00:00||\n",
      "Episode 3|Iteration 15|reward:   37.0|last_reward_at:   13|Elapsed Time: 0:00:00||\n",
      "Episode 3|Iteration 15|reward:   37.0|last_reward_at:   15|Elapsed Time: 0:00:00||\n",
      "Episode 3|Iteration 20|reward:   37.0|last_reward_at:   15|Elapsed Time: 0:00:00||\n",
      "Episode 3|Iteration 24|reward:   37.0|last_reward_at:   15|Elapsed Time: 0:00:00||\n",
      "Episode 3|Iteration 28|reward:   37.0|last_reward_at:   15|Elapsed Time: 0:00:00||\n",
      "Episode 3|Iteration 29|reward:   43.0|last_reward_at:   15|Elapsed Time: 0:00:00||\n",
      "Episode 3|Iteration 29|reward:   43.0|last_reward_at:   29|Elapsed Time: 0:00:00||\n",
      "Episode 3|Iteration 32|reward:   52.0|last_reward_at:   29|Elapsed Time: 0:00:00||\n",
      "Episode 3|Iteration 32|reward:   52.0|last_reward_at:   32|Elapsed Time: 0:00:00||\n",
      "Episode 3|Iteration 33|reward:  152.0|last_reward_at:   32|Elapsed Time: 0:00:00||\n",
      "Episode 3|Iteration 33|reward:  152.0|last_reward_at:   33|Elapsed Time: 0:00:00||\n",
      "Episode 3|Iteration 38|reward:  152.0|last_reward_at:   33|Elapsed Time: 0:00:00||\n",
      "Episode 3|Iteration 39|reward:  153.0|last_reward_at:   33|Elapsed Time: 0:00:00||\n",
      "Episode 3|Iteration 39|reward:  153.0|last_reward_at:   39|Elapsed Time: 0:00:00||\n",
      "Episode 3|Iteration 40|reward:  159.0|last_reward_at:   39|Elapsed Time: 0:00:00||\n",
      "Episode 3|Iteration 40|reward:  159.0|last_reward_at:   40|Elapsed Time: 0:00:00||\n",
      "Episode 3|Iteration 41|reward:  441.0|last_reward_at:   40|Elapsed Time: 0:00:00||\n",
      "Episode 3|Iteration 41|reward:  441.0|last_reward_at:   41|Elapsed Time: 0:00:00||\n",
      "Episode 3|Iteration 42|reward:  447.0|last_reward_at:   41|Elapsed Time: 0:00:00||\n",
      "Episode 3|Iteration 42|reward:  447.0|last_reward_at:   42|Elapsed Time: 0:00:00||\n",
      "Episode 3|Iteration 46|reward:  447.0|last_reward_at:   42|Elapsed Time: 0:00:00||\n",
      "Episode 3|Iteration 46|reward:  453.0|last_reward_at:   42|Elapsed Time: 0:00:00||\n",
      "Episode 3|Iteration 46|reward:  453.0|last_reward_at:   46|Elapsed Time: 0:00:00||\n",
      "Episode 3|Iteration 50|reward:  453.0|last_reward_at:   46|Elapsed Time: 0:00:00||\n"
     ]
    },
    {
     "name": "stdout",
     "output_type": "stream",
     "text": [
      "  Episode 3 stopped at t=50 \n",
      "  Breakdown [Reward/NoReward (Success rate)]\n",
      "    explore-local: 7/1 (0.88)\n",
      "    explore-remote: 0/8 (0.00)\n",
      "    explore-connect: 1/26 (0.04)\n",
      "    exploit-local: 2/0 (1.00)\n",
      "    exploit-remote: 0/0 (NaN)\n",
      "    exploit-connect: 4/1 (0.80)\n",
      "  exploit deflected to exploration: 0\n",
      "  ## Episode: 4/20 'DQL' ϵ=0.8976, γ=0.015, lr=0.01, replaymemory=10000,\n",
      "batch=512, target_update=5\n"
     ]
    },
    {
     "name": "stderr",
     "output_type": "stream",
     "text": [
      "Episode 4|Iteration 0|reward: ------|last_reward_at: ----|Elapsed Time: 0:00:00||\n",
      "Episode 4|Iteration 1|reward:    0.0|last_reward_at: ----|Elapsed Time: 0:00:00||\n",
      "Episode 4|Iteration 3|reward:    6.0|last_reward_at: ----|Elapsed Time: 0:00:00||\n",
      "Episode 4|Iteration 3|reward:    6.0|last_reward_at:    3|Elapsed Time: 0:00:00||\n",
      "Episode 4|Iteration 4|reward:   12.0|last_reward_at:    3|Elapsed Time: 0:00:00||\n",
      "Episode 4|Iteration 4|reward:   12.0|last_reward_at:    4|Elapsed Time: 0:00:00||\n",
      "Episode 4|Iteration 6|reward:   18.0|last_reward_at:    4|Elapsed Time: 0:00:00||\n",
      "Episode 4|Iteration 6|reward:   18.0|last_reward_at:    6|Elapsed Time: 0:00:00||\n",
      "Episode 4|Iteration 11|reward:   18.0|last_reward_at:    6|Elapsed Time: 0:00:00||\n",
      "Episode 4|Iteration 13|reward:   36.0|last_reward_at:    6|Elapsed Time: 0:00:00||\n",
      "Episode 4|Iteration 13|reward:   36.0|last_reward_at:   13|Elapsed Time: 0:00:00||\n",
      "Episode 4|Iteration 15|reward:   37.0|last_reward_at:   13|Elapsed Time: 0:00:00||\n",
      "Episode 4|Iteration 15|reward:   37.0|last_reward_at:   15|Elapsed Time: 0:00:00||\n",
      "Episode 4|Iteration 17|reward:   43.0|last_reward_at:   15|Elapsed Time: 0:00:00||\n",
      "Episode 4|Iteration 17|reward:   43.0|last_reward_at:   17|Elapsed Time: 0:00:00||\n",
      "Episode 4|Iteration 18|reward:   52.0|last_reward_at:   17|Elapsed Time: 0:00:00||\n",
      "Episode 4|Iteration 18|reward:   52.0|last_reward_at:   18|Elapsed Time: 0:00:00||\n",
      "Episode 4|Iteration 23|reward:   52.0|last_reward_at:   18|Elapsed Time: 0:00:00||\n",
      "Episode 4|Iteration 27|reward:   52.0|last_reward_at:   18|Elapsed Time: 0:00:00||\n",
      "Episode 4|Iteration 31|reward:   52.0|last_reward_at:   18|Elapsed Time: 0:00:00||\n",
      "Episode 4|Iteration 35|reward:   52.0|last_reward_at:   18|Elapsed Time: 0:00:00||\n",
      "Episode 4|Iteration 38|reward:   52.0|last_reward_at:   18|Elapsed Time: 0:00:00||\n",
      "Episode 4|Iteration 38|reward:   58.0|last_reward_at:   18|Elapsed Time: 0:00:00||\n",
      "Episode 4|Iteration 38|reward:   58.0|last_reward_at:   38|Elapsed Time: 0:00:00||\n",
      "Episode 4|Iteration 39|reward:   63.0|last_reward_at:   38|Elapsed Time: 0:00:00||\n",
      "Episode 4|Iteration 39|reward:   63.0|last_reward_at:   39|Elapsed Time: 0:00:00||\n",
      "Episode 4|Iteration 40|reward:   64.0|last_reward_at:   39|Elapsed Time: 0:00:00||\n",
      "Episode 4|Iteration 40|reward:   64.0|last_reward_at:   40|Elapsed Time: 0:00:00||\n",
      "Episode 4|Iteration 41|reward:   65.0|last_reward_at:   40|Elapsed Time: 0:00:00||\n",
      "Episode 4|Iteration 41|reward:   65.0|last_reward_at:   41|Elapsed Time: 0:00:00||\n",
      "Episode 4|Iteration 45|reward:   65.0|last_reward_at:   41|Elapsed Time: 0:00:00||\n",
      "Episode 4|Iteration 47|reward:   71.0|last_reward_at:   41|Elapsed Time: 0:00:00||\n",
      "Episode 4|Iteration 47|reward:   71.0|last_reward_at:   47|Elapsed Time: 0:00:00||\n",
      "Episode 4|Iteration 50|reward:   71.0|last_reward_at:   47|Elapsed Time: 0:00:00||\n"
     ]
    },
    {
     "name": "stdout",
     "output_type": "stream",
     "text": [
      "  Episode 4 stopped at t=50 \n",
      "  Breakdown [Reward/NoReward (Success rate)]\n",
      "    explore-local: 8/11 (0.42)\n",
      "    explore-remote: 0/17 (0.00)\n",
      "    explore-connect: 1/10 (0.09)\n",
      "    exploit-local: 0/0 (NaN)\n",
      "    exploit-remote: 0/0 (NaN)\n",
      "    exploit-connect: 3/0 (1.00)\n",
      "  exploit deflected to exploration: 1\n",
      "  ## Episode: 5/20 'DQL' ϵ=0.8968, γ=0.015, lr=0.01, replaymemory=10000,\n",
      "batch=512, target_update=5\n"
     ]
    },
    {
     "name": "stderr",
     "output_type": "stream",
     "text": [
      "Episode 5|Iteration 0|reward: ------|last_reward_at: ----|Elapsed Time: 0:00:00||\n",
      "Episode 5|Iteration 1|reward:    0.0|last_reward_at: ----|Elapsed Time: 0:00:00||\n",
      "Episode 5|Iteration 4|reward:    6.0|last_reward_at: ----|Elapsed Time: 0:00:00||\n",
      "Episode 5|Iteration 4|reward:    6.0|last_reward_at:    4|Elapsed Time: 0:00:00||\n",
      "Episode 5|Iteration 5|reward:   12.0|last_reward_at:    4|Elapsed Time: 0:00:00||\n",
      "Episode 5|Iteration 5|reward:   12.0|last_reward_at:    5|Elapsed Time: 0:00:00||\n",
      "Episode 5|Iteration 6|reward:   30.0|last_reward_at:    5|Elapsed Time: 0:00:00||\n",
      "Episode 5|Iteration 6|reward:   30.0|last_reward_at:    6|Elapsed Time: 0:00:00||\n",
      "Episode 5|Iteration 10|reward:   30.0|last_reward_at:    6|Elapsed Time: 0:00:00||\n",
      "Episode 5|Iteration 14|reward:   30.0|last_reward_at:    6|Elapsed Time: 0:00:00||\n",
      "Episode 5|Iteration 14|reward:   36.0|last_reward_at:    6|Elapsed Time: 0:00:00||\n",
      "Episode 5|Iteration 14|reward:   36.0|last_reward_at:   14|Elapsed Time: 0:00:00||\n",
      "Episode 5|Iteration 15|reward:   37.0|last_reward_at:   14|Elapsed Time: 0:00:00||\n",
      "Episode 5|Iteration 15|reward:   37.0|last_reward_at:   15|Elapsed Time: 0:00:00||\n",
      "Episode 5|Iteration 20|reward:   37.0|last_reward_at:   15|Elapsed Time: 0:00:00||\n",
      "Episode 5|Iteration 24|reward:   37.0|last_reward_at:   15|Elapsed Time: 0:00:00||\n",
      "Episode 5|Iteration 27|reward:   42.0|last_reward_at:   15|Elapsed Time: 0:00:00||\n",
      "Episode 5|Iteration 27|reward:   42.0|last_reward_at:   27|Elapsed Time: 0:00:00||\n",
      "Episode 5|Iteration 32|reward:   42.0|last_reward_at:   27|Elapsed Time: 0:00:00||\n",
      "Episode 5|Iteration 36|reward:   42.0|last_reward_at:   27|Elapsed Time: 0:00:00||\n",
      "Episode 5|Iteration 39|reward:   43.0|last_reward_at:   27|Elapsed Time: 0:00:00||\n",
      "Episode 5|Iteration 39|reward:   43.0|last_reward_at:   39|Elapsed Time: 0:00:00||\n",
      "Episode 5|Iteration 40|reward:   49.0|last_reward_at:   39|Elapsed Time: 0:00:00||\n",
      "Episode 5|Iteration 40|reward:   49.0|last_reward_at:   40|Elapsed Time: 0:00:00||\n",
      "Episode 5|Iteration 41|reward:   50.0|last_reward_at:   40|Elapsed Time: 0:00:00||\n",
      "Episode 5|Iteration 41|reward:   50.0|last_reward_at:   41|Elapsed Time: 0:00:00||\n",
      "Episode 5|Iteration 46|reward:   50.0|last_reward_at:   41|Elapsed Time: 0:00:00||\n",
      "Episode 5|Iteration 49|reward:   50.0|last_reward_at:   41|Elapsed Time: 0:00:00||\n",
      "Episode 5|Iteration 50|reward:   50.0|last_reward_at:   41|Elapsed Time: 0:00:00||\n"
     ]
    },
    {
     "name": "stdout",
     "output_type": "stream",
     "text": [
      "  Episode 5 stopped at t=50 \n",
      "  Breakdown [Reward/NoReward (Success rate)]\n",
      "    explore-local: 4/9 (0.31)\n",
      "    explore-remote: 0/20 (0.00)\n",
      "    explore-connect: 0/12 (0.00)\n",
      "    exploit-local: 1/0 (1.00)\n",
      "    exploit-remote: 0/0 (NaN)\n",
      "    exploit-connect: 4/0 (1.00)\n",
      "  exploit deflected to exploration: 0\n",
      "  ## Episode: 6/20 'DQL' ϵ=0.8960, γ=0.015, lr=0.01, replaymemory=10000,\n",
      "batch=512, target_update=5\n"
     ]
    },
    {
     "name": "stderr",
     "output_type": "stream",
     "text": [
      "Episode 6|Iteration 0|reward: ------|last_reward_at: ----|Elapsed Time: 0:00:00||\n",
      "Episode 6|Iteration 1|reward:    0.0|last_reward_at: ----|Elapsed Time: 0:00:00||\n",
      "Episode 6|Iteration 3|reward:   18.0|last_reward_at: ----|Elapsed Time: 0:00:00||\n",
      "Episode 6|Iteration 3|reward:   18.0|last_reward_at:    3|Elapsed Time: 0:00:00||\n",
      "Episode 6|Iteration 8|reward:   18.0|last_reward_at:    3|Elapsed Time: 0:00:00||\n",
      "Episode 6|Iteration 10|reward:   24.0|last_reward_at:    3|Elapsed Time: 0:00:00||\n",
      "Episode 6|Iteration 10|reward:   24.0|last_reward_at:   10|Elapsed Time: 0:00:00||\n",
      "Episode 6|Iteration 11|reward:   29.0|last_reward_at:   10|Elapsed Time: 0:00:00||\n",
      "Episode 6|Iteration 11|reward:   29.0|last_reward_at:   11|Elapsed Time: 0:00:00||\n",
      "Episode 6|Iteration 16|reward:   29.0|last_reward_at:   11|Elapsed Time: 0:00:00||\n",
      "Episode 6|Iteration 17|reward:   30.0|last_reward_at:   11|Elapsed Time: 0:00:00||\n",
      "Episode 6|Iteration 17|reward:   30.0|last_reward_at:   17|Elapsed Time: 0:00:00||\n",
      "Episode 6|Iteration 19|reward:   36.0|last_reward_at:   17|Elapsed Time: 0:00:00||\n",
      "Episode 6|Iteration 19|reward:   36.0|last_reward_at:   19|Elapsed Time: 0:00:00||\n",
      "Episode 6|Iteration 21|reward:   42.0|last_reward_at:   19|Elapsed Time: 0:00:00||\n",
      "Episode 6|Iteration 21|reward:   42.0|last_reward_at:   21|Elapsed Time: 0:00:00||\n",
      "Episode 6|Iteration 26|reward:   42.0|last_reward_at:   21|Elapsed Time: 0:00:00||\n",
      "Episode 6|Iteration 29|reward:   42.0|last_reward_at:   21|Elapsed Time: 0:00:00||\n",
      "Episode 6|Iteration 30|reward:   43.0|last_reward_at:   21|Elapsed Time: 0:00:00||\n",
      "Episode 6|Iteration 30|reward:   43.0|last_reward_at:   30|Elapsed Time: 0:00:00||\n",
      "Episode 6|Iteration 32|reward:   49.0|last_reward_at:   30|Elapsed Time: 0:00:00||\n",
      "Episode 6|Iteration 32|reward:   49.0|last_reward_at:   32|Elapsed Time: 0:00:00||\n",
      "Episode 6|Iteration 34|reward:   55.0|last_reward_at:   32|Elapsed Time: 0:00:00||\n",
      "Episode 6|Iteration 34|reward:   55.0|last_reward_at:   34|Elapsed Time: 0:00:00||\n",
      "Episode 6|Iteration 35|reward:   61.0|last_reward_at:   34|Elapsed Time: 0:00:00||\n",
      "Episode 6|Iteration 35|reward:   61.0|last_reward_at:   35|Elapsed Time: 0:00:00||\n",
      "Episode 6|Iteration 40|reward:   61.0|last_reward_at:   35|Elapsed Time: 0:00:00||\n",
      "Episode 6|Iteration 41|reward:   62.0|last_reward_at:   35|Elapsed Time: 0:00:00||\n",
      "Episode 6|Iteration 41|reward:   62.0|last_reward_at:   41|Elapsed Time: 0:00:00||\n",
      "Episode 6|Iteration 42|reward:   68.0|last_reward_at:   41|Elapsed Time: 0:00:00||\n",
      "Episode 6|Iteration 42|reward:   68.0|last_reward_at:   42|Elapsed Time: 0:00:00||\n",
      "Episode 6|Iteration 46|reward:   74.0|last_reward_at:   42|Elapsed Time: 0:00:00||\n",
      "Episode 6|Iteration 46|reward:   74.0|last_reward_at:   46|Elapsed Time: 0:00:00||\n",
      "Episode 6|Iteration 50|reward:   74.0|last_reward_at:   46|Elapsed Time: 0:00:00||\n"
     ]
    },
    {
     "name": "stdout",
     "output_type": "stream",
     "text": [
      "  Episode 6 stopped at t=50 \n",
      "  Breakdown [Reward/NoReward (Success rate)]\n",
      "    explore-local: 9/8 (0.53)\n",
      "    explore-remote: 0/13 (0.00)\n",
      "    explore-connect: 0/16 (0.00)\n",
      "    exploit-local: 0/0 (NaN)\n",
      "    exploit-remote: 0/0 (NaN)\n",
      "    exploit-connect: 4/0 (1.00)\n",
      "  exploit deflected to exploration: 0\n",
      "  ## Episode: 7/20 'DQL' ϵ=0.8952, γ=0.015, lr=0.01, replaymemory=10000,\n",
      "batch=512, target_update=5\n"
     ]
    },
    {
     "name": "stderr",
     "output_type": "stream",
     "text": [
      "Episode 7|Iteration 0|reward: ------|last_reward_at: ----|Elapsed Time: 0:00:00||\n",
      "Episode 7|Iteration 1|reward:   18.0|last_reward_at: ----|Elapsed Time: 0:00:00||\n",
      "Episode 7|Iteration 1|reward:   18.0|last_reward_at:    1|Elapsed Time: 0:00:00||\n",
      "Episode 7|Iteration 6|reward:   18.0|last_reward_at:    1|Elapsed Time: 0:00:00||\n",
      "Episode 7|Iteration 8|reward:   19.0|last_reward_at:    1|Elapsed Time: 0:00:00||\n",
      "Episode 7|Iteration 8|reward:   19.0|last_reward_at:    8|Elapsed Time: 0:00:00||\n",
      "Episode 7|Iteration 9|reward:   25.0|last_reward_at:    8|Elapsed Time: 0:00:00||\n",
      "Episode 7|Iteration 9|reward:   25.0|last_reward_at:    9|Elapsed Time: 0:00:00||\n",
      "Episode 7|Iteration 11|reward:   30.0|last_reward_at:    9|Elapsed Time: 0:00:00||\n",
      "Episode 7|Iteration 11|reward:   30.0|last_reward_at:   11|Elapsed Time: 0:00:00||\n",
      "Episode 7|Iteration 13|reward:   31.0|last_reward_at:   11|Elapsed Time: 0:00:00||\n",
      "Episode 7|Iteration 13|reward:   31.0|last_reward_at:   13|Elapsed Time: 0:00:00||\n",
      "Episode 7|Iteration 16|reward:   37.0|last_reward_at:   13|Elapsed Time: 0:00:00||\n",
      "Episode 7|Iteration 16|reward:   37.0|last_reward_at:   16|Elapsed Time: 0:00:00||\n",
      "Episode 7|Iteration 17|reward:   43.0|last_reward_at:   16|Elapsed Time: 0:00:00||\n",
      "Episode 7|Iteration 17|reward:   43.0|last_reward_at:   17|Elapsed Time: 0:00:00||\n",
      "Episode 7|Iteration 19|reward:   44.0|last_reward_at:   17|Elapsed Time: 0:00:00||\n",
      "Episode 7|Iteration 19|reward:   44.0|last_reward_at:   19|Elapsed Time: 0:00:00||\n",
      "Episode 7|Iteration 20|reward:   53.0|last_reward_at:   19|Elapsed Time: 0:00:00||\n",
      "Episode 7|Iteration 20|reward:   53.0|last_reward_at:   20|Elapsed Time: 0:00:00||\n",
      "Episode 7|Iteration 25|reward:   53.0|last_reward_at:   20|Elapsed Time: 0:00:00||\n",
      "Episode 7|Iteration 29|reward:   53.0|last_reward_at:   20|Elapsed Time: 0:00:00||\n",
      "Episode 7|Iteration 30|reward:  153.0|last_reward_at:   20|Elapsed Time: 0:00:00||\n",
      "Episode 7|Iteration 30|reward:  153.0|last_reward_at:   30|Elapsed Time: 0:00:00||\n",
      "Episode 7|Iteration 31|reward:  435.0|last_reward_at:   30|Elapsed Time: 0:00:00||\n",
      "Episode 7|Iteration 31|reward:  435.0|last_reward_at:   31|Elapsed Time: 0:00:00||\n",
      "Episode 7|Iteration 33|reward:  441.0|last_reward_at:   31|Elapsed Time: 0:00:00||\n",
      "Episode 7|Iteration 33|reward:  441.0|last_reward_at:   33|Elapsed Time: 0:00:00||\n",
      "Episode 7|Iteration 37|reward:  441.0|last_reward_at:   33|Elapsed Time: 0:00:00||\n",
      "Episode 7|Iteration 41|reward:  441.0|last_reward_at:   33|Elapsed Time: 0:00:00||\n",
      "Episode 7|Iteration 41|reward:  447.0|last_reward_at:   33|Elapsed Time: 0:00:00||\n",
      "Episode 7|Iteration 41|reward:  447.0|last_reward_at:   41|Elapsed Time: 0:00:00||\n",
      "Episode 7|Iteration 44|reward: 5447.0|last_reward_at:   41|Elapsed Time: 0:00:00||\n",
      "Episode 7|Iteration 44|reward: 5447.0|last_reward_at:   44|Elapsed Time: 0:00:00||\n"
     ]
    },
    {
     "name": "stdout",
     "output_type": "stream",
     "text": [
      "  Episode 7 ended at t=44 \n",
      "  Breakdown [Reward/NoReward (Success rate)]\n",
      "    explore-local: 5/6 (0.45)\n",
      "    explore-remote: 0/9 (0.00)\n",
      "    explore-connect: 0/15 (0.00)\n",
      "    exploit-local: 3/0 (1.00)\n",
      "    exploit-remote: 0/0 (NaN)\n",
      "    exploit-connect: 6/0 (1.00)\n",
      "  exploit deflected to exploration: 0\n",
      "  ## Episode: 8/20 'DQL' ϵ=0.8945, γ=0.015, lr=0.01, replaymemory=10000,\n",
      "batch=512, target_update=5\n"
     ]
    },
    {
     "name": "stderr",
     "output_type": "stream",
     "text": [
      "Episode 8|Iteration 0|reward: ------|last_reward_at: ----|Elapsed Time: 0:00:00||\n",
      "Episode 8|Iteration 1|reward:    0.0|last_reward_at: ----|Elapsed Time: 0:00:00||\n",
      "Episode 8|Iteration 6|reward:    0.0|last_reward_at: ----|Elapsed Time: 0:00:00||\n",
      "Episode 8|Iteration 6|reward:   18.0|last_reward_at: ----|Elapsed Time: 0:00:00||\n",
      "Episode 8|Iteration 6|reward:   18.0|last_reward_at:    6|Elapsed Time: 0:00:00||\n",
      "Episode 8|Iteration 7|reward:   19.0|last_reward_at:    6|Elapsed Time: 0:00:00||\n",
      "Episode 8|Iteration 7|reward:   19.0|last_reward_at:    7|Elapsed Time: 0:00:00||\n",
      "Episode 8|Iteration 8|reward:   25.0|last_reward_at:    7|Elapsed Time: 0:00:00||\n",
      "Episode 8|Iteration 8|reward:   25.0|last_reward_at:    8|Elapsed Time: 0:00:00||\n",
      "Episode 8|Iteration 9|reward:   26.0|last_reward_at:    8|Elapsed Time: 0:00:00||\n",
      "Episode 8|Iteration 9|reward:   26.0|last_reward_at:    9|Elapsed Time: 0:00:00||\n",
      "Episode 8|Iteration 10|reward:   32.0|last_reward_at:    9|Elapsed Time: 0:00:00||\n",
      "Episode 8|Iteration 10|reward:   32.0|last_reward_at:   10|Elapsed Time: 0:00:00||\n",
      "Episode 8|Iteration 11|reward:   37.0|last_reward_at:   10|Elapsed Time: 0:00:00||\n",
      "Episode 8|Iteration 11|reward:   37.0|last_reward_at:   11|Elapsed Time: 0:00:00||\n",
      "Episode 8|Iteration 12|reward:   43.0|last_reward_at:   11|Elapsed Time: 0:00:00||\n",
      "Episode 8|Iteration 12|reward:   43.0|last_reward_at:   12|Elapsed Time: 0:00:00||\n",
      "Episode 8|Iteration 16|reward:   43.0|last_reward_at:   12|Elapsed Time: 0:00:00||\n",
      "Episode 8|Iteration 20|reward:   43.0|last_reward_at:   12|Elapsed Time: 0:00:00||\n",
      "Episode 8|Iteration 24|reward:   43.0|last_reward_at:   12|Elapsed Time: 0:00:00||\n",
      "Episode 8|Iteration 27|reward:   43.0|last_reward_at:   12|Elapsed Time: 0:00:00||\n",
      "Episode 8|Iteration 31|reward:   43.0|last_reward_at:   12|Elapsed Time: 0:00:00||\n",
      "Episode 8|Iteration 35|reward:   43.0|last_reward_at:   12|Elapsed Time: 0:00:00||\n",
      "Episode 8|Iteration 39|reward:   43.0|last_reward_at:   12|Elapsed Time: 0:00:00||\n",
      "Episode 8|Iteration 39|reward:   44.0|last_reward_at:   12|Elapsed Time: 0:00:00||\n",
      "Episode 8|Iteration 39|reward:   44.0|last_reward_at:   39|Elapsed Time: 0:00:00||\n",
      "Episode 8|Iteration 40|reward:   50.0|last_reward_at:   39|Elapsed Time: 0:00:00||\n",
      "Episode 8|Iteration 40|reward:   50.0|last_reward_at:   40|Elapsed Time: 0:00:00||\n",
      "Episode 8|Iteration 45|reward:   50.0|last_reward_at:   40|Elapsed Time: 0:00:00||\n",
      "Episode 8|Iteration 45|reward:   56.0|last_reward_at:   40|Elapsed Time: 0:00:00||\n",
      "Episode 8|Iteration 45|reward:   56.0|last_reward_at:   45|Elapsed Time: 0:00:00||\n",
      "Episode 8|Iteration 50|reward:   56.0|last_reward_at:   45|Elapsed Time: 0:00:00||\n",
      "Episode 8|Iteration 50|reward:   56.0|last_reward_at:   45|Elapsed Time: 0:00:00||\n"
     ]
    },
    {
     "name": "stdout",
     "output_type": "stream",
     "text": [
      "  Episode 8 stopped at t=50 \n",
      "  Breakdown [Reward/NoReward (Success rate)]\n",
      "    explore-local: 5/8 (0.38)\n",
      "    explore-remote: 0/19 (0.00)\n",
      "    explore-connect: 0/13 (0.00)\n",
      "    exploit-local: 1/0 (1.00)\n",
      "    exploit-remote: 0/0 (NaN)\n",
      "    exploit-connect: 4/0 (1.00)\n",
      "  exploit deflected to exploration: 0\n",
      "  ## Episode: 9/20 'DQL' ϵ=0.8937, γ=0.015, lr=0.01, replaymemory=10000,\n",
      "batch=512, target_update=5\n"
     ]
    },
    {
     "name": "stderr",
     "output_type": "stream",
     "text": [
      "Episode 9|Iteration 0|reward: ------|last_reward_at: ----|Elapsed Time: 0:00:00||\n",
      "Episode 9|Iteration 1|reward:    6.0|last_reward_at: ----|Elapsed Time: 0:00:00||\n",
      "Episode 9|Iteration 1|reward:    6.0|last_reward_at:    1|Elapsed Time: 0:00:00||\n",
      "Episode 9|Iteration 4|reward:   24.0|last_reward_at:    1|Elapsed Time: 0:00:00||\n",
      "Episode 9|Iteration 4|reward:   24.0|last_reward_at:    4|Elapsed Time: 0:00:00||\n",
      "Episode 9|Iteration 5|reward:   29.0|last_reward_at:    4|Elapsed Time: 0:00:00||\n",
      "Episode 9|Iteration 5|reward:   29.0|last_reward_at:    5|Elapsed Time: 0:00:00||\n",
      "Episode 9|Iteration 10|reward:   29.0|last_reward_at:    5|Elapsed Time: 0:00:00||\n",
      "Episode 9|Iteration 11|reward:   35.0|last_reward_at:    5|Elapsed Time: 0:00:00||\n",
      "Episode 9|Iteration 11|reward:   35.0|last_reward_at:   11|Elapsed Time: 0:00:00||\n",
      "Episode 9|Iteration 12|reward:   36.0|last_reward_at:   11|Elapsed Time: 0:00:00||\n",
      "Episode 9|Iteration 12|reward:   36.0|last_reward_at:   12|Elapsed Time: 0:00:00||\n",
      "Episode 9|Iteration 15|reward:   42.0|last_reward_at:   12|Elapsed Time: 0:00:00||\n",
      "Episode 9|Iteration 15|reward:   42.0|last_reward_at:   15|Elapsed Time: 0:00:00||\n",
      "Episode 9|Iteration 19|reward:   42.0|last_reward_at:   15|Elapsed Time: 0:00:00||\n",
      "Episode 9|Iteration 22|reward:   42.0|last_reward_at:   15|Elapsed Time: 0:00:00||\n",
      "Episode 9|Iteration 25|reward:   48.0|last_reward_at:   15|Elapsed Time: 0:00:00||\n",
      "Episode 9|Iteration 25|reward:   48.0|last_reward_at:   25|Elapsed Time: 0:00:00||\n",
      "Episode 9|Iteration 29|reward:   48.0|last_reward_at:   25|Elapsed Time: 0:00:00||\n",
      "Episode 9|Iteration 29|reward:   49.0|last_reward_at:   25|Elapsed Time: 0:00:00||\n",
      "Episode 9|Iteration 29|reward:   49.0|last_reward_at:   29|Elapsed Time: 0:00:00||\n",
      "Episode 9|Iteration 34|reward:   49.0|last_reward_at:   29|Elapsed Time: 0:00:00||\n",
      "Episode 9|Iteration 38|reward:   49.0|last_reward_at:   29|Elapsed Time: 0:00:00||\n",
      "Episode 9|Iteration 41|reward:   50.0|last_reward_at:   29|Elapsed Time: 0:00:00||\n",
      "Episode 9|Iteration 41|reward:   50.0|last_reward_at:   41|Elapsed Time: 0:00:00||\n",
      "Episode 9|Iteration 43|reward:   56.0|last_reward_at:   41|Elapsed Time: 0:00:00||\n",
      "Episode 9|Iteration 43|reward:   56.0|last_reward_at:   43|Elapsed Time: 0:00:00||\n",
      "Episode 9|Iteration 44|reward:   65.0|last_reward_at:   43|Elapsed Time: 0:00:00||\n",
      "Episode 9|Iteration 44|reward:   65.0|last_reward_at:   44|Elapsed Time: 0:00:00||\n",
      "Episode 9|Iteration 49|reward:   65.0|last_reward_at:   44|Elapsed Time: 0:00:00||\n",
      "Episode 9|Iteration 50|reward:   65.0|last_reward_at:   44|Elapsed Time: 0:00:00||\n"
     ]
    },
    {
     "name": "stdout",
     "output_type": "stream",
     "text": [
      "  Episode 9 stopped at t=50 \n",
      "  Breakdown [Reward/NoReward (Success rate)]\n",
      "    explore-local: 5/12 (0.29)\n",
      "    explore-remote: 0/13 (0.00)\n",
      "    explore-connect: 0/14 (0.00)\n",
      "    exploit-local: 2/0 (1.00)\n",
      "    exploit-remote: 0/0 (NaN)\n",
      "    exploit-connect: 4/0 (1.00)\n",
      "  exploit deflected to exploration: 0\n",
      "  ## Episode: 10/20 'DQL' ϵ=0.8929, γ=0.015, lr=0.01, replaymemory=10000,\n",
      "batch=512, target_update=5\n"
     ]
    },
    {
     "name": "stderr",
     "output_type": "stream",
     "text": [
      "Episode 10|Iteration 0|reward: ------|last_reward_at: ----|Elapsed Time: 0:00:00||\n",
      "Episode 10|Iteration 1|reward:    0.0|last_reward_at: ----|Elapsed Time: 0:00:00||\n",
      "Episode 10|Iteration 3|reward:    6.0|last_reward_at: ----|Elapsed Time: 0:00:00||\n",
      "Episode 10|Iteration 3|reward:    6.0|last_reward_at:    3|Elapsed Time: 0:00:00||\n",
      "Episode 10|Iteration 6|reward:   24.0|last_reward_at:    3|Elapsed Time: 0:00:00||\n",
      "Episode 10|Iteration 6|reward:   24.0|last_reward_at:    6|Elapsed Time: 0:00:00||\n",
      "Episode 10|Iteration 7|reward:   25.0|last_reward_at:    6|Elapsed Time: 0:00:00||\n",
      "Episode 10|Iteration 7|reward:   25.0|last_reward_at:    7|Elapsed Time: 0:00:00||\n",
      "Episode 10|Iteration 12|reward:   25.0|last_reward_at:    7|Elapsed Time: 0:00:00||\n",
      "Episode 10|Iteration 14|reward:   31.0|last_reward_at:    7|Elapsed Time: 0:00:00||\n",
      "Episode 10|Iteration 14|reward:   31.0|last_reward_at:   14|Elapsed Time: 0:00:00||\n",
      "Episode 10|Iteration 17|reward:   36.0|last_reward_at:   14|Elapsed Time: 0:00:00||\n",
      "Episode 10|Iteration 17|reward:   36.0|last_reward_at:   17|Elapsed Time: 0:00:00||\n",
      "Episode 10|Iteration 21|reward:   42.0|last_reward_at:   17|Elapsed Time: 0:00:00||\n",
      "Episode 10|Iteration 21|reward:   42.0|last_reward_at:   21|Elapsed Time: 0:00:00||\n",
      "Episode 10|Iteration 23|reward:   43.0|last_reward_at:   21|Elapsed Time: 0:00:00||\n",
      "Episode 10|Iteration 23|reward:   43.0|last_reward_at:   23|Elapsed Time: 0:00:00||\n",
      "Episode 10|Iteration 26|reward:   44.0|last_reward_at:   23|Elapsed Time: 0:00:00||\n",
      "Episode 10|Iteration 26|reward:   44.0|last_reward_at:   26|Elapsed Time: 0:00:00||\n",
      "Episode 10|Iteration 28|reward:   50.0|last_reward_at:   26|Elapsed Time: 0:00:00||\n",
      "Episode 10|Iteration 28|reward:   50.0|last_reward_at:   28|Elapsed Time: 0:00:00||\n",
      "Episode 10|Iteration 30|reward:   56.0|last_reward_at:   28|Elapsed Time: 0:00:00||\n",
      "Episode 10|Iteration 30|reward:   56.0|last_reward_at:   30|Elapsed Time: 0:00:00||\n",
      "Episode 10|Iteration 33|reward:   62.0|last_reward_at:   30|Elapsed Time: 0:00:00||\n",
      "Episode 10|Iteration 33|reward:   62.0|last_reward_at:   33|Elapsed Time: 0:00:00||\n",
      "Episode 10|Iteration 38|reward:   62.0|last_reward_at:   33|Elapsed Time: 0:00:00||\n",
      "Episode 10|Iteration 42|reward:   62.0|last_reward_at:   33|Elapsed Time: 0:00:00||\n",
      "Episode 10|Iteration 45|reward:   68.0|last_reward_at:   33|Elapsed Time: 0:00:00||\n",
      "Episode 10|Iteration 45|reward:   68.0|last_reward_at:   45|Elapsed Time: 0:00:00||\n",
      "Episode 10|Iteration 49|reward:   77.0|last_reward_at:   45|Elapsed Time: 0:00:00||\n",
      "Episode 10|Iteration 49|reward:   77.0|last_reward_at:   49|Elapsed Time: 0:00:00||\n",
      "Episode 10|Iteration 50|reward:   77.0|last_reward_at:   49|Elapsed Time: 0:00:00||\n"
     ]
    },
    {
     "name": "stdout",
     "output_type": "stream",
     "text": [
      "  Episode 10 stopped at t=50 \n",
      "  Breakdown [Reward/NoReward (Success rate)]\n",
      "    explore-local: 7/8 (0.47)\n",
      "    explore-remote: 0/20 (0.00)\n",
      "    explore-connect: 1/9 (0.10)\n",
      "    exploit-local: 2/0 (1.00)\n",
      "    exploit-remote: 0/0 (NaN)\n",
      "    exploit-connect: 3/0 (1.00)\n",
      "  exploit deflected to exploration: 0\n",
      "  ## Episode: 11/20 'DQL' ϵ=0.8922, γ=0.015, lr=0.01, replaymemory=10000,\n",
      "batch=512, target_update=5\n"
     ]
    },
    {
     "name": "stderr",
     "output_type": "stream",
     "text": [
      "Episode 11|Iteration 0|reward: ------|last_reward_at: ----|Elapsed Time: 0:00:00||\n",
      "Episode 11|Iteration 1|reward:    0.0|last_reward_at: ----|Elapsed Time: 0:00:00||\n",
      "Episode 11|Iteration 2|reward:   18.0|last_reward_at: ----|Elapsed Time: 0:00:00||\n",
      "Episode 11|Iteration 2|reward:   18.0|last_reward_at:    2|Elapsed Time: 0:00:00||\n",
      "Episode 11|Iteration 7|reward:   18.0|last_reward_at:    2|Elapsed Time: 0:00:00||\n",
      "Episode 11|Iteration 10|reward:   18.0|last_reward_at:    2|Elapsed Time: 0:00:00||\n",
      "Episode 11|Iteration 10|reward:   24.0|last_reward_at:    2|Elapsed Time: 0:00:00||\n",
      "Episode 11|Iteration 10|reward:   24.0|last_reward_at:   10|Elapsed Time: 0:00:00||\n",
      "Episode 11|Iteration 12|reward:   30.0|last_reward_at:   10|Elapsed Time: 0:00:00||\n",
      "Episode 11|Iteration 12|reward:   30.0|last_reward_at:   12|Elapsed Time: 0:00:00||\n",
      "Episode 11|Iteration 17|reward:   30.0|last_reward_at:   12|Elapsed Time: 0:00:00||\n",
      "Episode 11|Iteration 18|reward:   36.0|last_reward_at:   12|Elapsed Time: 0:00:00||\n",
      "Episode 11|Iteration 18|reward:   36.0|last_reward_at:   18|Elapsed Time: 0:00:00||\n",
      "Episode 11|Iteration 23|reward:   36.0|last_reward_at:   18|Elapsed Time: 0:00:00||\n",
      "Episode 11|Iteration 24|reward:   41.0|last_reward_at:   18|Elapsed Time: 0:00:00||\n",
      "Episode 11|Iteration 24|reward:   41.0|last_reward_at:   24|Elapsed Time: 0:00:00||\n",
      "Episode 11|Iteration 25|reward:   42.0|last_reward_at:   24|Elapsed Time: 0:00:00||\n",
      "Episode 11|Iteration 25|reward:   42.0|last_reward_at:   25|Elapsed Time: 0:00:00||\n",
      "Episode 11|Iteration 28|reward:   43.0|last_reward_at:   25|Elapsed Time: 0:00:00||\n",
      "Episode 11|Iteration 28|reward:   43.0|last_reward_at:   28|Elapsed Time: 0:00:00||\n",
      "Episode 11|Iteration 29|reward:   44.0|last_reward_at:   28|Elapsed Time: 0:00:00||\n",
      "Episode 11|Iteration 29|reward:   44.0|last_reward_at:   29|Elapsed Time: 0:00:00||\n",
      "Episode 11|Iteration 34|reward:   44.0|last_reward_at:   29|Elapsed Time: 0:00:00||\n",
      "Episode 11|Iteration 37|reward:   50.0|last_reward_at:   29|Elapsed Time: 0:00:00||\n",
      "Episode 11|Iteration 37|reward:   50.0|last_reward_at:   37|Elapsed Time: 0:00:00||\n",
      "Episode 11|Iteration 41|reward:   50.0|last_reward_at:   37|Elapsed Time: 0:00:00||\n",
      "Episode 11|Iteration 41|reward:   56.0|last_reward_at:   37|Elapsed Time: 0:00:00||\n",
      "Episode 11|Iteration 41|reward:   56.0|last_reward_at:   41|Elapsed Time: 0:00:00||\n",
      "Episode 11|Iteration 46|reward:   56.0|last_reward_at:   41|Elapsed Time: 0:00:00||\n",
      "Episode 11|Iteration 46|reward:   65.0|last_reward_at:   41|Elapsed Time: 0:00:00||\n",
      "Episode 11|Iteration 46|reward:   65.0|last_reward_at:   46|Elapsed Time: 0:00:00||\n",
      "Episode 11|Iteration 50|reward:   65.0|last_reward_at:   46|Elapsed Time: 0:00:00||\n"
     ]
    },
    {
     "name": "stdout",
     "output_type": "stream",
     "text": [
      "  Episode 11 stopped at t=50 \n",
      "  Breakdown [Reward/NoReward (Success rate)]\n",
      "    explore-local: 6/5 (0.55)\n",
      "    explore-remote: 0/19 (0.00)\n",
      "    explore-connect: 2/15 (0.12)\n",
      "    exploit-local: 1/0 (1.00)\n",
      "    exploit-remote: 0/0 (NaN)\n",
      "    exploit-connect: 2/0 (1.00)\n",
      "  exploit deflected to exploration: 0\n",
      "  ## Episode: 12/20 'DQL' ϵ=0.8914, γ=0.015, lr=0.01, replaymemory=10000,\n",
      "batch=512, target_update=5\n"
     ]
    },
    {
     "name": "stderr",
     "output_type": "stream",
     "text": [
      "Episode 12|Iteration 0|reward: ------|last_reward_at: ----|Elapsed Time: 0:00:00||\n",
      "Episode 12|Iteration 1|reward:    0.0|last_reward_at: ----|Elapsed Time: 0:00:00||\n",
      "Episode 12|Iteration 6|reward:    0.0|last_reward_at: ----|Elapsed Time: 0:00:00||\n",
      "Episode 12|Iteration 7|reward:   18.0|last_reward_at: ----|Elapsed Time: 0:00:00||\n",
      "Episode 12|Iteration 7|reward:   18.0|last_reward_at:    7|Elapsed Time: 0:00:00||\n",
      "Episode 12|Iteration 8|reward:   24.0|last_reward_at:    7|Elapsed Time: 0:00:00||\n",
      "Episode 12|Iteration 8|reward:   24.0|last_reward_at:    8|Elapsed Time: 0:00:00||\n",
      "Episode 12|Iteration 9|reward:   29.0|last_reward_at:    8|Elapsed Time: 0:00:00||\n",
      "Episode 12|Iteration 9|reward:   29.0|last_reward_at:    9|Elapsed Time: 0:00:00||\n",
      "Episode 12|Iteration 13|reward:   29.0|last_reward_at:    9|Elapsed Time: 0:00:00||\n",
      "Episode 12|Iteration 13|reward:   35.0|last_reward_at:    9|Elapsed Time: 0:00:00||\n",
      "Episode 12|Iteration 13|reward:   35.0|last_reward_at:   13|Elapsed Time: 0:00:00||\n",
      "Episode 12|Iteration 15|reward:   36.0|last_reward_at:   13|Elapsed Time: 0:00:00||\n",
      "Episode 12|Iteration 15|reward:   36.0|last_reward_at:   15|Elapsed Time: 0:00:00||\n",
      "Episode 12|Iteration 16|reward:   37.0|last_reward_at:   15|Elapsed Time: 0:00:00||\n",
      "Episode 12|Iteration 16|reward:   37.0|last_reward_at:   16|Elapsed Time: 0:00:00||\n",
      "Episode 12|Iteration 17|reward:   43.0|last_reward_at:   16|Elapsed Time: 0:00:00||\n",
      "Episode 12|Iteration 17|reward:   43.0|last_reward_at:   17|Elapsed Time: 0:00:00||\n",
      "Episode 12|Iteration 22|reward:   43.0|last_reward_at:   17|Elapsed Time: 0:00:00||\n",
      "Episode 12|Iteration 24|reward:   44.0|last_reward_at:   17|Elapsed Time: 0:00:00||\n",
      "Episode 12|Iteration 24|reward:   44.0|last_reward_at:   24|Elapsed Time: 0:00:00||\n",
      "Episode 12|Iteration 29|reward:   44.0|last_reward_at:   24|Elapsed Time: 0:00:00||\n",
      "Episode 12|Iteration 31|reward:   50.0|last_reward_at:   24|Elapsed Time: 0:00:00||\n",
      "Episode 12|Iteration 31|reward:   50.0|last_reward_at:   31|Elapsed Time: 0:00:00||\n",
      "Episode 12|Iteration 35|reward:   56.0|last_reward_at:   31|Elapsed Time: 0:00:00||\n",
      "Episode 12|Iteration 35|reward:   56.0|last_reward_at:   35|Elapsed Time: 0:00:00||\n",
      "Episode 12|Iteration 36|reward:   62.0|last_reward_at:   35|Elapsed Time: 0:00:00||\n",
      "Episode 12|Iteration 36|reward:   62.0|last_reward_at:   36|Elapsed Time: 0:00:00||\n",
      "Episode 12|Iteration 39|reward:   68.0|last_reward_at:   36|Elapsed Time: 0:00:00||\n",
      "Episode 12|Iteration 39|reward:   68.0|last_reward_at:   39|Elapsed Time: 0:00:00||\n",
      "Episode 12|Iteration 40|reward:   74.0|last_reward_at:   39|Elapsed Time: 0:00:00||\n",
      "Episode 12|Iteration 40|reward:   74.0|last_reward_at:   40|Elapsed Time: 0:00:00||\n",
      "Episode 12|Iteration 45|reward:   74.0|last_reward_at:   40|Elapsed Time: 0:00:00||\n",
      "Episode 12|Iteration 48|reward:   74.0|last_reward_at:   40|Elapsed Time: 0:00:00||\n",
      "Episode 12|Iteration 50|reward:   74.0|last_reward_at:   40|Elapsed Time: 0:00:00||\n"
     ]
    },
    {
     "name": "stdout",
     "output_type": "stream",
     "text": [
      "  Episode 12 stopped at t=50 \n",
      "  Breakdown [Reward/NoReward (Success rate)]\n",
      "    explore-local: 6/7 (0.46)\n",
      "    explore-remote: 0/18 (0.00)\n",
      "    explore-connect: 0/12 (0.00)\n",
      "    exploit-local: 3/0 (1.00)\n",
      "    exploit-remote: 0/0 (NaN)\n",
      "    exploit-connect: 4/0 (1.00)\n",
      "  exploit deflected to exploration: 0\n",
      "  ## Episode: 13/20 'DQL' ϵ=0.8906, γ=0.015, lr=0.01, replaymemory=10000,\n",
      "batch=512, target_update=5\n"
     ]
    },
    {
     "name": "stderr",
     "output_type": "stream",
     "text": [
      "Episode 13|Iteration 0|reward: ------|last_reward_at: ----|Elapsed Time: 0:00:00||\n",
      "Episode 13|Iteration 1|reward:    6.0|last_reward_at: ----|Elapsed Time: 0:00:00||\n",
      "Episode 13|Iteration 1|reward:    6.0|last_reward_at:    1|Elapsed Time: 0:00:00||\n",
      "Episode 13|Iteration 3|reward:   12.0|last_reward_at:    1|Elapsed Time: 0:00:00||\n",
      "Episode 13|Iteration 3|reward:   12.0|last_reward_at:    3|Elapsed Time: 0:00:00||\n",
      "Episode 13|Iteration 4|reward:   30.0|last_reward_at:    3|Elapsed Time: 0:00:00||\n",
      "Episode 13|Iteration 4|reward:   30.0|last_reward_at:    4|Elapsed Time: 0:00:00||\n",
      "Episode 13|Iteration 5|reward:   31.0|last_reward_at:    4|Elapsed Time: 0:00:00||\n",
      "Episode 13|Iteration 5|reward:   31.0|last_reward_at:    5|Elapsed Time: 0:00:00||\n",
      "Episode 13|Iteration 7|reward:   37.0|last_reward_at:    5|Elapsed Time: 0:00:00||\n",
      "Episode 13|Iteration 7|reward:   37.0|last_reward_at:    7|Elapsed Time: 0:00:00||\n",
      "Episode 13|Iteration 10|reward:   42.0|last_reward_at:    7|Elapsed Time: 0:00:00||\n",
      "Episode 13|Iteration 10|reward:   42.0|last_reward_at:   10|Elapsed Time: 0:00:00||\n",
      "Episode 13|Iteration 12|reward:   43.0|last_reward_at:   10|Elapsed Time: 0:00:00||\n",
      "Episode 13|Iteration 12|reward:   43.0|last_reward_at:   12|Elapsed Time: 0:00:00||\n",
      "Episode 13|Iteration 13|reward:   49.0|last_reward_at:   12|Elapsed Time: 0:00:00||\n",
      "Episode 13|Iteration 13|reward:   49.0|last_reward_at:   13|Elapsed Time: 0:00:00||\n",
      "Episode 13|Iteration 17|reward:   49.0|last_reward_at:   13|Elapsed Time: 0:00:00||\n",
      "Episode 13|Iteration 21|reward:   49.0|last_reward_at:   13|Elapsed Time: 0:00:00||\n",
      "Episode 13|Iteration 21|reward:   50.0|last_reward_at:   13|Elapsed Time: 0:00:00||\n",
      "Episode 13|Iteration 21|reward:   50.0|last_reward_at:   21|Elapsed Time: 0:00:00||\n",
      "Episode 13|Iteration 24|reward:   59.0|last_reward_at:   21|Elapsed Time: 0:00:00||\n",
      "Episode 13|Iteration 24|reward:   59.0|last_reward_at:   24|Elapsed Time: 0:00:00||\n",
      "Episode 13|Iteration 28|reward:  159.0|last_reward_at:   24|Elapsed Time: 0:00:00||\n",
      "Episode 13|Iteration 28|reward:  159.0|last_reward_at:   28|Elapsed Time: 0:00:00||\n",
      "Episode 13|Iteration 32|reward:  165.0|last_reward_at:   28|Elapsed Time: 0:00:00||\n",
      "Episode 13|Iteration 32|reward:  165.0|last_reward_at:   32|Elapsed Time: 0:00:00||\n",
      "Episode 13|Iteration 33|reward:  171.0|last_reward_at:   32|Elapsed Time: 0:00:00||\n",
      "Episode 13|Iteration 33|reward:  171.0|last_reward_at:   33|Elapsed Time: 0:00:00||\n",
      "Episode 13|Iteration 34|reward:  453.0|last_reward_at:   33|Elapsed Time: 0:00:00||\n",
      "Episode 13|Iteration 34|reward:  453.0|last_reward_at:   34|Elapsed Time: 0:00:00||\n",
      "Episode 13|Iteration 38|reward:  459.0|last_reward_at:   34|Elapsed Time: 0:00:00||\n",
      "Episode 13|Iteration 38|reward:  459.0|last_reward_at:   38|Elapsed Time: 0:00:00||\n",
      "Episode 13|Iteration 43|reward:  459.0|last_reward_at:   38|Elapsed Time: 0:00:00||\n",
      "Episode 13|Iteration 46|reward:  459.0|last_reward_at:   38|Elapsed Time: 0:00:00||\n",
      "Episode 13|Iteration 46|reward: 5459.0|last_reward_at:   38|Elapsed Time: 0:00:00||\n",
      "Episode 13|Iteration 46|reward: 5459.0|last_reward_at:   46|Elapsed Time: 0:00:00||\n"
     ]
    },
    {
     "name": "stdout",
     "output_type": "stream",
     "text": [
      "  Episode 13 ended at t=46 \n",
      "  Breakdown [Reward/NoReward (Success rate)]\n",
      "    explore-local: 7/7 (0.50)\n",
      "    explore-remote: 0/13 (0.00)\n",
      "    explore-connect: 2/8 (0.20)\n",
      "    exploit-local: 3/0 (1.00)\n",
      "    exploit-remote: 0/0 (NaN)\n",
      "    exploit-connect: 4/2 (0.67)\n",
      "  exploit deflected to exploration: 0\n",
      "  ## Episode: 14/20 'DQL' ϵ=0.8898, γ=0.015, lr=0.01, replaymemory=10000,\n",
      "batch=512, target_update=5\n"
     ]
    },
    {
     "name": "stderr",
     "output_type": "stream",
     "text": [
      "Episode 14|Iteration 0|reward: ------|last_reward_at: ----|Elapsed Time: 0:00:00||\n",
      "Episode 14|Iteration 1|reward:   18.0|last_reward_at: ----|Elapsed Time: 0:00:00||\n",
      "Episode 14|Iteration 1|reward:   18.0|last_reward_at:    1|Elapsed Time: 0:00:00||\n",
      "Episode 14|Iteration 5|reward:   18.0|last_reward_at:    1|Elapsed Time: 0:00:00||\n",
      "Episode 14|Iteration 5|reward:   24.0|last_reward_at:    1|Elapsed Time: 0:00:00||\n",
      "Episode 14|Iteration 5|reward:   24.0|last_reward_at:    5|Elapsed Time: 0:00:00||\n",
      "Episode 14|Iteration 7|reward:   30.0|last_reward_at:    5|Elapsed Time: 0:00:00||\n",
      "Episode 14|Iteration 7|reward:   30.0|last_reward_at:    7|Elapsed Time: 0:00:00||\n",
      "Episode 14|Iteration 12|reward:   30.0|last_reward_at:    7|Elapsed Time: 0:00:00||\n",
      "Episode 14|Iteration 13|reward:   31.0|last_reward_at:    7|Elapsed Time: 0:00:00||\n",
      "Episode 14|Iteration 13|reward:   31.0|last_reward_at:   13|Elapsed Time: 0:00:00||\n",
      "Episode 14|Iteration 18|reward:   31.0|last_reward_at:   13|Elapsed Time: 0:00:00||\n",
      "Episode 14|Iteration 22|reward:   31.0|last_reward_at:   13|Elapsed Time: 0:00:00||\n",
      "Episode 14|Iteration 24|reward:   37.0|last_reward_at:   13|Elapsed Time: 0:00:00||\n",
      "Episode 14|Iteration 24|reward:   37.0|last_reward_at:   24|Elapsed Time: 0:00:00||\n",
      "Episode 14|Iteration 29|reward:   37.0|last_reward_at:   24|Elapsed Time: 0:00:00||\n",
      "Episode 14|Iteration 30|reward:   43.0|last_reward_at:   24|Elapsed Time: 0:00:00||\n",
      "Episode 14|Iteration 30|reward:   43.0|last_reward_at:   30|Elapsed Time: 0:00:00||\n",
      "Episode 14|Iteration 35|reward:   43.0|last_reward_at:   30|Elapsed Time: 0:00:00||\n",
      "Episode 14|Iteration 36|reward:   49.0|last_reward_at:   30|Elapsed Time: 0:00:00||\n",
      "Episode 14|Iteration 36|reward:   49.0|last_reward_at:   36|Elapsed Time: 0:00:00||\n",
      "Episode 14|Iteration 40|reward:   49.0|last_reward_at:   36|Elapsed Time: 0:00:00||\n",
      "Episode 14|Iteration 41|reward:   50.0|last_reward_at:   36|Elapsed Time: 0:00:00||\n",
      "Episode 14|Iteration 41|reward:   50.0|last_reward_at:   41|Elapsed Time: 0:00:00||\n",
      "Episode 14|Iteration 44|reward:   59.0|last_reward_at:   41|Elapsed Time: 0:00:00||\n",
      "Episode 14|Iteration 44|reward:   59.0|last_reward_at:   44|Elapsed Time: 0:00:00||\n",
      "Episode 14|Iteration 48|reward:   59.0|last_reward_at:   44|Elapsed Time: 0:00:00||\n",
      "Episode 14|Iteration 48|reward:   65.0|last_reward_at:   44|Elapsed Time: 0:00:00||\n",
      "Episode 14|Iteration 48|reward:   65.0|last_reward_at:   48|Elapsed Time: 0:00:00||\n",
      "Episode 14|Iteration 50|reward:   71.0|last_reward_at:   48|Elapsed Time: 0:00:00||\n",
      "Episode 14|Iteration 50|reward:   71.0|last_reward_at:   50|Elapsed Time: 0:00:00||\n",
      "Episode 14|Iteration 50|reward:   71.0|last_reward_at:   50|Elapsed Time: 0:00:00||\n"
     ]
    },
    {
     "name": "stdout",
     "output_type": "stream",
     "text": [
      "  Episode 14 stopped at t=50 \n",
      "  Breakdown [Reward/NoReward (Success rate)]\n",
      "    explore-local: 8/7 (0.53)\n",
      "    explore-remote: 0/19 (0.00)\n",
      "    explore-connect: 0/13 (0.00)\n",
      "    exploit-local: 1/0 (1.00)\n",
      "    exploit-remote: 0/0 (NaN)\n",
      "    exploit-connect: 2/0 (1.00)\n",
      "  exploit deflected to exploration: 0\n",
      "  ## Episode: 15/20 'DQL' ϵ=0.8891, γ=0.015, lr=0.01, replaymemory=10000,\n",
      "batch=512, target_update=5\n"
     ]
    },
    {
     "name": "stderr",
     "output_type": "stream",
     "text": [
      "Episode 15|Iteration 0|reward: ------|last_reward_at: ----|Elapsed Time: 0:00:00||\n",
      "Episode 15|Iteration 1|reward:    6.0|last_reward_at: ----|Elapsed Time: 0:00:00||\n",
      "Episode 15|Iteration 1|reward:    6.0|last_reward_at:    1|Elapsed Time: 0:00:00||\n",
      "Episode 15|Iteration 3|reward:   12.0|last_reward_at:    1|Elapsed Time: 0:00:00||\n",
      "Episode 15|Iteration 3|reward:   12.0|last_reward_at:    3|Elapsed Time: 0:00:00||\n",
      "Episode 15|Iteration 6|reward:   18.0|last_reward_at:    3|Elapsed Time: 0:00:00||\n",
      "Episode 15|Iteration 6|reward:   18.0|last_reward_at:    6|Elapsed Time: 0:00:00||\n",
      "Episode 15|Iteration 10|reward:   18.0|last_reward_at:    6|Elapsed Time: 0:00:00||\n",
      "Episode 15|Iteration 12|reward:   36.0|last_reward_at:    6|Elapsed Time: 0:00:00||\n",
      "Episode 15|Iteration 12|reward:   36.0|last_reward_at:   12|Elapsed Time: 0:00:00||\n",
      "Episode 15|Iteration 16|reward:   36.0|last_reward_at:   12|Elapsed Time: 0:00:00||\n",
      "Episode 15|Iteration 19|reward:   36.0|last_reward_at:   12|Elapsed Time: 0:00:00||\n",
      "Episode 15|Iteration 19|reward:   41.0|last_reward_at:   12|Elapsed Time: 0:00:00||\n",
      "Episode 15|Iteration 19|reward:   41.0|last_reward_at:   19|Elapsed Time: 0:00:00||\n",
      "Episode 15|Iteration 20|reward:   42.0|last_reward_at:   19|Elapsed Time: 0:00:00||\n",
      "Episode 15|Iteration 20|reward:   42.0|last_reward_at:   20|Elapsed Time: 0:00:00||\n",
      "Episode 15|Iteration 22|reward:   43.0|last_reward_at:   20|Elapsed Time: 0:00:00||\n",
      "Episode 15|Iteration 22|reward:   43.0|last_reward_at:   22|Elapsed Time: 0:00:00||\n",
      "Episode 15|Iteration 23|reward:   44.0|last_reward_at:   22|Elapsed Time: 0:00:00||\n",
      "Episode 15|Iteration 23|reward:   44.0|last_reward_at:   23|Elapsed Time: 0:00:00||\n",
      "Episode 15|Iteration 27|reward:   44.0|last_reward_at:   23|Elapsed Time: 0:00:00||\n",
      "Episode 15|Iteration 28|reward:   53.0|last_reward_at:   23|Elapsed Time: 0:00:00||\n",
      "Episode 15|Iteration 28|reward:   53.0|last_reward_at:   28|Elapsed Time: 0:00:00||\n",
      "Episode 15|Iteration 33|reward:   53.0|last_reward_at:   28|Elapsed Time: 0:00:00||\n",
      "Episode 15|Iteration 33|reward:  153.0|last_reward_at:   28|Elapsed Time: 0:00:00||\n",
      "Episode 15|Iteration 33|reward:  153.0|last_reward_at:   33|Elapsed Time: 0:00:00||\n",
      "Episode 15|Iteration 37|reward:  153.0|last_reward_at:   33|Elapsed Time: 0:00:00||\n",
      "Episode 15|Iteration 41|reward:  153.0|last_reward_at:   33|Elapsed Time: 0:00:00||\n",
      "Episode 15|Iteration 42|reward:  159.0|last_reward_at:   33|Elapsed Time: 0:00:00||\n",
      "Episode 15|Iteration 42|reward:  159.0|last_reward_at:   42|Elapsed Time: 0:00:00||\n",
      "Episode 15|Iteration 45|reward:  159.0|last_reward_at:   42|Elapsed Time: 0:00:00||\n",
      "Episode 15|Iteration 45|reward:  441.0|last_reward_at:   42|Elapsed Time: 0:00:00||\n",
      "Episode 15|Iteration 45|reward:  441.0|last_reward_at:   45|Elapsed Time: 0:00:00||\n",
      "Episode 15|Iteration 50|reward:  441.0|last_reward_at:   45|Elapsed Time: 0:00:00||\n",
      "Episode 15|Iteration 50|reward:  441.0|last_reward_at:   45|Elapsed Time: 0:00:01||\n"
     ]
    },
    {
     "name": "stdout",
     "output_type": "stream",
     "text": [
      "  Episode 15 stopped at t=50 \n",
      "  Breakdown [Reward/NoReward (Success rate)]\n",
      "    explore-local: 4/9 (0.31)\n",
      "    explore-remote: 0/19 (0.00)\n",
      "    explore-connect: 0/9 (0.00)\n",
      "    exploit-local: 3/0 (1.00)\n",
      "    exploit-remote: 0/0 (NaN)\n",
      "    exploit-connect: 5/1 (0.83)\n",
      "  exploit deflected to exploration: 1\n",
      "  ## Episode: 16/20 'DQL' ϵ=0.8883, γ=0.015, lr=0.01, replaymemory=10000,\n",
      "batch=512, target_update=5\n"
     ]
    },
    {
     "name": "stderr",
     "output_type": "stream",
     "text": [
      "Episode 16|Iteration 0|reward: ------|last_reward_at: ----|Elapsed Time: 0:00:00||\n",
      "Episode 16|Iteration 1|reward:    6.0|last_reward_at: ----|Elapsed Time: 0:00:00||\n",
      "Episode 16|Iteration 1|reward:    6.0|last_reward_at:    1|Elapsed Time: 0:00:00||\n",
      "Episode 16|Iteration 2|reward:   12.0|last_reward_at:    1|Elapsed Time: 0:00:00||\n",
      "Episode 16|Iteration 2|reward:   12.0|last_reward_at:    2|Elapsed Time: 0:00:00||\n",
      "Episode 16|Iteration 7|reward:   12.0|last_reward_at:    2|Elapsed Time: 0:00:00||\n",
      "Episode 16|Iteration 11|reward:   12.0|last_reward_at:    2|Elapsed Time: 0:00:00||\n",
      "Episode 16|Iteration 14|reward:   12.0|last_reward_at:    2|Elapsed Time: 0:00:00||\n",
      "Episode 16|Iteration 14|reward:   30.0|last_reward_at:    2|Elapsed Time: 0:00:00||\n",
      "Episode 16|Iteration 14|reward:   30.0|last_reward_at:   14|Elapsed Time: 0:00:00||\n",
      "Episode 16|Iteration 18|reward:   30.0|last_reward_at:   14|Elapsed Time: 0:00:00||\n",
      "Episode 16|Iteration 20|reward:   30.0|last_reward_at:   14|Elapsed Time: 0:00:00||\n",
      "Episode 16|Iteration 20|reward:   36.0|last_reward_at:   14|Elapsed Time: 0:00:00||\n",
      "Episode 16|Iteration 20|reward:   36.0|last_reward_at:   20|Elapsed Time: 0:00:00||\n",
      "Episode 16|Iteration 22|reward:   37.0|last_reward_at:   20|Elapsed Time: 0:00:00||\n",
      "Episode 16|Iteration 22|reward:   37.0|last_reward_at:   22|Elapsed Time: 0:00:00||\n",
      "Episode 16|Iteration 23|reward:   42.0|last_reward_at:   22|Elapsed Time: 0:00:00||\n",
      "Episode 16|Iteration 23|reward:   42.0|last_reward_at:   23|Elapsed Time: 0:00:00||\n",
      "Episode 16|Iteration 24|reward:   43.0|last_reward_at:   23|Elapsed Time: 0:00:00||\n",
      "Episode 16|Iteration 24|reward:   43.0|last_reward_at:   24|Elapsed Time: 0:00:00||\n",
      "Episode 16|Iteration 25|reward:   49.0|last_reward_at:   24|Elapsed Time: 0:00:00||\n",
      "Episode 16|Iteration 25|reward:   49.0|last_reward_at:   25|Elapsed Time: 0:00:00||\n",
      "Episode 16|Iteration 26|reward:   58.0|last_reward_at:   25|Elapsed Time: 0:00:00||\n",
      "Episode 16|Iteration 26|reward:   58.0|last_reward_at:   26|Elapsed Time: 0:00:00||\n",
      "Episode 16|Iteration 31|reward:   58.0|last_reward_at:   26|Elapsed Time: 0:00:00||\n",
      "Episode 16|Iteration 32|reward:   64.0|last_reward_at:   26|Elapsed Time: 0:00:00||\n",
      "Episode 16|Iteration 32|reward:   64.0|last_reward_at:   32|Elapsed Time: 0:00:00||\n",
      "Episode 16|Iteration 33|reward:   70.0|last_reward_at:   32|Elapsed Time: 0:00:00||\n",
      "Episode 16|Iteration 33|reward:   70.0|last_reward_at:   33|Elapsed Time: 0:00:00||\n",
      "Episode 16|Iteration 37|reward:   76.0|last_reward_at:   33|Elapsed Time: 0:00:00||\n",
      "Episode 16|Iteration 37|reward:   76.0|last_reward_at:   37|Elapsed Time: 0:00:00||\n",
      "Episode 16|Iteration 40|reward:   82.0|last_reward_at:   37|Elapsed Time: 0:00:00||\n",
      "Episode 16|Iteration 40|reward:   82.0|last_reward_at:   40|Elapsed Time: 0:00:00||\n",
      "Episode 16|Iteration 45|reward:   82.0|last_reward_at:   40|Elapsed Time: 0:00:00||\n",
      "Episode 16|Iteration 49|reward:   82.0|last_reward_at:   40|Elapsed Time: 0:00:00||\n",
      "Episode 16|Iteration 50|reward:   82.0|last_reward_at:   40|Elapsed Time: 0:00:00||\n"
     ]
    },
    {
     "name": "stdout",
     "output_type": "stream",
     "text": [
      "  Episode 16 stopped at t=50 \n",
      "  Breakdown [Reward/NoReward (Success rate)]\n",
      "    explore-local: 9/6 (0.60)\n",
      "    explore-remote: 0/18 (0.00)\n",
      "    explore-connect: 1/13 (0.07)\n",
      "    exploit-local: 1/0 (1.00)\n",
      "    exploit-remote: 0/0 (NaN)\n",
      "    exploit-connect: 2/0 (1.00)\n",
      "  exploit deflected to exploration: 0\n",
      "  ## Episode: 17/20 'DQL' ϵ=0.8875, γ=0.015, lr=0.01, replaymemory=10000,\n",
      "batch=512, target_update=5\n"
     ]
    },
    {
     "name": "stderr",
     "output_type": "stream",
     "text": [
      "Episode 17|Iteration 0|reward: ------|last_reward_at: ----|Elapsed Time: 0:00:00||\n",
      "Episode 17|Iteration 1|reward:    0.0|last_reward_at: ----|Elapsed Time: 0:00:00||\n",
      "Episode 17|Iteration 2|reward:    6.0|last_reward_at: ----|Elapsed Time: 0:00:00||\n",
      "Episode 17|Iteration 2|reward:    6.0|last_reward_at:    2|Elapsed Time: 0:00:00||\n",
      "Episode 17|Iteration 3|reward:   12.0|last_reward_at:    2|Elapsed Time: 0:00:00||\n",
      "Episode 17|Iteration 3|reward:   12.0|last_reward_at:    3|Elapsed Time: 0:00:00||\n",
      "Episode 17|Iteration 5|reward:   18.0|last_reward_at:    3|Elapsed Time: 0:00:00||\n",
      "Episode 17|Iteration 5|reward:   18.0|last_reward_at:    5|Elapsed Time: 0:00:00||\n",
      "Episode 17|Iteration 6|reward:   36.0|last_reward_at:    5|Elapsed Time: 0:00:00||\n",
      "Episode 17|Iteration 6|reward:   36.0|last_reward_at:    6|Elapsed Time: 0:00:00||\n",
      "Episode 17|Iteration 11|reward:   36.0|last_reward_at:    6|Elapsed Time: 0:00:00||\n",
      "Episode 17|Iteration 15|reward:   36.0|last_reward_at:    6|Elapsed Time: 0:00:00||\n",
      "Episode 17|Iteration 19|reward:   36.0|last_reward_at:    6|Elapsed Time: 0:00:00||\n",
      "Episode 17|Iteration 21|reward:   36.0|last_reward_at:    6|Elapsed Time: 0:00:00||\n",
      "Episode 17|Iteration 21|reward:   37.0|last_reward_at:    6|Elapsed Time: 0:00:00||\n",
      "Episode 17|Iteration 21|reward:   37.0|last_reward_at:   21|Elapsed Time: 0:00:00||\n",
      "Episode 17|Iteration 24|reward:   46.0|last_reward_at:   21|Elapsed Time: 0:00:00||\n",
      "Episode 17|Iteration 24|reward:   46.0|last_reward_at:   24|Elapsed Time: 0:00:00||\n",
      "Episode 17|Iteration 25|reward:   51.0|last_reward_at:   24|Elapsed Time: 0:00:00||\n",
      "Episode 17|Iteration 25|reward:   51.0|last_reward_at:   25|Elapsed Time: 0:00:00||\n",
      "Episode 17|Iteration 28|reward:   52.0|last_reward_at:   25|Elapsed Time: 0:00:00||\n",
      "Episode 17|Iteration 28|reward:   52.0|last_reward_at:   28|Elapsed Time: 0:00:00||\n",
      "Episode 17|Iteration 33|reward:   52.0|last_reward_at:   28|Elapsed Time: 0:00:00||\n",
      "Episode 17|Iteration 33|reward:   58.0|last_reward_at:   28|Elapsed Time: 0:00:00||\n",
      "Episode 17|Iteration 33|reward:   58.0|last_reward_at:   33|Elapsed Time: 0:00:00||\n",
      "Episode 17|Iteration 36|reward:   64.0|last_reward_at:   33|Elapsed Time: 0:00:00||\n",
      "Episode 17|Iteration 36|reward:   64.0|last_reward_at:   36|Elapsed Time: 0:00:00||\n",
      "Episode 17|Iteration 41|reward:   64.0|last_reward_at:   36|Elapsed Time: 0:00:00||\n",
      "Episode 17|Iteration 45|reward:   64.0|last_reward_at:   36|Elapsed Time: 0:00:00||\n",
      "Episode 17|Iteration 45|reward:   70.0|last_reward_at:   36|Elapsed Time: 0:00:00||\n",
      "Episode 17|Iteration 45|reward:   70.0|last_reward_at:   45|Elapsed Time: 0:00:00||\n",
      "Episode 17|Iteration 50|reward:   70.0|last_reward_at:   45|Elapsed Time: 0:00:00||\n",
      "Episode 17|Iteration 50|reward:   70.0|last_reward_at:   45|Elapsed Time: 0:00:00||\n"
     ]
    },
    {
     "name": "stdout",
     "output_type": "stream",
     "text": [
      "  Episode 17 stopped at t=50 \n",
      "  Breakdown [Reward/NoReward (Success rate)]\n",
      "    explore-local: 7/7 (0.50)\n",
      "    explore-remote: 0/15 (0.00)\n",
      "    explore-connect: 2/17 (0.11)\n",
      "    exploit-local: 1/0 (1.00)\n",
      "    exploit-remote: 0/0 (NaN)\n",
      "    exploit-connect: 1/0 (1.00)\n",
      "  exploit deflected to exploration: 0\n",
      "  ## Episode: 18/20 'DQL' ϵ=0.8867, γ=0.015, lr=0.01, replaymemory=10000,\n",
      "batch=512, target_update=5\n"
     ]
    },
    {
     "name": "stderr",
     "output_type": "stream",
     "text": [
      "Episode 18|Iteration 0|reward: ------|last_reward_at: ----|Elapsed Time: 0:00:00||\n",
      "Episode 18|Iteration 1|reward:    0.0|last_reward_at: ----|Elapsed Time: 0:00:00||\n",
      "Episode 18|Iteration 6|reward:    0.0|last_reward_at: ----|Elapsed Time: 0:00:00||\n",
      "Episode 18|Iteration 8|reward:    6.0|last_reward_at: ----|Elapsed Time: 0:00:00||\n",
      "Episode 18|Iteration 8|reward:    6.0|last_reward_at:    8|Elapsed Time: 0:00:00||\n",
      "Episode 18|Iteration 9|reward:   12.0|last_reward_at:    8|Elapsed Time: 0:00:00||\n",
      "Episode 18|Iteration 9|reward:   12.0|last_reward_at:    9|Elapsed Time: 0:00:00||\n",
      "Episode 18|Iteration 11|reward:   30.0|last_reward_at:    9|Elapsed Time: 0:00:00||\n",
      "Episode 18|Iteration 11|reward:   30.0|last_reward_at:   11|Elapsed Time: 0:00:00||\n",
      "Episode 18|Iteration 13|reward:   35.0|last_reward_at:   11|Elapsed Time: 0:00:00||\n",
      "Episode 18|Iteration 13|reward:   35.0|last_reward_at:   13|Elapsed Time: 0:00:00||\n",
      "Episode 18|Iteration 18|reward:   35.0|last_reward_at:   13|Elapsed Time: 0:00:00||\n",
      "Episode 18|Iteration 19|reward:   36.0|last_reward_at:   13|Elapsed Time: 0:00:00||\n",
      "Episode 18|Iteration 19|reward:   36.0|last_reward_at:   19|Elapsed Time: 0:00:00||\n",
      "Episode 18|Iteration 20|reward:   42.0|last_reward_at:   19|Elapsed Time: 0:00:00||\n",
      "Episode 18|Iteration 20|reward:   42.0|last_reward_at:   20|Elapsed Time: 0:00:00||\n",
      "Episode 18|Iteration 25|reward:   42.0|last_reward_at:   20|Elapsed Time: 0:00:00||\n",
      "Episode 18|Iteration 29|reward:   42.0|last_reward_at:   20|Elapsed Time: 0:00:00||\n",
      "Episode 18|Iteration 30|reward:   48.0|last_reward_at:   20|Elapsed Time: 0:00:00||\n",
      "Episode 18|Iteration 30|reward:   48.0|last_reward_at:   30|Elapsed Time: 0:00:00||\n",
      "Episode 18|Iteration 35|reward:   48.0|last_reward_at:   30|Elapsed Time: 0:00:00||\n",
      "Episode 18|Iteration 38|reward:   48.0|last_reward_at:   30|Elapsed Time: 0:00:00||\n",
      "Episode 18|Iteration 40|reward:   49.0|last_reward_at:   30|Elapsed Time: 0:00:00||\n",
      "Episode 18|Iteration 40|reward:   49.0|last_reward_at:   40|Elapsed Time: 0:00:00||\n",
      "Episode 18|Iteration 41|reward:   55.0|last_reward_at:   40|Elapsed Time: 0:00:00||\n",
      "Episode 18|Iteration 41|reward:   55.0|last_reward_at:   41|Elapsed Time: 0:00:00||\n",
      "Episode 18|Iteration 42|reward:   61.0|last_reward_at:   41|Elapsed Time: 0:00:00||\n",
      "Episode 18|Iteration 42|reward:   61.0|last_reward_at:   42|Elapsed Time: 0:00:00||\n",
      "Episode 18|Iteration 47|reward:   61.0|last_reward_at:   42|Elapsed Time: 0:00:00||\n",
      "Episode 18|Iteration 50|reward:   61.0|last_reward_at:   42|Elapsed Time: 0:00:00||\n"
     ]
    },
    {
     "name": "stdout",
     "output_type": "stream",
     "text": [
      "  Episode 18 stopped at t=50 \n",
      "  Breakdown [Reward/NoReward (Success rate)]\n",
      "    explore-local: 6/4 (0.60)\n",
      "    explore-remote: 0/26 (0.00)\n",
      "    explore-connect: 0/10 (0.00)\n",
      "    exploit-local: 1/0 (1.00)\n",
      "    exploit-remote: 0/0 (NaN)\n",
      "    exploit-connect: 3/0 (1.00)\n",
      "  exploit deflected to exploration: 0\n",
      "  ## Episode: 19/20 'DQL' ϵ=0.8859, γ=0.015, lr=0.01, replaymemory=10000,\n",
      "batch=512, target_update=5\n"
     ]
    },
    {
     "name": "stderr",
     "output_type": "stream",
     "text": [
      "Episode 19|Iteration 0|reward: ------|last_reward_at: ----|Elapsed Time: 0:00:00||\n",
      "Episode 19|Iteration 1|reward:    0.0|last_reward_at: ----|Elapsed Time: 0:00:00||\n",
      "Episode 19|Iteration 5|reward:    6.0|last_reward_at: ----|Elapsed Time: 0:00:00||\n",
      "Episode 19|Iteration 5|reward:    6.0|last_reward_at:    5|Elapsed Time: 0:00:00||\n",
      "Episode 19|Iteration 8|reward:   12.0|last_reward_at:    5|Elapsed Time: 0:00:00||\n",
      "Episode 19|Iteration 8|reward:   12.0|last_reward_at:    8|Elapsed Time: 0:00:00||\n",
      "Episode 19|Iteration 10|reward:   18.0|last_reward_at:    8|Elapsed Time: 0:00:00||\n",
      "Episode 19|Iteration 10|reward:   18.0|last_reward_at:   10|Elapsed Time: 0:00:00||\n",
      "Episode 19|Iteration 15|reward:   18.0|last_reward_at:   10|Elapsed Time: 0:00:00||\n",
      "Episode 19|Iteration 15|reward:   36.0|last_reward_at:   10|Elapsed Time: 0:00:00||\n",
      "Episode 19|Iteration 15|reward:   36.0|last_reward_at:   15|Elapsed Time: 0:00:00||\n",
      "Episode 19|Iteration 18|reward:   41.0|last_reward_at:   15|Elapsed Time: 0:00:00||\n",
      "Episode 19|Iteration 18|reward:   41.0|last_reward_at:   18|Elapsed Time: 0:00:00||\n",
      "Episode 19|Iteration 23|reward:   41.0|last_reward_at:   18|Elapsed Time: 0:00:00||\n",
      "Episode 19|Iteration 27|reward:   41.0|last_reward_at:   18|Elapsed Time: 0:00:00||\n",
      "Episode 19|Iteration 30|reward:   41.0|last_reward_at:   18|Elapsed Time: 0:00:00||\n",
      "Episode 19|Iteration 30|reward:   42.0|last_reward_at:   18|Elapsed Time: 0:00:00||\n",
      "Episode 19|Iteration 30|reward:   42.0|last_reward_at:   30|Elapsed Time: 0:00:00||\n",
      "Episode 19|Iteration 31|reward:   48.0|last_reward_at:   30|Elapsed Time: 0:00:00||\n",
      "Episode 19|Iteration 31|reward:   48.0|last_reward_at:   31|Elapsed Time: 0:00:00||\n",
      "Episode 19|Iteration 33|reward:   54.0|last_reward_at:   31|Elapsed Time: 0:00:00||\n",
      "Episode 19|Iteration 33|reward:   54.0|last_reward_at:   33|Elapsed Time: 0:00:00||\n",
      "Episode 19|Iteration 38|reward:   54.0|last_reward_at:   33|Elapsed Time: 0:00:00||\n",
      "Episode 19|Iteration 41|reward:   60.0|last_reward_at:   33|Elapsed Time: 0:00:00||\n",
      "Episode 19|Iteration 41|reward:   60.0|last_reward_at:   41|Elapsed Time: 0:00:00||\n",
      "Episode 19|Iteration 45|reward:   61.0|last_reward_at:   41|Elapsed Time: 0:00:00||\n",
      "Episode 19|Iteration 45|reward:   61.0|last_reward_at:   45|Elapsed Time: 0:00:00||\n",
      "Episode 19|Iteration 46|reward:   62.0|last_reward_at:   45|Elapsed Time: 0:00:00||\n",
      "Episode 19|Iteration 46|reward:   62.0|last_reward_at:   46|Elapsed Time: 0:00:00||\n",
      "Episode 19|Iteration 48|reward:   71.0|last_reward_at:   46|Elapsed Time: 0:00:00||\n",
      "Episode 19|Iteration 48|reward:   71.0|last_reward_at:   48|Elapsed Time: 0:00:00||\n",
      "Episode 19|Iteration 50|reward:   71.0|last_reward_at:   48|Elapsed Time: 0:00:00||\n"
     ]
    },
    {
     "name": "stdout",
     "output_type": "stream",
     "text": [
      "  Episode 19 stopped at t=50 \n",
      "  Breakdown [Reward/NoReward (Success rate)]\n",
      "    explore-local: 6/13 (0.32)\n",
      "    explore-remote: 0/15 (0.00)\n",
      "    explore-connect: 0/10 (0.00)\n",
      "    exploit-local: 2/0 (1.00)\n",
      "    exploit-remote: 0/0 (NaN)\n",
      "    exploit-connect: 4/0 (1.00)\n",
      "  exploit deflected to exploration: 0\n",
      "  ## Episode: 20/20 'DQL' ϵ=0.8851, γ=0.015, lr=0.01, replaymemory=10000,\n",
      "batch=512, target_update=5\n"
     ]
    },
    {
     "name": "stderr",
     "output_type": "stream",
     "text": [
      "Episode 20|Iteration 0|reward: ------|last_reward_at: ----|Elapsed Time: 0:00:00||\n",
      "Episode 20|Iteration 1|reward:    0.0|last_reward_at: ----|Elapsed Time: 0:00:00||\n",
      "Episode 20|Iteration 2|reward:   18.0|last_reward_at: ----|Elapsed Time: 0:00:00||\n",
      "Episode 20|Iteration 2|reward:   18.0|last_reward_at:    2|Elapsed Time: 0:00:00||\n",
      "Episode 20|Iteration 6|reward:   24.0|last_reward_at:    2|Elapsed Time: 0:00:00||\n",
      "Episode 20|Iteration 6|reward:   24.0|last_reward_at:    6|Elapsed Time: 0:00:00||\n",
      "Episode 20|Iteration 7|reward:   30.0|last_reward_at:    6|Elapsed Time: 0:00:00||\n",
      "Episode 20|Iteration 7|reward:   30.0|last_reward_at:    7|Elapsed Time: 0:00:00||\n",
      "Episode 20|Iteration 12|reward:   30.0|last_reward_at:    7|Elapsed Time: 0:00:00||\n",
      "Episode 20|Iteration 13|reward:   31.0|last_reward_at:    7|Elapsed Time: 0:00:00||\n",
      "Episode 20|Iteration 13|reward:   31.0|last_reward_at:   13|Elapsed Time: 0:00:00||\n",
      "Episode 20|Iteration 14|reward:   32.0|last_reward_at:   13|Elapsed Time: 0:00:00||\n",
      "Episode 20|Iteration 14|reward:   32.0|last_reward_at:   14|Elapsed Time: 0:00:00||\n",
      "Episode 20|Iteration 17|reward:   37.0|last_reward_at:   14|Elapsed Time: 0:00:00||\n",
      "Episode 20|Iteration 17|reward:   37.0|last_reward_at:   17|Elapsed Time: 0:00:00||\n",
      "Episode 20|Iteration 22|reward:   37.0|last_reward_at:   17|Elapsed Time: 0:00:00||\n",
      "Episode 20|Iteration 26|reward:   37.0|last_reward_at:   17|Elapsed Time: 0:00:00||\n",
      "Episode 20|Iteration 26|reward:   43.0|last_reward_at:   17|Elapsed Time: 0:00:00||\n",
      "Episode 20|Iteration 26|reward:   43.0|last_reward_at:   26|Elapsed Time: 0:00:00||\n",
      "Episode 20|Iteration 31|reward:   43.0|last_reward_at:   26|Elapsed Time: 0:00:00||\n",
      "Episode 20|Iteration 35|reward:   43.0|last_reward_at:   26|Elapsed Time: 0:00:00||\n",
      "Episode 20|Iteration 39|reward:   43.0|last_reward_at:   26|Elapsed Time: 0:00:00||\n",
      "Episode 20|Iteration 40|reward:   49.0|last_reward_at:   26|Elapsed Time: 0:00:00||\n",
      "Episode 20|Iteration 40|reward:   49.0|last_reward_at:   40|Elapsed Time: 0:00:00||\n",
      "Episode 20|Iteration 43|reward:   55.0|last_reward_at:   40|Elapsed Time: 0:00:00||\n",
      "Episode 20|Iteration 43|reward:   55.0|last_reward_at:   43|Elapsed Time: 0:00:00||\n",
      "Episode 20|Iteration 46|reward:   61.0|last_reward_at:   43|Elapsed Time: 0:00:00||\n",
      "Episode 20|Iteration 46|reward:   61.0|last_reward_at:   46|Elapsed Time: 0:00:00||\n",
      "Episode 20|Iteration 47|reward:   67.0|last_reward_at:   46|Elapsed Time: 0:00:00||\n",
      "Episode 20|Iteration 47|reward:   67.0|last_reward_at:   47|Elapsed Time: 0:00:00||\n",
      "Episode 20|Iteration 50|reward:   67.0|last_reward_at:   47|Elapsed Time: 0:00:00||\n"
     ]
    },
    {
     "name": "stdout",
     "output_type": "stream",
     "text": [
      "  Episode 20 stopped at t=50 \n",
      "  Breakdown [Reward/NoReward (Success rate)]\n",
      "    explore-local: 7/5 (0.58)\n",
      "    explore-remote: 0/18 (0.00)\n",
      "    explore-connect: 0/16 (0.00)\n",
      "    exploit-local: 1/0 (1.00)\n",
      "    exploit-remote: 0/0 (NaN)\n",
      "    exploit-connect: 3/0 (1.00)\n",
      "  exploit deflected to exploration: 0\n",
      "simulation ended\n"
     ]
    }
   ],
   "source": [
    "# Evaluate the Deep Q-learning agent for each env using transfer learning\n",
    "l = dqla.DeepQLearnerPolicy(\n",
    "    ep=ep,\n",
    "    gamma=0.015,\n",
    "    replay_memory_size=10000,\n",
    "    target_update=5,\n",
    "    batch_size=512,\n",
    "    learning_rate=0.01  # torch default learning rate is 1e-2\n",
    ")\n",
    "for env in envs:\n",
    "    dqn_learning_run = learner.epsilon_greedy_search(\n",
    "        cyberbattle_gym_env=env,\n",
    "        environment_properties=ep,\n",
    "        learner=l,\n",
    "        episode_count=training_episode_count,\n",
    "    iteration_count=iteration_count,\n",
    "        epsilon=0.90,\n",
    "        epsilon_exponential_decay=50000,\n",
    "        epsilon_minimum=0.10,\n",
    "        verbosity=Verbosity.Quiet,\n",
    "        render=False,\n",
    "        plot_episodes_length=False,\n",
    "        title=\"DQL\"\n",
    "    )\n",
    "    l = dqn_learning_run[\"learner\"]\n"
   ]
  },
  {
   "cell_type": "code",
   "execution_count": 11,
   "metadata": {},
   "outputs": [
    {
     "data": {
      "text/html": [
       "<div>\n",
       "<style scoped>\n",
       "    .dataframe tbody tr th:only-of-type {\n",
       "        vertical-align: middle;\n",
       "    }\n",
       "\n",
       "    .dataframe tbody tr th {\n",
       "        vertical-align: top;\n",
       "    }\n",
       "\n",
       "    .dataframe thead th {\n",
       "        text-align: right;\n",
       "    }\n",
       "</style>\n",
       "<table border=\"1\" class=\"dataframe\">\n",
       "  <thead>\n",
       "    <tr style=\"text-align: right;\">\n",
       "      <th></th>\n",
       "      <th>status</th>\n",
       "      <th>properties</th>\n",
       "      <th>local_attacks</th>\n",
       "      <th>remote_attacks</th>\n",
       "    </tr>\n",
       "    <tr>\n",
       "      <th>id</th>\n",
       "      <th></th>\n",
       "      <th></th>\n",
       "      <th></th>\n",
       "      <th></th>\n",
       "    </tr>\n",
       "  </thead>\n",
       "  <tbody>\n",
       "    <tr>\n",
       "      <th>workstation_0</th>\n",
       "      <td>owned</td>\n",
       "      <td>[breach_node]</td>\n",
       "      <td>[ProbeAdmin, EnumerateFileShares, FindDomainCo...</td>\n",
       "      <td>[]</td>\n",
       "    </tr>\n",
       "    <tr>\n",
       "      <th>workstation_1</th>\n",
       "      <td>owned</td>\n",
       "      <td>[admin]</td>\n",
       "      <td>[ProbeAdmin, EnumerateFileShares, FindDomainCo...</td>\n",
       "      <td>[]</td>\n",
       "    </tr>\n",
       "    <tr>\n",
       "      <th>domain_controller_1</th>\n",
       "      <td>owned</td>\n",
       "      <td>[domain_controller]</td>\n",
       "      <td>[ProbeAdmin, EnumerateFileShares, FindDomainCo...</td>\n",
       "      <td>[]</td>\n",
       "    </tr>\n",
       "  </tbody>\n",
       "</table>\n",
       "</div>"
      ],
      "text/plain": [
       "                    status           properties  \\\n",
       "id                                                \n",
       "workstation_0        owned        [breach_node]   \n",
       "workstation_1        owned              [admin]   \n",
       "domain_controller_1  owned  [domain_controller]   \n",
       "\n",
       "                                                         local_attacks  \\\n",
       "id                                                                       \n",
       "workstation_0        [ProbeAdmin, EnumerateFileShares, FindDomainCo...   \n",
       "workstation_1        [ProbeAdmin, EnumerateFileShares, FindDomainCo...   \n",
       "domain_controller_1  [ProbeAdmin, EnumerateFileShares, FindDomainCo...   \n",
       "\n",
       "                    remote_attacks  \n",
       "id                                  \n",
       "workstation_0                   []  \n",
       "workstation_1                   []  \n",
       "domain_controller_1             []  "
      ]
     },
     "metadata": {},
     "output_type": "display_data"
    },
    {
     "data": {
      "application/vnd.plotly.v1+json": {
       "config": {
        "plotlyServerURL": "https://plot.ly"
       },
       "data": [
        {
         "name": "cumulative reward",
         "type": "scatter",
         "xaxis": "x",
         "y": [
          9,
          10,
          19,
          5019
         ],
         "yaxis": "y"
        },
        {
         "line": {
          "color": "gray"
         },
         "mode": "lines",
         "name": "KNOWS",
         "type": "scatter",
         "x": [
          0
         ],
         "xaxis": "x2",
         "y": [
          0
         ],
         "yaxis": "y2"
        },
        {
         "line": {
          "color": "orange"
         },
         "mode": "lines",
         "name": "REMOTE_EXPLOIT",
         "type": "scatter",
         "x": [
          0
         ],
         "xaxis": "x2",
         "y": [
          0
         ],
         "yaxis": "y2"
        },
        {
         "line": {
          "color": "red"
         },
         "mode": "lines",
         "name": "LATERAL_MOVE",
         "type": "scatter",
         "x": [
          0
         ],
         "xaxis": "x2",
         "y": [
          0
         ],
         "yaxis": "y2"
        },
        {
         "hoverinfo": "text",
         "marker": {
          "color": "#D32F2E",
          "line": {
           "color": "rgb(255,0,0)",
           "width": 8
          },
          "size": 5,
          "symbol": "circle-dot"
         },
         "mode": "markers+text",
         "name": "owned",
         "text": [
          "workstation_0",
          "workstation_1",
          "domain_controller_1"
         ],
         "textposition": "bottom center",
         "type": "scatter",
         "x": [
          0,
          -0.5,
          0.5
         ],
         "xaxis": "x2",
         "y": [
          0,
          -4.371138828673793e-8,
          8.742277657347586e-8
         ],
         "yaxis": "y2"
        },
        {
         "hoverinfo": "text",
         "marker": {
          "color": "#0e9d00",
          "line": {
           "color": "rgb(0,255,0)",
           "width": 8
          },
          "size": 5,
          "symbol": "circle-dot"
         },
         "mode": "markers+text",
         "name": "discovered",
         "text": [],
         "textposition": "bottom center",
         "type": "scatter",
         "x": [],
         "xaxis": "x2",
         "y": [],
         "yaxis": "y2"
        }
       ],
       "layout": {
        "annotations": [
         {
          "align": "center",
          "arrowcolor": "red",
          "arrowhead": 1,
          "arrowsize": 1,
          "arrowwidth": 1,
          "ax": 0,
          "axref": "x2",
          "ay": 0,
          "ayref": "y2",
          "hovertext": "LATERAL_MOVE",
          "opacity": 1,
          "showarrow": true,
          "standoff": 10,
          "startstandoff": 10,
          "x": -0.5,
          "xref": "x2",
          "y": -4.371138828673793e-8,
          "yref": "y2"
         },
         {
          "align": "center",
          "arrowcolor": "red",
          "arrowhead": 1,
          "arrowsize": 1,
          "arrowwidth": 1,
          "ax": 0,
          "axref": "x2",
          "ay": 0,
          "ayref": "y2",
          "hovertext": "LATERAL_MOVE",
          "opacity": 1,
          "showarrow": true,
          "standoff": 10,
          "startstandoff": 10,
          "x": 0.5,
          "xref": "x2",
          "y": 8.742277657347586e-8,
          "yref": "y2"
         },
         {
          "align": "center",
          "arrowcolor": "gray",
          "arrowhead": 1,
          "arrowsize": 1,
          "arrowwidth": 1,
          "ax": -0.5,
          "axref": "x2",
          "ay": -4.371138828673793e-8,
          "ayref": "y2",
          "hovertext": "KNOWS",
          "opacity": 1,
          "showarrow": true,
          "standoff": 10,
          "startstandoff": 10,
          "x": 0.5,
          "xref": "x2",
          "y": 8.742277657347586e-8,
          "yref": "y2"
         }
        ],
        "autosize": false,
        "font": {
         "size": 10
        },
        "height": 400,
        "hovermode": "closest",
        "margin": {
         "b": 15,
         "l": 2,
         "r": 2,
         "t": 35
        },
        "showlegend": true,
        "template": {
         "data": {
          "bar": [
           {
            "error_x": {
             "color": "#2a3f5f"
            },
            "error_y": {
             "color": "#2a3f5f"
            },
            "marker": {
             "line": {
              "color": "#E5ECF6",
              "width": 0.5
             }
            },
            "type": "bar"
           }
          ],
          "barpolar": [
           {
            "marker": {
             "line": {
              "color": "#E5ECF6",
              "width": 0.5
             }
            },
            "type": "barpolar"
           }
          ],
          "carpet": [
           {
            "aaxis": {
             "endlinecolor": "#2a3f5f",
             "gridcolor": "white",
             "linecolor": "white",
             "minorgridcolor": "white",
             "startlinecolor": "#2a3f5f"
            },
            "baxis": {
             "endlinecolor": "#2a3f5f",
             "gridcolor": "white",
             "linecolor": "white",
             "minorgridcolor": "white",
             "startlinecolor": "#2a3f5f"
            },
            "type": "carpet"
           }
          ],
          "choropleth": [
           {
            "colorbar": {
             "outlinewidth": 0,
             "ticks": ""
            },
            "type": "choropleth"
           }
          ],
          "contour": [
           {
            "colorbar": {
             "outlinewidth": 0,
             "ticks": ""
            },
            "colorscale": [
             [
              0,
              "#0d0887"
             ],
             [
              0.1111111111111111,
              "#46039f"
             ],
             [
              0.2222222222222222,
              "#7201a8"
             ],
             [
              0.3333333333333333,
              "#9c179e"
             ],
             [
              0.4444444444444444,
              "#bd3786"
             ],
             [
              0.5555555555555556,
              "#d8576b"
             ],
             [
              0.6666666666666666,
              "#ed7953"
             ],
             [
              0.7777777777777778,
              "#fb9f3a"
             ],
             [
              0.8888888888888888,
              "#fdca26"
             ],
             [
              1,
              "#f0f921"
             ]
            ],
            "type": "contour"
           }
          ],
          "contourcarpet": [
           {
            "colorbar": {
             "outlinewidth": 0,
             "ticks": ""
            },
            "type": "contourcarpet"
           }
          ],
          "heatmap": [
           {
            "colorbar": {
             "outlinewidth": 0,
             "ticks": ""
            },
            "colorscale": [
             [
              0,
              "#0d0887"
             ],
             [
              0.1111111111111111,
              "#46039f"
             ],
             [
              0.2222222222222222,
              "#7201a8"
             ],
             [
              0.3333333333333333,
              "#9c179e"
             ],
             [
              0.4444444444444444,
              "#bd3786"
             ],
             [
              0.5555555555555556,
              "#d8576b"
             ],
             [
              0.6666666666666666,
              "#ed7953"
             ],
             [
              0.7777777777777778,
              "#fb9f3a"
             ],
             [
              0.8888888888888888,
              "#fdca26"
             ],
             [
              1,
              "#f0f921"
             ]
            ],
            "type": "heatmap"
           }
          ],
          "heatmapgl": [
           {
            "colorbar": {
             "outlinewidth": 0,
             "ticks": ""
            },
            "colorscale": [
             [
              0,
              "#0d0887"
             ],
             [
              0.1111111111111111,
              "#46039f"
             ],
             [
              0.2222222222222222,
              "#7201a8"
             ],
             [
              0.3333333333333333,
              "#9c179e"
             ],
             [
              0.4444444444444444,
              "#bd3786"
             ],
             [
              0.5555555555555556,
              "#d8576b"
             ],
             [
              0.6666666666666666,
              "#ed7953"
             ],
             [
              0.7777777777777778,
              "#fb9f3a"
             ],
             [
              0.8888888888888888,
              "#fdca26"
             ],
             [
              1,
              "#f0f921"
             ]
            ],
            "type": "heatmapgl"
           }
          ],
          "histogram": [
           {
            "marker": {
             "colorbar": {
              "outlinewidth": 0,
              "ticks": ""
             }
            },
            "type": "histogram"
           }
          ],
          "histogram2d": [
           {
            "colorbar": {
             "outlinewidth": 0,
             "ticks": ""
            },
            "colorscale": [
             [
              0,
              "#0d0887"
             ],
             [
              0.1111111111111111,
              "#46039f"
             ],
             [
              0.2222222222222222,
              "#7201a8"
             ],
             [
              0.3333333333333333,
              "#9c179e"
             ],
             [
              0.4444444444444444,
              "#bd3786"
             ],
             [
              0.5555555555555556,
              "#d8576b"
             ],
             [
              0.6666666666666666,
              "#ed7953"
             ],
             [
              0.7777777777777778,
              "#fb9f3a"
             ],
             [
              0.8888888888888888,
              "#fdca26"
             ],
             [
              1,
              "#f0f921"
             ]
            ],
            "type": "histogram2d"
           }
          ],
          "histogram2dcontour": [
           {
            "colorbar": {
             "outlinewidth": 0,
             "ticks": ""
            },
            "colorscale": [
             [
              0,
              "#0d0887"
             ],
             [
              0.1111111111111111,
              "#46039f"
             ],
             [
              0.2222222222222222,
              "#7201a8"
             ],
             [
              0.3333333333333333,
              "#9c179e"
             ],
             [
              0.4444444444444444,
              "#bd3786"
             ],
             [
              0.5555555555555556,
              "#d8576b"
             ],
             [
              0.6666666666666666,
              "#ed7953"
             ],
             [
              0.7777777777777778,
              "#fb9f3a"
             ],
             [
              0.8888888888888888,
              "#fdca26"
             ],
             [
              1,
              "#f0f921"
             ]
            ],
            "type": "histogram2dcontour"
           }
          ],
          "mesh3d": [
           {
            "colorbar": {
             "outlinewidth": 0,
             "ticks": ""
            },
            "type": "mesh3d"
           }
          ],
          "parcoords": [
           {
            "line": {
             "colorbar": {
              "outlinewidth": 0,
              "ticks": ""
             }
            },
            "type": "parcoords"
           }
          ],
          "pie": [
           {
            "automargin": true,
            "type": "pie"
           }
          ],
          "scatter": [
           {
            "marker": {
             "colorbar": {
              "outlinewidth": 0,
              "ticks": ""
             }
            },
            "type": "scatter"
           }
          ],
          "scatter3d": [
           {
            "line": {
             "colorbar": {
              "outlinewidth": 0,
              "ticks": ""
             }
            },
            "marker": {
             "colorbar": {
              "outlinewidth": 0,
              "ticks": ""
             }
            },
            "type": "scatter3d"
           }
          ],
          "scattercarpet": [
           {
            "marker": {
             "colorbar": {
              "outlinewidth": 0,
              "ticks": ""
             }
            },
            "type": "scattercarpet"
           }
          ],
          "scattergeo": [
           {
            "marker": {
             "colorbar": {
              "outlinewidth": 0,
              "ticks": ""
             }
            },
            "type": "scattergeo"
           }
          ],
          "scattergl": [
           {
            "marker": {
             "colorbar": {
              "outlinewidth": 0,
              "ticks": ""
             }
            },
            "type": "scattergl"
           }
          ],
          "scattermapbox": [
           {
            "marker": {
             "colorbar": {
              "outlinewidth": 0,
              "ticks": ""
             }
            },
            "type": "scattermapbox"
           }
          ],
          "scatterpolar": [
           {
            "marker": {
             "colorbar": {
              "outlinewidth": 0,
              "ticks": ""
             }
            },
            "type": "scatterpolar"
           }
          ],
          "scatterpolargl": [
           {
            "marker": {
             "colorbar": {
              "outlinewidth": 0,
              "ticks": ""
             }
            },
            "type": "scatterpolargl"
           }
          ],
          "scatterternary": [
           {
            "marker": {
             "colorbar": {
              "outlinewidth": 0,
              "ticks": ""
             }
            },
            "type": "scatterternary"
           }
          ],
          "surface": [
           {
            "colorbar": {
             "outlinewidth": 0,
             "ticks": ""
            },
            "colorscale": [
             [
              0,
              "#0d0887"
             ],
             [
              0.1111111111111111,
              "#46039f"
             ],
             [
              0.2222222222222222,
              "#7201a8"
             ],
             [
              0.3333333333333333,
              "#9c179e"
             ],
             [
              0.4444444444444444,
              "#bd3786"
             ],
             [
              0.5555555555555556,
              "#d8576b"
             ],
             [
              0.6666666666666666,
              "#ed7953"
             ],
             [
              0.7777777777777778,
              "#fb9f3a"
             ],
             [
              0.8888888888888888,
              "#fdca26"
             ],
             [
              1,
              "#f0f921"
             ]
            ],
            "type": "surface"
           }
          ],
          "table": [
           {
            "cells": {
             "fill": {
              "color": "#EBF0F8"
             },
             "line": {
              "color": "white"
             }
            },
            "header": {
             "fill": {
              "color": "#C8D4E3"
             },
             "line": {
              "color": "white"
             }
            },
            "type": "table"
           }
          ]
         },
         "layout": {
          "annotationdefaults": {
           "arrowcolor": "#2a3f5f",
           "arrowhead": 0,
           "arrowwidth": 1
          },
          "coloraxis": {
           "colorbar": {
            "outlinewidth": 0,
            "ticks": ""
           }
          },
          "colorscale": {
           "diverging": [
            [
             0,
             "#8e0152"
            ],
            [
             0.1,
             "#c51b7d"
            ],
            [
             0.2,
             "#de77ae"
            ],
            [
             0.3,
             "#f1b6da"
            ],
            [
             0.4,
             "#fde0ef"
            ],
            [
             0.5,
             "#f7f7f7"
            ],
            [
             0.6,
             "#e6f5d0"
            ],
            [
             0.7,
             "#b8e186"
            ],
            [
             0.8,
             "#7fbc41"
            ],
            [
             0.9,
             "#4d9221"
            ],
            [
             1,
             "#276419"
            ]
           ],
           "sequential": [
            [
             0,
             "#0d0887"
            ],
            [
             0.1111111111111111,
             "#46039f"
            ],
            [
             0.2222222222222222,
             "#7201a8"
            ],
            [
             0.3333333333333333,
             "#9c179e"
            ],
            [
             0.4444444444444444,
             "#bd3786"
            ],
            [
             0.5555555555555556,
             "#d8576b"
            ],
            [
             0.6666666666666666,
             "#ed7953"
            ],
            [
             0.7777777777777778,
             "#fb9f3a"
            ],
            [
             0.8888888888888888,
             "#fdca26"
            ],
            [
             1,
             "#f0f921"
            ]
           ],
           "sequentialminus": [
            [
             0,
             "#0d0887"
            ],
            [
             0.1111111111111111,
             "#46039f"
            ],
            [
             0.2222222222222222,
             "#7201a8"
            ],
            [
             0.3333333333333333,
             "#9c179e"
            ],
            [
             0.4444444444444444,
             "#bd3786"
            ],
            [
             0.5555555555555556,
             "#d8576b"
            ],
            [
             0.6666666666666666,
             "#ed7953"
            ],
            [
             0.7777777777777778,
             "#fb9f3a"
            ],
            [
             0.8888888888888888,
             "#fdca26"
            ],
            [
             1,
             "#f0f921"
            ]
           ]
          },
          "colorway": [
           "#636efa",
           "#EF553B",
           "#00cc96",
           "#ab63fa",
           "#FFA15A",
           "#19d3f3",
           "#FF6692",
           "#B6E880",
           "#FF97FF",
           "#FECB52"
          ],
          "font": {
           "color": "#2a3f5f"
          },
          "geo": {
           "bgcolor": "white",
           "lakecolor": "white",
           "landcolor": "#E5ECF6",
           "showlakes": true,
           "showland": true,
           "subunitcolor": "white"
          },
          "hoverlabel": {
           "align": "left"
          },
          "hovermode": "closest",
          "mapbox": {
           "style": "light"
          },
          "paper_bgcolor": "white",
          "plot_bgcolor": "#E5ECF6",
          "polar": {
           "angularaxis": {
            "gridcolor": "white",
            "linecolor": "white",
            "ticks": ""
           },
           "bgcolor": "#E5ECF6",
           "radialaxis": {
            "gridcolor": "white",
            "linecolor": "white",
            "ticks": ""
           }
          },
          "scene": {
           "xaxis": {
            "backgroundcolor": "#E5ECF6",
            "gridcolor": "white",
            "gridwidth": 2,
            "linecolor": "white",
            "showbackground": true,
            "ticks": "",
            "zerolinecolor": "white"
           },
           "yaxis": {
            "backgroundcolor": "#E5ECF6",
            "gridcolor": "white",
            "gridwidth": 2,
            "linecolor": "white",
            "showbackground": true,
            "ticks": "",
            "zerolinecolor": "white"
           },
           "zaxis": {
            "backgroundcolor": "#E5ECF6",
            "gridcolor": "white",
            "gridwidth": 2,
            "linecolor": "white",
            "showbackground": true,
            "ticks": "",
            "zerolinecolor": "white"
           }
          },
          "shapedefaults": {
           "line": {
            "color": "#2a3f5f"
           }
          },
          "ternary": {
           "aaxis": {
            "gridcolor": "white",
            "linecolor": "white",
            "ticks": ""
           },
           "baxis": {
            "gridcolor": "white",
            "linecolor": "white",
            "ticks": ""
           },
           "bgcolor": "#E5ECF6",
           "caxis": {
            "gridcolor": "white",
            "linecolor": "white",
            "ticks": ""
           }
          },
          "title": {
           "x": 0.05
          },
          "xaxis": {
           "automargin": true,
           "gridcolor": "white",
           "linecolor": "white",
           "ticks": "",
           "title": {
            "standoff": 15
           },
           "zerolinecolor": "white",
           "zerolinewidth": 2
          },
          "yaxis": {
           "automargin": true,
           "gridcolor": "white",
           "linecolor": "white",
           "ticks": "",
           "title": {
            "standoff": 15
           },
           "zerolinecolor": "white",
           "zerolinewidth": 2
          }
         }
        },
        "title": {
         "text": "CyberBattle simulation"
        },
        "width": 800,
        "xaxis": {
         "anchor": "y",
         "domain": [
          0,
          0.45
         ]
        },
        "xaxis2": {
         "anchor": "y2",
         "domain": [
          0.55,
          1
         ]
        },
        "yaxis": {
         "anchor": "x",
         "domain": [
          0,
          1
         ]
        },
        "yaxis2": {
         "anchor": "x2",
         "domain": [
          0,
          1
         ]
        }
       }
      },
      "text/html": [
       "<div>                            <div id=\"c6f40985-e5b4-4adb-85d1-6dfcf87bd10b\" class=\"plotly-graph-div\" style=\"height:400px; width:800px;\"></div>            <script type=\"text/javascript\">                require([\"plotly\"], function(Plotly) {                    window.PLOTLYENV=window.PLOTLYENV || {};                                    if (document.getElementById(\"c6f40985-e5b4-4adb-85d1-6dfcf87bd10b\")) {                    Plotly.newPlot(                        \"c6f40985-e5b4-4adb-85d1-6dfcf87bd10b\",                        [{\"name\": \"cumulative reward\", \"type\": \"scatter\", \"xaxis\": \"x\", \"y\": [9.0, 10.0, 19.0, 5019.0], \"yaxis\": \"y\"}, {\"line\": {\"color\": \"gray\"}, \"mode\": \"lines\", \"name\": \"KNOWS\", \"type\": \"scatter\", \"x\": [0], \"xaxis\": \"x2\", \"y\": [0], \"yaxis\": \"y2\"}, {\"line\": {\"color\": \"orange\"}, \"mode\": \"lines\", \"name\": \"REMOTE_EXPLOIT\", \"type\": \"scatter\", \"x\": [0], \"xaxis\": \"x2\", \"y\": [0], \"yaxis\": \"y2\"}, {\"line\": {\"color\": \"red\"}, \"mode\": \"lines\", \"name\": \"LATERAL_MOVE\", \"type\": \"scatter\", \"x\": [0], \"xaxis\": \"x2\", \"y\": [0], \"yaxis\": \"y2\"}, {\"hoverinfo\": \"text\", \"marker\": {\"color\": \"#D32F2E\", \"line\": {\"color\": \"rgb(255,0,0)\", \"width\": 8}, \"size\": 5, \"symbol\": \"circle-dot\"}, \"mode\": \"markers+text\", \"name\": \"owned\", \"text\": [\"workstation_0\", \"workstation_1\", \"domain_controller_1\"], \"textposition\": \"bottom center\", \"type\": \"scatter\", \"x\": [0.0, -0.5, 0.5], \"xaxis\": \"x2\", \"y\": [0.0, -4.371138828673793e-08, 8.742277657347586e-08], \"yaxis\": \"y2\"}, {\"hoverinfo\": \"text\", \"marker\": {\"color\": \"#0e9d00\", \"line\": {\"color\": \"rgb(0,255,0)\", \"width\": 8}, \"size\": 5, \"symbol\": \"circle-dot\"}, \"mode\": \"markers+text\", \"name\": \"discovered\", \"text\": [], \"textposition\": \"bottom center\", \"type\": \"scatter\", \"x\": [], \"xaxis\": \"x2\", \"y\": [], \"yaxis\": \"y2\"}],                        {\"annotations\": [{\"align\": \"center\", \"arrowcolor\": \"red\", \"arrowhead\": 1, \"arrowsize\": 1, \"arrowwidth\": 1, \"ax\": 0.0, \"axref\": \"x2\", \"ay\": 0.0, \"ayref\": \"y2\", \"hovertext\": \"LATERAL_MOVE\", \"opacity\": 1, \"showarrow\": true, \"standoff\": 10, \"startstandoff\": 10, \"x\": -0.5, \"xref\": \"x2\", \"y\": -4.371138828673793e-08, \"yref\": \"y2\"}, {\"align\": \"center\", \"arrowcolor\": \"red\", \"arrowhead\": 1, \"arrowsize\": 1, \"arrowwidth\": 1, \"ax\": 0.0, \"axref\": \"x2\", \"ay\": 0.0, \"ayref\": \"y2\", \"hovertext\": \"LATERAL_MOVE\", \"opacity\": 1, \"showarrow\": true, \"standoff\": 10, \"startstandoff\": 10, \"x\": 0.5, \"xref\": \"x2\", \"y\": 8.742277657347586e-08, \"yref\": \"y2\"}, {\"align\": \"center\", \"arrowcolor\": \"gray\", \"arrowhead\": 1, \"arrowsize\": 1, \"arrowwidth\": 1, \"ax\": -0.5, \"axref\": \"x2\", \"ay\": -4.371138828673793e-08, \"ayref\": \"y2\", \"hovertext\": \"KNOWS\", \"opacity\": 1, \"showarrow\": true, \"standoff\": 10, \"startstandoff\": 10, \"x\": 0.5, \"xref\": \"x2\", \"y\": 8.742277657347586e-08, \"yref\": \"y2\"}], \"autosize\": false, \"font\": {\"size\": 10}, \"height\": 400, \"hovermode\": \"closest\", \"margin\": {\"b\": 15, \"l\": 2, \"r\": 2, \"t\": 35}, \"showlegend\": true, \"template\": {\"data\": {\"bar\": [{\"error_x\": {\"color\": \"#2a3f5f\"}, \"error_y\": {\"color\": \"#2a3f5f\"}, \"marker\": {\"line\": {\"color\": \"#E5ECF6\", \"width\": 0.5}}, \"type\": \"bar\"}], \"barpolar\": [{\"marker\": {\"line\": {\"color\": \"#E5ECF6\", \"width\": 0.5}}, \"type\": \"barpolar\"}], \"carpet\": [{\"aaxis\": {\"endlinecolor\": \"#2a3f5f\", \"gridcolor\": \"white\", \"linecolor\": \"white\", \"minorgridcolor\": \"white\", \"startlinecolor\": \"#2a3f5f\"}, \"baxis\": {\"endlinecolor\": \"#2a3f5f\", \"gridcolor\": \"white\", \"linecolor\": \"white\", \"minorgridcolor\": \"white\", \"startlinecolor\": \"#2a3f5f\"}, \"type\": \"carpet\"}], \"choropleth\": [{\"colorbar\": {\"outlinewidth\": 0, \"ticks\": \"\"}, \"type\": \"choropleth\"}], \"contour\": [{\"colorbar\": {\"outlinewidth\": 0, \"ticks\": \"\"}, \"colorscale\": [[0.0, \"#0d0887\"], [0.1111111111111111, \"#46039f\"], [0.2222222222222222, \"#7201a8\"], [0.3333333333333333, \"#9c179e\"], [0.4444444444444444, \"#bd3786\"], [0.5555555555555556, \"#d8576b\"], [0.6666666666666666, \"#ed7953\"], [0.7777777777777778, \"#fb9f3a\"], [0.8888888888888888, \"#fdca26\"], [1.0, \"#f0f921\"]], \"type\": \"contour\"}], \"contourcarpet\": [{\"colorbar\": {\"outlinewidth\": 0, \"ticks\": \"\"}, \"type\": \"contourcarpet\"}], \"heatmap\": [{\"colorbar\": {\"outlinewidth\": 0, \"ticks\": \"\"}, \"colorscale\": [[0.0, \"#0d0887\"], [0.1111111111111111, \"#46039f\"], [0.2222222222222222, \"#7201a8\"], [0.3333333333333333, \"#9c179e\"], [0.4444444444444444, \"#bd3786\"], [0.5555555555555556, \"#d8576b\"], [0.6666666666666666, \"#ed7953\"], [0.7777777777777778, \"#fb9f3a\"], [0.8888888888888888, \"#fdca26\"], [1.0, \"#f0f921\"]], \"type\": \"heatmap\"}], \"heatmapgl\": [{\"colorbar\": {\"outlinewidth\": 0, \"ticks\": \"\"}, \"colorscale\": [[0.0, \"#0d0887\"], [0.1111111111111111, \"#46039f\"], [0.2222222222222222, \"#7201a8\"], [0.3333333333333333, \"#9c179e\"], [0.4444444444444444, \"#bd3786\"], [0.5555555555555556, \"#d8576b\"], [0.6666666666666666, \"#ed7953\"], [0.7777777777777778, \"#fb9f3a\"], [0.8888888888888888, \"#fdca26\"], [1.0, \"#f0f921\"]], \"type\": \"heatmapgl\"}], \"histogram\": [{\"marker\": {\"colorbar\": {\"outlinewidth\": 0, \"ticks\": \"\"}}, \"type\": \"histogram\"}], \"histogram2d\": [{\"colorbar\": {\"outlinewidth\": 0, \"ticks\": \"\"}, \"colorscale\": [[0.0, \"#0d0887\"], [0.1111111111111111, \"#46039f\"], [0.2222222222222222, \"#7201a8\"], [0.3333333333333333, \"#9c179e\"], [0.4444444444444444, \"#bd3786\"], [0.5555555555555556, \"#d8576b\"], [0.6666666666666666, \"#ed7953\"], [0.7777777777777778, \"#fb9f3a\"], [0.8888888888888888, \"#fdca26\"], [1.0, \"#f0f921\"]], \"type\": \"histogram2d\"}], \"histogram2dcontour\": [{\"colorbar\": {\"outlinewidth\": 0, \"ticks\": \"\"}, \"colorscale\": [[0.0, \"#0d0887\"], [0.1111111111111111, \"#46039f\"], [0.2222222222222222, \"#7201a8\"], [0.3333333333333333, \"#9c179e\"], [0.4444444444444444, \"#bd3786\"], [0.5555555555555556, \"#d8576b\"], [0.6666666666666666, \"#ed7953\"], [0.7777777777777778, \"#fb9f3a\"], [0.8888888888888888, \"#fdca26\"], [1.0, \"#f0f921\"]], \"type\": \"histogram2dcontour\"}], \"mesh3d\": [{\"colorbar\": {\"outlinewidth\": 0, \"ticks\": \"\"}, \"type\": \"mesh3d\"}], \"parcoords\": [{\"line\": {\"colorbar\": {\"outlinewidth\": 0, \"ticks\": \"\"}}, \"type\": \"parcoords\"}], \"pie\": [{\"automargin\": true, \"type\": \"pie\"}], \"scatter\": [{\"marker\": {\"colorbar\": {\"outlinewidth\": 0, \"ticks\": \"\"}}, \"type\": \"scatter\"}], \"scatter3d\": [{\"line\": {\"colorbar\": {\"outlinewidth\": 0, \"ticks\": \"\"}}, \"marker\": {\"colorbar\": {\"outlinewidth\": 0, \"ticks\": \"\"}}, \"type\": \"scatter3d\"}], \"scattercarpet\": [{\"marker\": {\"colorbar\": {\"outlinewidth\": 0, \"ticks\": \"\"}}, \"type\": \"scattercarpet\"}], \"scattergeo\": [{\"marker\": {\"colorbar\": {\"outlinewidth\": 0, \"ticks\": \"\"}}, \"type\": \"scattergeo\"}], \"scattergl\": [{\"marker\": {\"colorbar\": {\"outlinewidth\": 0, \"ticks\": \"\"}}, \"type\": \"scattergl\"}], \"scattermapbox\": [{\"marker\": {\"colorbar\": {\"outlinewidth\": 0, \"ticks\": \"\"}}, \"type\": \"scattermapbox\"}], \"scatterpolar\": [{\"marker\": {\"colorbar\": {\"outlinewidth\": 0, \"ticks\": \"\"}}, \"type\": \"scatterpolar\"}], \"scatterpolargl\": [{\"marker\": {\"colorbar\": {\"outlinewidth\": 0, \"ticks\": \"\"}}, \"type\": \"scatterpolargl\"}], \"scatterternary\": [{\"marker\": {\"colorbar\": {\"outlinewidth\": 0, \"ticks\": \"\"}}, \"type\": \"scatterternary\"}], \"surface\": [{\"colorbar\": {\"outlinewidth\": 0, \"ticks\": \"\"}, \"colorscale\": [[0.0, \"#0d0887\"], [0.1111111111111111, \"#46039f\"], [0.2222222222222222, \"#7201a8\"], [0.3333333333333333, \"#9c179e\"], [0.4444444444444444, \"#bd3786\"], [0.5555555555555556, \"#d8576b\"], [0.6666666666666666, \"#ed7953\"], [0.7777777777777778, \"#fb9f3a\"], [0.8888888888888888, \"#fdca26\"], [1.0, \"#f0f921\"]], \"type\": \"surface\"}], \"table\": [{\"cells\": {\"fill\": {\"color\": \"#EBF0F8\"}, \"line\": {\"color\": \"white\"}}, \"header\": {\"fill\": {\"color\": \"#C8D4E3\"}, \"line\": {\"color\": \"white\"}}, \"type\": \"table\"}]}, \"layout\": {\"annotationdefaults\": {\"arrowcolor\": \"#2a3f5f\", \"arrowhead\": 0, \"arrowwidth\": 1}, \"coloraxis\": {\"colorbar\": {\"outlinewidth\": 0, \"ticks\": \"\"}}, \"colorscale\": {\"diverging\": [[0, \"#8e0152\"], [0.1, \"#c51b7d\"], [0.2, \"#de77ae\"], [0.3, \"#f1b6da\"], [0.4, \"#fde0ef\"], [0.5, \"#f7f7f7\"], [0.6, \"#e6f5d0\"], [0.7, \"#b8e186\"], [0.8, \"#7fbc41\"], [0.9, \"#4d9221\"], [1, \"#276419\"]], \"sequential\": [[0.0, \"#0d0887\"], [0.1111111111111111, \"#46039f\"], [0.2222222222222222, \"#7201a8\"], [0.3333333333333333, \"#9c179e\"], [0.4444444444444444, \"#bd3786\"], [0.5555555555555556, \"#d8576b\"], [0.6666666666666666, \"#ed7953\"], [0.7777777777777778, \"#fb9f3a\"], [0.8888888888888888, \"#fdca26\"], [1.0, \"#f0f921\"]], \"sequentialminus\": [[0.0, \"#0d0887\"], [0.1111111111111111, \"#46039f\"], [0.2222222222222222, \"#7201a8\"], [0.3333333333333333, \"#9c179e\"], [0.4444444444444444, \"#bd3786\"], [0.5555555555555556, \"#d8576b\"], [0.6666666666666666, \"#ed7953\"], [0.7777777777777778, \"#fb9f3a\"], [0.8888888888888888, \"#fdca26\"], [1.0, \"#f0f921\"]]}, \"colorway\": [\"#636efa\", \"#EF553B\", \"#00cc96\", \"#ab63fa\", \"#FFA15A\", \"#19d3f3\", \"#FF6692\", \"#B6E880\", \"#FF97FF\", \"#FECB52\"], \"font\": {\"color\": \"#2a3f5f\"}, \"geo\": {\"bgcolor\": \"white\", \"lakecolor\": \"white\", \"landcolor\": \"#E5ECF6\", \"showlakes\": true, \"showland\": true, \"subunitcolor\": \"white\"}, \"hoverlabel\": {\"align\": \"left\"}, \"hovermode\": \"closest\", \"mapbox\": {\"style\": \"light\"}, \"paper_bgcolor\": \"white\", \"plot_bgcolor\": \"#E5ECF6\", \"polar\": {\"angularaxis\": {\"gridcolor\": \"white\", \"linecolor\": \"white\", \"ticks\": \"\"}, \"bgcolor\": \"#E5ECF6\", \"radialaxis\": {\"gridcolor\": \"white\", \"linecolor\": \"white\", \"ticks\": \"\"}}, \"scene\": {\"xaxis\": {\"backgroundcolor\": \"#E5ECF6\", \"gridcolor\": \"white\", \"gridwidth\": 2, \"linecolor\": \"white\", \"showbackground\": true, \"ticks\": \"\", \"zerolinecolor\": \"white\"}, \"yaxis\": {\"backgroundcolor\": \"#E5ECF6\", \"gridcolor\": \"white\", \"gridwidth\": 2, \"linecolor\": \"white\", \"showbackground\": true, \"ticks\": \"\", \"zerolinecolor\": \"white\"}, \"zaxis\": {\"backgroundcolor\": \"#E5ECF6\", \"gridcolor\": \"white\", \"gridwidth\": 2, \"linecolor\": \"white\", \"showbackground\": true, \"ticks\": \"\", \"zerolinecolor\": \"white\"}}, \"shapedefaults\": {\"line\": {\"color\": \"#2a3f5f\"}}, \"ternary\": {\"aaxis\": {\"gridcolor\": \"white\", \"linecolor\": \"white\", \"ticks\": \"\"}, \"baxis\": {\"gridcolor\": \"white\", \"linecolor\": \"white\", \"ticks\": \"\"}, \"bgcolor\": \"#E5ECF6\", \"caxis\": {\"gridcolor\": \"white\", \"linecolor\": \"white\", \"ticks\": \"\"}}, \"title\": {\"x\": 0.05}, \"xaxis\": {\"automargin\": true, \"gridcolor\": \"white\", \"linecolor\": \"white\", \"ticks\": \"\", \"title\": {\"standoff\": 15}, \"zerolinecolor\": \"white\", \"zerolinewidth\": 2}, \"yaxis\": {\"automargin\": true, \"gridcolor\": \"white\", \"linecolor\": \"white\", \"ticks\": \"\", \"title\": {\"standoff\": 15}, \"zerolinecolor\": \"white\", \"zerolinewidth\": 2}}}, \"title\": {\"text\": \"CyberBattle simulation\"}, \"width\": 800, \"xaxis\": {\"anchor\": \"y\", \"domain\": [0.0, 0.45]}, \"xaxis2\": {\"anchor\": \"y2\", \"domain\": [0.55, 1.0]}, \"yaxis\": {\"anchor\": \"x\", \"domain\": [0.0, 1.0]}, \"yaxis2\": {\"anchor\": \"x2\", \"domain\": [0.0, 1.0]}},                        {\"responsive\": true}                    ).then(function(){\n",
       "                            \n",
       "var gd = document.getElementById('c6f40985-e5b4-4adb-85d1-6dfcf87bd10b');\n",
       "var x = new MutationObserver(function (mutations, observer) {{\n",
       "        var display = window.getComputedStyle(gd).display;\n",
       "        if (!display || display === 'none') {{\n",
       "            console.log([gd, 'removed!']);\n",
       "            Plotly.purge(gd);\n",
       "            observer.disconnect();\n",
       "        }}\n",
       "}});\n",
       "\n",
       "// Listen for the removal of the full notebook cells\n",
       "var notebookContainer = gd.closest('#notebook-container');\n",
       "if (notebookContainer) {{\n",
       "    x.observe(notebookContainer, {childList: true});\n",
       "}}\n",
       "\n",
       "// Listen for the clearing of the current output cell\n",
       "var outputEl = gd.closest('.output');\n",
       "if (outputEl) {{\n",
       "    x.observe(outputEl, {childList: true});\n",
       "}}\n",
       "\n",
       "                        })                };                });            </script>        </div>"
      ]
     },
     "metadata": {},
     "output_type": "display_data"
    }
   ],
   "source": [
    "tiny = gym.make('ActiveDirectoryTiny-v0')\n",
    "current_o = tiny.reset()\n",
    "wrapped_env = AgentWrapper(tiny, ActionTrackingStateAugmentation(ep, current_o))\n",
    "# Use the trained agent to run the steps one by one\n",
    "max_steps = 8\n",
    "# next action suggested by DQL agent\n",
    "h = []\n",
    "for i in range(max_steps):\n",
    "    # run the suggested action\n",
    "    _, next_action, _ = l.exploit(wrapped_env, current_o)\n",
    "    h.append((tiny.get_explored_network_node_properties_bitmap_as_numpy(current_o), next_action))\n",
    "    if next_action is None:\n",
    "        break\n",
    "    current_o, _, is_done, _ = wrapped_env.step(next_action)\n",
    "    if is_done:\n",
    "        break\n",
    "tiny.render()\n"
   ]
  },
  {
   "cell_type": "code",
   "execution_count": null,
   "metadata": {},
   "outputs": [],
   "source": []
  }
 ],
 "metadata": {
  "kernelspec": {
   "display_name": "Python 3.8.10 ('venv': venv)",
   "language": "python",
   "name": "python3"
  },
  "language_info": {
   "codemirror_mode": {
    "name": "ipython",
    "version": 3
   },
   "file_extension": ".py",
   "mimetype": "text/x-python",
   "name": "python",
   "nbconvert_exporter": "python",
   "pygments_lexer": "ipython3",
   "version": "3.8.10"
  },
  "orig_nbformat": 4,
  "vscode": {
   "interpreter": {
    "hash": "f089f7d33c3e89df79826df0f457708f3a77d94362a48b8981e42f0d1b2b4b6d"
   }
  }
 },
 "nbformat": 4,
 "nbformat_minor": 2
}
