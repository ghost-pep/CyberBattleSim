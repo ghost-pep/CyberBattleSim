{
 "cells": [
  {
   "cell_type": "markdown",
   "metadata": {},
   "source": [
    "Copyright (c) Microsoft Corporation. All rights reserved. Licensed under the MIT License.\n",
    "\n",
    "# Randomly generated CyberBattle network environment for Active Directory"
   ]
  },
  {
   "cell_type": "code",
   "execution_count": 7,
   "metadata": {},
   "outputs": [],
   "source": [
    "from cyberbattle.simulation.model import *\n",
    "import cyberbattle.simulation.generate_ad as ad"
   ]
  },
  {
   "cell_type": "code",
   "execution_count": 8,
   "metadata": {},
   "outputs": [
    {
     "ename": "KeyError",
     "evalue": "'data'",
     "output_type": "error",
     "traceback": [
      "\u001b[0;31m---------------------------------------------------------------------------\u001b[0m",
      "\u001b[0;31mKeyError\u001b[0m                                  Traceback (most recent call last)",
      "\u001b[1;32m/home/dayynn/CyberBattleSim/notebooks/random_active_directory.ipynb Cell 3'\u001b[0m in \u001b[0;36m<module>\u001b[0;34m\u001b[0m\n\u001b[1;32m      <a href='vscode-notebook-cell://wsl%2Bubuntu/home/dayynn/CyberBattleSim/notebooks/random_active_directory.ipynb#ch0000002vscode-remote?line=0'>1</a>\u001b[0m env \u001b[39m=\u001b[39m ad\u001b[39m.\u001b[39mnew_environment(\u001b[39m2\u001b[39m)\n\u001b[0;32m----> <a href='vscode-notebook-cell://wsl%2Bubuntu/home/dayynn/CyberBattleSim/notebooks/random_active_directory.ipynb#ch0000002vscode-remote?line=1'>2</a>\u001b[0m env\u001b[39m.\u001b[39;49mplot_environment_graph()\n",
      "File \u001b[0;32m~/CyberBattleSim/cyberbattle/simulation/model.py:369\u001b[0m, in \u001b[0;36mEnvironment.plot_environment_graph\u001b[0;34m(self)\u001b[0m\n\u001b[1;32m    <a href='file:///home/dayynn/CyberBattleSim/cyberbattle/simulation/model.py?line=364'>365</a>\u001b[0m \u001b[39mdef\u001b[39;00m \u001b[39mplot_environment_graph\u001b[39m(\u001b[39mself\u001b[39m) \u001b[39m-\u001b[39m\u001b[39m>\u001b[39m \u001b[39mNone\u001b[39;00m:\n\u001b[1;32m    <a href='file:///home/dayynn/CyberBattleSim/cyberbattle/simulation/model.py?line=365'>366</a>\u001b[0m     \u001b[39m\"\"\"Plot the full environment graph\"\"\"\u001b[39;00m\n\u001b[1;32m    <a href='file:///home/dayynn/CyberBattleSim/cyberbattle/simulation/model.py?line=366'>367</a>\u001b[0m     nx\u001b[39m.\u001b[39mdraw(\u001b[39mself\u001b[39m\u001b[39m.\u001b[39mnetwork,\n\u001b[1;32m    <a href='file:///home/dayynn/CyberBattleSim/cyberbattle/simulation/model.py?line=367'>368</a>\u001b[0m             with_labels\u001b[39m=\u001b[39m\u001b[39mTrue\u001b[39;00m,\n\u001b[0;32m--> <a href='file:///home/dayynn/CyberBattleSim/cyberbattle/simulation/model.py?line=368'>369</a>\u001b[0m             node_color\u001b[39m=\u001b[39m[n[\u001b[39m'\u001b[39m\u001b[39mdata\u001b[39m\u001b[39m'\u001b[39m]\u001b[39m.\u001b[39mvalue\n\u001b[1;32m    <a href='file:///home/dayynn/CyberBattleSim/cyberbattle/simulation/model.py?line=369'>370</a>\u001b[0m                         \u001b[39mfor\u001b[39;00m i, n \u001b[39min\u001b[39;00m\n\u001b[1;32m    <a href='file:///home/dayynn/CyberBattleSim/cyberbattle/simulation/model.py?line=370'>371</a>\u001b[0m                         \u001b[39mself\u001b[39m\u001b[39m.\u001b[39mnetwork\u001b[39m.\u001b[39mnodes\u001b[39m.\u001b[39mitems()],\n\u001b[1;32m    <a href='file:///home/dayynn/CyberBattleSim/cyberbattle/simulation/model.py?line=371'>372</a>\u001b[0m             cmap\u001b[39m=\u001b[39mplt\u001b[39m.\u001b[39mcm\u001b[39m.\u001b[39mOranges)\n",
      "File \u001b[0;32m~/CyberBattleSim/cyberbattle/simulation/model.py:369\u001b[0m, in \u001b[0;36m<listcomp>\u001b[0;34m(.0)\u001b[0m\n\u001b[1;32m    <a href='file:///home/dayynn/CyberBattleSim/cyberbattle/simulation/model.py?line=364'>365</a>\u001b[0m \u001b[39mdef\u001b[39;00m \u001b[39mplot_environment_graph\u001b[39m(\u001b[39mself\u001b[39m) \u001b[39m-\u001b[39m\u001b[39m>\u001b[39m \u001b[39mNone\u001b[39;00m:\n\u001b[1;32m    <a href='file:///home/dayynn/CyberBattleSim/cyberbattle/simulation/model.py?line=365'>366</a>\u001b[0m     \u001b[39m\"\"\"Plot the full environment graph\"\"\"\u001b[39;00m\n\u001b[1;32m    <a href='file:///home/dayynn/CyberBattleSim/cyberbattle/simulation/model.py?line=366'>367</a>\u001b[0m     nx\u001b[39m.\u001b[39mdraw(\u001b[39mself\u001b[39m\u001b[39m.\u001b[39mnetwork,\n\u001b[1;32m    <a href='file:///home/dayynn/CyberBattleSim/cyberbattle/simulation/model.py?line=367'>368</a>\u001b[0m             with_labels\u001b[39m=\u001b[39m\u001b[39mTrue\u001b[39;00m,\n\u001b[0;32m--> <a href='file:///home/dayynn/CyberBattleSim/cyberbattle/simulation/model.py?line=368'>369</a>\u001b[0m             node_color\u001b[39m=\u001b[39m[n[\u001b[39m'\u001b[39;49m\u001b[39mdata\u001b[39;49m\u001b[39m'\u001b[39;49m]\u001b[39m.\u001b[39mvalue\n\u001b[1;32m    <a href='file:///home/dayynn/CyberBattleSim/cyberbattle/simulation/model.py?line=369'>370</a>\u001b[0m                         \u001b[39mfor\u001b[39;00m i, n \u001b[39min\u001b[39;00m\n\u001b[1;32m    <a href='file:///home/dayynn/CyberBattleSim/cyberbattle/simulation/model.py?line=370'>371</a>\u001b[0m                         \u001b[39mself\u001b[39m\u001b[39m.\u001b[39mnetwork\u001b[39m.\u001b[39mnodes\u001b[39m.\u001b[39mitems()],\n\u001b[1;32m    <a href='file:///home/dayynn/CyberBattleSim/cyberbattle/simulation/model.py?line=371'>372</a>\u001b[0m             cmap\u001b[39m=\u001b[39mplt\u001b[39m.\u001b[39mcm\u001b[39m.\u001b[39mOranges)\n",
      "\u001b[0;31mKeyError\u001b[0m: 'data'"
     ]
    }
   ],
   "source": [
    "env = ad.new_environment(2)\n",
    "env.plot_environment_graph()"
   ]
  }
 ],
 "metadata": {
  "kernelspec": {
   "display_name": "Python 3 (ipykernel)",
   "language": "python",
   "name": "python3"
  },
  "language_info": {
   "codemirror_mode": {
    "name": "ipython",
    "version": 3
   },
   "file_extension": ".py",
   "mimetype": "text/x-python",
   "name": "python",
   "nbconvert_exporter": "python",
   "pygments_lexer": "ipython3",
   "version": "3.8.10"
  }
 },
 "nbformat": 4,
 "nbformat_minor": 4
}
